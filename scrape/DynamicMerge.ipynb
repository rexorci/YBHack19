{
 "cells": [
  {
   "cell_type": "code",
   "execution_count": 284,
   "metadata": {},
   "outputs": [],
   "source": [
    "#!pip install sklearn"
   ]
  },
  {
   "cell_type": "code",
   "execution_count": 147,
   "metadata": {},
   "outputs": [],
   "source": [
    "import pandas as pd\n",
    "import numpy as np\n",
    "from sklearn import preprocessing"
   ]
  },
  {
   "cell_type": "code",
   "execution_count": 148,
   "metadata": {},
   "outputs": [],
   "source": [
    "df_insta_likes = pd.read_csv('../data/df_insta_timeseries.csv')\n",
    "df_transfer = pd.read_csv('../data/player_dynamic.csv')\n",
    "df_noten = pd.read_csv('../data/player_noten.csv')\n",
    "df_dream = pd.read_csv('../data/player_scores_parsed.csv')"
   ]
  },
  {
   "cell_type": "code",
   "execution_count": 149,
   "metadata": {},
   "outputs": [],
   "source": [
    "def normalize_name(name):\n",
    "    if name == 'David von Ballmoos':\n",
    "        return 'David Von Ballmoos'\n",
    "    elif name == 'Cedric Zesiger':\n",
    "        return 'Cédric Zesiger'\n",
    "    elif name == 'Mohamed Camara':\n",
    "        return 'Mohamed Ali Camara'\n",
    "    elif name == 'Jean Pierre Nsame':\n",
    "        return 'Jean-Pierre Nsame'   \n",
    "    elif name == 'Christopher Martins':\n",
    "        return 'Christopher Martins Pereira'   \n",
    "    else:\n",
    "        return name"
   ]
  },
  {
   "cell_type": "code",
   "execution_count": 150,
   "metadata": {},
   "outputs": [],
   "source": [
    "df_dream['name'] = df_dream['player_name'].apply(lambda x: normalize_name(x))\n",
    "df_noten['name'] = df_noten['name'].apply(lambda x: normalize_name(x))\n",
    "df_transfer['name'] = df_transfer['name'].apply(lambda x: normalize_name(x))\n",
    "df_insta_likes['name'] = df_insta_likes['player'].apply(lambda x: normalize_name(x))\n",
    "df_dream = df_dream.drop('player_name', axis=1)\n",
    "df_insta_likes = df_insta_likes.drop('player', axis=1)"
   ]
  },
  {
   "cell_type": "code",
   "execution_count": 151,
   "metadata": {
    "scrolled": true
   },
   "outputs": [],
   "source": [
    "df_dream['date'] = pd.to_datetime(df_dream['date']) \n",
    "df_noten['date'] = pd.to_datetime(df_noten['date']) \n",
    "df_transfer['date'] = pd.to_datetime(df_transfer['date']) \n",
    "df_insta_likes['date'] = pd.to_datetime(df_insta_likes['post_date']) \n",
    "df_insta_likes = df_insta_likes.drop('post_date', axis=1)\n",
    "df_noten['note'] = df_noten['note'].astype(float)\n",
    "#  format='%d%b%Y:%H:%M:%S.%f'"
   ]
  },
  {
   "cell_type": "code",
   "execution_count": 179,
   "metadata": {},
   "outputs": [],
   "source": [
    "def resample_player(df_player):\n",
    "    #print(df_player['date'].min())\n",
    "    #display(df_player.sort_values('date'))\n",
    "    #display(df_player)\n",
    "    df_player_ = df_player.drop_duplicates(subset=['date'], keep='first')\n",
    "    df_player = df_player_.set_index('date')\n",
    "    resampled = df_player.resample('W').fillna('nearest')\n",
    "    resampled = resampled.drop('name', axis=1)\n",
    "    return resampled.reset_index()"
   ]
  },
  {
   "cell_type": "raw",
   "metadata": {},
   "source": [
    "df_noten.groupby('name').apply(lambda x: x.drop_duplicates(subset=[\"date\"]).set_index('date').resample('W').fillna('nearest').drop('name', axis=1)).reset_index()['note'].plot()"
   ]
  },
  {
   "cell_type": "code",
   "execution_count": 180,
   "metadata": {},
   "outputs": [],
   "source": [
    "df_dream_res = df_dream.groupby('name').apply(lambda x:resample_player(x))\n",
    "\n",
    "df_noten_res = df_noten.groupby('name').apply(lambda x:resample_player(x))\n",
    "df_transfer_res = df_transfer.groupby('name').apply(lambda x:resample_player(x))\n",
    "df_insta_likes_res = df_insta_likes.groupby('name').apply(lambda x:resample_player(x))\n",
    "\n",
    "df_dream_res = df_dream_res.reset_index()[['name','date','score']]\n",
    "df_noten_res = df_noten_res.reset_index()[['name','date','note']]\n",
    "df_transfer_res = df_transfer_res.reset_index()[['name','date','market_value']]\n",
    "df_insta_likes_res = df_insta_likes_res.reset_index()[['name','date','likes']]"
   ]
  },
  {
   "cell_type": "raw",
   "metadata": {},
   "source": [
    "df_transfer_res['market_value'].plot()"
   ]
  },
  {
   "cell_type": "code",
   "execution_count": 183,
   "metadata": {
    "scrolled": true
   },
   "outputs": [],
   "source": [
    "df_fame = pd.merge(df_noten_res, df_insta_likes_res,  how='outer', left_on=['date','name'], right_on=['date','name'])\n",
    "df_performance = pd.merge(df_dream_res, df_transfer_res,  how='outer', left_on=['date','name'], right_on=['date','name'])\n",
    "\n",
    "df_fame = df_fame.fillna(method='ffill')\n",
    "\n",
    "df_performance = df_performance.fillna(method='ffill')\n",
    "df_performance = df_performance.fillna(method='bfill')"
   ]
  },
  {
   "cell_type": "raw",
   "metadata": {},
   "source": [
    "df_noten.groupby('name').apply(lambda x:resample_player(x)).reset_index()['note'].plot()"
   ]
  },
  {
   "cell_type": "raw",
   "metadata": {},
   "source": [
    "df_noten.groupby('name').apply(lambda x: x.set_index('date').resample('W').fillna('nearest'))"
   ]
  },
  {
   "cell_type": "raw",
   "metadata": {},
   "source": [
    "df_transfer.groupby('name').count()"
   ]
  },
  {
   "cell_type": "markdown",
   "metadata": {},
   "source": [
    "## Normalize columns"
   ]
  },
  {
   "cell_type": "code",
   "execution_count": 184,
   "metadata": {},
   "outputs": [],
   "source": [
    "def min_max_normalize(column):\n",
    "    return (column-column.min())/(column.max()-column.min())"
   ]
  },
  {
   "cell_type": "code",
   "execution_count": 185,
   "metadata": {},
   "outputs": [],
   "source": [
    "df_fame['note_norm'] = min_max_normalize(df_fame['note'])\n",
    "df_fame['likes_norm'] = min_max_normalize(df_fame['likes'])\n",
    "\n",
    "df_performance['market_value_norm'] = min_max_normalize(df_performance['market_value'])\n",
    "df_performance['score_norm'] = min_max_normalize(df_performance['score'])"
   ]
  },
  {
   "cell_type": "code",
   "execution_count": 186,
   "metadata": {},
   "outputs": [],
   "source": [
    "df_fame['fame'] = df_fame['note_norm']*1.5 + df_fame['likes_norm']\n",
    "df_performance['performance'] = df_performance['market_value_norm'] + df_performance['score_norm'] "
   ]
  },
  {
   "cell_type": "code",
   "execution_count": null,
   "metadata": {},
   "outputs": [],
   "source": []
  },
  {
   "cell_type": "markdown",
   "metadata": {},
   "source": [
    "## Save to CSV"
   ]
  },
  {
   "cell_type": "code",
   "execution_count": 187,
   "metadata": {},
   "outputs": [],
   "source": [
    "df_performance.to_csv( '../data/df_dynamic_performance_merged.csv', index=False)\n",
    "df_fame.to_csv( '../data/df_dynamic_fame_merged.csv', index=False)"
   ]
  },
  {
   "cell_type": "code",
   "execution_count": null,
   "metadata": {},
   "outputs": [],
   "source": []
  }
 ],
 "metadata": {
  "kernelspec": {
   "display_name": "Python 3",
   "language": "python",
   "name": "python3"
  },
  "language_info": {
   "codemirror_mode": {
    "name": "ipython",
    "version": 3
   },
   "file_extension": ".py",
   "mimetype": "text/x-python",
   "name": "python",
   "nbconvert_exporter": "python",
   "pygments_lexer": "ipython3",
   "version": "3.7.3"
  }
 },
 "nbformat": 4,
 "nbformat_minor": 4
}
