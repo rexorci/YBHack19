{
 "cells": [
  {
   "cell_type": "code",
   "execution_count": 1,
   "metadata": {},
   "outputs": [],
   "source": [
    "import pandas as pd\n",
    "import html5lib\n",
    "import requests\n",
    "from bs4 import BeautifulSoup\n",
    "import time\n",
    "import urllib.request  # we are going to need to generate a Request object\n",
    "from tqdm import tqdm"
   ]
  },
  {
   "cell_type": "code",
   "execution_count": 2,
   "metadata": {},
   "outputs": [],
   "source": [
    "def transfermarkt_call_soup(url):\n",
    "    # here we define the headers for the request\n",
    "    headers = {'User-Agent': 'Mozilla/5.0 (Macintosh; Intel Mac OS X 10.13; rv:63.0) Gecko/20100101 Firefox/63.0'}\n",
    "\n",
    "    # this request object will integrate your URL and the headers defined above\n",
    "    req = urllib.request.Request(url=url, headers=headers)\n",
    "\n",
    "    # calling urlopen this way will automatically handle closing the request\n",
    "    with urllib.request.urlopen(req) as response:\n",
    "        page_html = response.read()\n",
    "    return BeautifulSoup(page_html, 'html.parser')"
   ]
  },
  {
   "cell_type": "markdown",
   "metadata": {},
   "source": [
    "# Scrape Teams"
   ]
  },
  {
   "cell_type": "code",
   "execution_count": 76,
   "metadata": {},
   "outputs": [],
   "source": [
    "super_league = \"https://www.transfermarkt.com/raiffeisen-super-league/startseite/wettbewerb/C1\"\n",
    "soup = transfermarkt_call_soup(super_league)"
   ]
  },
  {
   "cell_type": "code",
   "execution_count": 9,
   "metadata": {},
   "outputs": [],
   "source": [
    "table = soup.find_all('table',{\"class\":\"items\"})"
   ]
  },
  {
   "cell_type": "code",
   "execution_count": 56,
   "metadata": {},
   "outputs": [],
   "source": [
    "df.loc[df['name']=='BSC Young Boys','teamlink'] = 1"
   ]
  },
  {
   "cell_type": "code",
   "execution_count": 59,
   "metadata": {},
   "outputs": [],
   "source": [
    "df = pd.DataFrame(pd.read_html(str(soup.find_all('table',{\"class\":\"items\"})[0]))[0])\n",
    "new_columns = df.columns[2:]\n",
    "new_columns = new_columns.drop('name.1')\n",
    "#df = df[new_columns]\n",
    "#df.drop(df.columns[0])\n",
    "df = df.drop(df.columns[:1], 1)\n",
    "df = df.drop(df.columns[1], 1)\n",
    "df = df.drop(df.columns[-1], 1)\n",
    "df.columns = new_columns\n",
    "df['ø age'] = df['ø age']/10\n",
    "\n",
    "df['teamlink'] = ''\n",
    "df.loc[df['name']=='BSC Young Boys','teamlink'] = \"https://www.transfermarkt.com/bsc-young-boys/kader/verein/452/\"\n",
    "df.loc[df['name']=='FC Basel 1893','teamlink'] = \"https://www.transfermarkt.com/fc-basel-1893/startseite/verein/26/\"\n",
    "df.loc[df['name']=='FC Zürich','teamlink'] = \"https://www.transfermarkt.com/fc-zurich/startseite/verein/260/\"\n",
    "df.loc[df['name']=='FC Luzern','teamlink'] = \"https://www.transfermarkt.com/fc-luzern/startseite/verein/434/\"\n",
    "df.loc[df['name']=='FC Sion','teamlink'] = \"https://www.transfermarkt.com/fc-sion/startseite/verein/321/\"\n",
    "df.loc[df['name']=='FC Lugano','teamlink'] = \"https://www.transfermarkt.com/fc-lugano/startseite/verein/2790/\"\n",
    "df.loc[df['name']=='FC Thun','teamlink'] = \"https://www.transfermarkt.com/fc-thun/startseite/verein/938/\"\n",
    "df.loc[df['name']=='FC St. Gallen 1879','teamlink'] = \"https://www.transfermarkt.com/fc-st-gallen/startseite/verein/257/\"\n",
    "df.loc[df['name']=='Servette FC','teamlink'] = \"https://www.transfermarkt.com/servette-fc/startseite/verein/61/\"\n",
    "df.loc[df['name']=='Neuchâtel Xamax FCS','teamlink'] = \"https://www.transfermarkt.com/neuchatel-xamax-fcs/startseite/verein/9084/\"\n",
    "\n",
    "df.to_csv('../data/teams.csv', index=False)\n"
   ]
  },
  {
   "cell_type": "markdown",
   "metadata": {},
   "source": [
    "# Scrape Players"
   ]
  },
  {
   "cell_type": "code",
   "execution_count": 46,
   "metadata": {},
   "outputs": [],
   "source": [
    "teams_df = pd.read_csv('../data/teams.csv')\n",
    "teams_df.drop(teams_df.tail(1).index,inplace=True)"
   ]
  },
  {
   "cell_type": "code",
   "execution_count": 48,
   "metadata": {},
   "outputs": [
    {
     "name": "stderr",
     "output_type": "stream",
     "text": [
      "10it [00:26,  2.67s/it]\n"
     ]
    }
   ],
   "source": [
    "data = {\n",
    "    'team': [],\n",
    "    'name': [],\n",
    "    'id': [],\n",
    "    'transfermarktlink': [],\n",
    "    'birthday': [],\n",
    "    #'nationality': [],\n",
    "    'market_value': [],\n",
    "}\n",
    "\n",
    "for index, row in tqdm(teams_df.iterrows()):\n",
    "    team_link = row['teamlink']\n",
    "    team_name = row['name']\n",
    "    \n",
    "    soup = transfermarkt_call_soup(team_link)\n",
    "    all_tr = soup.find_all('tr', {'class': ['odd', 'even']})\n",
    "    for row in all_tr:\n",
    "        all_td = row.find_all('td', recursive=False)\n",
    "\n",
    "        #for column in all_td:\n",
    "        #    print(' >', column.text)\n",
    "        data['name'].append( all_td[1].text.split('.')[0][:-1] )\n",
    "        data['id'].append( all_td[1].find(\"table\").find(\"td\", {'class': 'hauptlink'}).span.a['id'] )\n",
    "        data['transfermarktlink'].append( all_td[1].find(\"table\").find(\"td\", {'class': 'hauptlink'}).span.a['href'] )\n",
    "        data['birthday'].append( all_td[2].text[:-5])\n",
    "        data['team'].append(team_name)\n",
    "        #data['nationality'].append( all_td[3].find('img')['title'] )\n",
    "        data['market_value'].append( all_td[5].text )\n",
    "\n",
    "df = pd.DataFrame(data)\n"
   ]
  },
  {
   "cell_type": "code",
   "execution_count": 69,
   "metadata": {},
   "outputs": [],
   "source": [
    "def market_value_parse(marketvalue):\n",
    "    splitted = marketvalue.split(' ')\n",
    "    splitted[0] = splitted[0].replace(',', '')\n",
    "    if splitted[1] == \"K\":\n",
    "        splitted[1] = \"000\"\n",
    "    if splitted[1] == \"mil.\":\n",
    "        splitted[1] = \"00000\"\n",
    "    number_string = splitted[0] + splitted[1]\n",
    "    return int(float(number_string) * 1.1) #eur to chf"
   ]
  },
  {
   "cell_type": "code",
   "execution_count": 70,
   "metadata": {},
   "outputs": [],
   "source": [
    "df['marketvalue'] = df['market_value'].apply(lambda x: market_value_parse(x))"
   ]
  },
  {
   "cell_type": "code",
   "execution_count": 76,
   "metadata": {},
   "outputs": [],
   "source": [
    "df.to_csv('../data/player_static.csv', index=False)"
   ]
  },
  {
   "cell_type": "code",
   "execution_count": 62,
   "metadata": {
    "collapsed": true,
    "jupyter": {
     "outputs_hidden": true
    }
   },
   "outputs": [
    {
     "data": {
      "text/plain": [
       "3500000.0"
      ]
     },
     "execution_count": 62,
     "metadata": {},
     "output_type": "execute_result"
    }
   ],
   "source": []
  },
  {
   "cell_type": "code",
   "execution_count": null,
   "metadata": {},
   "outputs": [],
   "source": []
  },
  {
   "cell_type": "code",
   "execution_count": 325,
   "metadata": {},
   "outputs": [],
   "source": [
    "#page = requests.get(my_url)\n",
    "soup = BeautifulSoup(page_html, 'html.parser')\n",
    "table = soup.find_all('table',{\"class\":\"items\"})\n",
    "#table_header = table[0].theader\n",
    "table = table[0].tbody\n",
    "player_rows = table.find_all(\"tr\")"
   ]
  },
  {
   "cell_type": "code",
   "execution_count": 326,
   "metadata": {},
   "outputs": [
    {
     "ename": "IndexError",
     "evalue": "list index out of range",
     "output_type": "error",
     "traceback": [
      "\u001b[0;31m---------------------------------------------------------------------------\u001b[0m",
      "\u001b[0;31mIndexError\u001b[0m                                Traceback (most recent call last)",
      "\u001b[0;32m<ipython-input-326-01dd7f53e706>\u001b[0m in \u001b[0;36m<module>\u001b[0;34m\u001b[0m\n\u001b[1;32m      5\u001b[0m \u001b[0;34m\u001b[0m\u001b[0m\n\u001b[1;32m      6\u001b[0m     \u001b[0mplayer_number\u001b[0m \u001b[0;34m=\u001b[0m \u001b[0mplayer_tags\u001b[0m\u001b[0;34m[\u001b[0m\u001b[0;36m0\u001b[0m\u001b[0;34m]\u001b[0m\u001b[0;34m.\u001b[0m\u001b[0mtext\u001b[0m\u001b[0;34m\u001b[0m\u001b[0;34m\u001b[0m\u001b[0m\n\u001b[0;32m----> 7\u001b[0;31m     \u001b[0mplayer_name\u001b[0m \u001b[0;34m=\u001b[0m \u001b[0mplayer_tags\u001b[0m\u001b[0;34m[\u001b[0m\u001b[0;36m1\u001b[0m\u001b[0;34m]\u001b[0m\u001b[0;34m.\u001b[0m\u001b[0mdiv\u001b[0m\u001b[0;34m.\u001b[0m\u001b[0mtext\u001b[0m \u001b[0;31m#better a?\u001b[0m\u001b[0;34m\u001b[0m\u001b[0;34m\u001b[0m\u001b[0m\n\u001b[0m\u001b[1;32m      8\u001b[0m     \u001b[0mplayer_link\u001b[0m \u001b[0;34m=\u001b[0m \u001b[0mplayer_tags\u001b[0m\u001b[0;34m[\u001b[0m\u001b[0;36m1\u001b[0m\u001b[0;34m]\u001b[0m\u001b[0;34m.\u001b[0m\u001b[0mdiv\u001b[0m\u001b[0;34m.\u001b[0m\u001b[0mspan\u001b[0m\u001b[0;34m.\u001b[0m\u001b[0ma\u001b[0m\u001b[0;34m[\u001b[0m\u001b[0;34m'href'\u001b[0m\u001b[0;34m]\u001b[0m\u001b[0;34m\u001b[0m\u001b[0;34m\u001b[0m\u001b[0m\n\u001b[1;32m      9\u001b[0m     \u001b[0mplayer_id\u001b[0m \u001b[0;34m=\u001b[0m \u001b[0mplayer_tags\u001b[0m\u001b[0;34m[\u001b[0m\u001b[0;36m1\u001b[0m\u001b[0;34m]\u001b[0m\u001b[0;34m.\u001b[0m\u001b[0mdiv\u001b[0m\u001b[0;34m.\u001b[0m\u001b[0mspan\u001b[0m\u001b[0;34m.\u001b[0m\u001b[0ma\u001b[0m\u001b[0;34m[\u001b[0m\u001b[0;34m'id'\u001b[0m\u001b[0;34m]\u001b[0m\u001b[0;34m\u001b[0m\u001b[0;34m\u001b[0m\u001b[0m\n",
      "\u001b[0;31mIndexError\u001b[0m: list index out of range"
     ]
    }
   ],
   "source": [
    "player_df = pd.DataFrame()\n",
    "for player_row in player_rows[1:]:\n",
    "    #parse inline_table    \n",
    "    player_tags = player_row.find_all(\"td\")\n",
    "    \n",
    "    player_number = player_tags[0].text\n",
    "    player_name = player_tags[1].div.text #better a?\n",
    "    player_link = player_tags[1].div.span.a['href']\n",
    "    player_id = player_tags[1].div.span.a['id']\n",
    "    try:\n",
    "        player_smallimg = player_tags[2].a.img['src']\n",
    "    except:\n",
    "        continue\n",
    "    player_birthday = player_tags[5].text\n",
    "    player_country = player_tags[6].img[\"title\"]\n",
    "    player_value = player_tags[8].text\n",
    "\n",
    "    player_dict = {\n",
    "        #'player_tags'     :player_tags\n",
    "        'player_number'  :player_number\n",
    "        ,'player_name'    :player_name\n",
    "        ,'player_link'    :player_link\n",
    "        ,'player_id'      :player_id\n",
    "        ,'player_smallimg':player_smallimg\n",
    "        ,'player_birthday':player_birthday\n",
    "        ,'player_country' :player_country\n",
    "        ,'player_value'   :player_value\n",
    "    }\n",
    "    #for player_tag in player_tags:\n",
    "    #    print(player_tag[])\n",
    "    player_df = player_df.append(player_dict, ignore_index=True)\n",
    "        \n"
   ]
  },
  {
   "cell_type": "code",
   "execution_count": null,
   "metadata": {},
   "outputs": [],
   "source": []
  }
 ],
 "metadata": {
  "kernelspec": {
   "display_name": "Python 3",
   "language": "python",
   "name": "python3"
  },
  "language_info": {
   "codemirror_mode": {
    "name": "ipython",
    "version": 3
   },
   "file_extension": ".py",
   "mimetype": "text/x-python",
   "name": "python",
   "nbconvert_exporter": "python",
   "pygments_lexer": "ipython3",
   "version": "3.7.3"
  }
 },
 "nbformat": 4,
 "nbformat_minor": 4
}
