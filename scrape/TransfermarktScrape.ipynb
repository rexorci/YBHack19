{
 "cells": [
  {
   "cell_type": "code",
   "execution_count": 4,
   "metadata": {},
   "outputs": [],
   "source": [
    "import pandas as pd\n",
    "import html5lib\n",
    "import requests\n",
    "from bs4 import BeautifulSoup\n",
    "import time\n",
    "import urllib.request  # we are going to need to generate a Request object"
   ]
  },
  {
   "cell_type": "code",
   "execution_count": 7,
   "metadata": {},
   "outputs": [],
   "source": [
    "def transfermarkt_call(url):\n",
    "    # here we define the headers for the request\n",
    "    headers = {'User-Agent': 'Mozilla/5.0 (Macintosh; Intel Mac OS X 10.13; rv:63.0) Gecko/20100101 Firefox/63.0'}\n",
    "\n",
    "    # this request object will integrate your URL and the headers defined above\n",
    "    req = urllib.request.Request(url=url, headers=headers)\n",
    "\n",
    "    # calling urlopen this way will automatically handle closing the request\n",
    "    with urllib.request.urlopen(req) as response:\n",
    "        page_html = response.read()\n",
    "    return page_html"
   ]
  },
  {
   "cell_type": "markdown",
   "metadata": {},
   "source": [
    "# Scrape Teams"
   ]
  },
  {
   "cell_type": "code",
   "execution_count": 8,
   "metadata": {},
   "outputs": [],
   "source": [
    "super_league = \"https://www.transfermarkt.com/raiffeisen-super-league/startseite/wettbewerb/C1\"\n",
    "html = transfermarkt_call(super_league)"
   ]
  },
  {
   "cell_type": "code",
   "execution_count": 9,
   "metadata": {},
   "outputs": [],
   "source": [
    "soup = BeautifulSoup(html, 'html.parser')\n",
    "table = soup.find_all('table',{\"class\":\"items\"})"
   ]
  },
  {
   "cell_type": "code",
   "execution_count": 13,
   "metadata": {
    "collapsed": true,
    "jupyter": {
     "outputs_hidden": true
    }
   },
   "outputs": [
    {
     "data": {
      "text/plain": [
       "'<table class=\"items\">\\n<thead>\\n<tr>\\n<th colspan=\"2\" id=\"yw1_c0\">Club</th><th class=\"hide\" id=\"yw1_c1\"><a class=\"sort-link\" href=\"/raiffeisen-super-league/startseite/wettbewerb/C1/sort/name\">name</a></th><th class=\"hide\" id=\"yw1_c2\"><a class=\"sort-link\" href=\"/raiffeisen-super-league/startseite/wettbewerb/C1/sort/name\">name</a></th><th class=\"zentriert\" id=\"yw1_c3\"><a class=\"sort-link\" href=\"/raiffeisen-super-league/startseite/wettbewerb/C1/sort/anzahl_spieler_hidden.desc\">Squad</a></th><th class=\"zentriert hide-for-small hide-for-pad\" id=\"yw1_c4\"><a class=\"sort-link\" href=\"/raiffeisen-super-league/startseite/wettbewerb/C1/sort/alter_durchschnitt.desc\">ø age</a></th><th class=\"zentriert hide-for-pad hide-for-small\" id=\"yw1_c5\"><a class=\"sort-link\" href=\"/raiffeisen-super-league/startseite/wettbewerb/C1/sort/legionaere.desc\">Players playing abroad</a></th><th class=\"rechts hide-for-small hide-for-pad\" id=\"yw1_c6\"><a class=\"sort-link\" href=\"/raiffeisen-super-league/startseite/wettbewerb/C1/sort/marktwert_gesamt_anzeige.desc\">Total market value</a></th><th class=\"rechts hide-for-small hide-for-pad\" id=\"yw1_c7\"><a class=\"sort-link\" href=\"/raiffeisen-super-league/startseite/wettbewerb/C1/sort/marktwert_schnitt_anzeige.desc\">ø market value</a></th><th class=\"rechts show-for-small show-for-pad nowrap\" id=\"yw1_c8\"><a class=\"sort-link\" href=\"/raiffeisen-super-league/startseite/wettbewerb/C1/sort/marktwert_gesamt_anzeige.desc\">Total MV</a></th><th class=\"rechts show-for-small show-for-pad nowrap\" id=\"yw1_c9\"><a class=\"sort-link\" href=\"/raiffeisen-super-league/startseite/wettbewerb/C1/sort/marktwert_schnitt_anzeige.desc\">ø MV</a></th></tr>\\n</thead>\\n<tfoot>\\n<tr>\\n<td colspan=\"2\">\\xa0</td><td class=\"hide\">\\xa0</td><td class=\"hide\">\\xa0</td><td class=\"zentriert\">277</td><td class=\"zentriert hide-for-small hide-for-pad\">24,9 Years</td><td class=\"zentriert hide-for-pad hide-for-small\">127</td><td class=\"rechts hide-for-small hide-for-pad\">284,40 mil. €</td><td class=\"rechts hide-for-small hide-for-pad\">1,03 mil. €</td><td class=\"rechts show-for-small show-for-pad nowrap\">284,40 mil. €</td><td class=\"rechts show-for-small show-for-pad nowrap\">1,03 mil. €</td></tr>\\n</tfoot>\\n<tbody>\\n<tr class=\"odd\">\\n<td class=\"zentriert no-border-rechts\"><a class=\"vereinprofil_tooltip\" href=\"/bsc-young-boys/startseite/verein/452/saison_id/2019\"><img alt=\"BSC Young Boys\" class=\"tiny_wappen\" src=\"https://tmssl.akamaized.net//images/wappen/tiny/452.png?lm=1410776679\" title=\"\\xa0\"/></a></td><td class=\"hauptlink no-border-links hide-for-small hide-for-pad\"><a class=\"vereinprofil_tooltip\" href=\"/bsc-young-boys/startseite/verein/452/saison_id/2019\" id=\"452\">BSC Young Boys</a> <a href=\"#\"><img alt=\"Swiss Champion 18/19\" class=\"tabelle-erfolg\" src=\"https://tmssl.akamaized.net//images/erfolge/mini/23.png?lm=1520606999\" title=\"Swiss Champion 18/19\"/></a></td><td class=\"hauptlink no-border-links show-for-small show-for-pad\"><a class=\"vereinprofil_tooltip\" href=\"/bsc-young-boys/startseite/verein/452/saison_id/2019\" id=\"452\">BSC Young Boys</a></td><td class=\"zentriert\"><a href=\"/bsc-young-boys/kader/verein/452/saison_id/2019\" title=\"BSC Young Boys\">25</a></td><td class=\"zentriert hide-for-small hide-for-pad\">25,2</td><td class=\"zentriert hide-for-pad hide-for-small\">9</td><td class=\"rechts hide-for-small hide-for-pad\"><a href=\"/bsc-young-boys/kader/verein/452/saison_id/2019\" title=\"BSC Young Boys\">68,00 mil. €</a></td><td class=\"rechts hide-for-small hide-for-pad\">2,72 mil. €</td><td class=\"rechts show-for-small show-for-pad nowrap\"><a href=\"/bsc-young-boys/kader/verein/452/saison_id/2019\" title=\"BSC Young Boys\">68,00 mil. €</a></td><td class=\"rechts show-for-small show-for-pad nowrap\">2,72 mil. €</td></tr>\\n<tr class=\"even\">\\n<td class=\"zentriert no-border-rechts\"><a class=\"vereinprofil_tooltip\" href=\"/fc-basel-1893/startseite/verein/26/saison_id/2019\"><img alt=\"FC Basel 1893\" class=\"tiny_wappen\" src=\"https://tmssl.akamaized.net//images/wappen/tiny/26.png?lm=1537889180\" title=\"\\xa0\"/></a></td><td class=\"hauptlink no-border-links hide-for-small hide-for-pad\"><a class=\"vereinprofil_tooltip\" href=\"/fc-basel-1893/startseite/verein/26/saison_id/2019\" id=\"26\">FC Basel 1893</a> <a href=\"#\"><img alt=\"Swiss cup winner 18/19\" class=\"tabelle-erfolg\" src=\"https://tmssl.akamaized.net//images/erfolge/mini/99.png?lm=1520606999\" title=\"Swiss cup winner 18/19\"/></a></td><td class=\"hauptlink no-border-links show-for-small show-for-pad\"><a class=\"vereinprofil_tooltip\" href=\"/fc-basel-1893/startseite/verein/26/saison_id/2019\" id=\"26\">FC Basel</a></td><td class=\"zentriert\"><a href=\"/fc-basel-1893/kader/verein/26/saison_id/2019\" title=\"FC Basel 1893\">28</a></td><td class=\"zentriert hide-for-small hide-for-pad\">23,9</td><td class=\"zentriert hide-for-pad hide-for-small\">13</td><td class=\"rechts hide-for-small hide-for-pad\"><a href=\"/fc-basel-1893/kader/verein/26/saison_id/2019\" title=\"FC Basel 1893\">55,35 mil. €</a></td><td class=\"rechts hide-for-small hide-for-pad\">1,98 mil. €</td><td class=\"rechts show-for-small show-for-pad nowrap\"><a href=\"/fc-basel-1893/kader/verein/26/saison_id/2019\" title=\"FC Basel 1893\">55,35 mil. €</a></td><td class=\"rechts show-for-small show-for-pad nowrap\">1,98 mil. €</td></tr>\\n<tr class=\"odd\">\\n<td class=\"zentriert no-border-rechts\"><a class=\"vereinprofil_tooltip\" href=\"/fc-zurich/startseite/verein/260/saison_id/2019\"><img alt=\"FC Zürich\" class=\"tiny_wappen\" src=\"https://tmssl.akamaized.net//images/wappen/tiny/260.png?lm=1487920381\" title=\"\\xa0\"/></a></td><td class=\"hauptlink no-border-links hide-for-small hide-for-pad\"><a class=\"vereinprofil_tooltip\" href=\"/fc-zurich/startseite/verein/260/saison_id/2019\" id=\"260\">FC Zürich</a> </td><td class=\"hauptlink no-border-links show-for-small show-for-pad\"><a class=\"vereinprofil_tooltip\" href=\"/fc-zurich/startseite/verein/260/saison_id/2019\" id=\"260\">FC Zürich</a></td><td class=\"zentriert\"><a href=\"/fc-zurich/kader/verein/260/saison_id/2019\" title=\"FC Zürich\">29</a></td><td class=\"zentriert hide-for-small hide-for-pad\">24,9</td><td class=\"zentriert hide-for-pad hide-for-small\">16</td><td class=\"rechts hide-for-small hide-for-pad\"><a href=\"/fc-zurich/kader/verein/260/saison_id/2019\" title=\"FC Zürich\">30,10 mil. €</a></td><td class=\"rechts hide-for-small hide-for-pad\">1,04 mil. €</td><td class=\"rechts show-for-small show-for-pad nowrap\"><a href=\"/fc-zurich/kader/verein/260/saison_id/2019\" title=\"FC Zürich\">30,10 mil. €</a></td><td class=\"rechts show-for-small show-for-pad nowrap\">1,04 mil. €</td></tr>\\n<tr class=\"even\">\\n<td class=\"zentriert no-border-rechts\"><a class=\"vereinprofil_tooltip\" href=\"/fc-luzern/startseite/verein/434/saison_id/2019\"><img alt=\"FC Luzern\" class=\"tiny_wappen\" src=\"https://tmssl.akamaized.net//images/wappen/tiny/434.png?lm=1410776821\" title=\"\\xa0\"/></a></td><td class=\"hauptlink no-border-links hide-for-small hide-for-pad\"><a class=\"vereinprofil_tooltip\" href=\"/fc-luzern/startseite/verein/434/saison_id/2019\" id=\"434\">FC Luzern</a> </td><td class=\"hauptlink no-border-links show-for-small show-for-pad\"><a class=\"vereinprofil_tooltip\" href=\"/fc-luzern/startseite/verein/434/saison_id/2019\" id=\"434\">FC Luzern</a></td><td class=\"zentriert\"><a href=\"/fc-luzern/kader/verein/434/saison_id/2019\" title=\"FC Luzern\">25</a></td><td class=\"zentriert hide-for-small hide-for-pad\">24,6</td><td class=\"zentriert hide-for-pad hide-for-small\">13</td><td class=\"rechts hide-for-small hide-for-pad\"><a href=\"/fc-luzern/kader/verein/434/saison_id/2019\" title=\"FC Luzern\">25,45 mil. €</a></td><td class=\"rechts hide-for-small hide-for-pad\">1,02 mil. €</td><td class=\"rechts show-for-small show-for-pad nowrap\"><a href=\"/fc-luzern/kader/verein/434/saison_id/2019\" title=\"FC Luzern\">25,45 mil. €</a></td><td class=\"rechts show-for-small show-for-pad nowrap\">1,02 mil. €</td></tr>\\n<tr class=\"odd\">\\n<td class=\"zentriert no-border-rechts\"><a class=\"vereinprofil_tooltip\" href=\"/fc-sion/startseite/verein/321/saison_id/2019\"><img alt=\"FC Sion\" class=\"tiny_wappen\" src=\"https://tmssl.akamaized.net//images/wappen/tiny/321.png?lm=1410776768\" title=\"\\xa0\"/></a></td><td class=\"hauptlink no-border-links hide-for-small hide-for-pad\"><a class=\"vereinprofil_tooltip\" href=\"/fc-sion/startseite/verein/321/saison_id/2019\" id=\"321\">FC Sion</a> </td><td class=\"hauptlink no-border-links show-for-small show-for-pad\"><a class=\"vereinprofil_tooltip\" href=\"/fc-sion/startseite/verein/321/saison_id/2019\" id=\"321\">FC Sion</a></td><td class=\"zentriert\"><a href=\"/fc-sion/kader/verein/321/saison_id/2019\" title=\"FC Sion\">32</a></td><td class=\"zentriert hide-for-small hide-for-pad\">24,1</td><td class=\"zentriert hide-for-pad hide-for-small\">23</td><td class=\"rechts hide-for-small hide-for-pad\"><a href=\"/fc-sion/kader/verein/321/saison_id/2019\" title=\"FC Sion\">25,35 mil. €</a></td><td class=\"rechts hide-for-small hide-for-pad\">792 K €</td><td class=\"rechts show-for-small show-for-pad nowrap\"><a href=\"/fc-sion/kader/verein/321/saison_id/2019\" title=\"FC Sion\">25,35 mil. €</a></td><td class=\"rechts show-for-small show-for-pad nowrap\">792 K €</td></tr>\\n<tr class=\"even\">\\n<td class=\"zentriert no-border-rechts\"><a class=\"vereinprofil_tooltip\" href=\"/fc-lugano/startseite/verein/2790/saison_id/2019\"><img alt=\"FC Lugano\" class=\"tiny_wappen\" src=\"https://tmssl.akamaized.net//images/wappen/tiny/2790.png?lm=1528219594\" title=\"\\xa0\"/></a></td><td class=\"hauptlink no-border-links hide-for-small hide-for-pad\"><a class=\"vereinprofil_tooltip\" href=\"/fc-lugano/startseite/verein/2790/saison_id/2019\" id=\"2790\">FC Lugano</a> </td><td class=\"hauptlink no-border-links show-for-small show-for-pad\"><a class=\"vereinprofil_tooltip\" href=\"/fc-lugano/startseite/verein/2790/saison_id/2019\" id=\"2790\">FC Lugano</a></td><td class=\"zentriert\"><a href=\"/fc-lugano/kader/verein/2790/saison_id/2019\" title=\"FC Lugano\">28</a></td><td class=\"zentriert hide-for-small hide-for-pad\">25,9</td><td class=\"zentriert hide-for-pad hide-for-small\">15</td><td class=\"rechts hide-for-small hide-for-pad\"><a href=\"/fc-lugano/kader/verein/2790/saison_id/2019\" title=\"FC Lugano\">22,13 mil. €</a></td><td class=\"rechts hide-for-small hide-for-pad\">790 K €</td><td class=\"rechts show-for-small show-for-pad nowrap\"><a href=\"/fc-lugano/kader/verein/2790/saison_id/2019\" title=\"FC Lugano\">22,13 mil. €</a></td><td class=\"rechts show-for-small show-for-pad nowrap\">790 K €</td></tr>\\n<tr class=\"odd\">\\n<td class=\"zentriert no-border-rechts\"><a class=\"vereinprofil_tooltip\" href=\"/fc-thun/startseite/verein/938/saison_id/2019\"><img alt=\"FC Thun\" class=\"tiny_wappen\" src=\"https://tmssl.akamaized.net//images/wappen/tiny/938.png?lm=1564699606\" title=\"\\xa0\"/></a></td><td class=\"hauptlink no-border-links hide-for-small hide-for-pad\"><a class=\"vereinprofil_tooltip\" href=\"/fc-thun/startseite/verein/938/saison_id/2019\" id=\"938\">FC Thun</a> </td><td class=\"hauptlink no-border-links show-for-small show-for-pad\"><a class=\"vereinprofil_tooltip\" href=\"/fc-thun/startseite/verein/938/saison_id/2019\" id=\"938\">FC Thun</a></td><td class=\"zentriert\"><a href=\"/fc-thun/kader/verein/938/saison_id/2019\" title=\"FC Thun\">27</a></td><td class=\"zentriert hide-for-small hide-for-pad\">24,9</td><td class=\"zentriert hide-for-pad hide-for-small\">4</td><td class=\"rechts hide-for-small hide-for-pad\"><a href=\"/fc-thun/kader/verein/938/saison_id/2019\" title=\"FC Thun\">17,25 mil. €</a></td><td class=\"rechts hide-for-small hide-for-pad\">639 K €</td><td class=\"rechts show-for-small show-for-pad nowrap\"><a href=\"/fc-thun/kader/verein/938/saison_id/2019\" title=\"FC Thun\">17,25 mil. €</a></td><td class=\"rechts show-for-small show-for-pad nowrap\">639 K €</td></tr>\\n<tr class=\"even\">\\n<td class=\"zentriert no-border-rechts\"><a class=\"vereinprofil_tooltip\" href=\"/fc-st-gallen/startseite/verein/257/saison_id/2019\"><img alt=\"FC St. Gallen 1879\" class=\"tiny_wappen\" src=\"https://tmssl.akamaized.net//images/wappen/tiny/257.png?lm=1535394361\" title=\"\\xa0\"/></a></td><td class=\"hauptlink no-border-links hide-for-small hide-for-pad\"><a class=\"vereinprofil_tooltip\" href=\"/fc-st-gallen/startseite/verein/257/saison_id/2019\" id=\"257\">FC St. Gallen 1879</a> </td><td class=\"hauptlink no-border-links show-for-small show-for-pad\"><a class=\"vereinprofil_tooltip\" href=\"/fc-st-gallen/startseite/verein/257/saison_id/2019\" id=\"257\">FC St. Gallen</a></td><td class=\"zentriert\"><a href=\"/fc-st-gallen-1879/kader/verein/257/saison_id/2019\" title=\"FC St. Gallen 1879\">30</a></td><td class=\"zentriert hide-for-small hide-for-pad\">23,6</td><td class=\"zentriert hide-for-pad hide-for-small\">14</td><td class=\"rechts hide-for-small hide-for-pad\"><a href=\"/fc-st-gallen-1879/kader/verein/257/saison_id/2019\" title=\"FC St. Gallen 1879\">16,80 mil. €</a></td><td class=\"rechts hide-for-small hide-for-pad\">560 K €</td><td class=\"rechts show-for-small show-for-pad nowrap\"><a href=\"/fc-st-gallen-1879/kader/verein/257/saison_id/2019\" title=\"FC St. Gallen 1879\">16,80 mil. €</a></td><td class=\"rechts show-for-small show-for-pad nowrap\">560 K €</td></tr>\\n<tr class=\"odd\">\\n<td class=\"zentriert no-border-rechts\"><a class=\"vereinprofil_tooltip\" href=\"/servette-fc/startseite/verein/61/saison_id/2019\"><img alt=\"Servette FC\" class=\"tiny_wappen\" src=\"https://tmssl.akamaized.net//images/wappen/tiny/61.png?lm=1462453287\" title=\"\\xa0\"/></a></td><td class=\"hauptlink no-border-links hide-for-small hide-for-pad\"><a class=\"vereinprofil_tooltip\" href=\"/servette-fc/startseite/verein/61/saison_id/2019\" id=\"61\">Servette FC</a> <span class=\"icons_sprite icon-aufsteiger\" title=\"Promoted to 1st league 18/19\">\\xa0</span></td><td class=\"hauptlink no-border-links show-for-small show-for-pad\"><a class=\"vereinprofil_tooltip\" href=\"/servette-fc/startseite/verein/61/saison_id/2019\" id=\"61\">Servette FC</a></td><td class=\"zentriert\"><a href=\"/servette-fc/kader/verein/61/saison_id/2019\" title=\"Servette FC\">28</a></td><td class=\"zentriert hide-for-small hide-for-pad\">25,6</td><td class=\"zentriert hide-for-pad hide-for-small\">14</td><td class=\"rechts hide-for-small hide-for-pad\"><a href=\"/servette-fc/kader/verein/61/saison_id/2019\" title=\"Servette FC\">14,33 mil. €</a></td><td class=\"rechts hide-for-small hide-for-pad\">512 K €</td><td class=\"rechts show-for-small show-for-pad nowrap\"><a href=\"/servette-fc/kader/verein/61/saison_id/2019\" title=\"Servette FC\">14,33 mil. €</a></td><td class=\"rechts show-for-small show-for-pad nowrap\">512 K €</td></tr>\\n<tr class=\"even\">\\n<td class=\"zentriert no-border-rechts\"><a class=\"vereinprofil_tooltip\" href=\"/neuchatel-xamax-fcs/startseite/verein/9084/saison_id/2019\"><img alt=\"Neuchâtel Xamax FCS\" class=\"tiny_wappen\" src=\"https://tmssl.akamaized.net//images/wappen/tiny/9084.png?lm=1417099189\" title=\"\\xa0\"/></a></td><td class=\"hauptlink no-border-links hide-for-small hide-for-pad\"><a class=\"vereinprofil_tooltip\" href=\"/neuchatel-xamax-fcs/startseite/verein/9084/saison_id/2019\" id=\"9084\">Neuchâtel Xamax FCS</a> </td><td class=\"hauptlink no-border-links show-for-small show-for-pad\"><a class=\"vereinprofil_tooltip\" href=\"/neuchatel-xamax-fcs/startseite/verein/9084/saison_id/2019\" id=\"9084\">NE Xamax</a></td><td class=\"zentriert\"><a href=\"/neuchatel-xamax-fcs/kader/verein/9084/saison_id/2019\" title=\"Neuchâtel Xamax FCS\">25</a></td><td class=\"zentriert hide-for-small hide-for-pad\">26,4</td><td class=\"zentriert hide-for-pad hide-for-small\">6</td><td class=\"rechts hide-for-small hide-for-pad\"><a href=\"/neuchatel-xamax-fcs/kader/verein/9084/saison_id/2019\" title=\"Neuchâtel Xamax FCS\">9,65 mil. €</a></td><td class=\"rechts hide-for-small hide-for-pad\">386 K €</td><td class=\"rechts show-for-small show-for-pad nowrap\"><a href=\"/neuchatel-xamax-fcs/kader/verein/9084/saison_id/2019\" title=\"Neuchâtel Xamax FCS\">9,65 mil. €</a></td><td class=\"rechts show-for-small show-for-pad nowrap\">386 K €</td></tr>\\n</tbody>\\n</table>'"
      ]
     },
     "execution_count": 13,
     "metadata": {},
     "output_type": "execute_result"
    }
   ],
   "source": [
    "str(soup.find_all('table',{\"class\":\"items\"})[0])"
   ]
  },
  {
   "cell_type": "code",
   "execution_count": 50,
   "metadata": {},
   "outputs": [],
   "source": [
    "df = pd.DataFrame(pd.read_html(str(soup.find_all('table',{\"class\":\"items\"})[0]))[0])\n",
    "new_columns = df.columns[2:]\n",
    "new_columns = new_columns.drop('name.1')\n",
    "#df = df[new_columns]\n",
    "#df.drop(df.columns[0])\n",
    "df = df.drop(df.columns[:1], 1)\n",
    "df = df.drop(df.columns[1], 1)\n",
    "df = df.drop(df.columns[-1], 1)\n",
    "df.columns = new_columns\n",
    "df['ø age'] = df['ø age']/10\n",
    "df.to_csv('../data/teams.csv')\n"
   ]
  },
  {
   "cell_type": "code",
   "execution_count": 48,
   "metadata": {},
   "outputs": [
    {
     "data": {
      "text/plain": [
       "0     25.2\n",
       "1     23.9\n",
       "2     24.9\n",
       "3     24.6\n",
       "4     24.1\n",
       "5     25.9\n",
       "6     24.9\n",
       "7     23.6\n",
       "8     25.6\n",
       "9     26.4\n",
       "10    27.7\n",
       "Name: ø age, dtype: float64"
      ]
     },
     "execution_count": 48,
     "metadata": {},
     "output_type": "execute_result"
    }
   ],
   "source": []
  },
  {
   "cell_type": "code",
   "execution_count": 21,
   "metadata": {},
   "outputs": [
    {
     "data": {
      "text/plain": [
       "Index(['Club.1', 'name', 'name.1', 'Squad', 'ø age', 'Players playing abroad',\n",
       "       'Total market value', 'ø market value', 'Total MV', 'ø MV'],\n",
       "      dtype='object')"
      ]
     },
     "execution_count": 21,
     "metadata": {},
     "output_type": "execute_result"
    }
   ],
   "source": [
    "df"
   ]
  },
  {
   "cell_type": "code",
   "execution_count": null,
   "metadata": {},
   "outputs": [],
   "source": []
  },
  {
   "cell_type": "code",
   "execution_count": 252,
   "metadata": {},
   "outputs": [],
   "source": [
    "\n",
    "my_url = \"https://www.transfermarkt.com/bsc-young-boys/kader/verein/452/saison_id/2019\""
   ]
  },
  {
   "cell_type": "code",
   "execution_count": 315,
   "metadata": {},
   "outputs": [],
   "source": []
  },
  {
   "cell_type": "code",
   "execution_count": 325,
   "metadata": {},
   "outputs": [],
   "source": [
    "#page = requests.get(my_url)\n",
    "soup = BeautifulSoup(page_html, 'html.parser')\n",
    "table = soup.find_all('table',{\"class\":\"items\"})\n",
    "#table_header = table[0].theader\n",
    "table = table[0].tbody\n",
    "player_rows = table.find_all(\"tr\")"
   ]
  },
  {
   "cell_type": "code",
   "execution_count": null,
   "metadata": {},
   "outputs": [],
   "source": [
    "https://stackoverflow.com/questions/55992681/how-to-scrape-a-website-table-where-the-cell-values-have-the-same-class-name\n",
    "all_tr = soup.find_all('tr', {'class': ['odd', 'even']})\n",
    "print('rows:', len(all_tr))\n",
    "\n",
    "for row in all_tr:\n",
    "    all_td = row.find_all('td', recursive=False)\n",
    "\n",
    "    print('columns:', len(all_td))\n",
    "    for column in all_td:\n",
    "        print(' >', column.text)\n",
    "\n",
    "    data['name'].append( all_td[1].text.split('.')[0][:-1] )\n",
    "    data['data of birth'].append( all_td[2].text[:-5])\n",
    "    data['height'].append( all_td[4].text )\n",
    "    data['foot'].append( all_td[5].text )\n",
    "    data['joined'].append( all_td[6].text )\n",
    "    data['contract until'].append( all_td[8].text )\n",
    "\n",
    "\n",
    "df = pd.DataFrame(data)\n",
    "print(df.head())"
   ]
  },
  {
   "cell_type": "code",
   "execution_count": 324,
   "metadata": {},
   "outputs": [],
   "source": [
    "table_header"
   ]
  },
  {
   "cell_type": "raw",
   "metadata": {},
   "source": [
    "type(soup.find_all('table',{\"class\":\"items\"})[0])"
   ]
  },
  {
   "cell_type": "raw",
   "metadata": {},
   "source": [
    "df = pd.DataFrame(pd.read_html(str(soup.find_all('table',{\"class\":\"items\"})[0]))[0])\n",
    "df"
   ]
  },
  {
   "cell_type": "raw",
   "metadata": {},
   "source": [
    "df = df.loc[pd.notnull(df['#'])]\n",
    "df['PlayerName'] = df['Player'].apply(lambda x : x.split(x[0])[0])\n",
    "df"
   ]
  },
  {
   "cell_type": "code",
   "execution_count": null,
   "metadata": {},
   "outputs": [],
   "source": []
  },
  {
   "cell_type": "code",
   "execution_count": 249,
   "metadata": {},
   "outputs": [
    {
     "ename": "SyntaxError",
     "evalue": "invalid syntax (<ipython-input-249-cad3d6f51ff8>, line 1)",
     "output_type": "error",
     "traceback": [
      "\u001b[0;36m  File \u001b[0;32m\"<ipython-input-249-cad3d6f51ff8>\"\u001b[0;36m, line \u001b[0;32m1\u001b[0m\n\u001b[0;31m    player_rows[]\u001b[0m\n\u001b[0m                ^\u001b[0m\n\u001b[0;31mSyntaxError\u001b[0m\u001b[0;31m:\u001b[0m invalid syntax\n"
     ]
    }
   ],
   "source": [
    "player_rows[]"
   ]
  },
  {
   "cell_type": "code",
   "execution_count": 238,
   "metadata": {
    "collapsed": true,
    "jupyter": {
     "outputs_hidden": true
    }
   },
   "outputs": [
    {
     "data": {
      "text/plain": [
       "[<td class=\"zentriert rueckennummer bg_Torwart\" title=\"Goalkeeper\"><div class=\"rn_nummer\">26</div></td>,\n",
       " <td class=\"posrela\" title=\"\"><table class=\"inline-table\" title=\"\"><tr><td class=\"\" rowspan=\"2\"><a href=\"#\"><img alt=\"David von Ballmoos\" class=\"bilderrahmen-fixed\" src=\"https://tmssl.akamaized.net//images/portrait/small/203124-1533134983.jpg?lm=1533134993\" title=\"David von Ballmoos\"/></a></td><td class=\"hauptlink\"><div class=\"di nowrap\"><span class=\"hide-for-small\"><a class=\"spielprofil_tooltip\" href=\"/david-von-ballmoos/profil/spieler/203124\" id=\"203124\" title=\"David von Ballmoos\">David von Ballmoos</a></span></div><div class=\"di nowrap\"><span class=\"show-for-small\"><a class=\"spielprofil_tooltip\" href=\"/david-von-ballmoos/profil/spieler/203124\" id=\"203124\" title=\"David von Ballmoos\">D. von Ballmoos</a></span></div></td></tr><tr><td>Goalkeeper</td></tr></table></td>,\n",
       " <td class=\"\" rowspan=\"2\"><a href=\"#\"><img alt=\"David von Ballmoos\" class=\"bilderrahmen-fixed\" src=\"https://tmssl.akamaized.net//images/portrait/small/203124-1533134983.jpg?lm=1533134993\" title=\"David von Ballmoos\"/></a></td>,\n",
       " <td class=\"hauptlink\"><div class=\"di nowrap\"><span class=\"hide-for-small\"><a class=\"spielprofil_tooltip\" href=\"/david-von-ballmoos/profil/spieler/203124\" id=\"203124\" title=\"David von Ballmoos\">David von Ballmoos</a></span></div><div class=\"di nowrap\"><span class=\"show-for-small\"><a class=\"spielprofil_tooltip\" href=\"/david-von-ballmoos/profil/spieler/203124\" id=\"203124\" title=\"David von Ballmoos\">D. von Ballmoos</a></span></div></td>,\n",
       " <td>Goalkeeper</td>,\n",
       " <td class=\"zentriert\">Dec 30, 1994 (24)</td>,\n",
       " <td class=\"zentriert\"><img alt=\"Switzerland\" class=\"flaggenrahmen\" src=\"https://tmssl.akamaized.net//images/flagge/verysmall/148.png?lm=1520611569\" title=\"Switzerland\"/></td>,\n",
       " <td class=\"zentriert\">30.06.2022</td>,\n",
       " <td class=\"rechts hauptlink\">3,50 mil. € <span class=\"icons_sprite green-arrow-ten\" title=\"Previous market value: 2,50 mil. €\"> </span></td>,\n",
       " <td class=\"zentriert rueckennummer bg_Torwart\" title=\"Goalkeeper\"><div class=\"rn_nummer\">1</div></td>,\n",
       " <td class=\"posrela\" title=\"\"><table class=\"inline-table\" title=\"\"><tr><td class=\"\" rowspan=\"2\"><a href=\"#\"><img alt=\"Marco Wölfli\" class=\"bilderrahmen-fixed\" src=\"https://tmssl.akamaized.net//images/portrait/small/4860-1533135588.jpg?lm=1533135598\" title=\"Marco Wölfli\"/></a></td><td class=\"hauptlink\"><div class=\"di nowrap\"><span class=\"hide-for-small\"><a class=\"spielprofil_tooltip\" href=\"/marco-wolfli/profil/spieler/4860\" id=\"4860\" title=\"Marco Wölfli\">Marco Wölfli</a></span></div><div class=\"di nowrap\"><span class=\"show-for-small\"><a class=\"spielprofil_tooltip\" href=\"/marco-wolfli/profil/spieler/4860\" id=\"4860\" title=\"Marco Wölfli\">M. Wölfli</a></span></div></td></tr><tr><td>Goalkeeper</td></tr></table></td>,\n",
       " <td class=\"\" rowspan=\"2\"><a href=\"#\"><img alt=\"Marco Wölfli\" class=\"bilderrahmen-fixed\" src=\"https://tmssl.akamaized.net//images/portrait/small/4860-1533135588.jpg?lm=1533135598\" title=\"Marco Wölfli\"/></a></td>,\n",
       " <td class=\"hauptlink\"><div class=\"di nowrap\"><span class=\"hide-for-small\"><a class=\"spielprofil_tooltip\" href=\"/marco-wolfli/profil/spieler/4860\" id=\"4860\" title=\"Marco Wölfli\">Marco Wölfli</a></span></div><div class=\"di nowrap\"><span class=\"show-for-small\"><a class=\"spielprofil_tooltip\" href=\"/marco-wolfli/profil/spieler/4860\" id=\"4860\" title=\"Marco Wölfli\">M. Wölfli</a></span></div></td>,\n",
       " <td>Goalkeeper</td>,\n",
       " <td class=\"zentriert\">Aug 22, 1982 (37)</td>,\n",
       " <td class=\"zentriert\"><img alt=\"Switzerland\" class=\"flaggenrahmen\" src=\"https://tmssl.akamaized.net//images/flagge/verysmall/148.png?lm=1520611569\" title=\"Switzerland\"/></td>,\n",
       " <td class=\"zentriert\">30.06.2020</td>,\n",
       " <td class=\"rechts hauptlink\">350 K € <span class=\"icons_sprite grey-block-ten\" title=\"Previous market value: 350 K €\"> </span></td>,\n",
       " <td class=\"zentriert rueckennummer bg_Torwart\" title=\"Goalkeeper\"><div class=\"rn_nummer\">40</div></td>,\n",
       " <td class=\"posrela\" title=\"\"><table class=\"inline-table\" title=\"\"><tr><td class=\"\" rowspan=\"2\"><a href=\"#\"><img alt=\"Dario Marzino\" class=\"bilderrahmen-fixed\" src=\"https://tmssl.akamaized.net//images/portrait/small/254968-1533135547.jpg?lm=1533135559\" title=\"Dario Marzino\"/></a></td><td class=\"hauptlink\"><div class=\"di nowrap\"><span class=\"hide-for-small\"><a class=\"spielprofil_tooltip\" href=\"/dario-marzino/profil/spieler/254968\" id=\"254968\" title=\"Dario Marzino\">Dario Marzino</a></span></div><div class=\"di nowrap\"><span class=\"show-for-small\"><a class=\"spielprofil_tooltip\" href=\"/dario-marzino/profil/spieler/254968\" id=\"254968\" title=\"Dario Marzino\">D. Marzino</a></span></div></td></tr><tr><td>Goalkeeper</td></tr></table></td>,\n",
       " <td class=\"\" rowspan=\"2\"><a href=\"#\"><img alt=\"Dario Marzino\" class=\"bilderrahmen-fixed\" src=\"https://tmssl.akamaized.net//images/portrait/small/254968-1533135547.jpg?lm=1533135559\" title=\"Dario Marzino\"/></a></td>,\n",
       " <td class=\"hauptlink\"><div class=\"di nowrap\"><span class=\"hide-for-small\"><a class=\"spielprofil_tooltip\" href=\"/dario-marzino/profil/spieler/254968\" id=\"254968\" title=\"Dario Marzino\">Dario Marzino</a></span></div><div class=\"di nowrap\"><span class=\"show-for-small\"><a class=\"spielprofil_tooltip\" href=\"/dario-marzino/profil/spieler/254968\" id=\"254968\" title=\"Dario Marzino\">D. Marzino</a></span></div></td>,\n",
       " <td>Goalkeeper</td>,\n",
       " <td class=\"zentriert\">Sep 19, 1996 (23)</td>,\n",
       " <td class=\"zentriert\"><img alt=\"Switzerland\" class=\"flaggenrahmen\" src=\"https://tmssl.akamaized.net//images/flagge/verysmall/148.png?lm=1520611569\" title=\"Switzerland\"/></td>,\n",
       " <td class=\"zentriert\">30.06.2021</td>,\n",
       " <td class=\"rechts hauptlink\">150 K € <span class=\"icons_sprite grey-block-ten\" title=\"Previous market value: 150 K €\"> </span></td>,\n",
       " <td class=\"zentriert rueckennummer bg_Abwehr\" title=\"Defender\"><div class=\"rn_nummer\">4</div></td>,\n",
       " <td class=\"posrela\" title=\"\"><table class=\"inline-table\" title=\"\"><tr><td class=\"\" rowspan=\"2\"><a href=\"#\"><img alt=\"Mohamed Camara\" class=\"bilderrahmen-fixed\" src=\"https://tmssl.akamaized.net//images/portrait/small/426723-1533135666.jpg?lm=1533135680\" title=\"Mohamed Camara\"/></a></td><td class=\"hauptlink\"><div class=\"di nowrap\"><span class=\"hide-for-small\"><a class=\"spielprofil_tooltip\" href=\"/mohamed-camara/profil/spieler/426723\" id=\"426723\" title=\"Mohamed Camara\">Mohamed Camara</a></span></div><div class=\"di nowrap\"><span class=\"show-for-small\"><a class=\"spielprofil_tooltip\" href=\"/mohamed-camara/profil/spieler/426723\" id=\"426723\" title=\"Mohamed Camara\">M. Camara</a></span></div><span class=\"verletzt-table icons_sprite\" title=\"Bone inflammation - Return unknown\"> </span></td></tr><tr><td>Centre-Back</td></tr></table></td>,\n",
       " <td class=\"\" rowspan=\"2\"><a href=\"#\"><img alt=\"Mohamed Camara\" class=\"bilderrahmen-fixed\" src=\"https://tmssl.akamaized.net//images/portrait/small/426723-1533135666.jpg?lm=1533135680\" title=\"Mohamed Camara\"/></a></td>,\n",
       " <td class=\"hauptlink\"><div class=\"di nowrap\"><span class=\"hide-for-small\"><a class=\"spielprofil_tooltip\" href=\"/mohamed-camara/profil/spieler/426723\" id=\"426723\" title=\"Mohamed Camara\">Mohamed Camara</a></span></div><div class=\"di nowrap\"><span class=\"show-for-small\"><a class=\"spielprofil_tooltip\" href=\"/mohamed-camara/profil/spieler/426723\" id=\"426723\" title=\"Mohamed Camara\">M. Camara</a></span></div><span class=\"verletzt-table icons_sprite\" title=\"Bone inflammation - Return unknown\"> </span></td>,\n",
       " <td>Centre-Back</td>,\n",
       " <td class=\"zentriert\">Aug 28, 1997 (22)</td>,\n",
       " <td class=\"zentriert\"><img alt=\"Guinea\" class=\"flaggenrahmen\" src=\"https://tmssl.akamaized.net//images/flagge/verysmall/59.png?lm=1520611569\" title=\"Guinea\"/></td>,\n",
       " <td class=\"zentriert\">30.06.2022</td>,\n",
       " <td class=\"rechts hauptlink\">3,00 mil. € <span class=\"icons_sprite green-arrow-ten\" title=\"Previous market value: 1,50 mil. €\"> </span></td>,\n",
       " <td class=\"zentriert rueckennummer bg_Abwehr\" title=\"Defender\"><div class=\"rn_nummer\">28</div></td>,\n",
       " <td class=\"posrela\" title=\"\"><span class=\"wechsel-kader-wappen hide-for-small\"><a href=\"/hertha-bsc/startseite/verein/44/saison_id/2019\" title=\"Joined from Hertha BSC; date: Jul 1, 2019; fee: Free transfer\"><img alt=\"Hertha BSC\" class=\"\" src=\"https://tmssl.akamaized.net//images/wappen/kaderquad/44.png?lm=1534505742\" title=\"Joined from Hertha BSC; date: Jul 1, 2019; fee: Free transfer\"/></a></span><a class=\"hide-for-small\" href=\"/hertha-bsc/startseite/verein/44/saison_id/2019\" title=\"Joined from Hertha BSC; date: Jul 1, 2019; fee: Free transfer\"><img class=\"wechsel-symbol\" height=\"19px\" src=\"/images/icons/zugang_beta_kader.png\" width=\"19px\"/></a><table class=\"inline-table\" title=\"\"><tr><td class=\"\" rowspan=\"2\"><a href=\"#\"><img alt=\"Fabian Lustenberger\" class=\"bilderrahmen-fixed\" src=\"https://tmssl.akamaized.net//images/portrait/small/42203-1532355372.jpg?lm=1532355485\" title=\"Fabian Lustenberger\"/></a></td><td class=\"hauptlink\"><div class=\"di nowrap\"><span class=\"hide-for-small\"><a class=\"spielprofil_tooltip\" href=\"/fabian-lustenberger/profil/spieler/42203\" id=\"42203\" title=\"Fabian Lustenberger\">Fabian Lustenberger</a></span></div><div class=\"di nowrap\"><span class=\"show-for-small\"><a class=\"spielprofil_tooltip\" href=\"/fabian-lustenberger/profil/spieler/42203\" id=\"42203\" title=\"Fabian Lustenberger\">F. Lustenberger</a></span></div><span class=\"kapitaenicon-table icons_sprite\" title=\"Team captain\"> </span></td></tr><tr><td>Centre-Back</td></tr></table></td>,\n",
       " <td class=\"\" rowspan=\"2\"><a href=\"#\"><img alt=\"Fabian Lustenberger\" class=\"bilderrahmen-fixed\" src=\"https://tmssl.akamaized.net//images/portrait/small/42203-1532355372.jpg?lm=1532355485\" title=\"Fabian Lustenberger\"/></a></td>,\n",
       " <td class=\"hauptlink\"><div class=\"di nowrap\"><span class=\"hide-for-small\"><a class=\"spielprofil_tooltip\" href=\"/fabian-lustenberger/profil/spieler/42203\" id=\"42203\" title=\"Fabian Lustenberger\">Fabian Lustenberger</a></span></div><div class=\"di nowrap\"><span class=\"show-for-small\"><a class=\"spielprofil_tooltip\" href=\"/fabian-lustenberger/profil/spieler/42203\" id=\"42203\" title=\"Fabian Lustenberger\">F. Lustenberger</a></span></div><span class=\"kapitaenicon-table icons_sprite\" title=\"Team captain\"> </span></td>,\n",
       " <td>Centre-Back</td>,\n",
       " <td class=\"zentriert\">May 2, 1988 (31)</td>,\n",
       " <td class=\"zentriert\"><img alt=\"Switzerland\" class=\"flaggenrahmen\" src=\"https://tmssl.akamaized.net//images/flagge/verysmall/148.png?lm=1520611569\" title=\"Switzerland\"/></td>,\n",
       " <td class=\"zentriert\">30.06.2022</td>,\n",
       " <td class=\"rechts hauptlink\">2,50 mil. € <span class=\"icons_sprite grey-block-ten\" title=\"Previous market value: 2,50 mil. €\"> </span></td>,\n",
       " <td class=\"zentriert rueckennummer bg_Abwehr\" title=\"Defender\"><div class=\"rn_nummer\">3</div></td>,\n",
       " <td class=\"posrela\" title=\"\"><span class=\"wechsel-kader-wappen hide-for-small\"><a href=\"/1-fc-koln/kadernaechstesaison/verein/3/saison_id/2019\" title=\"On loan from 1. FC Köln until Jun 30, 2020\"><img alt=\"1. FC Köln\" class=\"\" src=\"https://tmssl.akamaized.net//images/wappen/kaderquad/3.png?lm=1396275280\" title=\"On loan from 1. FC Köln until Jun 30, 2020\"/></a></span><a class=\"hide-for-small\" href=\"/1-fc-koln/kadernaechstesaison/verein/3/saison_id/2019\" title=\"On loan from 1. FC Köln until Jun 30, 2020\"><img class=\"wechsel-symbol\" height=\"19px\" src=\"/images/icons/leihe_beta_kader.png\" width=\"19px\"/></a><table class=\"inline-table\" title=\"\"><tr><td class=\"\" rowspan=\"2\"><a href=\"#\"><img alt=\"Frederik Sörensen\" class=\"bilderrahmen-fixed\" src=\"https://tmssl.akamaized.net//images/portrait/small/91716-1531736286.jpg?lm=1531736343\" title=\"Frederik Sörensen\"/></a></td><td class=\"hauptlink\"><div class=\"di nowrap\"><span class=\"hide-for-small\"><a class=\"spielprofil_tooltip\" href=\"/frederik-sorensen/profil/spieler/91716\" id=\"91716\" title=\"Frederik Sörensen\">Frederik Sörensen</a></span></div><div class=\"di nowrap\"><span class=\"show-for-small\"><a class=\"spielprofil_tooltip\" href=\"/frederik-sorensen/profil/spieler/91716\" id=\"91716\" title=\"Frederik Sörensen\">F. Sörensen</a></span></div></td></tr><tr><td>Centre-Back</td></tr></table></td>,\n",
       " <td class=\"\" rowspan=\"2\"><a href=\"#\"><img alt=\"Frederik Sörensen\" class=\"bilderrahmen-fixed\" src=\"https://tmssl.akamaized.net//images/portrait/small/91716-1531736286.jpg?lm=1531736343\" title=\"Frederik Sörensen\"/></a></td>,\n",
       " <td class=\"hauptlink\"><div class=\"di nowrap\"><span class=\"hide-for-small\"><a class=\"spielprofil_tooltip\" href=\"/frederik-sorensen/profil/spieler/91716\" id=\"91716\" title=\"Frederik Sörensen\">Frederik Sörensen</a></span></div><div class=\"di nowrap\"><span class=\"show-for-small\"><a class=\"spielprofil_tooltip\" href=\"/frederik-sorensen/profil/spieler/91716\" id=\"91716\" title=\"Frederik Sörensen\">F. Sörensen</a></span></div></td>,\n",
       " <td>Centre-Back</td>,\n",
       " <td class=\"zentriert\">Apr 14, 1992 (27)</td>,\n",
       " <td class=\"zentriert\"><img alt=\"Denmark\" class=\"flaggenrahmen\" src=\"https://tmssl.akamaized.net//images/flagge/verysmall/39.png?lm=1520611569\" title=\"Denmark\"/></td>,\n",
       " <td class=\"zentriert\">30.06.2020</td>,\n",
       " <td class=\"rechts hauptlink\">1,50 mil. € <span class=\"icons_sprite grey-block-ten\" title=\"Previous market value: 1,50 mil. €\"> </span></td>,\n",
       " <td class=\"zentriert rueckennummer bg_Abwehr\" title=\"Defender\"><div class=\"rn_nummer\">5</div></td>,\n",
       " <td class=\"posrela\" title=\"\"><span class=\"wechsel-kader-wappen hide-for-small\"><a href=\"/grasshopper-club-zurich/startseite/verein/504/saison_id/2019\" title=\"Joined from Grasshopper Club Zurich; date: Jul 1, 2019; fee: 750 K €\"><img alt=\"Grasshopper Club Zurich\" class=\"\" src=\"https://tmssl.akamaized.net//images/wappen/kaderquad/504.png?lm=1410776721\" title=\"Joined from Grasshopper Club Zurich; date: Jul 1, 2019; fee: 750 K €\"/></a></span><a class=\"hide-for-small\" href=\"/grasshopper-club-zurich/startseite/verein/504/saison_id/2019\" title=\"Joined from Grasshopper Club Zurich; date: Jul 1, 2019; fee: 750 K €\"><img class=\"wechsel-symbol\" height=\"19px\" src=\"/images/icons/zugang_beta_kader.png\" width=\"19px\"/></a><table class=\"inline-table\" title=\"\"><tr><td class=\"\" rowspan=\"2\"><a href=\"#\"><img alt=\"Cédric Zesiger\" class=\"bilderrahmen-fixed\" src=\"https://tmssl.akamaized.net//images/portrait/small/382478-1548261934.jpg?lm=1548262034\" title=\"Cédric Zesiger\"/></a></td><td class=\"hauptlink\"><div class=\"di nowrap\"><span class=\"hide-for-small\"><a class=\"spielprofil_tooltip\" href=\"/cedric-zesiger/profil/spieler/382478\" id=\"382478\" title=\"Cédric Zesiger\">Cédric Zesiger</a></span></div><div class=\"di nowrap\"><span class=\"show-for-small\"><a class=\"spielprofil_tooltip\" href=\"/cedric-zesiger/profil/spieler/382478\" id=\"382478\" title=\"Cédric Zesiger\">C. Zesiger</a></span></div></td></tr><tr><td>Centre-Back</td></tr></table></td>,\n",
       " <td class=\"\" rowspan=\"2\"><a href=\"#\"><img alt=\"Cédric Zesiger\" class=\"bilderrahmen-fixed\" src=\"https://tmssl.akamaized.net//images/portrait/small/382478-1548261934.jpg?lm=1548262034\" title=\"Cédric Zesiger\"/></a></td>,\n",
       " <td class=\"hauptlink\"><div class=\"di nowrap\"><span class=\"hide-for-small\"><a class=\"spielprofil_tooltip\" href=\"/cedric-zesiger/profil/spieler/382478\" id=\"382478\" title=\"Cédric Zesiger\">Cédric Zesiger</a></span></div><div class=\"di nowrap\"><span class=\"show-for-small\"><a class=\"spielprofil_tooltip\" href=\"/cedric-zesiger/profil/spieler/382478\" id=\"382478\" title=\"Cédric Zesiger\">C. Zesiger</a></span></div></td>,\n",
       " <td>Centre-Back</td>,\n",
       " <td class=\"zentriert\">Jun 24, 1998 (21)</td>,\n",
       " <td class=\"zentriert\"><img alt=\"Switzerland\" class=\"flaggenrahmen\" src=\"https://tmssl.akamaized.net//images/flagge/verysmall/148.png?lm=1520611569\" title=\"Switzerland\"/></td>,\n",
       " <td class=\"zentriert\">30.06.2023</td>,\n",
       " <td class=\"rechts hauptlink\">750 K € <span class=\"icons_sprite red-arrow-ten\" title=\"Previous market value: 1,00 mil. €\"> </span></td>,\n",
       " <td class=\"zentriert rueckennummer bg_Abwehr\" title=\"Defender\"><div class=\"rn_nummer\">14</div></td>,\n",
       " <td class=\"posrela\" title=\"\"><span class=\"wechsel-kader-wappen hide-for-small\"><a href=\"/fc-aarau/startseite/verein/116/saison_id/2018\" title=\"Returned after loan spell with FC Aarau; date: Jun 30, 2019; fee: End of loan\"><img alt=\"FC Aarau\" class=\"\" src=\"https://tmssl.akamaized.net//images/wappen/kaderquad/116.png?lm=1468412495\" title=\"Returned after loan spell with FC Aarau; date: Jun 30, 2019; fee: End of loan\"/></a></span><a class=\"hide-for-small\" href=\"/fc-aarau/startseite/verein/116/saison_id/2018\" title=\"Returned after loan spell with FC Aarau; date: Jun 30, 2019; fee: End of loan\"><img class=\"wechsel-symbol\" height=\"19px\" src=\"/images/icons/rueckkehr_beta_kader.png\" width=\"19px\"/></a><table class=\"inline-table\" title=\"\"><tr><td class=\"\" rowspan=\"2\"><a href=\"#\"><img alt=\"Nicolas Bürgy\" class=\"bilderrahmen-fixed\" src=\"https://tmssl.akamaized.net//images/portrait/small/203895-1550817713.jpg?lm=1550817743\" title=\"Nicolas Bürgy\"/></a></td><td class=\"hauptlink\"><div class=\"di nowrap\"><span class=\"hide-for-small\"><a class=\"spielprofil_tooltip\" href=\"/nicolas-burgy/profil/spieler/203895\" id=\"203895\" title=\"Nicolas Bürgy\">Nicolas Bürgy</a></span></div><div class=\"di nowrap\"><span class=\"show-for-small\"><a class=\"spielprofil_tooltip\" href=\"/nicolas-burgy/profil/spieler/203895\" id=\"203895\" title=\"Nicolas Bürgy\">N. Bürgy</a></span></div></td></tr><tr><td>Centre-Back</td></tr></table></td>,\n",
       " <td class=\"\" rowspan=\"2\"><a href=\"#\"><img alt=\"Nicolas Bürgy\" class=\"bilderrahmen-fixed\" src=\"https://tmssl.akamaized.net//images/portrait/small/203895-1550817713.jpg?lm=1550817743\" title=\"Nicolas Bürgy\"/></a></td>,\n",
       " <td class=\"hauptlink\"><div class=\"di nowrap\"><span class=\"hide-for-small\"><a class=\"spielprofil_tooltip\" href=\"/nicolas-burgy/profil/spieler/203895\" id=\"203895\" title=\"Nicolas Bürgy\">Nicolas Bürgy</a></span></div><div class=\"di nowrap\"><span class=\"show-for-small\"><a class=\"spielprofil_tooltip\" href=\"/nicolas-burgy/profil/spieler/203895\" id=\"203895\" title=\"Nicolas Bürgy\">N. Bürgy</a></span></div></td>,\n",
       " <td>Centre-Back</td>,\n",
       " <td class=\"zentriert\">Aug 7, 1995 (24)</td>,\n",
       " <td class=\"zentriert\"><img alt=\"Switzerland\" class=\"flaggenrahmen\" src=\"https://tmssl.akamaized.net//images/flagge/verysmall/148.png?lm=1520611569\" title=\"Switzerland\"/></td>,\n",
       " <td class=\"zentriert\">30.06.2020</td>,\n",
       " <td class=\"rechts hauptlink\">500 K € <span class=\"icons_sprite red-arrow-ten\" title=\"Previous market value: 700 K €\"> </span></td>,\n",
       " <td class=\"zentriert rueckennummer bg_Abwehr\" title=\"Defender\"><div class=\"rn_nummer\">21</div></td>,\n",
       " <td class=\"posrela\" title=\"\"><table class=\"inline-table\" title=\"\"><tr><td class=\"\" rowspan=\"2\"><a href=\"#\"><img alt=\"Ulisses Garcia\" class=\"bilderrahmen-fixed\" src=\"https://tmssl.akamaized.net//images/portrait/small/192616-1533135841.jpg?lm=1533135851\" title=\"Ulisses Garcia\"/></a></td><td class=\"hauptlink\"><div class=\"di nowrap\"><span class=\"hide-for-small\"><a class=\"spielprofil_tooltip\" href=\"/ulisses-garcia/profil/spieler/192616\" id=\"192616\" title=\"Ulisses Garcia\">Ulisses Garcia</a></span></div><div class=\"di nowrap\"><span class=\"show-for-small\"><a class=\"spielprofil_tooltip\" href=\"/ulisses-garcia/profil/spieler/192616\" id=\"192616\" title=\"Ulisses Garcia\">U. Garcia</a></span></div></td></tr><tr><td>Left-Back</td></tr></table></td>,\n",
       " <td class=\"\" rowspan=\"2\"><a href=\"#\"><img alt=\"Ulisses Garcia\" class=\"bilderrahmen-fixed\" src=\"https://tmssl.akamaized.net//images/portrait/small/192616-1533135841.jpg?lm=1533135851\" title=\"Ulisses Garcia\"/></a></td>,\n",
       " <td class=\"hauptlink\"><div class=\"di nowrap\"><span class=\"hide-for-small\"><a class=\"spielprofil_tooltip\" href=\"/ulisses-garcia/profil/spieler/192616\" id=\"192616\" title=\"Ulisses Garcia\">Ulisses Garcia</a></span></div><div class=\"di nowrap\"><span class=\"show-for-small\"><a class=\"spielprofil_tooltip\" href=\"/ulisses-garcia/profil/spieler/192616\" id=\"192616\" title=\"Ulisses Garcia\">U. Garcia</a></span></div></td>,\n",
       " <td>Left-Back</td>,\n",
       " <td class=\"zentriert\">Jan 11, 1996 (23)</td>,\n",
       " <td class=\"zentriert\"><img alt=\"Switzerland\" class=\"flaggenrahmen\" src=\"https://tmssl.akamaized.net//images/flagge/verysmall/148.png?lm=1520611569\" title=\"Switzerland\"/><br/><img alt=\"Cape Verde\" class=\"flaggenrahmen\" src=\"https://tmssl.akamaized.net//images/flagge/verysmall/32.png?lm=1520611569\" title=\"Cape Verde\"/></td>,\n",
       " <td class=\"zentriert\">30.06.2022</td>,\n",
       " <td class=\"rechts hauptlink\">1,75 mil. € <span class=\"icons_sprite grey-block-ten\" title=\"Previous market value: 1,75 mil. €\"> </span></td>,\n",
       " <td class=\"zentriert rueckennummer bg_Abwehr\" title=\"Defender\"><div class=\"rn_nummer\">29</div></td>,\n",
       " <td class=\"posrela\" title=\"\"><table class=\"inline-table\" title=\"\"><tr><td class=\"\" rowspan=\"2\"><a href=\"#\"><img alt=\"Jordan Lotomba\" class=\"bilderrahmen-fixed\" src=\"https://tmssl.akamaized.net//images/portrait/small/313094-1533135904.jpg?lm=1533135912\" title=\"Jordan Lotomba\"/></a></td><td class=\"hauptlink\"><div class=\"di nowrap\"><span class=\"hide-for-small\"><a class=\"spielprofil_tooltip\" href=\"/jordan-lotomba/profil/spieler/313094\" id=\"313094\" title=\"Jordan Lotomba\">Jordan Lotomba</a></span></div><div class=\"di nowrap\"><span class=\"show-for-small\"><a class=\"spielprofil_tooltip\" href=\"/jordan-lotomba/profil/spieler/313094\" id=\"313094\" title=\"Jordan Lotomba\">J. Lotomba</a></span></div></td></tr><tr><td>Right-Back</td></tr></table></td>,\n",
       " <td class=\"\" rowspan=\"2\"><a href=\"#\"><img alt=\"Jordan Lotomba\" class=\"bilderrahmen-fixed\" src=\"https://tmssl.akamaized.net//images/portrait/small/313094-1533135904.jpg?lm=1533135912\" title=\"Jordan Lotomba\"/></a></td>,\n",
       " <td class=\"hauptlink\"><div class=\"di nowrap\"><span class=\"hide-for-small\"><a class=\"spielprofil_tooltip\" href=\"/jordan-lotomba/profil/spieler/313094\" id=\"313094\" title=\"Jordan Lotomba\">Jordan Lotomba</a></span></div><div class=\"di nowrap\"><span class=\"show-for-small\"><a class=\"spielprofil_tooltip\" href=\"/jordan-lotomba/profil/spieler/313094\" id=\"313094\" title=\"Jordan Lotomba\">J. Lotomba</a></span></div></td>,\n",
       " <td>Right-Back</td>,\n",
       " <td class=\"zentriert\">Sep 29, 1998 (21)</td>,\n",
       " <td class=\"zentriert\"><img alt=\"Switzerland\" class=\"flaggenrahmen\" src=\"https://tmssl.akamaized.net//images/flagge/verysmall/148.png?lm=1520611569\" title=\"Switzerland\"/><br/><img alt=\"DR Congo\" class=\"flaggenrahmen\" src=\"https://tmssl.akamaized.net//images/flagge/verysmall/193.png?lm=1520611569\" title=\"DR Congo\"/></td>,\n",
       " <td class=\"zentriert\">30.06.2021</td>,\n",
       " <td class=\"rechts hauptlink\">4,50 mil. € <span class=\"icons_sprite grey-block-ten\" title=\"Previous market value: 4,50 mil. €\"> </span></td>,\n",
       " <td class=\"zentriert rueckennummer bg_Abwehr\" title=\"Defender\"><div class=\"rn_nummer\">23</div></td>,\n",
       " <td class=\"posrela\" title=\"\"><span class=\"wechsel-kader-wappen hide-for-small\"><a href=\"/fc-porto/kadernaechstesaison/verein/720/saison_id/2019\" title=\"On loan from FC Porto until Jun 30, 2020\"><img alt=\"FC Porto\" class=\"\" src=\"https://tmssl.akamaized.net//images/wappen/kaderquad/720.png?lm=1486310161\" title=\"On loan from FC Porto until Jun 30, 2020\"/></a></span><a class=\"hide-for-small\" href=\"/fc-porto/kadernaechstesaison/verein/720/saison_id/2019\" title=\"On loan from FC Porto until Jun 30, 2020\"><img class=\"wechsel-symbol\" height=\"19px\" src=\"/images/icons/leihe_beta_kader.png\" width=\"19px\"/></a><table class=\"inline-table\" title=\"\"><tr><td class=\"\" rowspan=\"2\"><a href=\"#\"><img alt=\"Saidy Janko\" class=\"bilderrahmen-fixed\" src=\"https://tmssl.akamaized.net//images/portrait/small/196435-1541149070.JPG?lm=1541149082\" title=\"Saidy Janko\"/></a></td><td class=\"hauptlink\"><div class=\"di nowrap\"><span class=\"hide-for-small\"><a class=\"spielprofil_tooltip\" href=\"/saidy-janko/profil/spieler/196435\" id=\"196435\" title=\"Saidy Janko\">Saidy Janko</a></span></div><div class=\"di nowrap\"><span class=\"show-for-small\"><a class=\"spielprofil_tooltip\" href=\"/saidy-janko/profil/spieler/196435\" id=\"196435\" title=\"Saidy Janko\">S. Janko</a></span></div></td></tr><tr><td>Right-Back</td></tr></table></td>,\n",
       " <td class=\"\" rowspan=\"2\"><a href=\"#\"><img alt=\"Saidy Janko\" class=\"bilderrahmen-fixed\" src=\"https://tmssl.akamaized.net//images/portrait/small/196435-1541149070.JPG?lm=1541149082\" title=\"Saidy Janko\"/></a></td>,\n",
       " <td class=\"hauptlink\"><div class=\"di nowrap\"><span class=\"hide-for-small\"><a class=\"spielprofil_tooltip\" href=\"/saidy-janko/profil/spieler/196435\" id=\"196435\" title=\"Saidy Janko\">Saidy Janko</a></span></div><div class=\"di nowrap\"><span class=\"show-for-small\"><a class=\"spielprofil_tooltip\" href=\"/saidy-janko/profil/spieler/196435\" id=\"196435\" title=\"Saidy Janko\">S. Janko</a></span></div></td>,\n",
       " <td>Right-Back</td>,\n",
       " <td class=\"zentriert\">Oct 22, 1995 (24)</td>,\n",
       " <td class=\"zentriert\"><img alt=\"Switzerland\" class=\"flaggenrahmen\" src=\"https://tmssl.akamaized.net//images/flagge/verysmall/148.png?lm=1520611569\" title=\"Switzerland\"/><br/><img alt=\"The Gambia\" class=\"flaggenrahmen\" src=\"https://tmssl.akamaized.net//images/flagge/verysmall/52.png?lm=1520611569\" title=\"The Gambia\"/></td>,\n",
       " <td class=\"zentriert\">30.06.2020</td>,\n",
       " <td class=\"rechts hauptlink\">2,00 mil. € <span class=\"icons_sprite red-arrow-ten\" title=\"Previous market value: 3,00 mil. €\"> </span></td>,\n",
       " <td class=\"zentriert rueckennummer bg_Mittelfeld\" title=\"Midfielder\"><div class=\"rn_nummer\">35</div></td>,\n",
       " <td class=\"posrela\" title=\"\"><span class=\"wechsel-kader-wappen hide-for-small\"><a href=\"/olympique-lyon/startseite/verein/1041/saison_id/2019\" title=\"Joined from Olympique Lyon; date: Jul 1, 2019; fee: 2,00 mil. €\"><img alt=\"Olympique Lyon\" class=\"\" src=\"https://tmssl.akamaized.net//images/wappen/kaderquad/1041.png?lm=1489753683\" title=\"Joined from Olympique Lyon; date: Jul 1, 2019; fee: 2,00 mil. €\"/></a></span><a class=\"hide-for-small\" href=\"/olympique-lyon/startseite/verein/1041/saison_id/2019\" title=\"Joined from Olympique Lyon; date: Jul 1, 2019; fee: 2,00 mil. €\"><img class=\"wechsel-symbol\" height=\"19px\" src=\"/images/icons/zugang_beta_kader.png\" width=\"19px\"/></a><table class=\"inline-table\" title=\"\"><tr><td class=\"\" rowspan=\"2\"><a href=\"#\"><img alt=\"Christopher Martins Pereira\" class=\"bilderrahmen-fixed\" src=\"https://tmssl.akamaized.net//images/portrait/small/248054-1527445270.png?lm=1527445280\" title=\"Christopher Martins Pereira\"/></a></td><td class=\"hauptlink\"><div class=\"di nowrap\"><span class=\"hide-for-small\"><a class=\"spielprofil_tooltip\" href=\"/christopher-martins-pereira/profil/spieler/248054\" id=\"248054\" title=\"Christopher Martins Pereira\">Christopher Martins Pereira</a></span></div><div class=\"di nowrap\"><span class=\"show-for-small\"><a class=\"spielprofil_tooltip\" href=\"/christopher-martins-pereira/profil/spieler/248054\" id=\"248054\" title=\"Christopher Martins Pereira\">C. Martins Pereira</a></span></div><span class=\"verletzt-table icons_sprite\" title=\"Pubitis - Return unknown\"> </span></td></tr><tr><td>Defensive Midfield</td></tr></table></td>,\n",
       " <td class=\"\" rowspan=\"2\"><a href=\"#\"><img alt=\"Christopher Martins Pereira\" class=\"bilderrahmen-fixed\" src=\"https://tmssl.akamaized.net//images/portrait/small/248054-1527445270.png?lm=1527445280\" title=\"Christopher Martins Pereira\"/></a></td>,\n",
       " <td class=\"hauptlink\"><div class=\"di nowrap\"><span class=\"hide-for-small\"><a class=\"spielprofil_tooltip\" href=\"/christopher-martins-pereira/profil/spieler/248054\" id=\"248054\" title=\"Christopher Martins Pereira\">Christopher Martins Pereira</a></span></div><div class=\"di nowrap\"><span class=\"show-for-small\"><a class=\"spielprofil_tooltip\" href=\"/christopher-martins-pereira/profil/spieler/248054\" id=\"248054\" title=\"Christopher Martins Pereira\">C. Martins Pereira</a></span></div><span class=\"verletzt-table icons_sprite\" title=\"Pubitis - Return unknown\"> </span></td>,\n",
       " <td>Defensive Midfield</td>,\n",
       " <td class=\"zentriert\">Feb 19, 1997 (22)</td>,\n",
       " <td class=\"zentriert\"><img alt=\"Luxembourg\" class=\"flaggenrahmen\" src=\"https://tmssl.akamaized.net//images/flagge/verysmall/99.png?lm=1520611569\" title=\"Luxembourg\"/><br/><img alt=\"Cape Verde\" class=\"flaggenrahmen\" src=\"https://tmssl.akamaized.net//images/flagge/verysmall/32.png?lm=1520611569\" title=\"Cape Verde\"/></td>,\n",
       " <td class=\"zentriert\">30.06.2023</td>,\n",
       " <td class=\"rechts hauptlink\">2,00 mil. € <span class=\"icons_sprite green-arrow-ten\" title=\"Previous market value: 1,50 mil. €\"> </span></td>,\n",
       " <td class=\"zentriert rueckennummer bg_Mittelfeld\" title=\"Midfielder\"><div class=\"rn_nummer\">20</div></td>,\n",
       " <td class=\"posrela\" title=\"\"><table class=\"inline-table\" title=\"\"><tr><td class=\"\" rowspan=\"2\"><a href=\"#\"><img alt=\"Michel Aebischer\" class=\"bilderrahmen-fixed\" src=\"https://tmssl.akamaized.net//images/portrait/small/237658-1533136045.jpg?lm=1533136054\" title=\"Michel Aebischer\"/></a></td><td class=\"hauptlink\"><div class=\"di nowrap\"><span class=\"hide-for-small\"><a class=\"spielprofil_tooltip\" href=\"/michel-aebischer/profil/spieler/237658\" id=\"237658\" title=\"Michel Aebischer\">Michel Aebischer</a></span></div><div class=\"di nowrap\"><span class=\"show-for-small\"><a class=\"spielprofil_tooltip\" href=\"/michel-aebischer/profil/spieler/237658\" id=\"237658\" title=\"Michel Aebischer\">M. Aebischer</a></span></div></td></tr><tr><td>Central Midfield</td></tr></table></td>,\n",
       " <td class=\"\" rowspan=\"2\"><a href=\"#\"><img alt=\"Michel Aebischer\" class=\"bilderrahmen-fixed\" src=\"https://tmssl.akamaized.net//images/portrait/small/237658-1533136045.jpg?lm=1533136054\" title=\"Michel Aebischer\"/></a></td>,\n",
       " <td class=\"hauptlink\"><div class=\"di nowrap\"><span class=\"hide-for-small\"><a class=\"spielprofil_tooltip\" href=\"/michel-aebischer/profil/spieler/237658\" id=\"237658\" title=\"Michel Aebischer\">Michel Aebischer</a></span></div><div class=\"di nowrap\"><span class=\"show-for-small\"><a class=\"spielprofil_tooltip\" href=\"/michel-aebischer/profil/spieler/237658\" id=\"237658\" title=\"Michel Aebischer\">M. Aebischer</a></span></div></td>,\n",
       " <td>Central Midfield</td>,\n",
       " <td class=\"zentriert\">Jan 6, 1997 (22)</td>,\n",
       " <td class=\"zentriert\"><img alt=\"Switzerland\" class=\"flaggenrahmen\" src=\"https://tmssl.akamaized.net//images/flagge/verysmall/148.png?lm=1520611569\" title=\"Switzerland\"/></td>,\n",
       " <td class=\"zentriert\">30.06.2022</td>,\n",
       " <td class=\"rechts hauptlink\">4,50 mil. € <span class=\"icons_sprite grey-block-ten\" title=\"Previous market value: 4,50 mil. €\"> </span></td>,\n",
       " <td class=\"zentriert rueckennummer bg_Mittelfeld\" title=\"Midfielder\"><div class=\"rn_nummer\">8</div></td>,\n",
       " <td class=\"posrela\" title=\"\"><span class=\"wechsel-kader-wappen hide-for-small\"><a href=\"/sc-freiburg/startseite/verein/60/saison_id/2019\" title=\"Joined from SC Freiburg; date: Jul 1, 2019; fee: 1,50 mil. €\"><img alt=\"SC Freiburg\" class=\"\" src=\"https://tmssl.akamaized.net//images/wappen/kaderquad/60.png?lm=1517249279\" title=\"Joined from SC Freiburg; date: Jul 1, 2019; fee: 1,50 mil. €\"/></a></span><a class=\"hide-for-small\" href=\"/sc-freiburg/startseite/verein/60/saison_id/2019\" title=\"Joined from SC Freiburg; date: Jul 1, 2019; fee: 1,50 mil. €\"><img class=\"wechsel-symbol\" height=\"19px\" src=\"/images/icons/zugang_beta_kader.png\" width=\"19px\"/></a><table class=\"inline-table\" title=\"\"><tr><td class=\"\" rowspan=\"2\"><a href=\"#\"><img alt=\"Vincent Sierro\" class=\"bilderrahmen-fixed\" src=\"https://tmssl.akamaized.net//images/portrait/small/280387-1502270864.jpg?lm=1502270940\" title=\"Vincent Sierro\"/></a></td><td class=\"hauptlink\"><div class=\"di nowrap\"><span class=\"hide-for-small\"><a class=\"spielprofil_tooltip\" href=\"/vincent-sierro/profil/spieler/280387\" id=\"280387\" title=\"Vincent Sierro\">Vincent Sierro</a></span></div><div class=\"di nowrap\"><span class=\"show-for-small\"><a class=\"spielprofil_tooltip\" href=\"/vincent-sierro/profil/spieler/280387\" id=\"280387\" title=\"Vincent Sierro\">V. Sierro</a></span></div><span class=\"verletzt-table icons_sprite\" title=\"Medial Collateral Ligament Knee Injury - Return unknown\"> </span></td></tr><tr><td>Central Midfield</td></tr></table></td>,\n",
       " <td class=\"\" rowspan=\"2\"><a href=\"#\"><img alt=\"Vincent Sierro\" class=\"bilderrahmen-fixed\" src=\"https://tmssl.akamaized.net//images/portrait/small/280387-1502270864.jpg?lm=1502270940\" title=\"Vincent Sierro\"/></a></td>,\n",
       " <td class=\"hauptlink\"><div class=\"di nowrap\"><span class=\"hide-for-small\"><a class=\"spielprofil_tooltip\" href=\"/vincent-sierro/profil/spieler/280387\" id=\"280387\" title=\"Vincent Sierro\">Vincent Sierro</a></span></div><div class=\"di nowrap\"><span class=\"show-for-small\"><a class=\"spielprofil_tooltip\" href=\"/vincent-sierro/profil/spieler/280387\" id=\"280387\" title=\"Vincent Sierro\">V. Sierro</a></span></div><span class=\"verletzt-table icons_sprite\" title=\"Medial Collateral Ligament Knee Injury - Return unknown\"> </span></td>,\n",
       " <td>Central Midfield</td>,\n",
       " <td class=\"zentriert\">Oct 8, 1995 (24)</td>,\n",
       " <td class=\"zentriert\"><img alt=\"Switzerland\" class=\"flaggenrahmen\" src=\"https://tmssl.akamaized.net//images/flagge/verysmall/148.png?lm=1520611569\" title=\"Switzerland\"/></td>,\n",
       " <td class=\"zentriert\">30.06.2023</td>,\n",
       " <td class=\"rechts hauptlink\">3,00 mil. € <span class=\"icons_sprite green-arrow-ten\" title=\"Previous market value: 2,00 mil. €\"> </span></td>,\n",
       " <td class=\"zentriert rueckennummer bg_Mittelfeld\" title=\"Midfielder\"><div class=\"rn_nummer\">30</div></td>,\n",
       " <td class=\"posrela\" title=\"\"><table class=\"inline-table\" title=\"\"><tr><td class=\"\" rowspan=\"2\"><a href=\"#\"><img alt=\"Sandro Lauper\" class=\"bilderrahmen-fixed\" src=\"https://tmssl.akamaized.net//images/portrait/small/254965-1533136141.jpg?lm=1533136151\" title=\"Sandro Lauper\"/></a></td><td class=\"hauptlink\"><div class=\"di nowrap\"><span class=\"hide-for-small\"><a class=\"spielprofil_tooltip\" href=\"/sandro-lauper/profil/spieler/254965\" id=\"254965\" title=\"Sandro Lauper\">Sandro Lauper</a></span></div><div class=\"di nowrap\"><span class=\"show-for-small\"><a class=\"spielprofil_tooltip\" href=\"/sandro-lauper/profil/spieler/254965\" id=\"254965\" title=\"Sandro Lauper\">S. Lauper</a></span></div><span class=\"verletzt-table icons_sprite\" title=\"Cruciate Ligament Rupture - Return unknown\"> </span></td></tr><tr><td>Central Midfield</td></tr></table></td>,\n",
       " <td class=\"\" rowspan=\"2\"><a href=\"#\"><img alt=\"Sandro Lauper\" class=\"bilderrahmen-fixed\" src=\"https://tmssl.akamaized.net//images/portrait/small/254965-1533136141.jpg?lm=1533136151\" title=\"Sandro Lauper\"/></a></td>,\n",
       " <td class=\"hauptlink\"><div class=\"di nowrap\"><span class=\"hide-for-small\"><a class=\"spielprofil_tooltip\" href=\"/sandro-lauper/profil/spieler/254965\" id=\"254965\" title=\"Sandro Lauper\">Sandro Lauper</a></span></div><div class=\"di nowrap\"><span class=\"show-for-small\"><a class=\"spielprofil_tooltip\" href=\"/sandro-lauper/profil/spieler/254965\" id=\"254965\" title=\"Sandro Lauper\">S. Lauper</a></span></div><span class=\"verletzt-table icons_sprite\" title=\"Cruciate Ligament Rupture - Return unknown\"> </span></td>,\n",
       " <td>Central Midfield</td>,\n",
       " <td class=\"zentriert\">Oct 25, 1996 (23)</td>,\n",
       " <td class=\"zentriert\"><img alt=\"Switzerland\" class=\"flaggenrahmen\" src=\"https://tmssl.akamaized.net//images/flagge/verysmall/148.png?lm=1520611569\" title=\"Switzerland\"/></td>,\n",
       " <td class=\"zentriert\">30.06.2022</td>,\n",
       " <td class=\"rechts hauptlink\">3,00 mil. € <span class=\"icons_sprite grey-block-ten\" title=\"Previous market value: 3,00 mil. €\"> </span></td>,\n",
       " <td class=\"zentriert rueckennummer bg_Mittelfeld\" title=\"Midfielder\"><div class=\"rn_nummer\">11</div></td>,\n",
       " <td class=\"posrela\" title=\"\"><table class=\"inline-table\" title=\"\"><tr><td class=\"\" rowspan=\"2\"><a href=\"#\"><img alt=\"Gianluca Gaudino\" class=\"bilderrahmen-fixed\" src=\"https://tmssl.akamaized.net//images/portrait/small/195051-1437472585.jpg?lm=1437472613\" title=\"Gianluca Gaudino\"/></a></td><td class=\"hauptlink\"><div class=\"di nowrap\"><span class=\"hide-for-small\"><a class=\"spielprofil_tooltip\" href=\"/gianluca-gaudino/profil/spieler/195051\" id=\"195051\" title=\"Gianluca Gaudino\">Gianluca Gaudino</a></span></div><div class=\"di nowrap\"><span class=\"show-for-small\"><a class=\"spielprofil_tooltip\" href=\"/gianluca-gaudino/profil/spieler/195051\" id=\"195051\" title=\"Gianluca Gaudino\">G. Gaudino</a></span></div><span class=\"verletzt-table icons_sprite\" title=\"Ruptured syndesmotic ligament - Return unknown\"> </span></td></tr><tr><td>Central Midfield</td></tr></table></td>,\n",
       " <td class=\"\" rowspan=\"2\"><a href=\"#\"><img alt=\"Gianluca Gaudino\" class=\"bilderrahmen-fixed\" src=\"https://tmssl.akamaized.net//images/portrait/small/195051-1437472585.jpg?lm=1437472613\" title=\"Gianluca Gaudino\"/></a></td>,\n",
       " <td class=\"hauptlink\"><div class=\"di nowrap\"><span class=\"hide-for-small\"><a class=\"spielprofil_tooltip\" href=\"/gianluca-gaudino/profil/spieler/195051\" id=\"195051\" title=\"Gianluca Gaudino\">Gianluca Gaudino</a></span></div><div class=\"di nowrap\"><span class=\"show-for-small\"><a class=\"spielprofil_tooltip\" href=\"/gianluca-gaudino/profil/spieler/195051\" id=\"195051\" title=\"Gianluca Gaudino\">G. Gaudino</a></span></div><span class=\"verletzt-table icons_sprite\" title=\"Ruptured syndesmotic ligament - Return unknown\"> </span></td>,\n",
       " <td>Central Midfield</td>,\n",
       " <td class=\"zentriert\">Nov 11, 1996 (23)</td>,\n",
       " <td class=\"zentriert\"><img alt=\"Germany\" class=\"flaggenrahmen\" src=\"https://tmssl.akamaized.net//images/flagge/verysmall/40.png?lm=1520612525\" title=\"Germany\"/></td>,\n",
       " <td class=\"zentriert\">30.06.2021</td>,\n",
       " <td class=\"rechts hauptlink\">500 K € <span class=\"icons_sprite grey-block-ten\" title=\"Previous market value: 500 K €\"> </span></td>,\n",
       " <td class=\"zentriert rueckennummer bg_Mittelfeld\" title=\"Midfielder\"><div class=\"rn_nummer\">6</div></td>,\n",
       " <td class=\"posrela\" title=\"\"><span class=\"wechsel-kader-wappen hide-for-small\"><a href=\"/bsc-young-boys-u21/startseite/verein/5508/saison_id/2019\" title=\"Internal transfer: BSC Young Boys U21; date: Jul 1, 2019\"><img alt=\"BSC Young Boys U21\" class=\"\" src=\"https://tmssl.akamaized.net//images/wappen/kaderquad/5508.png?lm=1410776679\" title=\"Internal transfer: BSC Young Boys U21; date: Jul 1, 2019\"/></a></span><a class=\"hide-for-small\" href=\"/bsc-young-boys-u21/startseite/verein/5508/saison_id/2019\" title=\"Internal transfer: BSC Young Boys U21; date: Jul 1, 2019\"><img class=\"wechsel-symbol\" height=\"19px\" src=\"/images/icons/zugang_beta_kader.png\" width=\"19px\"/></a><table class=\"inline-table\" title=\"\"><tr><td class=\"\" rowspan=\"2\"><a href=\"#\"><img alt=\"Esteban Petignat\" class=\"bilderrahmen-fixed\" src=\"https://tmssl.akamaized.net//images/portrait/small/default.jpg?lm=1455618221\" title=\"Esteban Petignat\"/></a></td><td class=\"hauptlink\"><div class=\"di nowrap\"><span class=\"hide-for-small\"><a class=\"spielprofil_tooltip\" href=\"/esteban-petignat/profil/spieler/479480\" id=\"479480\" title=\"Esteban Petignat\">Esteban Petignat</a></span></div><div class=\"di nowrap\"><span class=\"show-for-small\"><a class=\"spielprofil_tooltip\" href=\"/esteban-petignat/profil/spieler/479480\" id=\"479480\" title=\"Esteban Petignat\">E. Petignat</a></span></div></td></tr><tr><td>Central Midfield</td></tr></table></td>,\n",
       " <td class=\"\" rowspan=\"2\"><a href=\"#\"><img alt=\"Esteban Petignat\" class=\"bilderrahmen-fixed\" src=\"https://tmssl.akamaized.net//images/portrait/small/default.jpg?lm=1455618221\" title=\"Esteban Petignat\"/></a></td>,\n",
       " <td class=\"hauptlink\"><div class=\"di nowrap\"><span class=\"hide-for-small\"><a class=\"spielprofil_tooltip\" href=\"/esteban-petignat/profil/spieler/479480\" id=\"479480\" title=\"Esteban Petignat\">Esteban Petignat</a></span></div><div class=\"di nowrap\"><span class=\"show-for-small\"><a class=\"spielprofil_tooltip\" href=\"/esteban-petignat/profil/spieler/479480\" id=\"479480\" title=\"Esteban Petignat\">E. Petignat</a></span></div></td>,\n",
       " <td>Central Midfield</td>,\n",
       " <td class=\"zentriert\">May 17, 2000 (19)</td>,\n",
       " <td class=\"zentriert\"><img alt=\"Switzerland\" class=\"flaggenrahmen\" src=\"https://tmssl.akamaized.net//images/flagge/verysmall/148.png?lm=1520611569\" title=\"Switzerland\"/></td>,\n",
       " <td class=\"zentriert\">30.06.2022</td>,\n",
       " <td class=\"rechts hauptlink\">50 K € <span class=\"icons_sprite green-arrow-ten\" title=\"Previous market value: -\"> </span></td>,\n",
       " <td class=\"zentriert rueckennummer bg_Mittelfeld\" title=\"Midfielder\"><div class=\"rn_nummer\">16</div></td>,\n",
       " <td class=\"posrela\" title=\"\"><table class=\"inline-table\" title=\"\"><tr><td class=\"\" rowspan=\"2\"><a href=\"#\"><img alt=\"Christian Fassnacht\" class=\"bilderrahmen-fixed\" src=\"https://tmssl.akamaized.net//images/portrait/small/250490-1533136289.jpg?lm=1533136297\" title=\"Christian Fassnacht\"/></a></td><td class=\"hauptlink\"><div class=\"di nowrap\"><span class=\"hide-for-small\"><a class=\"spielprofil_tooltip\" href=\"/christian-fassnacht/profil/spieler/250490\" id=\"250490\" title=\"Christian Fassnacht\">Christian Fassnacht</a></span></div><div class=\"di nowrap\"><span class=\"show-for-small\"><a class=\"spielprofil_tooltip\" href=\"/christian-fassnacht/profil/spieler/250490\" id=\"250490\" title=\"Christian Fassnacht\">C. Fassnacht</a></span></div></td></tr><tr><td>Right Midfield</td></tr></table></td>,\n",
       " <td class=\"\" rowspan=\"2\"><a href=\"#\"><img alt=\"Christian Fassnacht\" class=\"bilderrahmen-fixed\" src=\"https://tmssl.akamaized.net//images/portrait/small/250490-1533136289.jpg?lm=1533136297\" title=\"Christian Fassnacht\"/></a></td>,\n",
       " <td class=\"hauptlink\"><div class=\"di nowrap\"><span class=\"hide-for-small\"><a class=\"spielprofil_tooltip\" href=\"/christian-fassnacht/profil/spieler/250490\" id=\"250490\" title=\"Christian Fassnacht\">Christian Fassnacht</a></span></div><div class=\"di nowrap\"><span class=\"show-for-small\"><a class=\"spielprofil_tooltip\" href=\"/christian-fassnacht/profil/spieler/250490\" id=\"250490\" title=\"Christian Fassnacht\">C. Fassnacht</a></span></div></td>,\n",
       " <td>Right Midfield</td>,\n",
       " <td class=\"zentriert\">Nov 11, 1993 (26)</td>,\n",
       " <td class=\"zentriert\"><img alt=\"Switzerland\" class=\"flaggenrahmen\" src=\"https://tmssl.akamaized.net//images/flagge/verysmall/148.png?lm=1520611569\" title=\"Switzerland\"/></td>,\n",
       " <td class=\"zentriert\">30.06.2021</td>,\n",
       " <td class=\"rechts hauptlink\">5,00 mil. € <span class=\"icons_sprite grey-block-ten\" title=\"Previous market value: 5,00 mil. €\"> </span></td>,\n",
       " <td class=\"zentriert rueckennummer bg_Mittelfeld\" title=\"Midfielder\"><div class=\"rn_nummer\">7</div></td>,\n",
       " <td class=\"posrela\" title=\"\"><span class=\"wechsel-kader-wappen hide-for-small\"><a href=\"/fc-thun/startseite/verein/938/saison_id/2019\" title=\"Joined from FC Thun; date: Jul 1, 2019; fee: 2,00 mil. €\"><img alt=\"FC Thun\" class=\"\" src=\"https://tmssl.akamaized.net//images/wappen/kaderquad/938.png?lm=1564699606\" title=\"Joined from FC Thun; date: Jul 1, 2019; fee: 2,00 mil. €\"/></a></span><a class=\"hide-for-small\" href=\"/fc-thun/startseite/verein/938/saison_id/2019\" title=\"Joined from FC Thun; date: Jul 1, 2019; fee: 2,00 mil. €\"><img class=\"wechsel-symbol\" height=\"19px\" src=\"/images/icons/zugang_beta_kader.png\" width=\"19px\"/></a><table class=\"inline-table\" title=\"\"><tr><td class=\"\" rowspan=\"2\"><a href=\"#\"><img alt=\"Marvin Spielmann\" class=\"bilderrahmen-fixed\" src=\"https://tmssl.akamaized.net//images/portrait/small/192653-1554800076.jpg?lm=1554800092\" title=\"Marvin Spielmann\"/></a></td><td class=\"hauptlink\"><div class=\"di nowrap\"><span class=\"hide-for-small\"><a class=\"spielprofil_tooltip\" href=\"/marvin-spielmann/profil/spieler/192653\" id=\"192653\" title=\"Marvin Spielmann\">Marvin Spielmann</a></span></div><div class=\"di nowrap\"><span class=\"show-for-small\"><a class=\"spielprofil_tooltip\" href=\"/marvin-spielmann/profil/spieler/192653\" id=\"192653\" title=\"Marvin Spielmann\">M. Spielmann</a></span></div></td></tr><tr><td>Left Midfield</td></tr></table></td>,\n",
       " <td class=\"\" rowspan=\"2\"><a href=\"#\"><img alt=\"Marvin Spielmann\" class=\"bilderrahmen-fixed\" src=\"https://tmssl.akamaized.net//images/portrait/small/192653-1554800076.jpg?lm=1554800092\" title=\"Marvin Spielmann\"/></a></td>,\n",
       " <td class=\"hauptlink\"><div class=\"di nowrap\"><span class=\"hide-for-small\"><a class=\"spielprofil_tooltip\" href=\"/marvin-spielmann/profil/spieler/192653\" id=\"192653\" title=\"Marvin Spielmann\">Marvin Spielmann</a></span></div><div class=\"di nowrap\"><span class=\"show-for-small\"><a class=\"spielprofil_tooltip\" href=\"/marvin-spielmann/profil/spieler/192653\" id=\"192653\" title=\"Marvin Spielmann\">M. Spielmann</a></span></div></td>,\n",
       " <td>Left Midfield</td>,\n",
       " <td class=\"zentriert\">Feb 23, 1996 (23)</td>,\n",
       " <td class=\"zentriert\"><img alt=\"Switzerland\" class=\"flaggenrahmen\" src=\"https://tmssl.akamaized.net//images/flagge/verysmall/148.png?lm=1520611569\" title=\"Switzerland\"/><br/><img alt=\"DR Congo\" class=\"flaggenrahmen\" src=\"https://tmssl.akamaized.net//images/flagge/verysmall/193.png?lm=1520611569\" title=\"DR Congo\"/></td>,\n",
       " <td class=\"zentriert\">30.06.2023</td>,\n",
       " <td class=\"rechts hauptlink\">5,00 mil. € <span class=\"icons_sprite grey-block-ten\" title=\"Previous market value: 5,00 mil. €\"> </span></td>,\n",
       " <td class=\"zentriert rueckennummer bg_Sturm\" title=\"Forward\"><div class=\"rn_nummer\">10</div></td>,\n",
       " <td class=\"posrela\" title=\"\"><table class=\"inline-table\" title=\"\"><tr><td class=\"\" rowspan=\"2\"><a href=\"#\"><img alt=\"Miralem Sulejmani\" class=\"bilderrahmen-fixed\" src=\"https://tmssl.akamaized.net//images/portrait/small/36080-1533136216.jpg?lm=1533136237\" title=\"Miralem Sulejmani\"/></a></td><td class=\"hauptlink\"><div class=\"di nowrap\"><span class=\"hide-for-small\"><a class=\"spielprofil_tooltip\" href=\"/miralem-sulejmani/profil/spieler/36080\" id=\"36080\" title=\"Miralem Sulejmani\">Miralem Sulejmani</a></span></div><div class=\"di nowrap\"><span class=\"show-for-small\"><a class=\"spielprofil_tooltip\" href=\"/miralem-sulejmani/profil/spieler/36080\" id=\"36080\" title=\"Miralem Sulejmani\">M. Sulejmani</a></span></div><span class=\"verletzt-table icons_sprite\" title=\"Unknown Injury - Return unknown\"> </span></td></tr><tr><td>Left Winger</td></tr></table></td>,\n",
       " <td class=\"\" rowspan=\"2\"><a href=\"#\"><img alt=\"Miralem Sulejmani\" class=\"bilderrahmen-fixed\" src=\"https://tmssl.akamaized.net//images/portrait/small/36080-1533136216.jpg?lm=1533136237\" title=\"Miralem Sulejmani\"/></a></td>,\n",
       " <td class=\"hauptlink\"><div class=\"di nowrap\"><span class=\"hide-for-small\"><a class=\"spielprofil_tooltip\" href=\"/miralem-sulejmani/profil/spieler/36080\" id=\"36080\" title=\"Miralem Sulejmani\">Miralem Sulejmani</a></span></div><div class=\"di nowrap\"><span class=\"show-for-small\"><a class=\"spielprofil_tooltip\" href=\"/miralem-sulejmani/profil/spieler/36080\" id=\"36080\" title=\"Miralem Sulejmani\">M. Sulejmani</a></span></div><span class=\"verletzt-table icons_sprite\" title=\"Unknown Injury - Return unknown\"> </span></td>,\n",
       " <td>Left Winger</td>,\n",
       " <td class=\"zentriert\">Dec 5, 1988 (30)</td>,\n",
       " <td class=\"zentriert\"><img alt=\"Serbia\" class=\"flaggenrahmen\" src=\"https://tmssl.akamaized.net//images/flagge/verysmall/215.png?lm=1520611569\" title=\"Serbia\"/></td>,\n",
       " <td class=\"zentriert\">30.06.2020</td>,\n",
       " <td class=\"rechts hauptlink\">4,50 mil. € <span class=\"icons_sprite grey-block-ten\" title=\"Previous market value: 4,50 mil. €\"> </span></td>,\n",
       " <td class=\"zentriert rueckennummer bg_Sturm\" title=\"Forward\"><div class=\"rn_nummer\">19</div></td>,\n",
       " <td class=\"posrela\" title=\"\"><span class=\"wechsel-kader-wappen hide-for-small\"><a href=\"/bsc-young-boys-u21/startseite/verein/5508/saison_id/2019\" title=\"Internal transfer: BSC Young Boys U21; date: Jul 1, 2019\"><img alt=\"BSC Young Boys U21\" class=\"\" src=\"https://tmssl.akamaized.net//images/wappen/kaderquad/5508.png?lm=1410776679\" title=\"Internal transfer: BSC Young Boys U21; date: Jul 1, 2019\"/></a></span><a class=\"hide-for-small\" href=\"/bsc-young-boys-u21/startseite/verein/5508/saison_id/2019\" title=\"Internal transfer: BSC Young Boys U21; date: Jul 1, 2019\"><img class=\"wechsel-symbol\" height=\"19px\" src=\"/images/icons/zugang_beta_kader.png\" width=\"19px\"/></a><table class=\"inline-table\" title=\"\"><tr><td class=\"\" rowspan=\"2\"><a href=\"#\"><img alt=\"Felix Mambimbi\" class=\"bilderrahmen-fixed\" src=\"https://tmssl.akamaized.net//images/portrait/small/default.jpg?lm=1455618221\" title=\"Felix Mambimbi\"/></a></td><td class=\"hauptlink\"><div class=\"di nowrap\"><span class=\"hide-for-small\"><a class=\"spielprofil_tooltip\" href=\"/felix-mambimbi/profil/spieler/507496\" id=\"507496\" title=\"Felix Mambimbi\">Felix Mambimbi</a></span></div><div class=\"di nowrap\"><span class=\"show-for-small\"><a class=\"spielprofil_tooltip\" href=\"/felix-mambimbi/profil/spieler/507496\" id=\"507496\" title=\"Felix Mambimbi\">F. Mambimbi</a></span></div></td></tr><tr><td>Left Winger</td></tr></table></td>,\n",
       " <td class=\"\" rowspan=\"2\"><a href=\"#\"><img alt=\"Felix Mambimbi\" class=\"bilderrahmen-fixed\" src=\"https://tmssl.akamaized.net//images/portrait/small/default.jpg?lm=1455618221\" title=\"Felix Mambimbi\"/></a></td>,\n",
       " <td class=\"hauptlink\"><div class=\"di nowrap\"><span class=\"hide-for-small\"><a class=\"spielprofil_tooltip\" href=\"/felix-mambimbi/profil/spieler/507496\" id=\"507496\" title=\"Felix Mambimbi\">Felix Mambimbi</a></span></div><div class=\"di nowrap\"><span class=\"show-for-small\"><a class=\"spielprofil_tooltip\" href=\"/felix-mambimbi/profil/spieler/507496\" id=\"507496\" title=\"Felix Mambimbi\">F. Mambimbi</a></span></div></td>,\n",
       " <td>Left Winger</td>,\n",
       " <td class=\"zentriert\">Jan 18, 2001 (18)</td>,\n",
       " <td class=\"zentriert\"><img alt=\"Switzerland\" class=\"flaggenrahmen\" src=\"https://tmssl.akamaized.net//images/flagge/verysmall/148.png?lm=1520611569\" title=\"Switzerland\"/></td>,\n",
       " <td class=\"zentriert\">30.06.2022</td>,\n",
       " <td class=\"rechts hauptlink\">450 K € <span class=\"icons_sprite green-arrow-ten\" title=\"Previous market value: 225 K €\"> </span></td>,\n",
       " <td class=\"zentriert rueckennummer bg_Sturm\" title=\"Forward\"><div class=\"rn_nummer\">13</div></td>,\n",
       " <td class=\"posrela\" title=\"\"><table class=\"inline-table\" title=\"\"><tr><td class=\"\" rowspan=\"2\"><a href=\"#\"><img alt=\"Nicolas Moumi Ngamaleu\" class=\"bilderrahmen-fixed\" src=\"https://tmssl.akamaized.net//images/portrait/small/266768-1533136320.jpg?lm=1533136327\" title=\"Nicolas Moumi Ngamaleu\"/></a></td><td class=\"hauptlink\"><div class=\"di nowrap\"><span class=\"hide-for-small\"><a class=\"spielprofil_tooltip\" href=\"/nicolas-moumi-ngamaleu/profil/spieler/266768\" id=\"266768\" title=\"Nicolas Moumi Ngamaleu\">Nicolas Moumi Ngamaleu</a></span></div><div class=\"di nowrap\"><span class=\"show-for-small\"><a class=\"spielprofil_tooltip\" href=\"/nicolas-moumi-ngamaleu/profil/spieler/266768\" id=\"266768\" title=\"Nicolas Moumi Ngamaleu\">N. Moumi Ngamaleu</a></span></div></td></tr><tr><td>Right Winger</td></tr></table></td>,\n",
       " <td class=\"\" rowspan=\"2\"><a href=\"#\"><img alt=\"Nicolas Moumi Ngamaleu\" class=\"bilderrahmen-fixed\" src=\"https://tmssl.akamaized.net//images/portrait/small/266768-1533136320.jpg?lm=1533136327\" title=\"Nicolas Moumi Ngamaleu\"/></a></td>,\n",
       " <td class=\"hauptlink\"><div class=\"di nowrap\"><span class=\"hide-for-small\"><a class=\"spielprofil_tooltip\" href=\"/nicolas-moumi-ngamaleu/profil/spieler/266768\" id=\"266768\" title=\"Nicolas Moumi Ngamaleu\">Nicolas Moumi Ngamaleu</a></span></div><div class=\"di nowrap\"><span class=\"show-for-small\"><a class=\"spielprofil_tooltip\" href=\"/nicolas-moumi-ngamaleu/profil/spieler/266768\" id=\"266768\" title=\"Nicolas Moumi Ngamaleu\">N. Moumi Ngamaleu</a></span></div></td>,\n",
       " <td>Right Winger</td>,\n",
       " <td class=\"zentriert\">Jul 9, 1994 (25)</td>,\n",
       " <td class=\"zentriert\"><img alt=\"Cameroon\" class=\"flaggenrahmen\" src=\"https://tmssl.akamaized.net//images/flagge/verysmall/31.png?lm=1520611569\" title=\"Cameroon\"/></td>,\n",
       " <td class=\"zentriert\">30.06.2021</td>,\n",
       " <td class=\"rechts hauptlink\">6,00 mil. € <span class=\"icons_sprite green-arrow-ten\" title=\"Previous market value: 3,75 mil. €\"> </span></td>,\n",
       " <td class=\"zentriert rueckennummer bg_Sturm\" title=\"Forward\"><div class=\"rn_nummer\">17</div></td>,\n",
       " <td class=\"posrela\" title=\"\"><table class=\"inline-table\" title=\"\"><tr><td class=\"\" rowspan=\"2\"><a href=\"#\"><img alt=\"Roger Assalé\" class=\"bilderrahmen-fixed\" src=\"https://tmssl.akamaized.net//images/portrait/small/263183-1533136348.jpg?lm=1533136361\" title=\"Roger Assalé\"/></a></td><td class=\"hauptlink\"><div class=\"di nowrap\"><span class=\"hide-for-small\"><a class=\"spielprofil_tooltip\" href=\"/roger-assale/profil/spieler/263183\" id=\"263183\" title=\"Roger Assalé\">Roger Assalé</a></span></div><div class=\"di nowrap\"><span class=\"show-for-small\"><a class=\"spielprofil_tooltip\" href=\"/roger-assale/profil/spieler/263183\" id=\"263183\" title=\"Roger Assalé\">R. Assalé</a></span></div></td></tr><tr><td>Centre-Forward</td></tr></table></td>,\n",
       " <td class=\"\" rowspan=\"2\"><a href=\"#\"><img alt=\"Roger Assalé\" class=\"bilderrahmen-fixed\" src=\"https://tmssl.akamaized.net//images/portrait/small/263183-1533136348.jpg?lm=1533136361\" title=\"Roger Assalé\"/></a></td>,\n",
       " <td class=\"hauptlink\"><div class=\"di nowrap\"><span class=\"hide-for-small\"><a class=\"spielprofil_tooltip\" href=\"/roger-assale/profil/spieler/263183\" id=\"263183\" title=\"Roger Assalé\">Roger Assalé</a></span></div><div class=\"di nowrap\"><span class=\"show-for-small\"><a class=\"spielprofil_tooltip\" href=\"/roger-assale/profil/spieler/263183\" id=\"263183\" title=\"Roger Assalé\">R. Assalé</a></span></div></td>,\n",
       " <td>Centre-Forward</td>,\n",
       " <td class=\"zentriert\">Nov 13, 1993 (26)</td>,\n",
       " <td class=\"zentriert\"><img alt=\"Cote d'Ivoire\" class=\"flaggenrahmen\" src=\"https://tmssl.akamaized.net//images/flagge/verysmall/38.png?lm=1520611569\" title=\"Cote d'Ivoire\"/></td>,\n",
       " <td class=\"zentriert\">30.06.2021</td>,\n",
       " <td class=\"rechts hauptlink\">7,50 mil. € <span class=\"icons_sprite green-arrow-ten\" title=\"Previous market value: 6,00 mil. €\"> </span></td>,\n",
       " <td class=\"zentriert rueckennummer bg_Sturm\" title=\"Forward\"><div class=\"rn_nummer\">18</div></td>,\n",
       " <td class=\"posrela\" title=\"\"><table class=\"inline-table\" title=\"\"><tr><td class=\"\" rowspan=\"2\"><a href=\"#\"><img alt=\"Jean-Pierre Nsame\" class=\"bilderrahmen-fixed\" src=\"https://tmssl.akamaized.net//images/portrait/small/225055-1533136378.jpg?lm=1533136386\" title=\"Jean-Pierre Nsame\"/></a></td><td class=\"hauptlink\"><div class=\"di nowrap\"><span class=\"hide-for-small\"><a class=\"spielprofil_tooltip\" href=\"/jean-pierre-nsame/profil/spieler/225055\" id=\"225055\" title=\"Jean-Pierre Nsame\">Jean-Pierre Nsame</a></span></div><div class=\"di nowrap\"><span class=\"show-for-small\"><a class=\"spielprofil_tooltip\" href=\"/jean-pierre-nsame/profil/spieler/225055\" id=\"225055\" title=\"Jean-Pierre Nsame\">J. Nsame</a></span></div></td></tr><tr><td>Centre-Forward</td></tr></table></td>,\n",
       " <td class=\"\" rowspan=\"2\"><a href=\"#\"><img alt=\"Jean-Pierre Nsame\" class=\"bilderrahmen-fixed\" src=\"https://tmssl.akamaized.net//images/portrait/small/225055-1533136378.jpg?lm=1533136386\" title=\"Jean-Pierre Nsame\"/></a></td>,\n",
       " <td class=\"hauptlink\"><div class=\"di nowrap\"><span class=\"hide-for-small\"><a class=\"spielprofil_tooltip\" href=\"/jean-pierre-nsame/profil/spieler/225055\" id=\"225055\" title=\"Jean-Pierre Nsame\">Jean-Pierre Nsame</a></span></div><div class=\"di nowrap\"><span class=\"show-for-small\"><a class=\"spielprofil_tooltip\" href=\"/jean-pierre-nsame/profil/spieler/225055\" id=\"225055\" title=\"Jean-Pierre Nsame\">J. Nsame</a></span></div></td>,\n",
       " <td>Centre-Forward</td>,\n",
       " <td class=\"zentriert\">May 1, 1993 (26)</td>,\n",
       " <td class=\"zentriert\"><img alt=\"Cameroon\" class=\"flaggenrahmen\" src=\"https://tmssl.akamaized.net//images/flagge/verysmall/31.png?lm=1520611569\" title=\"Cameroon\"/><br/><img alt=\"France\" class=\"flaggenrahmen\" src=\"https://tmssl.akamaized.net//images/flagge/verysmall/50.png?lm=1520611569\" title=\"France\"/></td>,\n",
       " <td class=\"zentriert\">30.06.2023</td>,\n",
       " <td class=\"rechts hauptlink\">4,50 mil. € <span class=\"icons_sprite grey-block-ten\" title=\"Previous market value: 4,50 mil. €\"> </span></td>,\n",
       " <td class=\"zentriert rueckennummer bg_Sturm\" title=\"Forward\"><div class=\"rn_nummer\">99</div></td>,\n",
       " <td class=\"posrela\" title=\"\"><table class=\"inline-table\" title=\"\"><tr><td class=\"\" rowspan=\"2\"><a href=\"#\"><img alt=\"Guillaume Hoarau\" class=\"bilderrahmen-fixed\" src=\"https://tmssl.akamaized.net//images/portrait/small/23934-1533136406.jpg?lm=1533136418\" title=\"Guillaume Hoarau\"/></a></td><td class=\"hauptlink\"><div class=\"di nowrap\"><span class=\"hide-for-small\"><a class=\"spielprofil_tooltip\" href=\"/guillaume-hoarau/profil/spieler/23934\" id=\"23934\" title=\"Guillaume Hoarau\">Guillaume Hoarau</a></span></div><div class=\"di nowrap\"><span class=\"show-for-small\"><a class=\"spielprofil_tooltip\" href=\"/guillaume-hoarau/profil/spieler/23934\" id=\"23934\" title=\"Guillaume Hoarau\">G. Hoarau</a></span></div></td></tr><tr><td>Centre-Forward</td></tr></table></td>,\n",
       " <td class=\"\" rowspan=\"2\"><a href=\"#\"><img alt=\"Guillaume Hoarau\" class=\"bilderrahmen-fixed\" src=\"https://tmssl.akamaized.net//images/portrait/small/23934-1533136406.jpg?lm=1533136418\" title=\"Guillaume Hoarau\"/></a></td>,\n",
       " <td class=\"hauptlink\"><div class=\"di nowrap\"><span class=\"hide-for-small\"><a class=\"spielprofil_tooltip\" href=\"/guillaume-hoarau/profil/spieler/23934\" id=\"23934\" title=\"Guillaume Hoarau\">Guillaume Hoarau</a></span></div><div class=\"di nowrap\"><span class=\"show-for-small\"><a class=\"spielprofil_tooltip\" href=\"/guillaume-hoarau/profil/spieler/23934\" id=\"23934\" title=\"Guillaume Hoarau\">G. Hoarau</a></span></div></td>,\n",
       " <td>Centre-Forward</td>,\n",
       " <td class=\"zentriert\">Mar 5, 1984 (35)</td>,\n",
       " <td class=\"zentriert\"><img alt=\"France\" class=\"flaggenrahmen\" src=\"https://tmssl.akamaized.net//images/flagge/verysmall/50.png?lm=1520611569\" title=\"France\"/><br/><img alt=\"Réunion\" class=\"flaggenrahmen\" src=\"https://tmssl.akamaized.net//images/flagge/verysmall/249.png?lm=1520611569\" title=\"Réunion\"/></td>,\n",
       " <td class=\"zentriert\">30.06.2020</td>,\n",
       " <td class=\"rechts hauptlink\">1,50 mil. € <span class=\"icons_sprite grey-block-ten\" title=\"Previous market value: 1,50 mil. €\"> </span></td>]"
      ]
     },
     "execution_count": 238,
     "metadata": {},
     "output_type": "execute_result"
    }
   ],
   "source": [
    "player_rows"
   ]
  },
  {
   "cell_type": "code",
   "execution_count": null,
   "metadata": {},
   "outputs": [],
   "source": [
    "player_row_items = player_"
   ]
  },
  {
   "cell_type": "code",
   "execution_count": 326,
   "metadata": {},
   "outputs": [
    {
     "ename": "IndexError",
     "evalue": "list index out of range",
     "output_type": "error",
     "traceback": [
      "\u001b[0;31m---------------------------------------------------------------------------\u001b[0m",
      "\u001b[0;31mIndexError\u001b[0m                                Traceback (most recent call last)",
      "\u001b[0;32m<ipython-input-326-01dd7f53e706>\u001b[0m in \u001b[0;36m<module>\u001b[0;34m\u001b[0m\n\u001b[1;32m      5\u001b[0m \u001b[0;34m\u001b[0m\u001b[0m\n\u001b[1;32m      6\u001b[0m     \u001b[0mplayer_number\u001b[0m \u001b[0;34m=\u001b[0m \u001b[0mplayer_tags\u001b[0m\u001b[0;34m[\u001b[0m\u001b[0;36m0\u001b[0m\u001b[0;34m]\u001b[0m\u001b[0;34m.\u001b[0m\u001b[0mtext\u001b[0m\u001b[0;34m\u001b[0m\u001b[0;34m\u001b[0m\u001b[0m\n\u001b[0;32m----> 7\u001b[0;31m     \u001b[0mplayer_name\u001b[0m \u001b[0;34m=\u001b[0m \u001b[0mplayer_tags\u001b[0m\u001b[0;34m[\u001b[0m\u001b[0;36m1\u001b[0m\u001b[0;34m]\u001b[0m\u001b[0;34m.\u001b[0m\u001b[0mdiv\u001b[0m\u001b[0;34m.\u001b[0m\u001b[0mtext\u001b[0m \u001b[0;31m#better a?\u001b[0m\u001b[0;34m\u001b[0m\u001b[0;34m\u001b[0m\u001b[0m\n\u001b[0m\u001b[1;32m      8\u001b[0m     \u001b[0mplayer_link\u001b[0m \u001b[0;34m=\u001b[0m \u001b[0mplayer_tags\u001b[0m\u001b[0;34m[\u001b[0m\u001b[0;36m1\u001b[0m\u001b[0;34m]\u001b[0m\u001b[0;34m.\u001b[0m\u001b[0mdiv\u001b[0m\u001b[0;34m.\u001b[0m\u001b[0mspan\u001b[0m\u001b[0;34m.\u001b[0m\u001b[0ma\u001b[0m\u001b[0;34m[\u001b[0m\u001b[0;34m'href'\u001b[0m\u001b[0;34m]\u001b[0m\u001b[0;34m\u001b[0m\u001b[0;34m\u001b[0m\u001b[0m\n\u001b[1;32m      9\u001b[0m     \u001b[0mplayer_id\u001b[0m \u001b[0;34m=\u001b[0m \u001b[0mplayer_tags\u001b[0m\u001b[0;34m[\u001b[0m\u001b[0;36m1\u001b[0m\u001b[0;34m]\u001b[0m\u001b[0;34m.\u001b[0m\u001b[0mdiv\u001b[0m\u001b[0;34m.\u001b[0m\u001b[0mspan\u001b[0m\u001b[0;34m.\u001b[0m\u001b[0ma\u001b[0m\u001b[0;34m[\u001b[0m\u001b[0;34m'id'\u001b[0m\u001b[0;34m]\u001b[0m\u001b[0;34m\u001b[0m\u001b[0;34m\u001b[0m\u001b[0m\n",
      "\u001b[0;31mIndexError\u001b[0m: list index out of range"
     ]
    }
   ],
   "source": [
    "player_df = pd.DataFrame()\n",
    "for player_row in player_rows[1:]:\n",
    "    #parse inline_table    \n",
    "    player_tags = player_row.find_all(\"td\")\n",
    "    \n",
    "    player_number = player_tags[0].text\n",
    "    player_name = player_tags[1].div.text #better a?\n",
    "    player_link = player_tags[1].div.span.a['href']\n",
    "    player_id = player_tags[1].div.span.a['id']\n",
    "    try:\n",
    "        player_smallimg = player_tags[2].a.img['src']\n",
    "    except:\n",
    "        continue\n",
    "    player_birthday = player_tags[5].text\n",
    "    player_country = player_tags[6].img[\"title\"]\n",
    "    player_value = player_tags[8].text\n",
    "\n",
    "    player_dict = {\n",
    "        #'player_tags'     :player_tags\n",
    "        'player_number'  :player_number\n",
    "        ,'player_name'    :player_name\n",
    "        ,'player_link'    :player_link\n",
    "        ,'player_id'      :player_id\n",
    "        ,'player_smallimg':player_smallimg\n",
    "        ,'player_birthday':player_birthday\n",
    "        ,'player_country' :player_country\n",
    "        ,'player_value'   :player_value\n",
    "    }\n",
    "    #for player_tag in player_tags:\n",
    "    #    print(player_tag[])\n",
    "    player_df = player_df.append(player_dict, ignore_index=True)\n",
    "        \n"
   ]
  },
  {
   "cell_type": "code",
   "execution_count": 327,
   "metadata": {},
   "outputs": [
    {
     "data": {
      "text/html": [
       "<div>\n",
       "<style scoped>\n",
       "    .dataframe tbody tr th:only-of-type {\n",
       "        vertical-align: middle;\n",
       "    }\n",
       "\n",
       "    .dataframe tbody tr th {\n",
       "        vertical-align: top;\n",
       "    }\n",
       "\n",
       "    .dataframe thead th {\n",
       "        text-align: right;\n",
       "    }\n",
       "</style>\n",
       "<table border=\"1\" class=\"dataframe\">\n",
       "  <thead>\n",
       "    <tr style=\"text-align: right;\">\n",
       "      <th></th>\n",
       "    </tr>\n",
       "  </thead>\n",
       "  <tbody>\n",
       "  </tbody>\n",
       "</table>\n",
       "</div>"
      ],
      "text/plain": [
       "Empty DataFrame\n",
       "Columns: []\n",
       "Index: []"
      ]
     },
     "execution_count": 327,
     "metadata": {},
     "output_type": "execute_result"
    }
   ],
   "source": [
    "player_df"
   ]
  },
  {
   "cell_type": "code",
   "execution_count": 211,
   "metadata": {},
   "outputs": [
    {
     "data": {
      "text/html": [
       "<div>\n",
       "<style scoped>\n",
       "    .dataframe tbody tr th:only-of-type {\n",
       "        vertical-align: middle;\n",
       "    }\n",
       "\n",
       "    .dataframe tbody tr th {\n",
       "        vertical-align: top;\n",
       "    }\n",
       "\n",
       "    .dataframe thead th {\n",
       "        text-align: right;\n",
       "    }\n",
       "</style>\n",
       "<table border=\"1\" class=\"dataframe\">\n",
       "  <thead>\n",
       "    <tr style=\"text-align: right;\">\n",
       "      <th></th>\n",
       "      <th>player_birthday</th>\n",
       "      <th>player_country</th>\n",
       "      <th>player_id</th>\n",
       "      <th>player_link</th>\n",
       "      <th>player_name</th>\n",
       "      <th>player_number</th>\n",
       "      <th>player_smallimg</th>\n",
       "      <th>player_value</th>\n",
       "    </tr>\n",
       "  </thead>\n",
       "  <tbody>\n",
       "    <tr>\n",
       "      <td>0</td>\n",
       "      <td>Dec 30, 1994 (24)</td>\n",
       "      <td>Switzerland</td>\n",
       "      <td>203124</td>\n",
       "      <td>/david-von-ballmoos/profil/spieler/203124</td>\n",
       "      <td>David von Ballmoos</td>\n",
       "      <td>26</td>\n",
       "      <td>https://tmssl.akamaized.net//images/portrait/s...</td>\n",
       "      <td>3,50 mil. €</td>\n",
       "    </tr>\n",
       "  </tbody>\n",
       "</table>\n",
       "</div>"
      ],
      "text/plain": [
       "     player_birthday player_country player_id  \\\n",
       "0  Dec 30, 1994 (24)    Switzerland    203124   \n",
       "\n",
       "                                 player_link         player_name  \\\n",
       "0  /david-von-ballmoos/profil/spieler/203124  David von Ballmoos   \n",
       "\n",
       "  player_number                                    player_smallimg  \\\n",
       "0            26  https://tmssl.akamaized.net//images/portrait/s...   \n",
       "\n",
       "    player_value  \n",
       "0  3,50 mil. €    "
      ]
     },
     "execution_count": 211,
     "metadata": {},
     "output_type": "execute_result"
    }
   ],
   "source": [
    "player_df"
   ]
  },
  {
   "cell_type": "code",
   "execution_count": 124,
   "metadata": {},
   "outputs": [
    {
     "data": {
      "text/plain": [
       "[<td class=\"zentriert rueckennummer bg_Torwart\" title=\"Goalkeeper\"><div class=\"rn_nummer\">26</div></td>,\n",
       " <td class=\"posrela\" title=\"\"><table class=\"inline-table\" title=\"\"><tr><td class=\"\" rowspan=\"2\"><a href=\"#\"><img alt=\"David von Ballmoos\" class=\"bilderrahmen-fixed\" src=\"https://tmssl.akamaized.net//images/portrait/small/203124-1533134983.jpg?lm=1533134993\" title=\"David von Ballmoos\"/></a></td><td class=\"hauptlink\"><div class=\"di nowrap\"><span class=\"hide-for-small\"><a class=\"spielprofil_tooltip\" href=\"/david-von-ballmoos/profil/spieler/203124\" id=\"203124\" title=\"David von Ballmoos\">David von Ballmoos</a></span></div><div class=\"di nowrap\"><span class=\"show-for-small\"><a class=\"spielprofil_tooltip\" href=\"/david-von-ballmoos/profil/spieler/203124\" id=\"203124\" title=\"David von Ballmoos\">D. von Ballmoos</a></span></div></td></tr><tr><td>Goalkeeper</td></tr></table></td>,\n",
       " <td class=\"\" rowspan=\"2\"><a href=\"#\"><img alt=\"David von Ballmoos\" class=\"bilderrahmen-fixed\" src=\"https://tmssl.akamaized.net//images/portrait/small/203124-1533134983.jpg?lm=1533134993\" title=\"David von Ballmoos\"/></a></td>,\n",
       " <td class=\"hauptlink\"><div class=\"di nowrap\"><span class=\"hide-for-small\"><a class=\"spielprofil_tooltip\" href=\"/david-von-ballmoos/profil/spieler/203124\" id=\"203124\" title=\"David von Ballmoos\">David von Ballmoos</a></span></div><div class=\"di nowrap\"><span class=\"show-for-small\"><a class=\"spielprofil_tooltip\" href=\"/david-von-ballmoos/profil/spieler/203124\" id=\"203124\" title=\"David von Ballmoos\">D. von Ballmoos</a></span></div></td>,\n",
       " <td>Goalkeeper</td>,\n",
       " <td class=\"zentriert\">Dec 30, 1994 (24)</td>,\n",
       " <td class=\"zentriert\"><img alt=\"Switzerland\" class=\"flaggenrahmen\" src=\"https://tmssl.akamaized.net//images/flagge/verysmall/148.png?lm=1520611569\" title=\"Switzerland\"/></td>,\n",
       " <td class=\"zentriert\">30.06.2022</td>,\n",
       " <td class=\"rechts hauptlink\">3,50 mil. € <span class=\"icons_sprite green-arrow-ten\" title=\"Previous market value: 2,50 mil. €\"> </span></td>]"
      ]
     },
     "execution_count": 124,
     "metadata": {},
     "output_type": "execute_result"
    }
   ],
   "source": [
    "player_row[:][1].find_all(\"td\")"
   ]
  },
  {
   "cell_type": "code",
   "execution_count": 250,
   "metadata": {},
   "outputs": [],
   "source": [
    "\n",
    "BASE_URL = \"https://www.transfermarkt.co.uk\"\n",
    "\n",
    "\n",
    "class Team:\n",
    "\tdef __init__( self, url, name, scraper):\n",
    "\t\tself.LeagueName = name\n",
    "\t\tsoup = scraper(url)\n",
    "\t\t#reading player table and filtering for offensive players\n",
    "\t\tplayerTable = soup.find(\"table\", class_=\"items\")\n",
    "\t\tplayers = playerTable.find_all(\"a\", class_=\"spielprofil_tooltip\")[::2]\n",
    "\t\toffensivePlayers = filter( Team.isStrikerOrWinger, players)\n",
    "\t\toffensivePlayersUrls = [BASE_URL + player[\"href\"] for player in offensivePlayers]\n",
    "\t\t#self.PlayerData = [PlayerProfile( playerUrl, scraper) for playerUrl in offensivePlayersUrls]\n",
    "\t\tself.PlayersData = []\n",
    "\t\tfor playerUrl in offensivePlayersUrls:\n",
    "\t\t\ttry:\n",
    "\t\t\t\tNewPlayerProfile = PlayerProfile( playerUrl, scraper)\n",
    "\t\t\t\tNewPlayerProfile.PlayerData[\"current league\"] = self.LeagueName\n",
    "\t\t\t\tself.PlayersData.append( NewPlayerProfile)\n",
    "\t\t\texcept:\n",
    "\t\t\t\tcontinue\n",
    "\n",
    "\n",
    "\t@staticmethod\n",
    "\tdef isStrikerOrWinger( player):\n",
    "\t\tposition = player.find_next(\"tr\").text.strip().lower()\n",
    "\t\treturn \"wing\" in position or \"centre-forward\" in position"
   ]
  },
  {
   "cell_type": "code",
   "execution_count": 253,
   "metadata": {},
   "outputs": [
    {
     "ename": "TypeError",
     "evalue": "'module' object is not callable",
     "output_type": "error",
     "traceback": [
      "\u001b[0;31m---------------------------------------------------------------------------\u001b[0m",
      "\u001b[0;31mTypeError\u001b[0m                                 Traceback (most recent call last)",
      "\u001b[0;32m<ipython-input-253-ff41b930f284>\u001b[0m in \u001b[0;36m<module>\u001b[0;34m\u001b[0m\n\u001b[1;32m     23\u001b[0m \u001b[0;34m\u001b[0m\u001b[0m\n\u001b[1;32m     24\u001b[0m \u001b[0mscraper\u001b[0m \u001b[0;34m=\u001b[0m \u001b[0mPageScraper\u001b[0m\u001b[0;34m(\u001b[0m\u001b[0;34m)\u001b[0m\u001b[0;34m\u001b[0m\u001b[0;34m\u001b[0m\u001b[0m\n\u001b[0;32m---> 25\u001b[0;31m \u001b[0msoup\u001b[0m \u001b[0;34m=\u001b[0m \u001b[0mscraper\u001b[0m\u001b[0;34m(\u001b[0m \u001b[0mLEAGUES_URL\u001b[0m\u001b[0;34m)\u001b[0m\u001b[0;34m\u001b[0m\u001b[0;34m\u001b[0m\u001b[0m\n\u001b[0m\u001b[1;32m     26\u001b[0m \u001b[0mLeagueTables\u001b[0m \u001b[0;34m=\u001b[0m \u001b[0msoup\u001b[0m\u001b[0;34m.\u001b[0m\u001b[0mfind\u001b[0m\u001b[0;34m(\u001b[0m\u001b[0;34m\"table\"\u001b[0m\u001b[0;34m,\u001b[0m \u001b[0mclass_\u001b[0m\u001b[0;34m=\u001b[0m\u001b[0;34m\"items\"\u001b[0m\u001b[0;34m)\u001b[0m\u001b[0;34m.\u001b[0m\u001b[0mfind\u001b[0m\u001b[0;34m(\u001b[0m\u001b[0;34m\"tbody\"\u001b[0m\u001b[0;34m)\u001b[0m\u001b[0;34m\u001b[0m\u001b[0;34m\u001b[0m\u001b[0m\n\u001b[1;32m     27\u001b[0m \u001b[0mLeagues\u001b[0m \u001b[0;34m=\u001b[0m \u001b[0mLeagueTables\u001b[0m\u001b[0;34m.\u001b[0m\u001b[0mfind_all\u001b[0m\u001b[0;34m(\u001b[0m\u001b[0;34m\"a\"\u001b[0m\u001b[0;34m,\u001b[0m \u001b[0mhref\u001b[0m\u001b[0;34m=\u001b[0m\u001b[0mre\u001b[0m\u001b[0;34m.\u001b[0m\u001b[0mcompile\u001b[0m\u001b[0;34m(\u001b[0m\u001b[0;34m\"wettbewerb/[A-Z]{2}1\"\u001b[0m\u001b[0;34m)\u001b[0m\u001b[0;34m,\u001b[0m \u001b[0mtitle\u001b[0m\u001b[0;34m=\u001b[0m\u001b[0mre\u001b[0m\u001b[0;34m.\u001b[0m\u001b[0mcompile\u001b[0m\u001b[0;34m(\u001b[0m\u001b[0;34m\"\\w\"\u001b[0m\u001b[0;34m)\u001b[0m\u001b[0;34m)\u001b[0m\u001b[0;34m\u001b[0m\u001b[0;34m\u001b[0m\u001b[0m\n",
      "\u001b[0;32m<ipython-input-253-ff41b930f284>\u001b[0m in \u001b[0;36m__call__\u001b[0;34m(self, url_)\u001b[0m\n\u001b[1;32m     18\u001b[0m         \u001b[0;32mreturn\u001b[0m \u001b[0mbs\u001b[0m\u001b[0;34m(\u001b[0m\u001b[0mcontent\u001b[0m\u001b[0;34m,\u001b[0m \u001b[0;34m\"html.parser\"\u001b[0m\u001b[0;34m)\u001b[0m\u001b[0;34m\u001b[0m\u001b[0;34m\u001b[0m\u001b[0m\n\u001b[1;32m     19\u001b[0m     \u001b[0;32mdef\u001b[0m \u001b[0m__call__\u001b[0m\u001b[0;34m(\u001b[0m \u001b[0mself\u001b[0m\u001b[0;34m,\u001b[0m \u001b[0murl_\u001b[0m\u001b[0;34m)\u001b[0m\u001b[0;34m:\u001b[0m\u001b[0;34m\u001b[0m\u001b[0;34m\u001b[0m\u001b[0m\n\u001b[0;32m---> 20\u001b[0;31m         \u001b[0;32mreturn\u001b[0m \u001b[0mself\u001b[0m\u001b[0;34m.\u001b[0m\u001b[0mreadUrl\u001b[0m\u001b[0;34m(\u001b[0m \u001b[0murl_\u001b[0m\u001b[0;34m)\u001b[0m\u001b[0;34m\u001b[0m\u001b[0;34m\u001b[0m\u001b[0m\n\u001b[0m\u001b[1;32m     21\u001b[0m \u001b[0;34m\u001b[0m\u001b[0m\n\u001b[1;32m     22\u001b[0m \u001b[0;34m\u001b[0m\u001b[0m\n",
      "\u001b[0;32m<ipython-input-253-ff41b930f284>\u001b[0m in \u001b[0;36mreadUrl\u001b[0;34m(self, url_)\u001b[0m\n\u001b[1;32m     10\u001b[0m         \u001b[0mself\u001b[0m\u001b[0;34m.\u001b[0m\u001b[0mlastQuery\u001b[0m \u001b[0;34m=\u001b[0m \u001b[0;34m-\u001b[0m\u001b[0mfloat\u001b[0m\u001b[0;34m(\u001b[0m\u001b[0;34m\"inf\"\u001b[0m\u001b[0;34m)\u001b[0m\u001b[0;34m\u001b[0m\u001b[0;34m\u001b[0m\u001b[0m\n\u001b[1;32m     11\u001b[0m     \u001b[0;32mdef\u001b[0m \u001b[0mreadUrl\u001b[0m\u001b[0;34m(\u001b[0m \u001b[0mself\u001b[0m\u001b[0;34m,\u001b[0m \u001b[0murl_\u001b[0m\u001b[0;34m)\u001b[0m\u001b[0;34m:\u001b[0m\u001b[0;34m\u001b[0m\u001b[0;34m\u001b[0m\u001b[0m\n\u001b[0;32m---> 12\u001b[0;31m         \u001b[0mpresentTime\u001b[0m \u001b[0;34m=\u001b[0m \u001b[0mtime\u001b[0m\u001b[0;34m(\u001b[0m\u001b[0;34m)\u001b[0m \u001b[0;34m-\u001b[0m \u001b[0mself\u001b[0m\u001b[0;34m.\u001b[0m\u001b[0mlastQuery\u001b[0m \u001b[0;34m-\u001b[0m \u001b[0mDELAY_BETWEEN_QUERIES\u001b[0m\u001b[0;34m\u001b[0m\u001b[0;34m\u001b[0m\u001b[0m\n\u001b[0m\u001b[1;32m     13\u001b[0m         \u001b[0;32mif\u001b[0m \u001b[0mpresentTime\u001b[0m \u001b[0;34m<\u001b[0m \u001b[0;36m0\u001b[0m\u001b[0;34m:\u001b[0m\u001b[0;34m\u001b[0m\u001b[0;34m\u001b[0m\u001b[0m\n\u001b[1;32m     14\u001b[0m             \u001b[0msleep\u001b[0m\u001b[0;34m(\u001b[0m \u001b[0mabs\u001b[0m\u001b[0;34m(\u001b[0m\u001b[0mpresentTime\u001b[0m\u001b[0;34m)\u001b[0m\u001b[0;34m)\u001b[0m\u001b[0;34m\u001b[0m\u001b[0;34m\u001b[0m\u001b[0m\n",
      "\u001b[0;31mTypeError\u001b[0m: 'module' object is not callable"
     ]
    }
   ],
   "source": [
    "N_LEAGUES = 10 #keeping the top N leagues\n",
    "LEAGUES_URL = \"https://www.transfermarkt.co.uk/wettbewerbe/europa/wettbewerbe\"\n",
    "BASE_URL = \"https://www.transfermarkt.co.uk\"\n",
    "\n",
    "DELAY_BETWEEN_QUERIES = 0 #min delay in seconds spacing http queries\n",
    "class PageScraper():\n",
    "    def __init__(self ):\n",
    "        self.opener = urllib.request.build_opener()\n",
    "        self.opener.addheaders = [('User-agent', 'Mozilla/5.0')]\n",
    "        self.lastQuery = -float(\"inf\")\n",
    "    def readUrl( self, url_):\n",
    "        presentTime = time() - self.lastQuery - DELAY_BETWEEN_QUERIES\n",
    "        if presentTime < 0:\n",
    "            sleep( abs(presentTime))\n",
    "        inData = self.opener.open(url_)\n",
    "        content = inData.read()\n",
    "        self.lastQuery = time()\n",
    "        return bs(content, \"html.parser\")\n",
    "    def __call__( self, url_):\n",
    "        return self.readUrl( url_)\n",
    "\n",
    "\n",
    "\n",
    "scraper = PageScraper()\n",
    "soup = scraper( LEAGUES_URL)\n",
    "LeagueTables = soup.find(\"table\", class_=\"items\").find(\"tbody\")\n",
    "Leagues = LeagueTables.find_all(\"a\", href=re.compile(\"wettbewerb/[A-Z]{2}1\"), title=re.compile(\"\\w\"))\n",
    "Leagues = Leagues[:N_LEAGUES]\n",
    "LeagueUrlDic = { league.text : BASE_URL + league[\"href\"] for league in Leagues}\n",
    "LeaguesData = []\n",
    "for leagueName, leagueUrl in LeagueUrlDic.items():\n",
    "\tprint( \"Scraping the %s...\" %leagueName)\n",
    "\tLeaguesData.append( League( leagueName, leagueUrl, scraper))\n",
    "\n",
    "#flattening all players information to pandas.DataFrame and exporting to csv\n",
    "PlayerProfiles = [player.PlayerData for league in LeaguesData for team in league.TeamsData for player in team.PlayersData]\n",
    "df = pd.DataFrame( PlayerProfiles)\n",
    "df.to_csv(\"StrikerPerformance.csv\", index=False)"
   ]
  },
  {
   "cell_type": "code",
   "execution_count": 95,
   "metadata": {},
   "outputs": [
    {
     "data": {
      "text/plain": [
       "'<tr>\\n <th class=\"zentriert\" id=\"yw1_c0\">\\n  <a class=\"sort-link\" href=\"/bsc-young-boys/kader/verein/452/saison_id/2019/sort/rn\">\\n   #\\n  </a>\\n </th>\\n <th id=\"yw1_c1\">\\n  <a class=\"sort-link asc\" href=\"/bsc-young-boys/kader/verein/452/saison_id/2019/sort/spieler.desc\">\\n   Player\\n  </a>\\n </th>\\n <th class=\"zentriert\" id=\"yw1_c2\">\\n  <a class=\"sort-link\" href=\"/bsc-young-boys/kader/verein/452/saison_id/2019/sort/age\">\\n   Date of birth / Age\\n  </a>\\n </th>\\n <th class=\"zentriert\" id=\"yw1_c3\">\\n  Nat.\\n </th>\\n <th class=\"zentriert\" id=\"yw1_c4\">\\n  <a class=\"sort-link\" href=\"/bsc-young-boys/kader/verein/452/saison_id/2019/sort/vertrag_bis\">\\n   Contract expires\\n  </a>\\n </th>\\n <th class=\"rechts\" id=\"yw1_c5\">\\n  <a class=\"sort-link\" href=\"/bsc-young-boys/kader/verein/452/saison_id/2019/sort/marktwert.desc\">\\n   Market value\\n  </a>\\n </th>\\n</tr>\\n'"
      ]
     },
     "execution_count": 95,
     "metadata": {},
     "output_type": "execute_result"
    }
   ],
   "source": [
    "players[0]"
   ]
  },
  {
   "cell_type": "code",
   "execution_count": null,
   "metadata": {},
   "outputs": [],
   "source": []
  },
  {
   "cell_type": "code",
   "execution_count": 90,
   "metadata": {},
   "outputs": [],
   "source": [
    "players[1].find(\"title\")"
   ]
  },
  {
   "cell_type": "code",
   "execution_count": null,
   "metadata": {},
   "outputs": [],
   "source": [
    "pla"
   ]
  },
  {
   "cell_type": "code",
   "execution_count": 82,
   "metadata": {},
   "outputs": [
    {
     "data": {
      "text/plain": [
       "76"
      ]
     },
     "execution_count": 82,
     "metadata": {},
     "output_type": "execute_result"
    }
   ],
   "source": [
    "len(table.find_all(\"tr\"))"
   ]
  },
  {
   "cell_type": "code",
   "execution_count": null,
   "metadata": {},
   "outputs": [],
   "source": [
    "rows = soup.find(\"table\", border=1).find(\"tbody\").find_all(\"tr\")\n",
    "\n",
    "for row in rows:\n",
    "    cells = row.find_all(\"td\")\n",
    "    rn = cells[0].get_text()"
   ]
  },
  {
   "cell_type": "code",
   "execution_count": 79,
   "metadata": {},
   "outputs": [
    {
     "ename": "IndexError",
     "evalue": "list index out of range",
     "output_type": "error",
     "traceback": [
      "\u001b[0;31m---------------------------------------------------------------------------\u001b[0m",
      "\u001b[0;31mIndexError\u001b[0m                                Traceback (most recent call last)",
      "\u001b[0;32m<ipython-input-79-34fc41399afe>\u001b[0m in \u001b[0;36m<module>\u001b[0;34m\u001b[0m\n\u001b[0;32m----> 1\u001b[0;31m \u001b[0mprint\u001b[0m\u001b[0;34m(\u001b[0m\u001b[0mtable\u001b[0m\u001b[0;34m[\u001b[0m\u001b[0;36m2\u001b[0m\u001b[0;34m]\u001b[0m\u001b[0;34m)\u001b[0m\u001b[0;34m\u001b[0m\u001b[0;34m\u001b[0m\u001b[0m\n\u001b[0m",
      "\u001b[0;31mIndexError\u001b[0m: list index out of range"
     ]
    }
   ],
   "source": [
    "print(table[2])"
   ]
  },
  {
   "cell_type": "code",
   "execution_count": 72,
   "metadata": {},
   "outputs": [
    {
     "name": "stdout",
     "output_type": "stream",
     "text": [
      "\n",
      "\n",
      "<thead>\n",
      "<tr>\n",
      "<th class=\"zentriert\" id=\"yw1_c0\"><a class=\"sort-link\" href=\"/bsc-young-boys/kader/verein/452/saison_id/2019/sort/rn\">#</a></th><th id=\"yw1_c1\"><a class=\"sort-link asc\" href=\"/bsc-young-boys/kader/verein/452/saison_id/2019/sort/spieler.desc\">Player</a></th><th class=\"zentriert\" id=\"yw1_c2\"><a class=\"sort-link\" href=\"/bsc-young-boys/kader/verein/452/saison_id/2019/sort/age\">Date of birth / Age</a></th><th class=\"zentriert\" id=\"yw1_c3\">Nat.</th><th class=\"zentriert\" id=\"yw1_c4\"><a class=\"sort-link\" href=\"/bsc-young-boys/kader/verein/452/saison_id/2019/sort/vertrag_bis\">Contract expires</a></th><th class=\"rechts\" id=\"yw1_c5\"><a class=\"sort-link\" href=\"/bsc-young-boys/kader/verein/452/saison_id/2019/sort/marktwert.desc\">Market value</a></th></tr>\n",
      "</thead>\n",
      "\n",
      "\n",
      "<tbody>\n",
      "<tr class=\"odd\">\n",
      "<td class=\"zentriert rueckennummer bg_Torwart\" title=\"Goalkeeper\"><div class=\"rn_nummer\">26</div></td><td class=\"posrela\" title=\"\"><table class=\"inline-table\" title=\"\"><tr><td class=\"\" rowspan=\"2\"><a href=\"#\"><img alt=\"David von Ballmoos\" class=\"bilderrahmen-fixed\" src=\"https://tmssl.akamaized.net//images/portrait/small/203124-1533134983.jpg?lm=1533134993\" title=\"David von Ballmoos\"/></a></td><td class=\"hauptlink\"><div class=\"di nowrap\"><span class=\"hide-for-small\"><a class=\"spielprofil_tooltip\" href=\"/david-von-ballmoos/profil/spieler/203124\" id=\"203124\" title=\"David von Ballmoos\">David von Ballmoos</a></span></div><div class=\"di nowrap\"><span class=\"show-for-small\"><a class=\"spielprofil_tooltip\" href=\"/david-von-ballmoos/profil/spieler/203124\" id=\"203124\" title=\"David von Ballmoos\">D. von Ballmoos</a></span></div></td></tr><tr><td>Goalkeeper</td></tr></table></td><td class=\"zentriert\">Dec 30, 1994 (24)</td><td class=\"zentriert\"><img alt=\"Switzerland\" class=\"flaggenrahmen\" src=\"https://tmssl.akamaized.net//images/flagge/verysmall/148.png?lm=1520611569\" title=\"Switzerland\"/></td><td class=\"zentriert\">30.06.2022</td><td class=\"rechts hauptlink\">3,50 mil. € <span class=\"icons_sprite green-arrow-ten\" title=\"Previous market value: 2,50 mil. €\"> </span></td></tr>\n",
      "<tr class=\"even\">\n",
      "<td class=\"zentriert rueckennummer bg_Torwart\" title=\"Goalkeeper\"><div class=\"rn_nummer\">1</div></td><td class=\"posrela\" title=\"\"><table class=\"inline-table\" title=\"\"><tr><td class=\"\" rowspan=\"2\"><a href=\"#\"><img alt=\"Marco Wölfli\" class=\"bilderrahmen-fixed\" src=\"https://tmssl.akamaized.net//images/portrait/small/4860-1533135588.jpg?lm=1533135598\" title=\"Marco Wölfli\"/></a></td><td class=\"hauptlink\"><div class=\"di nowrap\"><span class=\"hide-for-small\"><a class=\"spielprofil_tooltip\" href=\"/marco-wolfli/profil/spieler/4860\" id=\"4860\" title=\"Marco Wölfli\">Marco Wölfli</a></span></div><div class=\"di nowrap\"><span class=\"show-for-small\"><a class=\"spielprofil_tooltip\" href=\"/marco-wolfli/profil/spieler/4860\" id=\"4860\" title=\"Marco Wölfli\">M. Wölfli</a></span></div></td></tr><tr><td>Goalkeeper</td></tr></table></td><td class=\"zentriert\">Aug 22, 1982 (37)</td><td class=\"zentriert\"><img alt=\"Switzerland\" class=\"flaggenrahmen\" src=\"https://tmssl.akamaized.net//images/flagge/verysmall/148.png?lm=1520611569\" title=\"Switzerland\"/></td><td class=\"zentriert\">30.06.2020</td><td class=\"rechts hauptlink\">350 K € <span class=\"icons_sprite grey-block-ten\" title=\"Previous market value: 350 K €\"> </span></td></tr>\n",
      "<tr class=\"odd\">\n",
      "<td class=\"zentriert rueckennummer bg_Torwart\" title=\"Goalkeeper\"><div class=\"rn_nummer\">40</div></td><td class=\"posrela\" title=\"\"><table class=\"inline-table\" title=\"\"><tr><td class=\"\" rowspan=\"2\"><a href=\"#\"><img alt=\"Dario Marzino\" class=\"bilderrahmen-fixed\" src=\"https://tmssl.akamaized.net//images/portrait/small/254968-1533135547.jpg?lm=1533135559\" title=\"Dario Marzino\"/></a></td><td class=\"hauptlink\"><div class=\"di nowrap\"><span class=\"hide-for-small\"><a class=\"spielprofil_tooltip\" href=\"/dario-marzino/profil/spieler/254968\" id=\"254968\" title=\"Dario Marzino\">Dario Marzino</a></span></div><div class=\"di nowrap\"><span class=\"show-for-small\"><a class=\"spielprofil_tooltip\" href=\"/dario-marzino/profil/spieler/254968\" id=\"254968\" title=\"Dario Marzino\">D. Marzino</a></span></div></td></tr><tr><td>Goalkeeper</td></tr></table></td><td class=\"zentriert\">Sep 19, 1996 (23)</td><td class=\"zentriert\"><img alt=\"Switzerland\" class=\"flaggenrahmen\" src=\"https://tmssl.akamaized.net//images/flagge/verysmall/148.png?lm=1520611569\" title=\"Switzerland\"/></td><td class=\"zentriert\">30.06.2021</td><td class=\"rechts hauptlink\">150 K € <span class=\"icons_sprite grey-block-ten\" title=\"Previous market value: 150 K €\"> </span></td></tr>\n",
      "<tr class=\"even\">\n",
      "<td class=\"zentriert rueckennummer bg_Abwehr\" title=\"Defender\"><div class=\"rn_nummer\">4</div></td><td class=\"posrela\" title=\"\"><table class=\"inline-table\" title=\"\"><tr><td class=\"\" rowspan=\"2\"><a href=\"#\"><img alt=\"Mohamed Camara\" class=\"bilderrahmen-fixed\" src=\"https://tmssl.akamaized.net//images/portrait/small/426723-1533135666.jpg?lm=1533135680\" title=\"Mohamed Camara\"/></a></td><td class=\"hauptlink\"><div class=\"di nowrap\"><span class=\"hide-for-small\"><a class=\"spielprofil_tooltip\" href=\"/mohamed-camara/profil/spieler/426723\" id=\"426723\" title=\"Mohamed Camara\">Mohamed Camara</a></span></div><div class=\"di nowrap\"><span class=\"show-for-small\"><a class=\"spielprofil_tooltip\" href=\"/mohamed-camara/profil/spieler/426723\" id=\"426723\" title=\"Mohamed Camara\">M. Camara</a></span></div><span class=\"verletzt-table icons_sprite\" title=\"Bone inflammation - Return unknown\"> </span></td></tr><tr><td>Centre-Back</td></tr></table></td><td class=\"zentriert\">Aug 28, 1997 (22)</td><td class=\"zentriert\"><img alt=\"Guinea\" class=\"flaggenrahmen\" src=\"https://tmssl.akamaized.net//images/flagge/verysmall/59.png?lm=1520611569\" title=\"Guinea\"/></td><td class=\"zentriert\">30.06.2022</td><td class=\"rechts hauptlink\">3,00 mil. € <span class=\"icons_sprite green-arrow-ten\" title=\"Previous market value: 1,50 mil. €\"> </span></td></tr>\n",
      "<tr class=\"odd\">\n",
      "<td class=\"zentriert rueckennummer bg_Abwehr\" title=\"Defender\"><div class=\"rn_nummer\">28</div></td><td class=\"posrela\" title=\"\"><span class=\"wechsel-kader-wappen hide-for-small\"><a href=\"/hertha-bsc/startseite/verein/44/saison_id/2019\" title=\"Joined from Hertha BSC; date: Jul 1, 2019; fee: Free transfer\"><img alt=\"Hertha BSC\" class=\"\" src=\"https://tmssl.akamaized.net//images/wappen/kaderquad/44.png?lm=1534505742\" title=\"Joined from Hertha BSC; date: Jul 1, 2019; fee: Free transfer\"/></a></span><a class=\"hide-for-small\" href=\"/hertha-bsc/startseite/verein/44/saison_id/2019\" title=\"Joined from Hertha BSC; date: Jul 1, 2019; fee: Free transfer\"><img class=\"wechsel-symbol\" height=\"19px\" src=\"/images/icons/zugang_beta_kader.png\" width=\"19px\"/></a><table class=\"inline-table\" title=\"\"><tr><td class=\"\" rowspan=\"2\"><a href=\"#\"><img alt=\"Fabian Lustenberger\" class=\"bilderrahmen-fixed\" src=\"https://tmssl.akamaized.net//images/portrait/small/42203-1532355372.jpg?lm=1532355485\" title=\"Fabian Lustenberger\"/></a></td><td class=\"hauptlink\"><div class=\"di nowrap\"><span class=\"hide-for-small\"><a class=\"spielprofil_tooltip\" href=\"/fabian-lustenberger/profil/spieler/42203\" id=\"42203\" title=\"Fabian Lustenberger\">Fabian Lustenberger</a></span></div><div class=\"di nowrap\"><span class=\"show-for-small\"><a class=\"spielprofil_tooltip\" href=\"/fabian-lustenberger/profil/spieler/42203\" id=\"42203\" title=\"Fabian Lustenberger\">F. Lustenberger</a></span></div><span class=\"kapitaenicon-table icons_sprite\" title=\"Team captain\"> </span></td></tr><tr><td>Centre-Back</td></tr></table></td><td class=\"zentriert\">May 2, 1988 (31)</td><td class=\"zentriert\"><img alt=\"Switzerland\" class=\"flaggenrahmen\" src=\"https://tmssl.akamaized.net//images/flagge/verysmall/148.png?lm=1520611569\" title=\"Switzerland\"/></td><td class=\"zentriert\">30.06.2022</td><td class=\"rechts hauptlink\">2,50 mil. € <span class=\"icons_sprite grey-block-ten\" title=\"Previous market value: 2,50 mil. €\"> </span></td></tr>\n",
      "<tr class=\"even\">\n",
      "<td class=\"zentriert rueckennummer bg_Abwehr\" title=\"Defender\"><div class=\"rn_nummer\">3</div></td><td class=\"posrela\" title=\"\"><span class=\"wechsel-kader-wappen hide-for-small\"><a href=\"/1-fc-koln/kadernaechstesaison/verein/3/saison_id/2019\" title=\"On loan from 1. FC Köln until Jun 30, 2020\"><img alt=\"1. FC Köln\" class=\"\" src=\"https://tmssl.akamaized.net//images/wappen/kaderquad/3.png?lm=1396275280\" title=\"On loan from 1. FC Köln until Jun 30, 2020\"/></a></span><a class=\"hide-for-small\" href=\"/1-fc-koln/kadernaechstesaison/verein/3/saison_id/2019\" title=\"On loan from 1. FC Köln until Jun 30, 2020\"><img class=\"wechsel-symbol\" height=\"19px\" src=\"/images/icons/leihe_beta_kader.png\" width=\"19px\"/></a><table class=\"inline-table\" title=\"\"><tr><td class=\"\" rowspan=\"2\"><a href=\"#\"><img alt=\"Frederik Sörensen\" class=\"bilderrahmen-fixed\" src=\"https://tmssl.akamaized.net//images/portrait/small/91716-1531736286.jpg?lm=1531736343\" title=\"Frederik Sörensen\"/></a></td><td class=\"hauptlink\"><div class=\"di nowrap\"><span class=\"hide-for-small\"><a class=\"spielprofil_tooltip\" href=\"/frederik-sorensen/profil/spieler/91716\" id=\"91716\" title=\"Frederik Sörensen\">Frederik Sörensen</a></span></div><div class=\"di nowrap\"><span class=\"show-for-small\"><a class=\"spielprofil_tooltip\" href=\"/frederik-sorensen/profil/spieler/91716\" id=\"91716\" title=\"Frederik Sörensen\">F. Sörensen</a></span></div></td></tr><tr><td>Centre-Back</td></tr></table></td><td class=\"zentriert\">Apr 14, 1992 (27)</td><td class=\"zentriert\"><img alt=\"Denmark\" class=\"flaggenrahmen\" src=\"https://tmssl.akamaized.net//images/flagge/verysmall/39.png?lm=1520611569\" title=\"Denmark\"/></td><td class=\"zentriert\">30.06.2020</td><td class=\"rechts hauptlink\">1,50 mil. € <span class=\"icons_sprite grey-block-ten\" title=\"Previous market value: 1,50 mil. €\"> </span></td></tr>\n",
      "<tr class=\"odd\">\n",
      "<td class=\"zentriert rueckennummer bg_Abwehr\" title=\"Defender\"><div class=\"rn_nummer\">5</div></td><td class=\"posrela\" title=\"\"><span class=\"wechsel-kader-wappen hide-for-small\"><a href=\"/grasshopper-club-zurich/startseite/verein/504/saison_id/2019\" title=\"Joined from Grasshopper Club Zurich; date: Jul 1, 2019; fee: 750 K €\"><img alt=\"Grasshopper Club Zurich\" class=\"\" src=\"https://tmssl.akamaized.net//images/wappen/kaderquad/504.png?lm=1410776721\" title=\"Joined from Grasshopper Club Zurich; date: Jul 1, 2019; fee: 750 K €\"/></a></span><a class=\"hide-for-small\" href=\"/grasshopper-club-zurich/startseite/verein/504/saison_id/2019\" title=\"Joined from Grasshopper Club Zurich; date: Jul 1, 2019; fee: 750 K €\"><img class=\"wechsel-symbol\" height=\"19px\" src=\"/images/icons/zugang_beta_kader.png\" width=\"19px\"/></a><table class=\"inline-table\" title=\"\"><tr><td class=\"\" rowspan=\"2\"><a href=\"#\"><img alt=\"Cédric Zesiger\" class=\"bilderrahmen-fixed\" src=\"https://tmssl.akamaized.net//images/portrait/small/382478-1548261934.jpg?lm=1548262034\" title=\"Cédric Zesiger\"/></a></td><td class=\"hauptlink\"><div class=\"di nowrap\"><span class=\"hide-for-small\"><a class=\"spielprofil_tooltip\" href=\"/cedric-zesiger/profil/spieler/382478\" id=\"382478\" title=\"Cédric Zesiger\">Cédric Zesiger</a></span></div><div class=\"di nowrap\"><span class=\"show-for-small\"><a class=\"spielprofil_tooltip\" href=\"/cedric-zesiger/profil/spieler/382478\" id=\"382478\" title=\"Cédric Zesiger\">C. Zesiger</a></span></div></td></tr><tr><td>Centre-Back</td></tr></table></td><td class=\"zentriert\">Jun 24, 1998 (21)</td><td class=\"zentriert\"><img alt=\"Switzerland\" class=\"flaggenrahmen\" src=\"https://tmssl.akamaized.net//images/flagge/verysmall/148.png?lm=1520611569\" title=\"Switzerland\"/></td><td class=\"zentriert\">30.06.2023</td><td class=\"rechts hauptlink\">750 K € <span class=\"icons_sprite red-arrow-ten\" title=\"Previous market value: 1,00 mil. €\"> </span></td></tr>\n",
      "<tr class=\"even\">\n",
      "<td class=\"zentriert rueckennummer bg_Abwehr\" title=\"Defender\"><div class=\"rn_nummer\">14</div></td><td class=\"posrela\" title=\"\"><span class=\"wechsel-kader-wappen hide-for-small\"><a href=\"/fc-aarau/startseite/verein/116/saison_id/2018\" title=\"Returned after loan spell with FC Aarau; date: Jun 30, 2019; fee: End of loan\"><img alt=\"FC Aarau\" class=\"\" src=\"https://tmssl.akamaized.net//images/wappen/kaderquad/116.png?lm=1468412495\" title=\"Returned after loan spell with FC Aarau; date: Jun 30, 2019; fee: End of loan\"/></a></span><a class=\"hide-for-small\" href=\"/fc-aarau/startseite/verein/116/saison_id/2018\" title=\"Returned after loan spell with FC Aarau; date: Jun 30, 2019; fee: End of loan\"><img class=\"wechsel-symbol\" height=\"19px\" src=\"/images/icons/rueckkehr_beta_kader.png\" width=\"19px\"/></a><table class=\"inline-table\" title=\"\"><tr><td class=\"\" rowspan=\"2\"><a href=\"#\"><img alt=\"Nicolas Bürgy\" class=\"bilderrahmen-fixed\" src=\"https://tmssl.akamaized.net//images/portrait/small/203895-1550817713.jpg?lm=1550817743\" title=\"Nicolas Bürgy\"/></a></td><td class=\"hauptlink\"><div class=\"di nowrap\"><span class=\"hide-for-small\"><a class=\"spielprofil_tooltip\" href=\"/nicolas-burgy/profil/spieler/203895\" id=\"203895\" title=\"Nicolas Bürgy\">Nicolas Bürgy</a></span></div><div class=\"di nowrap\"><span class=\"show-for-small\"><a class=\"spielprofil_tooltip\" href=\"/nicolas-burgy/profil/spieler/203895\" id=\"203895\" title=\"Nicolas Bürgy\">N. Bürgy</a></span></div></td></tr><tr><td>Centre-Back</td></tr></table></td><td class=\"zentriert\">Aug 7, 1995 (24)</td><td class=\"zentriert\"><img alt=\"Switzerland\" class=\"flaggenrahmen\" src=\"https://tmssl.akamaized.net//images/flagge/verysmall/148.png?lm=1520611569\" title=\"Switzerland\"/></td><td class=\"zentriert\">30.06.2020</td><td class=\"rechts hauptlink\">500 K € <span class=\"icons_sprite red-arrow-ten\" title=\"Previous market value: 700 K €\"> </span></td></tr>\n",
      "<tr class=\"odd\">\n",
      "<td class=\"zentriert rueckennummer bg_Abwehr\" title=\"Defender\"><div class=\"rn_nummer\">21</div></td><td class=\"posrela\" title=\"\"><table class=\"inline-table\" title=\"\"><tr><td class=\"\" rowspan=\"2\"><a href=\"#\"><img alt=\"Ulisses Garcia\" class=\"bilderrahmen-fixed\" src=\"https://tmssl.akamaized.net//images/portrait/small/192616-1533135841.jpg?lm=1533135851\" title=\"Ulisses Garcia\"/></a></td><td class=\"hauptlink\"><div class=\"di nowrap\"><span class=\"hide-for-small\"><a class=\"spielprofil_tooltip\" href=\"/ulisses-garcia/profil/spieler/192616\" id=\"192616\" title=\"Ulisses Garcia\">Ulisses Garcia</a></span></div><div class=\"di nowrap\"><span class=\"show-for-small\"><a class=\"spielprofil_tooltip\" href=\"/ulisses-garcia/profil/spieler/192616\" id=\"192616\" title=\"Ulisses Garcia\">U. Garcia</a></span></div></td></tr><tr><td>Left-Back</td></tr></table></td><td class=\"zentriert\">Jan 11, 1996 (23)</td><td class=\"zentriert\"><img alt=\"Switzerland\" class=\"flaggenrahmen\" src=\"https://tmssl.akamaized.net//images/flagge/verysmall/148.png?lm=1520611569\" title=\"Switzerland\"/><br/><img alt=\"Cape Verde\" class=\"flaggenrahmen\" src=\"https://tmssl.akamaized.net//images/flagge/verysmall/32.png?lm=1520611569\" title=\"Cape Verde\"/></td><td class=\"zentriert\">30.06.2022</td><td class=\"rechts hauptlink\">1,75 mil. € <span class=\"icons_sprite grey-block-ten\" title=\"Previous market value: 1,75 mil. €\"> </span></td></tr>\n",
      "<tr class=\"even\">\n",
      "<td class=\"zentriert rueckennummer bg_Abwehr\" title=\"Defender\"><div class=\"rn_nummer\">29</div></td><td class=\"posrela\" title=\"\"><table class=\"inline-table\" title=\"\"><tr><td class=\"\" rowspan=\"2\"><a href=\"#\"><img alt=\"Jordan Lotomba\" class=\"bilderrahmen-fixed\" src=\"https://tmssl.akamaized.net//images/portrait/small/313094-1533135904.jpg?lm=1533135912\" title=\"Jordan Lotomba\"/></a></td><td class=\"hauptlink\"><div class=\"di nowrap\"><span class=\"hide-for-small\"><a class=\"spielprofil_tooltip\" href=\"/jordan-lotomba/profil/spieler/313094\" id=\"313094\" title=\"Jordan Lotomba\">Jordan Lotomba</a></span></div><div class=\"di nowrap\"><span class=\"show-for-small\"><a class=\"spielprofil_tooltip\" href=\"/jordan-lotomba/profil/spieler/313094\" id=\"313094\" title=\"Jordan Lotomba\">J. Lotomba</a></span></div></td></tr><tr><td>Right-Back</td></tr></table></td><td class=\"zentriert\">Sep 29, 1998 (21)</td><td class=\"zentriert\"><img alt=\"Switzerland\" class=\"flaggenrahmen\" src=\"https://tmssl.akamaized.net//images/flagge/verysmall/148.png?lm=1520611569\" title=\"Switzerland\"/><br/><img alt=\"DR Congo\" class=\"flaggenrahmen\" src=\"https://tmssl.akamaized.net//images/flagge/verysmall/193.png?lm=1520611569\" title=\"DR Congo\"/></td><td class=\"zentriert\">30.06.2021</td><td class=\"rechts hauptlink\">4,50 mil. € <span class=\"icons_sprite grey-block-ten\" title=\"Previous market value: 4,50 mil. €\"> </span></td></tr>\n",
      "<tr class=\"odd\">\n",
      "<td class=\"zentriert rueckennummer bg_Abwehr\" title=\"Defender\"><div class=\"rn_nummer\">23</div></td><td class=\"posrela\" title=\"\"><span class=\"wechsel-kader-wappen hide-for-small\"><a href=\"/fc-porto/kadernaechstesaison/verein/720/saison_id/2019\" title=\"On loan from FC Porto until Jun 30, 2020\"><img alt=\"FC Porto\" class=\"\" src=\"https://tmssl.akamaized.net//images/wappen/kaderquad/720.png?lm=1486310161\" title=\"On loan from FC Porto until Jun 30, 2020\"/></a></span><a class=\"hide-for-small\" href=\"/fc-porto/kadernaechstesaison/verein/720/saison_id/2019\" title=\"On loan from FC Porto until Jun 30, 2020\"><img class=\"wechsel-symbol\" height=\"19px\" src=\"/images/icons/leihe_beta_kader.png\" width=\"19px\"/></a><table class=\"inline-table\" title=\"\"><tr><td class=\"\" rowspan=\"2\"><a href=\"#\"><img alt=\"Saidy Janko\" class=\"bilderrahmen-fixed\" src=\"https://tmssl.akamaized.net//images/portrait/small/196435-1541149070.JPG?lm=1541149082\" title=\"Saidy Janko\"/></a></td><td class=\"hauptlink\"><div class=\"di nowrap\"><span class=\"hide-for-small\"><a class=\"spielprofil_tooltip\" href=\"/saidy-janko/profil/spieler/196435\" id=\"196435\" title=\"Saidy Janko\">Saidy Janko</a></span></div><div class=\"di nowrap\"><span class=\"show-for-small\"><a class=\"spielprofil_tooltip\" href=\"/saidy-janko/profil/spieler/196435\" id=\"196435\" title=\"Saidy Janko\">S. Janko</a></span></div></td></tr><tr><td>Right-Back</td></tr></table></td><td class=\"zentriert\">Oct 22, 1995 (24)</td><td class=\"zentriert\"><img alt=\"Switzerland\" class=\"flaggenrahmen\" src=\"https://tmssl.akamaized.net//images/flagge/verysmall/148.png?lm=1520611569\" title=\"Switzerland\"/><br/><img alt=\"The Gambia\" class=\"flaggenrahmen\" src=\"https://tmssl.akamaized.net//images/flagge/verysmall/52.png?lm=1520611569\" title=\"The Gambia\"/></td><td class=\"zentriert\">30.06.2020</td><td class=\"rechts hauptlink\">2,00 mil. € <span class=\"icons_sprite red-arrow-ten\" title=\"Previous market value: 3,00 mil. €\"> </span></td></tr>\n",
      "<tr class=\"even\">\n",
      "<td class=\"zentriert rueckennummer bg_Mittelfeld\" title=\"Midfielder\"><div class=\"rn_nummer\">35</div></td><td class=\"posrela\" title=\"\"><span class=\"wechsel-kader-wappen hide-for-small\"><a href=\"/olympique-lyon/startseite/verein/1041/saison_id/2019\" title=\"Joined from Olympique Lyon; date: Jul 1, 2019; fee: 2,00 mil. €\"><img alt=\"Olympique Lyon\" class=\"\" src=\"https://tmssl.akamaized.net//images/wappen/kaderquad/1041.png?lm=1489753683\" title=\"Joined from Olympique Lyon; date: Jul 1, 2019; fee: 2,00 mil. €\"/></a></span><a class=\"hide-for-small\" href=\"/olympique-lyon/startseite/verein/1041/saison_id/2019\" title=\"Joined from Olympique Lyon; date: Jul 1, 2019; fee: 2,00 mil. €\"><img class=\"wechsel-symbol\" height=\"19px\" src=\"/images/icons/zugang_beta_kader.png\" width=\"19px\"/></a><table class=\"inline-table\" title=\"\"><tr><td class=\"\" rowspan=\"2\"><a href=\"#\"><img alt=\"Christopher Martins Pereira\" class=\"bilderrahmen-fixed\" src=\"https://tmssl.akamaized.net//images/portrait/small/248054-1527445270.png?lm=1527445280\" title=\"Christopher Martins Pereira\"/></a></td><td class=\"hauptlink\"><div class=\"di nowrap\"><span class=\"hide-for-small\"><a class=\"spielprofil_tooltip\" href=\"/christopher-martins-pereira/profil/spieler/248054\" id=\"248054\" title=\"Christopher Martins Pereira\">Christopher Martins Pereira</a></span></div><div class=\"di nowrap\"><span class=\"show-for-small\"><a class=\"spielprofil_tooltip\" href=\"/christopher-martins-pereira/profil/spieler/248054\" id=\"248054\" title=\"Christopher Martins Pereira\">C. Martins Pereira</a></span></div><span class=\"verletzt-table icons_sprite\" title=\"Pubitis - Return unknown\"> </span></td></tr><tr><td>Defensive Midfield</td></tr></table></td><td class=\"zentriert\">Feb 19, 1997 (22)</td><td class=\"zentriert\"><img alt=\"Luxembourg\" class=\"flaggenrahmen\" src=\"https://tmssl.akamaized.net//images/flagge/verysmall/99.png?lm=1520611569\" title=\"Luxembourg\"/><br/><img alt=\"Cape Verde\" class=\"flaggenrahmen\" src=\"https://tmssl.akamaized.net//images/flagge/verysmall/32.png?lm=1520611569\" title=\"Cape Verde\"/></td><td class=\"zentriert\">30.06.2023</td><td class=\"rechts hauptlink\">2,00 mil. € <span class=\"icons_sprite green-arrow-ten\" title=\"Previous market value: 1,50 mil. €\"> </span></td></tr>\n",
      "<tr class=\"odd\">\n",
      "<td class=\"zentriert rueckennummer bg_Mittelfeld\" title=\"Midfielder\"><div class=\"rn_nummer\">20</div></td><td class=\"posrela\" title=\"\"><table class=\"inline-table\" title=\"\"><tr><td class=\"\" rowspan=\"2\"><a href=\"#\"><img alt=\"Michel Aebischer\" class=\"bilderrahmen-fixed\" src=\"https://tmssl.akamaized.net//images/portrait/small/237658-1533136045.jpg?lm=1533136054\" title=\"Michel Aebischer\"/></a></td><td class=\"hauptlink\"><div class=\"di nowrap\"><span class=\"hide-for-small\"><a class=\"spielprofil_tooltip\" href=\"/michel-aebischer/profil/spieler/237658\" id=\"237658\" title=\"Michel Aebischer\">Michel Aebischer</a></span></div><div class=\"di nowrap\"><span class=\"show-for-small\"><a class=\"spielprofil_tooltip\" href=\"/michel-aebischer/profil/spieler/237658\" id=\"237658\" title=\"Michel Aebischer\">M. Aebischer</a></span></div></td></tr><tr><td>Central Midfield</td></tr></table></td><td class=\"zentriert\">Jan 6, 1997 (22)</td><td class=\"zentriert\"><img alt=\"Switzerland\" class=\"flaggenrahmen\" src=\"https://tmssl.akamaized.net//images/flagge/verysmall/148.png?lm=1520611569\" title=\"Switzerland\"/></td><td class=\"zentriert\">30.06.2022</td><td class=\"rechts hauptlink\">4,50 mil. € <span class=\"icons_sprite grey-block-ten\" title=\"Previous market value: 4,50 mil. €\"> </span></td></tr>\n",
      "<tr class=\"even\">\n",
      "<td class=\"zentriert rueckennummer bg_Mittelfeld\" title=\"Midfielder\"><div class=\"rn_nummer\">8</div></td><td class=\"posrela\" title=\"\"><span class=\"wechsel-kader-wappen hide-for-small\"><a href=\"/sc-freiburg/startseite/verein/60/saison_id/2019\" title=\"Joined from SC Freiburg; date: Jul 1, 2019; fee: 1,50 mil. €\"><img alt=\"SC Freiburg\" class=\"\" src=\"https://tmssl.akamaized.net//images/wappen/kaderquad/60.png?lm=1517249279\" title=\"Joined from SC Freiburg; date: Jul 1, 2019; fee: 1,50 mil. €\"/></a></span><a class=\"hide-for-small\" href=\"/sc-freiburg/startseite/verein/60/saison_id/2019\" title=\"Joined from SC Freiburg; date: Jul 1, 2019; fee: 1,50 mil. €\"><img class=\"wechsel-symbol\" height=\"19px\" src=\"/images/icons/zugang_beta_kader.png\" width=\"19px\"/></a><table class=\"inline-table\" title=\"\"><tr><td class=\"\" rowspan=\"2\"><a href=\"#\"><img alt=\"Vincent Sierro\" class=\"bilderrahmen-fixed\" src=\"https://tmssl.akamaized.net//images/portrait/small/280387-1502270864.jpg?lm=1502270940\" title=\"Vincent Sierro\"/></a></td><td class=\"hauptlink\"><div class=\"di nowrap\"><span class=\"hide-for-small\"><a class=\"spielprofil_tooltip\" href=\"/vincent-sierro/profil/spieler/280387\" id=\"280387\" title=\"Vincent Sierro\">Vincent Sierro</a></span></div><div class=\"di nowrap\"><span class=\"show-for-small\"><a class=\"spielprofil_tooltip\" href=\"/vincent-sierro/profil/spieler/280387\" id=\"280387\" title=\"Vincent Sierro\">V. Sierro</a></span></div><span class=\"verletzt-table icons_sprite\" title=\"Medial Collateral Ligament Knee Injury - Return unknown\"> </span></td></tr><tr><td>Central Midfield</td></tr></table></td><td class=\"zentriert\">Oct 8, 1995 (24)</td><td class=\"zentriert\"><img alt=\"Switzerland\" class=\"flaggenrahmen\" src=\"https://tmssl.akamaized.net//images/flagge/verysmall/148.png?lm=1520611569\" title=\"Switzerland\"/></td><td class=\"zentriert\">30.06.2023</td><td class=\"rechts hauptlink\">3,00 mil. € <span class=\"icons_sprite green-arrow-ten\" title=\"Previous market value: 2,00 mil. €\"> </span></td></tr>\n",
      "<tr class=\"odd\">\n",
      "<td class=\"zentriert rueckennummer bg_Mittelfeld\" title=\"Midfielder\"><div class=\"rn_nummer\">30</div></td><td class=\"posrela\" title=\"\"><table class=\"inline-table\" title=\"\"><tr><td class=\"\" rowspan=\"2\"><a href=\"#\"><img alt=\"Sandro Lauper\" class=\"bilderrahmen-fixed\" src=\"https://tmssl.akamaized.net//images/portrait/small/254965-1533136141.jpg?lm=1533136151\" title=\"Sandro Lauper\"/></a></td><td class=\"hauptlink\"><div class=\"di nowrap\"><span class=\"hide-for-small\"><a class=\"spielprofil_tooltip\" href=\"/sandro-lauper/profil/spieler/254965\" id=\"254965\" title=\"Sandro Lauper\">Sandro Lauper</a></span></div><div class=\"di nowrap\"><span class=\"show-for-small\"><a class=\"spielprofil_tooltip\" href=\"/sandro-lauper/profil/spieler/254965\" id=\"254965\" title=\"Sandro Lauper\">S. Lauper</a></span></div><span class=\"verletzt-table icons_sprite\" title=\"Cruciate Ligament Rupture - Return unknown\"> </span></td></tr><tr><td>Central Midfield</td></tr></table></td><td class=\"zentriert\">Oct 25, 1996 (23)</td><td class=\"zentriert\"><img alt=\"Switzerland\" class=\"flaggenrahmen\" src=\"https://tmssl.akamaized.net//images/flagge/verysmall/148.png?lm=1520611569\" title=\"Switzerland\"/></td><td class=\"zentriert\">30.06.2022</td><td class=\"rechts hauptlink\">3,00 mil. € <span class=\"icons_sprite grey-block-ten\" title=\"Previous market value: 3,00 mil. €\"> </span></td></tr>\n",
      "<tr class=\"even\">\n",
      "<td class=\"zentriert rueckennummer bg_Mittelfeld\" title=\"Midfielder\"><div class=\"rn_nummer\">11</div></td><td class=\"posrela\" title=\"\"><table class=\"inline-table\" title=\"\"><tr><td class=\"\" rowspan=\"2\"><a href=\"#\"><img alt=\"Gianluca Gaudino\" class=\"bilderrahmen-fixed\" src=\"https://tmssl.akamaized.net//images/portrait/small/195051-1437472585.jpg?lm=1437472613\" title=\"Gianluca Gaudino\"/></a></td><td class=\"hauptlink\"><div class=\"di nowrap\"><span class=\"hide-for-small\"><a class=\"spielprofil_tooltip\" href=\"/gianluca-gaudino/profil/spieler/195051\" id=\"195051\" title=\"Gianluca Gaudino\">Gianluca Gaudino</a></span></div><div class=\"di nowrap\"><span class=\"show-for-small\"><a class=\"spielprofil_tooltip\" href=\"/gianluca-gaudino/profil/spieler/195051\" id=\"195051\" title=\"Gianluca Gaudino\">G. Gaudino</a></span></div><span class=\"verletzt-table icons_sprite\" title=\"Ruptured syndesmotic ligament - Return unknown\"> </span></td></tr><tr><td>Central Midfield</td></tr></table></td><td class=\"zentriert\">Nov 11, 1996 (23)</td><td class=\"zentriert\"><img alt=\"Germany\" class=\"flaggenrahmen\" src=\"https://tmssl.akamaized.net//images/flagge/verysmall/40.png?lm=1520612525\" title=\"Germany\"/></td><td class=\"zentriert\">30.06.2021</td><td class=\"rechts hauptlink\">500 K € <span class=\"icons_sprite grey-block-ten\" title=\"Previous market value: 500 K €\"> </span></td></tr>\n",
      "<tr class=\"odd\">\n",
      "<td class=\"zentriert rueckennummer bg_Mittelfeld\" title=\"Midfielder\"><div class=\"rn_nummer\">6</div></td><td class=\"posrela\" title=\"\"><span class=\"wechsel-kader-wappen hide-for-small\"><a href=\"/bsc-young-boys-u21/startseite/verein/5508/saison_id/2019\" title=\"Internal transfer: BSC Young Boys U21; date: Jul 1, 2019\"><img alt=\"BSC Young Boys U21\" class=\"\" src=\"https://tmssl.akamaized.net//images/wappen/kaderquad/5508.png?lm=1410776679\" title=\"Internal transfer: BSC Young Boys U21; date: Jul 1, 2019\"/></a></span><a class=\"hide-for-small\" href=\"/bsc-young-boys-u21/startseite/verein/5508/saison_id/2019\" title=\"Internal transfer: BSC Young Boys U21; date: Jul 1, 2019\"><img class=\"wechsel-symbol\" height=\"19px\" src=\"/images/icons/zugang_beta_kader.png\" width=\"19px\"/></a><table class=\"inline-table\" title=\"\"><tr><td class=\"\" rowspan=\"2\"><a href=\"#\"><img alt=\"Esteban Petignat\" class=\"bilderrahmen-fixed\" src=\"https://tmssl.akamaized.net//images/portrait/small/default.jpg?lm=1455618221\" title=\"Esteban Petignat\"/></a></td><td class=\"hauptlink\"><div class=\"di nowrap\"><span class=\"hide-for-small\"><a class=\"spielprofil_tooltip\" href=\"/esteban-petignat/profil/spieler/479480\" id=\"479480\" title=\"Esteban Petignat\">Esteban Petignat</a></span></div><div class=\"di nowrap\"><span class=\"show-for-small\"><a class=\"spielprofil_tooltip\" href=\"/esteban-petignat/profil/spieler/479480\" id=\"479480\" title=\"Esteban Petignat\">E. Petignat</a></span></div></td></tr><tr><td>Central Midfield</td></tr></table></td><td class=\"zentriert\">May 17, 2000 (19)</td><td class=\"zentriert\"><img alt=\"Switzerland\" class=\"flaggenrahmen\" src=\"https://tmssl.akamaized.net//images/flagge/verysmall/148.png?lm=1520611569\" title=\"Switzerland\"/></td><td class=\"zentriert\">30.06.2022</td><td class=\"rechts hauptlink\">50 K € <span class=\"icons_sprite green-arrow-ten\" title=\"Previous market value: -\"> </span></td></tr>\n",
      "<tr class=\"even\">\n",
      "<td class=\"zentriert rueckennummer bg_Mittelfeld\" title=\"Midfielder\"><div class=\"rn_nummer\">16</div></td><td class=\"posrela\" title=\"\"><table class=\"inline-table\" title=\"\"><tr><td class=\"\" rowspan=\"2\"><a href=\"#\"><img alt=\"Christian Fassnacht\" class=\"bilderrahmen-fixed\" src=\"https://tmssl.akamaized.net//images/portrait/small/250490-1533136289.jpg?lm=1533136297\" title=\"Christian Fassnacht\"/></a></td><td class=\"hauptlink\"><div class=\"di nowrap\"><span class=\"hide-for-small\"><a class=\"spielprofil_tooltip\" href=\"/christian-fassnacht/profil/spieler/250490\" id=\"250490\" title=\"Christian Fassnacht\">Christian Fassnacht</a></span></div><div class=\"di nowrap\"><span class=\"show-for-small\"><a class=\"spielprofil_tooltip\" href=\"/christian-fassnacht/profil/spieler/250490\" id=\"250490\" title=\"Christian Fassnacht\">C. Fassnacht</a></span></div></td></tr><tr><td>Right Midfield</td></tr></table></td><td class=\"zentriert\">Nov 11, 1993 (26)</td><td class=\"zentriert\"><img alt=\"Switzerland\" class=\"flaggenrahmen\" src=\"https://tmssl.akamaized.net//images/flagge/verysmall/148.png?lm=1520611569\" title=\"Switzerland\"/></td><td class=\"zentriert\">30.06.2021</td><td class=\"rechts hauptlink\">5,00 mil. € <span class=\"icons_sprite grey-block-ten\" title=\"Previous market value: 5,00 mil. €\"> </span></td></tr>\n",
      "<tr class=\"odd\">\n",
      "<td class=\"zentriert rueckennummer bg_Mittelfeld\" title=\"Midfielder\"><div class=\"rn_nummer\">7</div></td><td class=\"posrela\" title=\"\"><span class=\"wechsel-kader-wappen hide-for-small\"><a href=\"/fc-thun/startseite/verein/938/saison_id/2019\" title=\"Joined from FC Thun; date: Jul 1, 2019; fee: 2,00 mil. €\"><img alt=\"FC Thun\" class=\"\" src=\"https://tmssl.akamaized.net//images/wappen/kaderquad/938.png?lm=1564699606\" title=\"Joined from FC Thun; date: Jul 1, 2019; fee: 2,00 mil. €\"/></a></span><a class=\"hide-for-small\" href=\"/fc-thun/startseite/verein/938/saison_id/2019\" title=\"Joined from FC Thun; date: Jul 1, 2019; fee: 2,00 mil. €\"><img class=\"wechsel-symbol\" height=\"19px\" src=\"/images/icons/zugang_beta_kader.png\" width=\"19px\"/></a><table class=\"inline-table\" title=\"\"><tr><td class=\"\" rowspan=\"2\"><a href=\"#\"><img alt=\"Marvin Spielmann\" class=\"bilderrahmen-fixed\" src=\"https://tmssl.akamaized.net//images/portrait/small/192653-1554800076.jpg?lm=1554800092\" title=\"Marvin Spielmann\"/></a></td><td class=\"hauptlink\"><div class=\"di nowrap\"><span class=\"hide-for-small\"><a class=\"spielprofil_tooltip\" href=\"/marvin-spielmann/profil/spieler/192653\" id=\"192653\" title=\"Marvin Spielmann\">Marvin Spielmann</a></span></div><div class=\"di nowrap\"><span class=\"show-for-small\"><a class=\"spielprofil_tooltip\" href=\"/marvin-spielmann/profil/spieler/192653\" id=\"192653\" title=\"Marvin Spielmann\">M. Spielmann</a></span></div></td></tr><tr><td>Left Midfield</td></tr></table></td><td class=\"zentriert\">Feb 23, 1996 (23)</td><td class=\"zentriert\"><img alt=\"Switzerland\" class=\"flaggenrahmen\" src=\"https://tmssl.akamaized.net//images/flagge/verysmall/148.png?lm=1520611569\" title=\"Switzerland\"/><br/><img alt=\"DR Congo\" class=\"flaggenrahmen\" src=\"https://tmssl.akamaized.net//images/flagge/verysmall/193.png?lm=1520611569\" title=\"DR Congo\"/></td><td class=\"zentriert\">30.06.2023</td><td class=\"rechts hauptlink\">5,00 mil. € <span class=\"icons_sprite grey-block-ten\" title=\"Previous market value: 5,00 mil. €\"> </span></td></tr>\n",
      "<tr class=\"even\">\n",
      "<td class=\"zentriert rueckennummer bg_Sturm\" title=\"Forward\"><div class=\"rn_nummer\">10</div></td><td class=\"posrela\" title=\"\"><table class=\"inline-table\" title=\"\"><tr><td class=\"\" rowspan=\"2\"><a href=\"#\"><img alt=\"Miralem Sulejmani\" class=\"bilderrahmen-fixed\" src=\"https://tmssl.akamaized.net//images/portrait/small/36080-1533136216.jpg?lm=1533136237\" title=\"Miralem Sulejmani\"/></a></td><td class=\"hauptlink\"><div class=\"di nowrap\"><span class=\"hide-for-small\"><a class=\"spielprofil_tooltip\" href=\"/miralem-sulejmani/profil/spieler/36080\" id=\"36080\" title=\"Miralem Sulejmani\">Miralem Sulejmani</a></span></div><div class=\"di nowrap\"><span class=\"show-for-small\"><a class=\"spielprofil_tooltip\" href=\"/miralem-sulejmani/profil/spieler/36080\" id=\"36080\" title=\"Miralem Sulejmani\">M. Sulejmani</a></span></div><span class=\"verletzt-table icons_sprite\" title=\"Unknown Injury - Return unknown\"> </span></td></tr><tr><td>Left Winger</td></tr></table></td><td class=\"zentriert\">Dec 5, 1988 (30)</td><td class=\"zentriert\"><img alt=\"Serbia\" class=\"flaggenrahmen\" src=\"https://tmssl.akamaized.net//images/flagge/verysmall/215.png?lm=1520611569\" title=\"Serbia\"/></td><td class=\"zentriert\">30.06.2020</td><td class=\"rechts hauptlink\">4,50 mil. € <span class=\"icons_sprite grey-block-ten\" title=\"Previous market value: 4,50 mil. €\"> </span></td></tr>\n",
      "<tr class=\"odd\">\n",
      "<td class=\"zentriert rueckennummer bg_Sturm\" title=\"Forward\"><div class=\"rn_nummer\">19</div></td><td class=\"posrela\" title=\"\"><span class=\"wechsel-kader-wappen hide-for-small\"><a href=\"/bsc-young-boys-u21/startseite/verein/5508/saison_id/2019\" title=\"Internal transfer: BSC Young Boys U21; date: Jul 1, 2019\"><img alt=\"BSC Young Boys U21\" class=\"\" src=\"https://tmssl.akamaized.net//images/wappen/kaderquad/5508.png?lm=1410776679\" title=\"Internal transfer: BSC Young Boys U21; date: Jul 1, 2019\"/></a></span><a class=\"hide-for-small\" href=\"/bsc-young-boys-u21/startseite/verein/5508/saison_id/2019\" title=\"Internal transfer: BSC Young Boys U21; date: Jul 1, 2019\"><img class=\"wechsel-symbol\" height=\"19px\" src=\"/images/icons/zugang_beta_kader.png\" width=\"19px\"/></a><table class=\"inline-table\" title=\"\"><tr><td class=\"\" rowspan=\"2\"><a href=\"#\"><img alt=\"Felix Mambimbi\" class=\"bilderrahmen-fixed\" src=\"https://tmssl.akamaized.net//images/portrait/small/default.jpg?lm=1455618221\" title=\"Felix Mambimbi\"/></a></td><td class=\"hauptlink\"><div class=\"di nowrap\"><span class=\"hide-for-small\"><a class=\"spielprofil_tooltip\" href=\"/felix-mambimbi/profil/spieler/507496\" id=\"507496\" title=\"Felix Mambimbi\">Felix Mambimbi</a></span></div><div class=\"di nowrap\"><span class=\"show-for-small\"><a class=\"spielprofil_tooltip\" href=\"/felix-mambimbi/profil/spieler/507496\" id=\"507496\" title=\"Felix Mambimbi\">F. Mambimbi</a></span></div></td></tr><tr><td>Left Winger</td></tr></table></td><td class=\"zentriert\">Jan 18, 2001 (18)</td><td class=\"zentriert\"><img alt=\"Switzerland\" class=\"flaggenrahmen\" src=\"https://tmssl.akamaized.net//images/flagge/verysmall/148.png?lm=1520611569\" title=\"Switzerland\"/></td><td class=\"zentriert\">30.06.2022</td><td class=\"rechts hauptlink\">450 K € <span class=\"icons_sprite green-arrow-ten\" title=\"Previous market value: 225 K €\"> </span></td></tr>\n",
      "<tr class=\"even\">\n",
      "<td class=\"zentriert rueckennummer bg_Sturm\" title=\"Forward\"><div class=\"rn_nummer\">13</div></td><td class=\"posrela\" title=\"\"><table class=\"inline-table\" title=\"\"><tr><td class=\"\" rowspan=\"2\"><a href=\"#\"><img alt=\"Nicolas Moumi Ngamaleu\" class=\"bilderrahmen-fixed\" src=\"https://tmssl.akamaized.net//images/portrait/small/266768-1533136320.jpg?lm=1533136327\" title=\"Nicolas Moumi Ngamaleu\"/></a></td><td class=\"hauptlink\"><div class=\"di nowrap\"><span class=\"hide-for-small\"><a class=\"spielprofil_tooltip\" href=\"/nicolas-moumi-ngamaleu/profil/spieler/266768\" id=\"266768\" title=\"Nicolas Moumi Ngamaleu\">Nicolas Moumi Ngamaleu</a></span></div><div class=\"di nowrap\"><span class=\"show-for-small\"><a class=\"spielprofil_tooltip\" href=\"/nicolas-moumi-ngamaleu/profil/spieler/266768\" id=\"266768\" title=\"Nicolas Moumi Ngamaleu\">N. Moumi Ngamaleu</a></span></div></td></tr><tr><td>Right Winger</td></tr></table></td><td class=\"zentriert\">Jul 9, 1994 (25)</td><td class=\"zentriert\"><img alt=\"Cameroon\" class=\"flaggenrahmen\" src=\"https://tmssl.akamaized.net//images/flagge/verysmall/31.png?lm=1520611569\" title=\"Cameroon\"/></td><td class=\"zentriert\">30.06.2021</td><td class=\"rechts hauptlink\">6,00 mil. € <span class=\"icons_sprite green-arrow-ten\" title=\"Previous market value: 3,75 mil. €\"> </span></td></tr>\n",
      "<tr class=\"odd\">\n",
      "<td class=\"zentriert rueckennummer bg_Sturm\" title=\"Forward\"><div class=\"rn_nummer\">17</div></td><td class=\"posrela\" title=\"\"><table class=\"inline-table\" title=\"\"><tr><td class=\"\" rowspan=\"2\"><a href=\"#\"><img alt=\"Roger Assalé\" class=\"bilderrahmen-fixed\" src=\"https://tmssl.akamaized.net//images/portrait/small/263183-1533136348.jpg?lm=1533136361\" title=\"Roger Assalé\"/></a></td><td class=\"hauptlink\"><div class=\"di nowrap\"><span class=\"hide-for-small\"><a class=\"spielprofil_tooltip\" href=\"/roger-assale/profil/spieler/263183\" id=\"263183\" title=\"Roger Assalé\">Roger Assalé</a></span></div><div class=\"di nowrap\"><span class=\"show-for-small\"><a class=\"spielprofil_tooltip\" href=\"/roger-assale/profil/spieler/263183\" id=\"263183\" title=\"Roger Assalé\">R. Assalé</a></span></div></td></tr><tr><td>Centre-Forward</td></tr></table></td><td class=\"zentriert\">Nov 13, 1993 (26)</td><td class=\"zentriert\"><img alt=\"Cote d'Ivoire\" class=\"flaggenrahmen\" src=\"https://tmssl.akamaized.net//images/flagge/verysmall/38.png?lm=1520611569\" title=\"Cote d'Ivoire\"/></td><td class=\"zentriert\">30.06.2021</td><td class=\"rechts hauptlink\">7,50 mil. € <span class=\"icons_sprite green-arrow-ten\" title=\"Previous market value: 6,00 mil. €\"> </span></td></tr>\n",
      "<tr class=\"even\">\n",
      "<td class=\"zentriert rueckennummer bg_Sturm\" title=\"Forward\"><div class=\"rn_nummer\">18</div></td><td class=\"posrela\" title=\"\"><table class=\"inline-table\" title=\"\"><tr><td class=\"\" rowspan=\"2\"><a href=\"#\"><img alt=\"Jean-Pierre Nsame\" class=\"bilderrahmen-fixed\" src=\"https://tmssl.akamaized.net//images/portrait/small/225055-1533136378.jpg?lm=1533136386\" title=\"Jean-Pierre Nsame\"/></a></td><td class=\"hauptlink\"><div class=\"di nowrap\"><span class=\"hide-for-small\"><a class=\"spielprofil_tooltip\" href=\"/jean-pierre-nsame/profil/spieler/225055\" id=\"225055\" title=\"Jean-Pierre Nsame\">Jean-Pierre Nsame</a></span></div><div class=\"di nowrap\"><span class=\"show-for-small\"><a class=\"spielprofil_tooltip\" href=\"/jean-pierre-nsame/profil/spieler/225055\" id=\"225055\" title=\"Jean-Pierre Nsame\">J. Nsame</a></span></div></td></tr><tr><td>Centre-Forward</td></tr></table></td><td class=\"zentriert\">May 1, 1993 (26)</td><td class=\"zentriert\"><img alt=\"Cameroon\" class=\"flaggenrahmen\" src=\"https://tmssl.akamaized.net//images/flagge/verysmall/31.png?lm=1520611569\" title=\"Cameroon\"/><br/><img alt=\"France\" class=\"flaggenrahmen\" src=\"https://tmssl.akamaized.net//images/flagge/verysmall/50.png?lm=1520611569\" title=\"France\"/></td><td class=\"zentriert\">30.06.2023</td><td class=\"rechts hauptlink\">4,50 mil. € <span class=\"icons_sprite grey-block-ten\" title=\"Previous market value: 4,50 mil. €\"> </span></td></tr>\n",
      "<tr class=\"odd\">\n",
      "<td class=\"zentriert rueckennummer bg_Sturm\" title=\"Forward\"><div class=\"rn_nummer\">99</div></td><td class=\"posrela\" title=\"\"><table class=\"inline-table\" title=\"\"><tr><td class=\"\" rowspan=\"2\"><a href=\"#\"><img alt=\"Guillaume Hoarau\" class=\"bilderrahmen-fixed\" src=\"https://tmssl.akamaized.net//images/portrait/small/23934-1533136406.jpg?lm=1533136418\" title=\"Guillaume Hoarau\"/></a></td><td class=\"hauptlink\"><div class=\"di nowrap\"><span class=\"hide-for-small\"><a class=\"spielprofil_tooltip\" href=\"/guillaume-hoarau/profil/spieler/23934\" id=\"23934\" title=\"Guillaume Hoarau\">Guillaume Hoarau</a></span></div><div class=\"di nowrap\"><span class=\"show-for-small\"><a class=\"spielprofil_tooltip\" href=\"/guillaume-hoarau/profil/spieler/23934\" id=\"23934\" title=\"Guillaume Hoarau\">G. Hoarau</a></span></div></td></tr><tr><td>Centre-Forward</td></tr></table></td><td class=\"zentriert\">Mar 5, 1984 (35)</td><td class=\"zentriert\"><img alt=\"France\" class=\"flaggenrahmen\" src=\"https://tmssl.akamaized.net//images/flagge/verysmall/50.png?lm=1520611569\" title=\"France\"/><br/><img alt=\"Réunion\" class=\"flaggenrahmen\" src=\"https://tmssl.akamaized.net//images/flagge/verysmall/249.png?lm=1520611569\" title=\"Réunion\"/></td><td class=\"zentriert\">30.06.2020</td><td class=\"rechts hauptlink\">1,50 mil. € <span class=\"icons_sprite grey-block-ten\" title=\"Previous market value: 1,50 mil. €\"> </span></td></tr>\n",
      "</tbody>\n",
      "\n",
      "\n"
     ]
    }
   ],
   "source": [
    "for player in table[0]:\n",
    "    print(player)"
   ]
  },
  {
   "cell_type": "code",
   "execution_count": null,
   "metadata": {},
   "outputs": [],
   "source": []
  },
  {
   "cell_type": "code",
   "execution_count": null,
   "metadata": {},
   "outputs": [],
   "source": []
  },
  {
   "cell_type": "code",
   "execution_count": 70,
   "metadata": {},
   "outputs": [
    {
     "data": {
      "text/plain": [
       "1"
      ]
     },
     "execution_count": 70,
     "metadata": {},
     "output_type": "execute_result"
    }
   ],
   "source": [
    "len(tables)"
   ]
  },
  {
   "cell_type": "code",
   "execution_count": 54,
   "metadata": {},
   "outputs": [
    {
     "name": "stdout",
     "output_type": "stream",
     "text": [
      "<table class=\"items\">\n",
      "<thead>\n",
      "<tr>\n",
      "<th class=\"zentriert\" id=\"yw1_c0\"><a class=\"sort-link\" href=\"/bsc-young-boys/kader/verein/452/saison_id/2019/sort/rn\">#</a></th><th id=\"yw1_c1\"><a class=\"sort-link asc\" href=\"/bsc-young-boys/kader/verein/452/saison_id/2019/sort/spieler.desc\">Player</a></th><th class=\"zentriert\" id=\"yw1_c2\"><a class=\"sort-link\" href=\"/bsc-young-boys/kader/verein/452/saison_id/2019/sort/age\">Date of birth / Age</a></th><th class=\"zentriert\" id=\"yw1_c3\">Nat.</th><th class=\"zentriert\" id=\"yw1_c4\"><a class=\"sort-link\" href=\"/bsc-young-boys/kader/verein/452/saison_id/2019/sort/vertrag_bis\">Contract expires</a></th><th class=\"rechts\" id=\"yw1_c5\"><a class=\"sort-link\" href=\"/bsc-young-boys/kader/verein/452/saison_id/2019/sort/marktwert.desc\">Market value</a></th></tr>\n",
      "</thead>\n",
      "<tbody>\n",
      "<tr class=\"odd\">\n",
      "<td class=\"zentriert rueckennummer bg_Torwart\" title=\"Goalkeeper\"><div class=\"rn_nummer\">26</div></td><td class=\"posrela\" title=\"\"><table class=\"inline-table\" title=\"\"><tr><td class=\"\" rowspan=\"2\"><a href=\"#\"><img alt=\"David von Ballmoos\" class=\"bilderrahmen-fixed\" src=\"https://tmssl.akamaized.net//images/portrait/small/203124-1533134983.jpg?lm=1533134993\" title=\"David von Ballmoos\"/></a></td><td class=\"hauptlink\"><div class=\"di nowrap\"><span class=\"hide-for-small\"><a class=\"spielprofil_tooltip\" href=\"/david-von-ballmoos/profil/spieler/203124\" id=\"203124\" title=\"David von Ballmoos\">David von Ballmoos</a></span></div><div class=\"di nowrap\"><span class=\"show-for-small\"><a class=\"spielprofil_tooltip\" href=\"/david-von-ballmoos/profil/spieler/203124\" id=\"203124\" title=\"David von Ballmoos\">D. von Ballmoos</a></span></div></td></tr><tr><td>Goalkeeper</td></tr></table></td><td class=\"zentriert\">Dec 30, 1994 (24)</td><td class=\"zentriert\"><img alt=\"Switzerland\" class=\"flaggenrahmen\" src=\"https://tmssl.akamaized.net//images/flagge/verysmall/148.png?lm=1520611569\" title=\"Switzerland\"/></td><td class=\"zentriert\">30.06.2022</td><td class=\"rechts hauptlink\">3,50 mil. € <span class=\"icons_sprite green-arrow-ten\" title=\"Previous market value: 2,50 mil. €\"> </span></td></tr>\n",
      "<tr class=\"even\">\n",
      "<td class=\"zentriert rueckennummer bg_Torwart\" title=\"Goalkeeper\"><div class=\"rn_nummer\">1</div></td><td class=\"posrela\" title=\"\"><table class=\"inline-table\" title=\"\"><tr><td class=\"\" rowspan=\"2\"><a href=\"#\"><img alt=\"Marco Wölfli\" class=\"bilderrahmen-fixed\" src=\"https://tmssl.akamaized.net//images/portrait/small/4860-1533135588.jpg?lm=1533135598\" title=\"Marco Wölfli\"/></a></td><td class=\"hauptlink\"><div class=\"di nowrap\"><span class=\"hide-for-small\"><a class=\"spielprofil_tooltip\" href=\"/marco-wolfli/profil/spieler/4860\" id=\"4860\" title=\"Marco Wölfli\">Marco Wölfli</a></span></div><div class=\"di nowrap\"><span class=\"show-for-small\"><a class=\"spielprofil_tooltip\" href=\"/marco-wolfli/profil/spieler/4860\" id=\"4860\" title=\"Marco Wölfli\">M. Wölfli</a></span></div></td></tr><tr><td>Goalkeeper</td></tr></table></td><td class=\"zentriert\">Aug 22, 1982 (37)</td><td class=\"zentriert\"><img alt=\"Switzerland\" class=\"flaggenrahmen\" src=\"https://tmssl.akamaized.net//images/flagge/verysmall/148.png?lm=1520611569\" title=\"Switzerland\"/></td><td class=\"zentriert\">30.06.2020</td><td class=\"rechts hauptlink\">350 K € <span class=\"icons_sprite grey-block-ten\" title=\"Previous market value: 350 K €\"> </span></td></tr>\n",
      "<tr class=\"odd\">\n",
      "<td class=\"zentriert rueckennummer bg_Torwart\" title=\"Goalkeeper\"><div class=\"rn_nummer\">40</div></td><td class=\"posrela\" title=\"\"><table class=\"inline-table\" title=\"\"><tr><td class=\"\" rowspan=\"2\"><a href=\"#\"><img alt=\"Dario Marzino\" class=\"bilderrahmen-fixed\" src=\"https://tmssl.akamaized.net//images/portrait/small/254968-1533135547.jpg?lm=1533135559\" title=\"Dario Marzino\"/></a></td><td class=\"hauptlink\"><div class=\"di nowrap\"><span class=\"hide-for-small\"><a class=\"spielprofil_tooltip\" href=\"/dario-marzino/profil/spieler/254968\" id=\"254968\" title=\"Dario Marzino\">Dario Marzino</a></span></div><div class=\"di nowrap\"><span class=\"show-for-small\"><a class=\"spielprofil_tooltip\" href=\"/dario-marzino/profil/spieler/254968\" id=\"254968\" title=\"Dario Marzino\">D. Marzino</a></span></div></td></tr><tr><td>Goalkeeper</td></tr></table></td><td class=\"zentriert\">Sep 19, 1996 (23)</td><td class=\"zentriert\"><img alt=\"Switzerland\" class=\"flaggenrahmen\" src=\"https://tmssl.akamaized.net//images/flagge/verysmall/148.png?lm=1520611569\" title=\"Switzerland\"/></td><td class=\"zentriert\">30.06.2021</td><td class=\"rechts hauptlink\">150 K € <span class=\"icons_sprite grey-block-ten\" title=\"Previous market value: 150 K €\"> </span></td></tr>\n",
      "<tr class=\"even\">\n",
      "<td class=\"zentriert rueckennummer bg_Abwehr\" title=\"Defender\"><div class=\"rn_nummer\">4</div></td><td class=\"posrela\" title=\"\"><table class=\"inline-table\" title=\"\"><tr><td class=\"\" rowspan=\"2\"><a href=\"#\"><img alt=\"Mohamed Camara\" class=\"bilderrahmen-fixed\" src=\"https://tmssl.akamaized.net//images/portrait/small/426723-1533135666.jpg?lm=1533135680\" title=\"Mohamed Camara\"/></a></td><td class=\"hauptlink\"><div class=\"di nowrap\"><span class=\"hide-for-small\"><a class=\"spielprofil_tooltip\" href=\"/mohamed-camara/profil/spieler/426723\" id=\"426723\" title=\"Mohamed Camara\">Mohamed Camara</a></span></div><div class=\"di nowrap\"><span class=\"show-for-small\"><a class=\"spielprofil_tooltip\" href=\"/mohamed-camara/profil/spieler/426723\" id=\"426723\" title=\"Mohamed Camara\">M. Camara</a></span></div><span class=\"verletzt-table icons_sprite\" title=\"Bone inflammation - Return unknown\"> </span></td></tr><tr><td>Centre-Back</td></tr></table></td><td class=\"zentriert\">Aug 28, 1997 (22)</td><td class=\"zentriert\"><img alt=\"Guinea\" class=\"flaggenrahmen\" src=\"https://tmssl.akamaized.net//images/flagge/verysmall/59.png?lm=1520611569\" title=\"Guinea\"/></td><td class=\"zentriert\">30.06.2022</td><td class=\"rechts hauptlink\">3,00 mil. € <span class=\"icons_sprite green-arrow-ten\" title=\"Previous market value: 1,50 mil. €\"> </span></td></tr>\n",
      "<tr class=\"odd\">\n",
      "<td class=\"zentriert rueckennummer bg_Abwehr\" title=\"Defender\"><div class=\"rn_nummer\">28</div></td><td class=\"posrela\" title=\"\"><span class=\"wechsel-kader-wappen hide-for-small\"><a href=\"/hertha-bsc/startseite/verein/44/saison_id/2019\" title=\"Joined from Hertha BSC; date: Jul 1, 2019; fee: Free transfer\"><img alt=\"Hertha BSC\" class=\"\" src=\"https://tmssl.akamaized.net//images/wappen/kaderquad/44.png?lm=1534505742\" title=\"Joined from Hertha BSC; date: Jul 1, 2019; fee: Free transfer\"/></a></span><a class=\"hide-for-small\" href=\"/hertha-bsc/startseite/verein/44/saison_id/2019\" title=\"Joined from Hertha BSC; date: Jul 1, 2019; fee: Free transfer\"><img class=\"wechsel-symbol\" height=\"19px\" src=\"/images/icons/zugang_beta_kader.png\" width=\"19px\"/></a><table class=\"inline-table\" title=\"\"><tr><td class=\"\" rowspan=\"2\"><a href=\"#\"><img alt=\"Fabian Lustenberger\" class=\"bilderrahmen-fixed\" src=\"https://tmssl.akamaized.net//images/portrait/small/42203-1532355372.jpg?lm=1532355485\" title=\"Fabian Lustenberger\"/></a></td><td class=\"hauptlink\"><div class=\"di nowrap\"><span class=\"hide-for-small\"><a class=\"spielprofil_tooltip\" href=\"/fabian-lustenberger/profil/spieler/42203\" id=\"42203\" title=\"Fabian Lustenberger\">Fabian Lustenberger</a></span></div><div class=\"di nowrap\"><span class=\"show-for-small\"><a class=\"spielprofil_tooltip\" href=\"/fabian-lustenberger/profil/spieler/42203\" id=\"42203\" title=\"Fabian Lustenberger\">F. Lustenberger</a></span></div><span class=\"kapitaenicon-table icons_sprite\" title=\"Team captain\"> </span></td></tr><tr><td>Centre-Back</td></tr></table></td><td class=\"zentriert\">May 2, 1988 (31)</td><td class=\"zentriert\"><img alt=\"Switzerland\" class=\"flaggenrahmen\" src=\"https://tmssl.akamaized.net//images/flagge/verysmall/148.png?lm=1520611569\" title=\"Switzerland\"/></td><td class=\"zentriert\">30.06.2022</td><td class=\"rechts hauptlink\">2,50 mil. € <span class=\"icons_sprite grey-block-ten\" title=\"Previous market value: 2,50 mil. €\"> </span></td></tr>\n",
      "<tr class=\"even\">\n",
      "<td class=\"zentriert rueckennummer bg_Abwehr\" title=\"Defender\"><div class=\"rn_nummer\">3</div></td><td class=\"posrela\" title=\"\"><span class=\"wechsel-kader-wappen hide-for-small\"><a href=\"/1-fc-koln/kadernaechstesaison/verein/3/saison_id/2019\" title=\"On loan from 1. FC Köln until Jun 30, 2020\"><img alt=\"1. FC Köln\" class=\"\" src=\"https://tmssl.akamaized.net//images/wappen/kaderquad/3.png?lm=1396275280\" title=\"On loan from 1. FC Köln until Jun 30, 2020\"/></a></span><a class=\"hide-for-small\" href=\"/1-fc-koln/kadernaechstesaison/verein/3/saison_id/2019\" title=\"On loan from 1. FC Köln until Jun 30, 2020\"><img class=\"wechsel-symbol\" height=\"19px\" src=\"/images/icons/leihe_beta_kader.png\" width=\"19px\"/></a><table class=\"inline-table\" title=\"\"><tr><td class=\"\" rowspan=\"2\"><a href=\"#\"><img alt=\"Frederik Sörensen\" class=\"bilderrahmen-fixed\" src=\"https://tmssl.akamaized.net//images/portrait/small/91716-1531736286.jpg?lm=1531736343\" title=\"Frederik Sörensen\"/></a></td><td class=\"hauptlink\"><div class=\"di nowrap\"><span class=\"hide-for-small\"><a class=\"spielprofil_tooltip\" href=\"/frederik-sorensen/profil/spieler/91716\" id=\"91716\" title=\"Frederik Sörensen\">Frederik Sörensen</a></span></div><div class=\"di nowrap\"><span class=\"show-for-small\"><a class=\"spielprofil_tooltip\" href=\"/frederik-sorensen/profil/spieler/91716\" id=\"91716\" title=\"Frederik Sörensen\">F. Sörensen</a></span></div></td></tr><tr><td>Centre-Back</td></tr></table></td><td class=\"zentriert\">Apr 14, 1992 (27)</td><td class=\"zentriert\"><img alt=\"Denmark\" class=\"flaggenrahmen\" src=\"https://tmssl.akamaized.net//images/flagge/verysmall/39.png?lm=1520611569\" title=\"Denmark\"/></td><td class=\"zentriert\">30.06.2020</td><td class=\"rechts hauptlink\">1,50 mil. € <span class=\"icons_sprite grey-block-ten\" title=\"Previous market value: 1,50 mil. €\"> </span></td></tr>\n",
      "<tr class=\"odd\">\n",
      "<td class=\"zentriert rueckennummer bg_Abwehr\" title=\"Defender\"><div class=\"rn_nummer\">5</div></td><td class=\"posrela\" title=\"\"><span class=\"wechsel-kader-wappen hide-for-small\"><a href=\"/grasshopper-club-zurich/startseite/verein/504/saison_id/2019\" title=\"Joined from Grasshopper Club Zurich; date: Jul 1, 2019; fee: 750 K €\"><img alt=\"Grasshopper Club Zurich\" class=\"\" src=\"https://tmssl.akamaized.net//images/wappen/kaderquad/504.png?lm=1410776721\" title=\"Joined from Grasshopper Club Zurich; date: Jul 1, 2019; fee: 750 K €\"/></a></span><a class=\"hide-for-small\" href=\"/grasshopper-club-zurich/startseite/verein/504/saison_id/2019\" title=\"Joined from Grasshopper Club Zurich; date: Jul 1, 2019; fee: 750 K €\"><img class=\"wechsel-symbol\" height=\"19px\" src=\"/images/icons/zugang_beta_kader.png\" width=\"19px\"/></a><table class=\"inline-table\" title=\"\"><tr><td class=\"\" rowspan=\"2\"><a href=\"#\"><img alt=\"Cédric Zesiger\" class=\"bilderrahmen-fixed\" src=\"https://tmssl.akamaized.net//images/portrait/small/382478-1548261934.jpg?lm=1548262034\" title=\"Cédric Zesiger\"/></a></td><td class=\"hauptlink\"><div class=\"di nowrap\"><span class=\"hide-for-small\"><a class=\"spielprofil_tooltip\" href=\"/cedric-zesiger/profil/spieler/382478\" id=\"382478\" title=\"Cédric Zesiger\">Cédric Zesiger</a></span></div><div class=\"di nowrap\"><span class=\"show-for-small\"><a class=\"spielprofil_tooltip\" href=\"/cedric-zesiger/profil/spieler/382478\" id=\"382478\" title=\"Cédric Zesiger\">C. Zesiger</a></span></div></td></tr><tr><td>Centre-Back</td></tr></table></td><td class=\"zentriert\">Jun 24, 1998 (21)</td><td class=\"zentriert\"><img alt=\"Switzerland\" class=\"flaggenrahmen\" src=\"https://tmssl.akamaized.net//images/flagge/verysmall/148.png?lm=1520611569\" title=\"Switzerland\"/></td><td class=\"zentriert\">30.06.2023</td><td class=\"rechts hauptlink\">750 K € <span class=\"icons_sprite red-arrow-ten\" title=\"Previous market value: 1,00 mil. €\"> </span></td></tr>\n",
      "<tr class=\"even\">\n",
      "<td class=\"zentriert rueckennummer bg_Abwehr\" title=\"Defender\"><div class=\"rn_nummer\">14</div></td><td class=\"posrela\" title=\"\"><span class=\"wechsel-kader-wappen hide-for-small\"><a href=\"/fc-aarau/startseite/verein/116/saison_id/2018\" title=\"Returned after loan spell with FC Aarau; date: Jun 30, 2019; fee: End of loan\"><img alt=\"FC Aarau\" class=\"\" src=\"https://tmssl.akamaized.net//images/wappen/kaderquad/116.png?lm=1468412495\" title=\"Returned after loan spell with FC Aarau; date: Jun 30, 2019; fee: End of loan\"/></a></span><a class=\"hide-for-small\" href=\"/fc-aarau/startseite/verein/116/saison_id/2018\" title=\"Returned after loan spell with FC Aarau; date: Jun 30, 2019; fee: End of loan\"><img class=\"wechsel-symbol\" height=\"19px\" src=\"/images/icons/rueckkehr_beta_kader.png\" width=\"19px\"/></a><table class=\"inline-table\" title=\"\"><tr><td class=\"\" rowspan=\"2\"><a href=\"#\"><img alt=\"Nicolas Bürgy\" class=\"bilderrahmen-fixed\" src=\"https://tmssl.akamaized.net//images/portrait/small/203895-1550817713.jpg?lm=1550817743\" title=\"Nicolas Bürgy\"/></a></td><td class=\"hauptlink\"><div class=\"di nowrap\"><span class=\"hide-for-small\"><a class=\"spielprofil_tooltip\" href=\"/nicolas-burgy/profil/spieler/203895\" id=\"203895\" title=\"Nicolas Bürgy\">Nicolas Bürgy</a></span></div><div class=\"di nowrap\"><span class=\"show-for-small\"><a class=\"spielprofil_tooltip\" href=\"/nicolas-burgy/profil/spieler/203895\" id=\"203895\" title=\"Nicolas Bürgy\">N. Bürgy</a></span></div></td></tr><tr><td>Centre-Back</td></tr></table></td><td class=\"zentriert\">Aug 7, 1995 (24)</td><td class=\"zentriert\"><img alt=\"Switzerland\" class=\"flaggenrahmen\" src=\"https://tmssl.akamaized.net//images/flagge/verysmall/148.png?lm=1520611569\" title=\"Switzerland\"/></td><td class=\"zentriert\">30.06.2020</td><td class=\"rechts hauptlink\">500 K € <span class=\"icons_sprite red-arrow-ten\" title=\"Previous market value: 700 K €\"> </span></td></tr>\n",
      "<tr class=\"odd\">\n",
      "<td class=\"zentriert rueckennummer bg_Abwehr\" title=\"Defender\"><div class=\"rn_nummer\">21</div></td><td class=\"posrela\" title=\"\"><table class=\"inline-table\" title=\"\"><tr><td class=\"\" rowspan=\"2\"><a href=\"#\"><img alt=\"Ulisses Garcia\" class=\"bilderrahmen-fixed\" src=\"https://tmssl.akamaized.net//images/portrait/small/192616-1533135841.jpg?lm=1533135851\" title=\"Ulisses Garcia\"/></a></td><td class=\"hauptlink\"><div class=\"di nowrap\"><span class=\"hide-for-small\"><a class=\"spielprofil_tooltip\" href=\"/ulisses-garcia/profil/spieler/192616\" id=\"192616\" title=\"Ulisses Garcia\">Ulisses Garcia</a></span></div><div class=\"di nowrap\"><span class=\"show-for-small\"><a class=\"spielprofil_tooltip\" href=\"/ulisses-garcia/profil/spieler/192616\" id=\"192616\" title=\"Ulisses Garcia\">U. Garcia</a></span></div></td></tr><tr><td>Left-Back</td></tr></table></td><td class=\"zentriert\">Jan 11, 1996 (23)</td><td class=\"zentriert\"><img alt=\"Switzerland\" class=\"flaggenrahmen\" src=\"https://tmssl.akamaized.net//images/flagge/verysmall/148.png?lm=1520611569\" title=\"Switzerland\"/><br/><img alt=\"Cape Verde\" class=\"flaggenrahmen\" src=\"https://tmssl.akamaized.net//images/flagge/verysmall/32.png?lm=1520611569\" title=\"Cape Verde\"/></td><td class=\"zentriert\">30.06.2022</td><td class=\"rechts hauptlink\">1,75 mil. € <span class=\"icons_sprite grey-block-ten\" title=\"Previous market value: 1,75 mil. €\"> </span></td></tr>\n",
      "<tr class=\"even\">\n",
      "<td class=\"zentriert rueckennummer bg_Abwehr\" title=\"Defender\"><div class=\"rn_nummer\">29</div></td><td class=\"posrela\" title=\"\"><table class=\"inline-table\" title=\"\"><tr><td class=\"\" rowspan=\"2\"><a href=\"#\"><img alt=\"Jordan Lotomba\" class=\"bilderrahmen-fixed\" src=\"https://tmssl.akamaized.net//images/portrait/small/313094-1533135904.jpg?lm=1533135912\" title=\"Jordan Lotomba\"/></a></td><td class=\"hauptlink\"><div class=\"di nowrap\"><span class=\"hide-for-small\"><a class=\"spielprofil_tooltip\" href=\"/jordan-lotomba/profil/spieler/313094\" id=\"313094\" title=\"Jordan Lotomba\">Jordan Lotomba</a></span></div><div class=\"di nowrap\"><span class=\"show-for-small\"><a class=\"spielprofil_tooltip\" href=\"/jordan-lotomba/profil/spieler/313094\" id=\"313094\" title=\"Jordan Lotomba\">J. Lotomba</a></span></div></td></tr><tr><td>Right-Back</td></tr></table></td><td class=\"zentriert\">Sep 29, 1998 (21)</td><td class=\"zentriert\"><img alt=\"Switzerland\" class=\"flaggenrahmen\" src=\"https://tmssl.akamaized.net//images/flagge/verysmall/148.png?lm=1520611569\" title=\"Switzerland\"/><br/><img alt=\"DR Congo\" class=\"flaggenrahmen\" src=\"https://tmssl.akamaized.net//images/flagge/verysmall/193.png?lm=1520611569\" title=\"DR Congo\"/></td><td class=\"zentriert\">30.06.2021</td><td class=\"rechts hauptlink\">4,50 mil. € <span class=\"icons_sprite grey-block-ten\" title=\"Previous market value: 4,50 mil. €\"> </span></td></tr>\n",
      "<tr class=\"odd\">\n",
      "<td class=\"zentriert rueckennummer bg_Abwehr\" title=\"Defender\"><div class=\"rn_nummer\">23</div></td><td class=\"posrela\" title=\"\"><span class=\"wechsel-kader-wappen hide-for-small\"><a href=\"/fc-porto/kadernaechstesaison/verein/720/saison_id/2019\" title=\"On loan from FC Porto until Jun 30, 2020\"><img alt=\"FC Porto\" class=\"\" src=\"https://tmssl.akamaized.net//images/wappen/kaderquad/720.png?lm=1486310161\" title=\"On loan from FC Porto until Jun 30, 2020\"/></a></span><a class=\"hide-for-small\" href=\"/fc-porto/kadernaechstesaison/verein/720/saison_id/2019\" title=\"On loan from FC Porto until Jun 30, 2020\"><img class=\"wechsel-symbol\" height=\"19px\" src=\"/images/icons/leihe_beta_kader.png\" width=\"19px\"/></a><table class=\"inline-table\" title=\"\"><tr><td class=\"\" rowspan=\"2\"><a href=\"#\"><img alt=\"Saidy Janko\" class=\"bilderrahmen-fixed\" src=\"https://tmssl.akamaized.net//images/portrait/small/196435-1541149070.JPG?lm=1541149082\" title=\"Saidy Janko\"/></a></td><td class=\"hauptlink\"><div class=\"di nowrap\"><span class=\"hide-for-small\"><a class=\"spielprofil_tooltip\" href=\"/saidy-janko/profil/spieler/196435\" id=\"196435\" title=\"Saidy Janko\">Saidy Janko</a></span></div><div class=\"di nowrap\"><span class=\"show-for-small\"><a class=\"spielprofil_tooltip\" href=\"/saidy-janko/profil/spieler/196435\" id=\"196435\" title=\"Saidy Janko\">S. Janko</a></span></div></td></tr><tr><td>Right-Back</td></tr></table></td><td class=\"zentriert\">Oct 22, 1995 (24)</td><td class=\"zentriert\"><img alt=\"Switzerland\" class=\"flaggenrahmen\" src=\"https://tmssl.akamaized.net//images/flagge/verysmall/148.png?lm=1520611569\" title=\"Switzerland\"/><br/><img alt=\"The Gambia\" class=\"flaggenrahmen\" src=\"https://tmssl.akamaized.net//images/flagge/verysmall/52.png?lm=1520611569\" title=\"The Gambia\"/></td><td class=\"zentriert\">30.06.2020</td><td class=\"rechts hauptlink\">2,00 mil. € <span class=\"icons_sprite red-arrow-ten\" title=\"Previous market value: 3,00 mil. €\"> </span></td></tr>\n",
      "<tr class=\"even\">\n",
      "<td class=\"zentriert rueckennummer bg_Mittelfeld\" title=\"Midfielder\"><div class=\"rn_nummer\">35</div></td><td class=\"posrela\" title=\"\"><span class=\"wechsel-kader-wappen hide-for-small\"><a href=\"/olympique-lyon/startseite/verein/1041/saison_id/2019\" title=\"Joined from Olympique Lyon; date: Jul 1, 2019; fee: 2,00 mil. €\"><img alt=\"Olympique Lyon\" class=\"\" src=\"https://tmssl.akamaized.net//images/wappen/kaderquad/1041.png?lm=1489753683\" title=\"Joined from Olympique Lyon; date: Jul 1, 2019; fee: 2,00 mil. €\"/></a></span><a class=\"hide-for-small\" href=\"/olympique-lyon/startseite/verein/1041/saison_id/2019\" title=\"Joined from Olympique Lyon; date: Jul 1, 2019; fee: 2,00 mil. €\"><img class=\"wechsel-symbol\" height=\"19px\" src=\"/images/icons/zugang_beta_kader.png\" width=\"19px\"/></a><table class=\"inline-table\" title=\"\"><tr><td class=\"\" rowspan=\"2\"><a href=\"#\"><img alt=\"Christopher Martins Pereira\" class=\"bilderrahmen-fixed\" src=\"https://tmssl.akamaized.net//images/portrait/small/248054-1527445270.png?lm=1527445280\" title=\"Christopher Martins Pereira\"/></a></td><td class=\"hauptlink\"><div class=\"di nowrap\"><span class=\"hide-for-small\"><a class=\"spielprofil_tooltip\" href=\"/christopher-martins-pereira/profil/spieler/248054\" id=\"248054\" title=\"Christopher Martins Pereira\">Christopher Martins Pereira</a></span></div><div class=\"di nowrap\"><span class=\"show-for-small\"><a class=\"spielprofil_tooltip\" href=\"/christopher-martins-pereira/profil/spieler/248054\" id=\"248054\" title=\"Christopher Martins Pereira\">C. Martins Pereira</a></span></div><span class=\"verletzt-table icons_sprite\" title=\"Pubitis - Return unknown\"> </span></td></tr><tr><td>Defensive Midfield</td></tr></table></td><td class=\"zentriert\">Feb 19, 1997 (22)</td><td class=\"zentriert\"><img alt=\"Luxembourg\" class=\"flaggenrahmen\" src=\"https://tmssl.akamaized.net//images/flagge/verysmall/99.png?lm=1520611569\" title=\"Luxembourg\"/><br/><img alt=\"Cape Verde\" class=\"flaggenrahmen\" src=\"https://tmssl.akamaized.net//images/flagge/verysmall/32.png?lm=1520611569\" title=\"Cape Verde\"/></td><td class=\"zentriert\">30.06.2023</td><td class=\"rechts hauptlink\">2,00 mil. € <span class=\"icons_sprite green-arrow-ten\" title=\"Previous market value: 1,50 mil. €\"> </span></td></tr>\n",
      "<tr class=\"odd\">\n",
      "<td class=\"zentriert rueckennummer bg_Mittelfeld\" title=\"Midfielder\"><div class=\"rn_nummer\">20</div></td><td class=\"posrela\" title=\"\"><table class=\"inline-table\" title=\"\"><tr><td class=\"\" rowspan=\"2\"><a href=\"#\"><img alt=\"Michel Aebischer\" class=\"bilderrahmen-fixed\" src=\"https://tmssl.akamaized.net//images/portrait/small/237658-1533136045.jpg?lm=1533136054\" title=\"Michel Aebischer\"/></a></td><td class=\"hauptlink\"><div class=\"di nowrap\"><span class=\"hide-for-small\"><a class=\"spielprofil_tooltip\" href=\"/michel-aebischer/profil/spieler/237658\" id=\"237658\" title=\"Michel Aebischer\">Michel Aebischer</a></span></div><div class=\"di nowrap\"><span class=\"show-for-small\"><a class=\"spielprofil_tooltip\" href=\"/michel-aebischer/profil/spieler/237658\" id=\"237658\" title=\"Michel Aebischer\">M. Aebischer</a></span></div></td></tr><tr><td>Central Midfield</td></tr></table></td><td class=\"zentriert\">Jan 6, 1997 (22)</td><td class=\"zentriert\"><img alt=\"Switzerland\" class=\"flaggenrahmen\" src=\"https://tmssl.akamaized.net//images/flagge/verysmall/148.png?lm=1520611569\" title=\"Switzerland\"/></td><td class=\"zentriert\">30.06.2022</td><td class=\"rechts hauptlink\">4,50 mil. € <span class=\"icons_sprite grey-block-ten\" title=\"Previous market value: 4,50 mil. €\"> </span></td></tr>\n",
      "<tr class=\"even\">\n",
      "<td class=\"zentriert rueckennummer bg_Mittelfeld\" title=\"Midfielder\"><div class=\"rn_nummer\">8</div></td><td class=\"posrela\" title=\"\"><span class=\"wechsel-kader-wappen hide-for-small\"><a href=\"/sc-freiburg/startseite/verein/60/saison_id/2019\" title=\"Joined from SC Freiburg; date: Jul 1, 2019; fee: 1,50 mil. €\"><img alt=\"SC Freiburg\" class=\"\" src=\"https://tmssl.akamaized.net//images/wappen/kaderquad/60.png?lm=1517249279\" title=\"Joined from SC Freiburg; date: Jul 1, 2019; fee: 1,50 mil. €\"/></a></span><a class=\"hide-for-small\" href=\"/sc-freiburg/startseite/verein/60/saison_id/2019\" title=\"Joined from SC Freiburg; date: Jul 1, 2019; fee: 1,50 mil. €\"><img class=\"wechsel-symbol\" height=\"19px\" src=\"/images/icons/zugang_beta_kader.png\" width=\"19px\"/></a><table class=\"inline-table\" title=\"\"><tr><td class=\"\" rowspan=\"2\"><a href=\"#\"><img alt=\"Vincent Sierro\" class=\"bilderrahmen-fixed\" src=\"https://tmssl.akamaized.net//images/portrait/small/280387-1502270864.jpg?lm=1502270940\" title=\"Vincent Sierro\"/></a></td><td class=\"hauptlink\"><div class=\"di nowrap\"><span class=\"hide-for-small\"><a class=\"spielprofil_tooltip\" href=\"/vincent-sierro/profil/spieler/280387\" id=\"280387\" title=\"Vincent Sierro\">Vincent Sierro</a></span></div><div class=\"di nowrap\"><span class=\"show-for-small\"><a class=\"spielprofil_tooltip\" href=\"/vincent-sierro/profil/spieler/280387\" id=\"280387\" title=\"Vincent Sierro\">V. Sierro</a></span></div><span class=\"verletzt-table icons_sprite\" title=\"Medial Collateral Ligament Knee Injury - Return unknown\"> </span></td></tr><tr><td>Central Midfield</td></tr></table></td><td class=\"zentriert\">Oct 8, 1995 (24)</td><td class=\"zentriert\"><img alt=\"Switzerland\" class=\"flaggenrahmen\" src=\"https://tmssl.akamaized.net//images/flagge/verysmall/148.png?lm=1520611569\" title=\"Switzerland\"/></td><td class=\"zentriert\">30.06.2023</td><td class=\"rechts hauptlink\">3,00 mil. € <span class=\"icons_sprite green-arrow-ten\" title=\"Previous market value: 2,00 mil. €\"> </span></td></tr>\n",
      "<tr class=\"odd\">\n",
      "<td class=\"zentriert rueckennummer bg_Mittelfeld\" title=\"Midfielder\"><div class=\"rn_nummer\">30</div></td><td class=\"posrela\" title=\"\"><table class=\"inline-table\" title=\"\"><tr><td class=\"\" rowspan=\"2\"><a href=\"#\"><img alt=\"Sandro Lauper\" class=\"bilderrahmen-fixed\" src=\"https://tmssl.akamaized.net//images/portrait/small/254965-1533136141.jpg?lm=1533136151\" title=\"Sandro Lauper\"/></a></td><td class=\"hauptlink\"><div class=\"di nowrap\"><span class=\"hide-for-small\"><a class=\"spielprofil_tooltip\" href=\"/sandro-lauper/profil/spieler/254965\" id=\"254965\" title=\"Sandro Lauper\">Sandro Lauper</a></span></div><div class=\"di nowrap\"><span class=\"show-for-small\"><a class=\"spielprofil_tooltip\" href=\"/sandro-lauper/profil/spieler/254965\" id=\"254965\" title=\"Sandro Lauper\">S. Lauper</a></span></div><span class=\"verletzt-table icons_sprite\" title=\"Cruciate Ligament Rupture - Return unknown\"> </span></td></tr><tr><td>Central Midfield</td></tr></table></td><td class=\"zentriert\">Oct 25, 1996 (23)</td><td class=\"zentriert\"><img alt=\"Switzerland\" class=\"flaggenrahmen\" src=\"https://tmssl.akamaized.net//images/flagge/verysmall/148.png?lm=1520611569\" title=\"Switzerland\"/></td><td class=\"zentriert\">30.06.2022</td><td class=\"rechts hauptlink\">3,00 mil. € <span class=\"icons_sprite grey-block-ten\" title=\"Previous market value: 3,00 mil. €\"> </span></td></tr>\n",
      "<tr class=\"even\">\n",
      "<td class=\"zentriert rueckennummer bg_Mittelfeld\" title=\"Midfielder\"><div class=\"rn_nummer\">11</div></td><td class=\"posrela\" title=\"\"><table class=\"inline-table\" title=\"\"><tr><td class=\"\" rowspan=\"2\"><a href=\"#\"><img alt=\"Gianluca Gaudino\" class=\"bilderrahmen-fixed\" src=\"https://tmssl.akamaized.net//images/portrait/small/195051-1437472585.jpg?lm=1437472613\" title=\"Gianluca Gaudino\"/></a></td><td class=\"hauptlink\"><div class=\"di nowrap\"><span class=\"hide-for-small\"><a class=\"spielprofil_tooltip\" href=\"/gianluca-gaudino/profil/spieler/195051\" id=\"195051\" title=\"Gianluca Gaudino\">Gianluca Gaudino</a></span></div><div class=\"di nowrap\"><span class=\"show-for-small\"><a class=\"spielprofil_tooltip\" href=\"/gianluca-gaudino/profil/spieler/195051\" id=\"195051\" title=\"Gianluca Gaudino\">G. Gaudino</a></span></div><span class=\"verletzt-table icons_sprite\" title=\"Ruptured syndesmotic ligament - Return unknown\"> </span></td></tr><tr><td>Central Midfield</td></tr></table></td><td class=\"zentriert\">Nov 11, 1996 (23)</td><td class=\"zentriert\"><img alt=\"Germany\" class=\"flaggenrahmen\" src=\"https://tmssl.akamaized.net//images/flagge/verysmall/40.png?lm=1520612525\" title=\"Germany\"/></td><td class=\"zentriert\">30.06.2021</td><td class=\"rechts hauptlink\">500 K € <span class=\"icons_sprite grey-block-ten\" title=\"Previous market value: 500 K €\"> </span></td></tr>\n",
      "<tr class=\"odd\">\n",
      "<td class=\"zentriert rueckennummer bg_Mittelfeld\" title=\"Midfielder\"><div class=\"rn_nummer\">6</div></td><td class=\"posrela\" title=\"\"><span class=\"wechsel-kader-wappen hide-for-small\"><a href=\"/bsc-young-boys-u21/startseite/verein/5508/saison_id/2019\" title=\"Internal transfer: BSC Young Boys U21; date: Jul 1, 2019\"><img alt=\"BSC Young Boys U21\" class=\"\" src=\"https://tmssl.akamaized.net//images/wappen/kaderquad/5508.png?lm=1410776679\" title=\"Internal transfer: BSC Young Boys U21; date: Jul 1, 2019\"/></a></span><a class=\"hide-for-small\" href=\"/bsc-young-boys-u21/startseite/verein/5508/saison_id/2019\" title=\"Internal transfer: BSC Young Boys U21; date: Jul 1, 2019\"><img class=\"wechsel-symbol\" height=\"19px\" src=\"/images/icons/zugang_beta_kader.png\" width=\"19px\"/></a><table class=\"inline-table\" title=\"\"><tr><td class=\"\" rowspan=\"2\"><a href=\"#\"><img alt=\"Esteban Petignat\" class=\"bilderrahmen-fixed\" src=\"https://tmssl.akamaized.net//images/portrait/small/default.jpg?lm=1455618221\" title=\"Esteban Petignat\"/></a></td><td class=\"hauptlink\"><div class=\"di nowrap\"><span class=\"hide-for-small\"><a class=\"spielprofil_tooltip\" href=\"/esteban-petignat/profil/spieler/479480\" id=\"479480\" title=\"Esteban Petignat\">Esteban Petignat</a></span></div><div class=\"di nowrap\"><span class=\"show-for-small\"><a class=\"spielprofil_tooltip\" href=\"/esteban-petignat/profil/spieler/479480\" id=\"479480\" title=\"Esteban Petignat\">E. Petignat</a></span></div></td></tr><tr><td>Central Midfield</td></tr></table></td><td class=\"zentriert\">May 17, 2000 (19)</td><td class=\"zentriert\"><img alt=\"Switzerland\" class=\"flaggenrahmen\" src=\"https://tmssl.akamaized.net//images/flagge/verysmall/148.png?lm=1520611569\" title=\"Switzerland\"/></td><td class=\"zentriert\">30.06.2022</td><td class=\"rechts hauptlink\">50 K € <span class=\"icons_sprite green-arrow-ten\" title=\"Previous market value: -\"> </span></td></tr>\n",
      "<tr class=\"even\">\n",
      "<td class=\"zentriert rueckennummer bg_Mittelfeld\" title=\"Midfielder\"><div class=\"rn_nummer\">16</div></td><td class=\"posrela\" title=\"\"><table class=\"inline-table\" title=\"\"><tr><td class=\"\" rowspan=\"2\"><a href=\"#\"><img alt=\"Christian Fassnacht\" class=\"bilderrahmen-fixed\" src=\"https://tmssl.akamaized.net//images/portrait/small/250490-1533136289.jpg?lm=1533136297\" title=\"Christian Fassnacht\"/></a></td><td class=\"hauptlink\"><div class=\"di nowrap\"><span class=\"hide-for-small\"><a class=\"spielprofil_tooltip\" href=\"/christian-fassnacht/profil/spieler/250490\" id=\"250490\" title=\"Christian Fassnacht\">Christian Fassnacht</a></span></div><div class=\"di nowrap\"><span class=\"show-for-small\"><a class=\"spielprofil_tooltip\" href=\"/christian-fassnacht/profil/spieler/250490\" id=\"250490\" title=\"Christian Fassnacht\">C. Fassnacht</a></span></div></td></tr><tr><td>Right Midfield</td></tr></table></td><td class=\"zentriert\">Nov 11, 1993 (26)</td><td class=\"zentriert\"><img alt=\"Switzerland\" class=\"flaggenrahmen\" src=\"https://tmssl.akamaized.net//images/flagge/verysmall/148.png?lm=1520611569\" title=\"Switzerland\"/></td><td class=\"zentriert\">30.06.2021</td><td class=\"rechts hauptlink\">5,00 mil. € <span class=\"icons_sprite grey-block-ten\" title=\"Previous market value: 5,00 mil. €\"> </span></td></tr>\n",
      "<tr class=\"odd\">\n",
      "<td class=\"zentriert rueckennummer bg_Mittelfeld\" title=\"Midfielder\"><div class=\"rn_nummer\">7</div></td><td class=\"posrela\" title=\"\"><span class=\"wechsel-kader-wappen hide-for-small\"><a href=\"/fc-thun/startseite/verein/938/saison_id/2019\" title=\"Joined from FC Thun; date: Jul 1, 2019; fee: 2,00 mil. €\"><img alt=\"FC Thun\" class=\"\" src=\"https://tmssl.akamaized.net//images/wappen/kaderquad/938.png?lm=1564699606\" title=\"Joined from FC Thun; date: Jul 1, 2019; fee: 2,00 mil. €\"/></a></span><a class=\"hide-for-small\" href=\"/fc-thun/startseite/verein/938/saison_id/2019\" title=\"Joined from FC Thun; date: Jul 1, 2019; fee: 2,00 mil. €\"><img class=\"wechsel-symbol\" height=\"19px\" src=\"/images/icons/zugang_beta_kader.png\" width=\"19px\"/></a><table class=\"inline-table\" title=\"\"><tr><td class=\"\" rowspan=\"2\"><a href=\"#\"><img alt=\"Marvin Spielmann\" class=\"bilderrahmen-fixed\" src=\"https://tmssl.akamaized.net//images/portrait/small/192653-1554800076.jpg?lm=1554800092\" title=\"Marvin Spielmann\"/></a></td><td class=\"hauptlink\"><div class=\"di nowrap\"><span class=\"hide-for-small\"><a class=\"spielprofil_tooltip\" href=\"/marvin-spielmann/profil/spieler/192653\" id=\"192653\" title=\"Marvin Spielmann\">Marvin Spielmann</a></span></div><div class=\"di nowrap\"><span class=\"show-for-small\"><a class=\"spielprofil_tooltip\" href=\"/marvin-spielmann/profil/spieler/192653\" id=\"192653\" title=\"Marvin Spielmann\">M. Spielmann</a></span></div></td></tr><tr><td>Left Midfield</td></tr></table></td><td class=\"zentriert\">Feb 23, 1996 (23)</td><td class=\"zentriert\"><img alt=\"Switzerland\" class=\"flaggenrahmen\" src=\"https://tmssl.akamaized.net//images/flagge/verysmall/148.png?lm=1520611569\" title=\"Switzerland\"/><br/><img alt=\"DR Congo\" class=\"flaggenrahmen\" src=\"https://tmssl.akamaized.net//images/flagge/verysmall/193.png?lm=1520611569\" title=\"DR Congo\"/></td><td class=\"zentriert\">30.06.2023</td><td class=\"rechts hauptlink\">5,00 mil. € <span class=\"icons_sprite grey-block-ten\" title=\"Previous market value: 5,00 mil. €\"> </span></td></tr>\n",
      "<tr class=\"even\">\n",
      "<td class=\"zentriert rueckennummer bg_Sturm\" title=\"Forward\"><div class=\"rn_nummer\">10</div></td><td class=\"posrela\" title=\"\"><table class=\"inline-table\" title=\"\"><tr><td class=\"\" rowspan=\"2\"><a href=\"#\"><img alt=\"Miralem Sulejmani\" class=\"bilderrahmen-fixed\" src=\"https://tmssl.akamaized.net//images/portrait/small/36080-1533136216.jpg?lm=1533136237\" title=\"Miralem Sulejmani\"/></a></td><td class=\"hauptlink\"><div class=\"di nowrap\"><span class=\"hide-for-small\"><a class=\"spielprofil_tooltip\" href=\"/miralem-sulejmani/profil/spieler/36080\" id=\"36080\" title=\"Miralem Sulejmani\">Miralem Sulejmani</a></span></div><div class=\"di nowrap\"><span class=\"show-for-small\"><a class=\"spielprofil_tooltip\" href=\"/miralem-sulejmani/profil/spieler/36080\" id=\"36080\" title=\"Miralem Sulejmani\">M. Sulejmani</a></span></div><span class=\"verletzt-table icons_sprite\" title=\"Unknown Injury - Return unknown\"> </span></td></tr><tr><td>Left Winger</td></tr></table></td><td class=\"zentriert\">Dec 5, 1988 (30)</td><td class=\"zentriert\"><img alt=\"Serbia\" class=\"flaggenrahmen\" src=\"https://tmssl.akamaized.net//images/flagge/verysmall/215.png?lm=1520611569\" title=\"Serbia\"/></td><td class=\"zentriert\">30.06.2020</td><td class=\"rechts hauptlink\">4,50 mil. € <span class=\"icons_sprite grey-block-ten\" title=\"Previous market value: 4,50 mil. €\"> </span></td></tr>\n",
      "<tr class=\"odd\">\n",
      "<td class=\"zentriert rueckennummer bg_Sturm\" title=\"Forward\"><div class=\"rn_nummer\">19</div></td><td class=\"posrela\" title=\"\"><span class=\"wechsel-kader-wappen hide-for-small\"><a href=\"/bsc-young-boys-u21/startseite/verein/5508/saison_id/2019\" title=\"Internal transfer: BSC Young Boys U21; date: Jul 1, 2019\"><img alt=\"BSC Young Boys U21\" class=\"\" src=\"https://tmssl.akamaized.net//images/wappen/kaderquad/5508.png?lm=1410776679\" title=\"Internal transfer: BSC Young Boys U21; date: Jul 1, 2019\"/></a></span><a class=\"hide-for-small\" href=\"/bsc-young-boys-u21/startseite/verein/5508/saison_id/2019\" title=\"Internal transfer: BSC Young Boys U21; date: Jul 1, 2019\"><img class=\"wechsel-symbol\" height=\"19px\" src=\"/images/icons/zugang_beta_kader.png\" width=\"19px\"/></a><table class=\"inline-table\" title=\"\"><tr><td class=\"\" rowspan=\"2\"><a href=\"#\"><img alt=\"Felix Mambimbi\" class=\"bilderrahmen-fixed\" src=\"https://tmssl.akamaized.net//images/portrait/small/default.jpg?lm=1455618221\" title=\"Felix Mambimbi\"/></a></td><td class=\"hauptlink\"><div class=\"di nowrap\"><span class=\"hide-for-small\"><a class=\"spielprofil_tooltip\" href=\"/felix-mambimbi/profil/spieler/507496\" id=\"507496\" title=\"Felix Mambimbi\">Felix Mambimbi</a></span></div><div class=\"di nowrap\"><span class=\"show-for-small\"><a class=\"spielprofil_tooltip\" href=\"/felix-mambimbi/profil/spieler/507496\" id=\"507496\" title=\"Felix Mambimbi\">F. Mambimbi</a></span></div></td></tr><tr><td>Left Winger</td></tr></table></td><td class=\"zentriert\">Jan 18, 2001 (18)</td><td class=\"zentriert\"><img alt=\"Switzerland\" class=\"flaggenrahmen\" src=\"https://tmssl.akamaized.net//images/flagge/verysmall/148.png?lm=1520611569\" title=\"Switzerland\"/></td><td class=\"zentriert\">30.06.2022</td><td class=\"rechts hauptlink\">450 K € <span class=\"icons_sprite green-arrow-ten\" title=\"Previous market value: 225 K €\"> </span></td></tr>\n",
      "<tr class=\"even\">\n",
      "<td class=\"zentriert rueckennummer bg_Sturm\" title=\"Forward\"><div class=\"rn_nummer\">13</div></td><td class=\"posrela\" title=\"\"><table class=\"inline-table\" title=\"\"><tr><td class=\"\" rowspan=\"2\"><a href=\"#\"><img alt=\"Nicolas Moumi Ngamaleu\" class=\"bilderrahmen-fixed\" src=\"https://tmssl.akamaized.net//images/portrait/small/266768-1533136320.jpg?lm=1533136327\" title=\"Nicolas Moumi Ngamaleu\"/></a></td><td class=\"hauptlink\"><div class=\"di nowrap\"><span class=\"hide-for-small\"><a class=\"spielprofil_tooltip\" href=\"/nicolas-moumi-ngamaleu/profil/spieler/266768\" id=\"266768\" title=\"Nicolas Moumi Ngamaleu\">Nicolas Moumi Ngamaleu</a></span></div><div class=\"di nowrap\"><span class=\"show-for-small\"><a class=\"spielprofil_tooltip\" href=\"/nicolas-moumi-ngamaleu/profil/spieler/266768\" id=\"266768\" title=\"Nicolas Moumi Ngamaleu\">N. Moumi Ngamaleu</a></span></div></td></tr><tr><td>Right Winger</td></tr></table></td><td class=\"zentriert\">Jul 9, 1994 (25)</td><td class=\"zentriert\"><img alt=\"Cameroon\" class=\"flaggenrahmen\" src=\"https://tmssl.akamaized.net//images/flagge/verysmall/31.png?lm=1520611569\" title=\"Cameroon\"/></td><td class=\"zentriert\">30.06.2021</td><td class=\"rechts hauptlink\">6,00 mil. € <span class=\"icons_sprite green-arrow-ten\" title=\"Previous market value: 3,75 mil. €\"> </span></td></tr>\n",
      "<tr class=\"odd\">\n",
      "<td class=\"zentriert rueckennummer bg_Sturm\" title=\"Forward\"><div class=\"rn_nummer\">17</div></td><td class=\"posrela\" title=\"\"><table class=\"inline-table\" title=\"\"><tr><td class=\"\" rowspan=\"2\"><a href=\"#\"><img alt=\"Roger Assalé\" class=\"bilderrahmen-fixed\" src=\"https://tmssl.akamaized.net//images/portrait/small/263183-1533136348.jpg?lm=1533136361\" title=\"Roger Assalé\"/></a></td><td class=\"hauptlink\"><div class=\"di nowrap\"><span class=\"hide-for-small\"><a class=\"spielprofil_tooltip\" href=\"/roger-assale/profil/spieler/263183\" id=\"263183\" title=\"Roger Assalé\">Roger Assalé</a></span></div><div class=\"di nowrap\"><span class=\"show-for-small\"><a class=\"spielprofil_tooltip\" href=\"/roger-assale/profil/spieler/263183\" id=\"263183\" title=\"Roger Assalé\">R. Assalé</a></span></div></td></tr><tr><td>Centre-Forward</td></tr></table></td><td class=\"zentriert\">Nov 13, 1993 (26)</td><td class=\"zentriert\"><img alt=\"Cote d'Ivoire\" class=\"flaggenrahmen\" src=\"https://tmssl.akamaized.net//images/flagge/verysmall/38.png?lm=1520611569\" title=\"Cote d'Ivoire\"/></td><td class=\"zentriert\">30.06.2021</td><td class=\"rechts hauptlink\">7,50 mil. € <span class=\"icons_sprite green-arrow-ten\" title=\"Previous market value: 6,00 mil. €\"> </span></td></tr>\n",
      "<tr class=\"even\">\n",
      "<td class=\"zentriert rueckennummer bg_Sturm\" title=\"Forward\"><div class=\"rn_nummer\">18</div></td><td class=\"posrela\" title=\"\"><table class=\"inline-table\" title=\"\"><tr><td class=\"\" rowspan=\"2\"><a href=\"#\"><img alt=\"Jean-Pierre Nsame\" class=\"bilderrahmen-fixed\" src=\"https://tmssl.akamaized.net//images/portrait/small/225055-1533136378.jpg?lm=1533136386\" title=\"Jean-Pierre Nsame\"/></a></td><td class=\"hauptlink\"><div class=\"di nowrap\"><span class=\"hide-for-small\"><a class=\"spielprofil_tooltip\" href=\"/jean-pierre-nsame/profil/spieler/225055\" id=\"225055\" title=\"Jean-Pierre Nsame\">Jean-Pierre Nsame</a></span></div><div class=\"di nowrap\"><span class=\"show-for-small\"><a class=\"spielprofil_tooltip\" href=\"/jean-pierre-nsame/profil/spieler/225055\" id=\"225055\" title=\"Jean-Pierre Nsame\">J. Nsame</a></span></div></td></tr><tr><td>Centre-Forward</td></tr></table></td><td class=\"zentriert\">May 1, 1993 (26)</td><td class=\"zentriert\"><img alt=\"Cameroon\" class=\"flaggenrahmen\" src=\"https://tmssl.akamaized.net//images/flagge/verysmall/31.png?lm=1520611569\" title=\"Cameroon\"/><br/><img alt=\"France\" class=\"flaggenrahmen\" src=\"https://tmssl.akamaized.net//images/flagge/verysmall/50.png?lm=1520611569\" title=\"France\"/></td><td class=\"zentriert\">30.06.2023</td><td class=\"rechts hauptlink\">4,50 mil. € <span class=\"icons_sprite grey-block-ten\" title=\"Previous market value: 4,50 mil. €\"> </span></td></tr>\n",
      "<tr class=\"odd\">\n",
      "<td class=\"zentriert rueckennummer bg_Sturm\" title=\"Forward\"><div class=\"rn_nummer\">99</div></td><td class=\"posrela\" title=\"\"><table class=\"inline-table\" title=\"\"><tr><td class=\"\" rowspan=\"2\"><a href=\"#\"><img alt=\"Guillaume Hoarau\" class=\"bilderrahmen-fixed\" src=\"https://tmssl.akamaized.net//images/portrait/small/23934-1533136406.jpg?lm=1533136418\" title=\"Guillaume Hoarau\"/></a></td><td class=\"hauptlink\"><div class=\"di nowrap\"><span class=\"hide-for-small\"><a class=\"spielprofil_tooltip\" href=\"/guillaume-hoarau/profil/spieler/23934\" id=\"23934\" title=\"Guillaume Hoarau\">Guillaume Hoarau</a></span></div><div class=\"di nowrap\"><span class=\"show-for-small\"><a class=\"spielprofil_tooltip\" href=\"/guillaume-hoarau/profil/spieler/23934\" id=\"23934\" title=\"Guillaume Hoarau\">G. Hoarau</a></span></div></td></tr><tr><td>Centre-Forward</td></tr></table></td><td class=\"zentriert\">Mar 5, 1984 (35)</td><td class=\"zentriert\"><img alt=\"France\" class=\"flaggenrahmen\" src=\"https://tmssl.akamaized.net//images/flagge/verysmall/50.png?lm=1520611569\" title=\"France\"/><br/><img alt=\"Réunion\" class=\"flaggenrahmen\" src=\"https://tmssl.akamaized.net//images/flagge/verysmall/249.png?lm=1520611569\" title=\"Réunion\"/></td><td class=\"zentriert\">30.06.2020</td><td class=\"rechts hauptlink\">1,50 mil. € <span class=\"icons_sprite grey-block-ten\" title=\"Previous market value: 1,50 mil. €\"> </span></td></tr>\n",
      "</tbody>\n",
      "</table>\n"
     ]
    }
   ],
   "source": [
    "print(tables[1])"
   ]
  },
  {
   "cell_type": "code",
   "execution_count": 50,
   "metadata": {},
   "outputs": [
    {
     "name": "stdout",
     "output_type": "stream",
     "text": [
      "\n",
      "\n",
      "<tbody>\n",
      "<tr>\n",
      "<td>\n",
      "                                                    Filter by season                                                </td>\n",
      "<td>\n",
      "<div class=\"inline-select\">\n",
      "<select class=\"chzn-select\" data-placeholder=\"Filter by season\" name=\"saison_id\" tabindex=\"0\">\n",
      "<option selected=\"selected\" value=\"2019\">19/20</option>\n",
      "<option value=\"2018\">18/19</option>\n",
      "<option value=\"2017\">17/18</option>\n",
      "<option value=\"2016\">16/17</option>\n",
      "<option value=\"2015\">15/16</option>\n",
      "<option value=\"2014\">14/15</option>\n",
      "<option value=\"2013\">13/14</option>\n",
      "<option value=\"2012\">12/13</option>\n",
      "<option value=\"2011\">11/12</option>\n",
      "<option value=\"2010\">10/11</option>\n",
      "<option value=\"2009\">09/10</option>\n",
      "<option value=\"2008\">08/09</option>\n",
      "<option value=\"2007\">07/08</option>\n",
      "<option value=\"2006\">06/07</option>\n",
      "<option value=\"2005\">05/06</option>\n",
      "<option value=\"2004\">04/05</option>\n",
      "<option value=\"2003\">03/04</option>\n",
      "<option value=\"2002\">02/03</option>\n",
      "<option value=\"2001\">01/02</option>\n",
      "<option value=\"2000\">00/01</option>\n",
      "<option value=\"1998\">98/99</option>\n",
      "<option value=\"1997\">97/98</option>\n",
      "<option value=\"1996\">96/97</option>\n",
      "<option value=\"1995\">95/96</option>\n",
      "<option value=\"1994\">94/95</option>\n",
      "<option value=\"1993\">93/94</option>\n",
      "<option value=\"1992\">92/93</option>\n",
      "<option value=\"1991\">91/92</option>\n",
      "<option value=\"1990\">90/91</option>\n",
      "<option value=\"1989\">89/90</option>\n",
      "<option value=\"1988\">88/89</option>\n",
      "<option value=\"1987\">87/88</option>\n",
      "<option value=\"1986\">86/87</option>\n",
      "<option value=\"1985\">85/86</option>\n",
      "<option value=\"1984\">84/85</option>\n",
      "<option value=\"1983\">83/84</option>\n",
      "<option value=\"1982\">82/83</option>\n",
      "<option value=\"1981\">81/82</option>\n",
      "<option value=\"1980\">80/81</option>\n",
      "<option value=\"1979\">79/80</option>\n",
      "<option value=\"1978\">78/79</option>\n",
      "<option value=\"1977\">77/78</option>\n",
      "<option value=\"1976\">76/77</option>\n",
      "<option value=\"1975\">75/76</option>\n",
      "<option value=\"1974\">74/75</option>\n",
      "<option value=\"1973\">73/74</option>\n",
      "<option value=\"1967\">67/68</option>\n",
      "<option value=\"1964\">64/65</option>\n",
      "<option value=\"1962\">62/63</option>\n",
      "<option value=\"1960\">60/61</option>\n",
      "<option value=\"1959\">59/60</option>\n",
      "<option value=\"1958\">58/59</option>\n",
      "<option value=\"1957\">57/58</option>\n",
      "<option value=\"1956\">56/57</option>\n",
      "<option value=\"1953\">53/54</option>\n",
      "<option value=\"1950\">50/51</option>\n",
      "</select>\n",
      "</div>\n",
      "</td>\n",
      "<td>\n",
      "<input class=\"small button\" type=\"submit\" value=\"Show\"/>\n",
      "</td>\n",
      "</tr>\n",
      "</tbody>\n",
      "\n",
      "\n"
     ]
    }
   ],
   "source": [
    "for table in tables:\n",
    "    print(table)"
   ]
  },
  {
   "cell_type": "code",
   "execution_count": null,
   "metadata": {},
   "outputs": [],
   "source": [
    "#player_table = soup.find_all('responsive-table', class_='outer-text')"
   ]
  },
  {
   "cell_type": "code",
   "execution_count": 20,
   "metadata": {},
   "outputs": [],
   "source": [
    "table = soup.find('table', attrs={'class':'lineItemsTable'})\n",
    "#table_body = table.find('tbody')"
   ]
  },
  {
   "cell_type": "code",
   "execution_count": 29,
   "metadata": {},
   "outputs": [
    {
     "name": "stdout",
     "output_type": "stream",
     "text": [
      "[]\n"
     ]
    }
   ],
   "source": [
    "print(soup.find_all('table'))"
   ]
  },
  {
   "cell_type": "code",
   "execution_count": 33,
   "metadata": {},
   "outputs": [
    {
     "data": {
      "text/plain": [
       "<html>\n",
       "<head><title>404 Not Found</title></head>\n",
       "<body bgcolor=\"white\">\n",
       "<center><h1>404 Not Found</h1></center>\n",
       "<hr/><center>nginx</center>\n",
       "</body>\n",
       "</html>"
      ]
     },
     "execution_count": 33,
     "metadata": {},
     "output_type": "execute_result"
    }
   ],
   "source": [
    "soup"
   ]
  },
  {
   "cell_type": "code",
   "execution_count": 3,
   "metadata": {},
   "outputs": [],
   "source": [
    "import urllib.request  # we are going to need to generate a Request object\n",
    "from bs4 import BeautifulSoup as soup\n",
    "\n",
    "\n",
    "# here we define the headers for the request\n",
    "headers = {'User-Agent': 'Mozilla/5.0 (Macintosh; Intel Mac OS X 10.13; rv:63.0) Gecko/20100101 Firefox/63.0'}\n",
    "\n",
    "# this request object will integrate your URL and the headers defined above\n",
    "req = urllib.request.Request(url=my_url, headers=headers)\n",
    "\n",
    "# calling urlopen this way will automatically handle closing the request\n",
    "with urllib.request.urlopen(req) as response:\n",
    "    page_html = response.read()"
   ]
  },
  {
   "cell_type": "code",
   "execution_count": 5,
   "metadata": {},
   "outputs": [],
   "source": [
    "df = pd.read_html(page_html)"
   ]
  },
  {
   "cell_type": "code",
   "execution_count": 11,
   "metadata": {},
   "outputs": [
    {
     "data": {
      "text/html": [
       "<div>\n",
       "<style scoped>\n",
       "    .dataframe tbody tr th:only-of-type {\n",
       "        vertical-align: middle;\n",
       "    }\n",
       "\n",
       "    .dataframe tbody tr th {\n",
       "        vertical-align: top;\n",
       "    }\n",
       "\n",
       "    .dataframe thead th {\n",
       "        text-align: right;\n",
       "    }\n",
       "</style>\n",
       "<table border=\"1\" class=\"dataframe\">\n",
       "  <thead>\n",
       "    <tr style=\"text-align: right;\">\n",
       "      <th></th>\n",
       "      <th>0</th>\n",
       "      <th>1</th>\n",
       "    </tr>\n",
       "  </thead>\n",
       "  <tbody>\n",
       "    <tr>\n",
       "      <td>0</td>\n",
       "      <td>NaN</td>\n",
       "      <td>Marco WölfliM. Wölfli</td>\n",
       "    </tr>\n",
       "    <tr>\n",
       "      <td>1</td>\n",
       "      <td>NaN</td>\n",
       "      <td>Goalkeeper</td>\n",
       "    </tr>\n",
       "  </tbody>\n",
       "</table>\n",
       "</div>"
      ],
      "text/plain": [
       "    0                      1\n",
       "0 NaN  Marco WölfliM. Wölfli\n",
       "1 NaN             Goalkeeper"
      ]
     },
     "execution_count": 11,
     "metadata": {},
     "output_type": "execute_result"
    }
   ],
   "source": [
    "df[3]"
   ]
  },
  {
   "cell_type": "code",
   "execution_count": null,
   "metadata": {},
   "outputs": [],
   "source": []
  }
 ],
 "metadata": {
  "kernelspec": {
   "display_name": "Python 3",
   "language": "python",
   "name": "python3"
  },
  "language_info": {
   "codemirror_mode": {
    "name": "ipython",
    "version": 3
   },
   "file_extension": ".py",
   "mimetype": "text/x-python",
   "name": "python",
   "nbconvert_exporter": "python",
   "pygments_lexer": "ipython3",
   "version": "3.7.3"
  }
 },
 "nbformat": 4,
 "nbformat_minor": 4
}
