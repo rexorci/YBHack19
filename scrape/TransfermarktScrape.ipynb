{
 "cells": [
  {
   "cell_type": "code",
   "execution_count": 34,
   "metadata": {},
   "outputs": [],
   "source": [
    "import pandas as pd\n",
    "import html5lib\n",
    "import requests\n",
    "from bs4 import BeautifulSoup\n",
    "my_url = \"https://www.transfermarkt.com/bsc-young-boys/kader/verein/452/saison_id/2019\""
   ]
  },
  {
   "cell_type": "code",
   "execution_count": 35,
   "metadata": {},
   "outputs": [],
   "source": [
    "# here we define the headers for the request\n",
    "headers = {'User-Agent': 'Mozilla/5.0 (Macintosh; Intel Mac OS X 10.13; rv:63.0) Gecko/20100101 Firefox/63.0'}\n",
    "\n",
    "# this request object will integrate your URL and the headers defined above\n",
    "req = urllib.request.Request(url=my_url, headers=headers)\n",
    "\n",
    "# calling urlopen this way will automatically handle closing the request\n",
    "with urllib.request.urlopen(req) as response:\n",
    "    page_html = response.read()"
   ]
  },
  {
   "cell_type": "code",
   "execution_count": 38,
   "metadata": {},
   "outputs": [],
   "source": [
    "#page = requests.get(my_url)\n",
    "soup = BeautifulSoup(page_html, 'html.parser')"
   ]
  },
  {
   "cell_type": "code",
   "execution_count": 175,
   "metadata": {},
   "outputs": [
    {
     "name": "stdout",
     "output_type": "stream",
     "text": [
      "<a class=\"spielprofil_tooltip\" href=\"/david-von-ballmoos/profil/spieler/203124\" id=\"203124\" title=\"David von Ballmoos\">David von Ballmoos</a>\n"
     ]
    }
   ],
   "source": [
    "table = soup.find_all('table',{\"class\":\"items\"})\n",
    "table = table[0]\n",
    "player_row = table.find_all(\"tr\")\n",
    "\n",
    "for player_row in player_row[1:]:\n",
    "    #parse inline_table\n",
    "    player_tags = player_row.find_all(\"td\")\n",
    "    player_number = player_tags[0].text\n",
    "    player_name = player_tags[1].div.text\n",
    "    player_link = player_tags[1].div.span.a['href']\n",
    "    player_id = player_tags[1].div.span.a['href']\n",
    "    \n",
    "    print(player_tags[1].div.span.a)\n",
    "    #for player_tag in player_tags:\n",
    "    #    print(player_tag[])\n",
    "        \n",
    "        \n",
    "    break "
   ]
  },
  {
   "cell_type": "code",
   "execution_count": 124,
   "metadata": {},
   "outputs": [
    {
     "data": {
      "text/plain": [
       "[<td class=\"zentriert rueckennummer bg_Torwart\" title=\"Goalkeeper\"><div class=\"rn_nummer\">26</div></td>,\n",
       " <td class=\"posrela\" title=\"\"><table class=\"inline-table\" title=\"\"><tr><td class=\"\" rowspan=\"2\"><a href=\"#\"><img alt=\"David von Ballmoos\" class=\"bilderrahmen-fixed\" src=\"https://tmssl.akamaized.net//images/portrait/small/203124-1533134983.jpg?lm=1533134993\" title=\"David von Ballmoos\"/></a></td><td class=\"hauptlink\"><div class=\"di nowrap\"><span class=\"hide-for-small\"><a class=\"spielprofil_tooltip\" href=\"/david-von-ballmoos/profil/spieler/203124\" id=\"203124\" title=\"David von Ballmoos\">David von Ballmoos</a></span></div><div class=\"di nowrap\"><span class=\"show-for-small\"><a class=\"spielprofil_tooltip\" href=\"/david-von-ballmoos/profil/spieler/203124\" id=\"203124\" title=\"David von Ballmoos\">D. von Ballmoos</a></span></div></td></tr><tr><td>Goalkeeper</td></tr></table></td>,\n",
       " <td class=\"\" rowspan=\"2\"><a href=\"#\"><img alt=\"David von Ballmoos\" class=\"bilderrahmen-fixed\" src=\"https://tmssl.akamaized.net//images/portrait/small/203124-1533134983.jpg?lm=1533134993\" title=\"David von Ballmoos\"/></a></td>,\n",
       " <td class=\"hauptlink\"><div class=\"di nowrap\"><span class=\"hide-for-small\"><a class=\"spielprofil_tooltip\" href=\"/david-von-ballmoos/profil/spieler/203124\" id=\"203124\" title=\"David von Ballmoos\">David von Ballmoos</a></span></div><div class=\"di nowrap\"><span class=\"show-for-small\"><a class=\"spielprofil_tooltip\" href=\"/david-von-ballmoos/profil/spieler/203124\" id=\"203124\" title=\"David von Ballmoos\">D. von Ballmoos</a></span></div></td>,\n",
       " <td>Goalkeeper</td>,\n",
       " <td class=\"zentriert\">Dec 30, 1994 (24)</td>,\n",
       " <td class=\"zentriert\"><img alt=\"Switzerland\" class=\"flaggenrahmen\" src=\"https://tmssl.akamaized.net//images/flagge/verysmall/148.png?lm=1520611569\" title=\"Switzerland\"/></td>,\n",
       " <td class=\"zentriert\">30.06.2022</td>,\n",
       " <td class=\"rechts hauptlink\">3,50 mil. € <span class=\"icons_sprite green-arrow-ten\" title=\"Previous market value: 2,50 mil. €\"> </span></td>]"
      ]
     },
     "execution_count": 124,
     "metadata": {},
     "output_type": "execute_result"
    }
   ],
   "source": [
    "player_row[:][1].find_all(\"td\")"
   ]
  },
  {
   "cell_type": "code",
   "execution_count": 110,
   "metadata": {},
   "outputs": [
    {
     "data": {
      "text/plain": [
       "[<th class=\"zentriert\" id=\"yw1_c0\"><a class=\"sort-link\" href=\"/bsc-young-boys/kader/verein/452/saison_id/2019/sort/rn\">#</a></th>,\n",
       " <th id=\"yw1_c1\"><a class=\"sort-link asc\" href=\"/bsc-young-boys/kader/verein/452/saison_id/2019/sort/spieler.desc\">Player</a></th>,\n",
       " <th class=\"zentriert\" id=\"yw1_c2\"><a class=\"sort-link\" href=\"/bsc-young-boys/kader/verein/452/saison_id/2019/sort/age\">Date of birth / Age</a></th>,\n",
       " <th class=\"zentriert\" id=\"yw1_c3\">Nat.</th>,\n",
       " <th class=\"zentriert\" id=\"yw1_c4\"><a class=\"sort-link\" href=\"/bsc-young-boys/kader/verein/452/saison_id/2019/sort/vertrag_bis\">Contract expires</a></th>,\n",
       " <th class=\"rechts\" id=\"yw1_c5\"><a class=\"sort-link\" href=\"/bsc-young-boys/kader/verein/452/saison_id/2019/sort/marktwert.desc\">Market value</a></th>]"
      ]
     },
     "execution_count": 110,
     "metadata": {},
     "output_type": "execute_result"
    }
   ],
   "source": [
    "player_row[0]"
   ]
  },
  {
   "cell_type": "code",
   "execution_count": 105,
   "metadata": {},
   "outputs": [
    {
     "data": {
      "text/plain": [
       "<tr>\n",
       "<th class=\"zentriert\" id=\"yw1_c0\"><a class=\"sort-link\" href=\"/bsc-young-boys/kader/verein/452/saison_id/2019/sort/rn\">#</a></th><th id=\"yw1_c1\"><a class=\"sort-link asc\" href=\"/bsc-young-boys/kader/verein/452/saison_id/2019/sort/spieler.desc\">Player</a></th><th class=\"zentriert\" id=\"yw1_c2\"><a class=\"sort-link\" href=\"/bsc-young-boys/kader/verein/452/saison_id/2019/sort/age\">Date of birth / Age</a></th><th class=\"zentriert\" id=\"yw1_c3\">Nat.</th><th class=\"zentriert\" id=\"yw1_c4\"><a class=\"sort-link\" href=\"/bsc-young-boys/kader/verein/452/saison_id/2019/sort/vertrag_bis\">Contract expires</a></th><th class=\"rechts\" id=\"yw1_c5\"><a class=\"sort-link\" href=\"/bsc-young-boys/kader/verein/452/saison_id/2019/sort/marktwert.desc\">Market value</a></th></tr>"
      ]
     },
     "execution_count": 105,
     "metadata": {},
     "output_type": "execute_result"
    }
   ],
   "source": [
    "player_row"
   ]
  },
  {
   "cell_type": "code",
   "execution_count": 95,
   "metadata": {},
   "outputs": [
    {
     "data": {
      "text/plain": [
       "'<tr>\\n <th class=\"zentriert\" id=\"yw1_c0\">\\n  <a class=\"sort-link\" href=\"/bsc-young-boys/kader/verein/452/saison_id/2019/sort/rn\">\\n   #\\n  </a>\\n </th>\\n <th id=\"yw1_c1\">\\n  <a class=\"sort-link asc\" href=\"/bsc-young-boys/kader/verein/452/saison_id/2019/sort/spieler.desc\">\\n   Player\\n  </a>\\n </th>\\n <th class=\"zentriert\" id=\"yw1_c2\">\\n  <a class=\"sort-link\" href=\"/bsc-young-boys/kader/verein/452/saison_id/2019/sort/age\">\\n   Date of birth / Age\\n  </a>\\n </th>\\n <th class=\"zentriert\" id=\"yw1_c3\">\\n  Nat.\\n </th>\\n <th class=\"zentriert\" id=\"yw1_c4\">\\n  <a class=\"sort-link\" href=\"/bsc-young-boys/kader/verein/452/saison_id/2019/sort/vertrag_bis\">\\n   Contract expires\\n  </a>\\n </th>\\n <th class=\"rechts\" id=\"yw1_c5\">\\n  <a class=\"sort-link\" href=\"/bsc-young-boys/kader/verein/452/saison_id/2019/sort/marktwert.desc\">\\n   Market value\\n  </a>\\n </th>\\n</tr>\\n'"
      ]
     },
     "execution_count": 95,
     "metadata": {},
     "output_type": "execute_result"
    }
   ],
   "source": [
    "players[0]"
   ]
  },
  {
   "cell_type": "code",
   "execution_count": null,
   "metadata": {},
   "outputs": [],
   "source": []
  },
  {
   "cell_type": "code",
   "execution_count": 90,
   "metadata": {},
   "outputs": [],
   "source": [
    "players[1].find(\"title\")"
   ]
  },
  {
   "cell_type": "code",
   "execution_count": null,
   "metadata": {},
   "outputs": [],
   "source": [
    "pla"
   ]
  },
  {
   "cell_type": "code",
   "execution_count": 82,
   "metadata": {},
   "outputs": [
    {
     "data": {
      "text/plain": [
       "76"
      ]
     },
     "execution_count": 82,
     "metadata": {},
     "output_type": "execute_result"
    }
   ],
   "source": [
    "len(table.find_all(\"tr\"))"
   ]
  },
  {
   "cell_type": "code",
   "execution_count": null,
   "metadata": {},
   "outputs": [],
   "source": [
    "rows = soup.find(\"table\", border=1).find(\"tbody\").find_all(\"tr\")\n",
    "\n",
    "for row in rows:\n",
    "    cells = row.find_all(\"td\")\n",
    "    rn = cells[0].get_text()"
   ]
  },
  {
   "cell_type": "code",
   "execution_count": 79,
   "metadata": {},
   "outputs": [
    {
     "ename": "IndexError",
     "evalue": "list index out of range",
     "output_type": "error",
     "traceback": [
      "\u001b[0;31m---------------------------------------------------------------------------\u001b[0m",
      "\u001b[0;31mIndexError\u001b[0m                                Traceback (most recent call last)",
      "\u001b[0;32m<ipython-input-79-34fc41399afe>\u001b[0m in \u001b[0;36m<module>\u001b[0;34m\u001b[0m\n\u001b[0;32m----> 1\u001b[0;31m \u001b[0mprint\u001b[0m\u001b[0;34m(\u001b[0m\u001b[0mtable\u001b[0m\u001b[0;34m[\u001b[0m\u001b[0;36m2\u001b[0m\u001b[0;34m]\u001b[0m\u001b[0;34m)\u001b[0m\u001b[0;34m\u001b[0m\u001b[0;34m\u001b[0m\u001b[0m\n\u001b[0m",
      "\u001b[0;31mIndexError\u001b[0m: list index out of range"
     ]
    }
   ],
   "source": [
    "print(table[2])"
   ]
  },
  {
   "cell_type": "code",
   "execution_count": 72,
   "metadata": {},
   "outputs": [
    {
     "name": "stdout",
     "output_type": "stream",
     "text": [
      "\n",
      "\n",
      "<thead>\n",
      "<tr>\n",
      "<th class=\"zentriert\" id=\"yw1_c0\"><a class=\"sort-link\" href=\"/bsc-young-boys/kader/verein/452/saison_id/2019/sort/rn\">#</a></th><th id=\"yw1_c1\"><a class=\"sort-link asc\" href=\"/bsc-young-boys/kader/verein/452/saison_id/2019/sort/spieler.desc\">Player</a></th><th class=\"zentriert\" id=\"yw1_c2\"><a class=\"sort-link\" href=\"/bsc-young-boys/kader/verein/452/saison_id/2019/sort/age\">Date of birth / Age</a></th><th class=\"zentriert\" id=\"yw1_c3\">Nat.</th><th class=\"zentriert\" id=\"yw1_c4\"><a class=\"sort-link\" href=\"/bsc-young-boys/kader/verein/452/saison_id/2019/sort/vertrag_bis\">Contract expires</a></th><th class=\"rechts\" id=\"yw1_c5\"><a class=\"sort-link\" href=\"/bsc-young-boys/kader/verein/452/saison_id/2019/sort/marktwert.desc\">Market value</a></th></tr>\n",
      "</thead>\n",
      "\n",
      "\n",
      "<tbody>\n",
      "<tr class=\"odd\">\n",
      "<td class=\"zentriert rueckennummer bg_Torwart\" title=\"Goalkeeper\"><div class=\"rn_nummer\">26</div></td><td class=\"posrela\" title=\"\"><table class=\"inline-table\" title=\"\"><tr><td class=\"\" rowspan=\"2\"><a href=\"#\"><img alt=\"David von Ballmoos\" class=\"bilderrahmen-fixed\" src=\"https://tmssl.akamaized.net//images/portrait/small/203124-1533134983.jpg?lm=1533134993\" title=\"David von Ballmoos\"/></a></td><td class=\"hauptlink\"><div class=\"di nowrap\"><span class=\"hide-for-small\"><a class=\"spielprofil_tooltip\" href=\"/david-von-ballmoos/profil/spieler/203124\" id=\"203124\" title=\"David von Ballmoos\">David von Ballmoos</a></span></div><div class=\"di nowrap\"><span class=\"show-for-small\"><a class=\"spielprofil_tooltip\" href=\"/david-von-ballmoos/profil/spieler/203124\" id=\"203124\" title=\"David von Ballmoos\">D. von Ballmoos</a></span></div></td></tr><tr><td>Goalkeeper</td></tr></table></td><td class=\"zentriert\">Dec 30, 1994 (24)</td><td class=\"zentriert\"><img alt=\"Switzerland\" class=\"flaggenrahmen\" src=\"https://tmssl.akamaized.net//images/flagge/verysmall/148.png?lm=1520611569\" title=\"Switzerland\"/></td><td class=\"zentriert\">30.06.2022</td><td class=\"rechts hauptlink\">3,50 mil. € <span class=\"icons_sprite green-arrow-ten\" title=\"Previous market value: 2,50 mil. €\"> </span></td></tr>\n",
      "<tr class=\"even\">\n",
      "<td class=\"zentriert rueckennummer bg_Torwart\" title=\"Goalkeeper\"><div class=\"rn_nummer\">1</div></td><td class=\"posrela\" title=\"\"><table class=\"inline-table\" title=\"\"><tr><td class=\"\" rowspan=\"2\"><a href=\"#\"><img alt=\"Marco Wölfli\" class=\"bilderrahmen-fixed\" src=\"https://tmssl.akamaized.net//images/portrait/small/4860-1533135588.jpg?lm=1533135598\" title=\"Marco Wölfli\"/></a></td><td class=\"hauptlink\"><div class=\"di nowrap\"><span class=\"hide-for-small\"><a class=\"spielprofil_tooltip\" href=\"/marco-wolfli/profil/spieler/4860\" id=\"4860\" title=\"Marco Wölfli\">Marco Wölfli</a></span></div><div class=\"di nowrap\"><span class=\"show-for-small\"><a class=\"spielprofil_tooltip\" href=\"/marco-wolfli/profil/spieler/4860\" id=\"4860\" title=\"Marco Wölfli\">M. Wölfli</a></span></div></td></tr><tr><td>Goalkeeper</td></tr></table></td><td class=\"zentriert\">Aug 22, 1982 (37)</td><td class=\"zentriert\"><img alt=\"Switzerland\" class=\"flaggenrahmen\" src=\"https://tmssl.akamaized.net//images/flagge/verysmall/148.png?lm=1520611569\" title=\"Switzerland\"/></td><td class=\"zentriert\">30.06.2020</td><td class=\"rechts hauptlink\">350 K € <span class=\"icons_sprite grey-block-ten\" title=\"Previous market value: 350 K €\"> </span></td></tr>\n",
      "<tr class=\"odd\">\n",
      "<td class=\"zentriert rueckennummer bg_Torwart\" title=\"Goalkeeper\"><div class=\"rn_nummer\">40</div></td><td class=\"posrela\" title=\"\"><table class=\"inline-table\" title=\"\"><tr><td class=\"\" rowspan=\"2\"><a href=\"#\"><img alt=\"Dario Marzino\" class=\"bilderrahmen-fixed\" src=\"https://tmssl.akamaized.net//images/portrait/small/254968-1533135547.jpg?lm=1533135559\" title=\"Dario Marzino\"/></a></td><td class=\"hauptlink\"><div class=\"di nowrap\"><span class=\"hide-for-small\"><a class=\"spielprofil_tooltip\" href=\"/dario-marzino/profil/spieler/254968\" id=\"254968\" title=\"Dario Marzino\">Dario Marzino</a></span></div><div class=\"di nowrap\"><span class=\"show-for-small\"><a class=\"spielprofil_tooltip\" href=\"/dario-marzino/profil/spieler/254968\" id=\"254968\" title=\"Dario Marzino\">D. Marzino</a></span></div></td></tr><tr><td>Goalkeeper</td></tr></table></td><td class=\"zentriert\">Sep 19, 1996 (23)</td><td class=\"zentriert\"><img alt=\"Switzerland\" class=\"flaggenrahmen\" src=\"https://tmssl.akamaized.net//images/flagge/verysmall/148.png?lm=1520611569\" title=\"Switzerland\"/></td><td class=\"zentriert\">30.06.2021</td><td class=\"rechts hauptlink\">150 K € <span class=\"icons_sprite grey-block-ten\" title=\"Previous market value: 150 K €\"> </span></td></tr>\n",
      "<tr class=\"even\">\n",
      "<td class=\"zentriert rueckennummer bg_Abwehr\" title=\"Defender\"><div class=\"rn_nummer\">4</div></td><td class=\"posrela\" title=\"\"><table class=\"inline-table\" title=\"\"><tr><td class=\"\" rowspan=\"2\"><a href=\"#\"><img alt=\"Mohamed Camara\" class=\"bilderrahmen-fixed\" src=\"https://tmssl.akamaized.net//images/portrait/small/426723-1533135666.jpg?lm=1533135680\" title=\"Mohamed Camara\"/></a></td><td class=\"hauptlink\"><div class=\"di nowrap\"><span class=\"hide-for-small\"><a class=\"spielprofil_tooltip\" href=\"/mohamed-camara/profil/spieler/426723\" id=\"426723\" title=\"Mohamed Camara\">Mohamed Camara</a></span></div><div class=\"di nowrap\"><span class=\"show-for-small\"><a class=\"spielprofil_tooltip\" href=\"/mohamed-camara/profil/spieler/426723\" id=\"426723\" title=\"Mohamed Camara\">M. Camara</a></span></div><span class=\"verletzt-table icons_sprite\" title=\"Bone inflammation - Return unknown\"> </span></td></tr><tr><td>Centre-Back</td></tr></table></td><td class=\"zentriert\">Aug 28, 1997 (22)</td><td class=\"zentriert\"><img alt=\"Guinea\" class=\"flaggenrahmen\" src=\"https://tmssl.akamaized.net//images/flagge/verysmall/59.png?lm=1520611569\" title=\"Guinea\"/></td><td class=\"zentriert\">30.06.2022</td><td class=\"rechts hauptlink\">3,00 mil. € <span class=\"icons_sprite green-arrow-ten\" title=\"Previous market value: 1,50 mil. €\"> </span></td></tr>\n",
      "<tr class=\"odd\">\n",
      "<td class=\"zentriert rueckennummer bg_Abwehr\" title=\"Defender\"><div class=\"rn_nummer\">28</div></td><td class=\"posrela\" title=\"\"><span class=\"wechsel-kader-wappen hide-for-small\"><a href=\"/hertha-bsc/startseite/verein/44/saison_id/2019\" title=\"Joined from Hertha BSC; date: Jul 1, 2019; fee: Free transfer\"><img alt=\"Hertha BSC\" class=\"\" src=\"https://tmssl.akamaized.net//images/wappen/kaderquad/44.png?lm=1534505742\" title=\"Joined from Hertha BSC; date: Jul 1, 2019; fee: Free transfer\"/></a></span><a class=\"hide-for-small\" href=\"/hertha-bsc/startseite/verein/44/saison_id/2019\" title=\"Joined from Hertha BSC; date: Jul 1, 2019; fee: Free transfer\"><img class=\"wechsel-symbol\" height=\"19px\" src=\"/images/icons/zugang_beta_kader.png\" width=\"19px\"/></a><table class=\"inline-table\" title=\"\"><tr><td class=\"\" rowspan=\"2\"><a href=\"#\"><img alt=\"Fabian Lustenberger\" class=\"bilderrahmen-fixed\" src=\"https://tmssl.akamaized.net//images/portrait/small/42203-1532355372.jpg?lm=1532355485\" title=\"Fabian Lustenberger\"/></a></td><td class=\"hauptlink\"><div class=\"di nowrap\"><span class=\"hide-for-small\"><a class=\"spielprofil_tooltip\" href=\"/fabian-lustenberger/profil/spieler/42203\" id=\"42203\" title=\"Fabian Lustenberger\">Fabian Lustenberger</a></span></div><div class=\"di nowrap\"><span class=\"show-for-small\"><a class=\"spielprofil_tooltip\" href=\"/fabian-lustenberger/profil/spieler/42203\" id=\"42203\" title=\"Fabian Lustenberger\">F. Lustenberger</a></span></div><span class=\"kapitaenicon-table icons_sprite\" title=\"Team captain\"> </span></td></tr><tr><td>Centre-Back</td></tr></table></td><td class=\"zentriert\">May 2, 1988 (31)</td><td class=\"zentriert\"><img alt=\"Switzerland\" class=\"flaggenrahmen\" src=\"https://tmssl.akamaized.net//images/flagge/verysmall/148.png?lm=1520611569\" title=\"Switzerland\"/></td><td class=\"zentriert\">30.06.2022</td><td class=\"rechts hauptlink\">2,50 mil. € <span class=\"icons_sprite grey-block-ten\" title=\"Previous market value: 2,50 mil. €\"> </span></td></tr>\n",
      "<tr class=\"even\">\n",
      "<td class=\"zentriert rueckennummer bg_Abwehr\" title=\"Defender\"><div class=\"rn_nummer\">3</div></td><td class=\"posrela\" title=\"\"><span class=\"wechsel-kader-wappen hide-for-small\"><a href=\"/1-fc-koln/kadernaechstesaison/verein/3/saison_id/2019\" title=\"On loan from 1. FC Köln until Jun 30, 2020\"><img alt=\"1. FC Köln\" class=\"\" src=\"https://tmssl.akamaized.net//images/wappen/kaderquad/3.png?lm=1396275280\" title=\"On loan from 1. FC Köln until Jun 30, 2020\"/></a></span><a class=\"hide-for-small\" href=\"/1-fc-koln/kadernaechstesaison/verein/3/saison_id/2019\" title=\"On loan from 1. FC Köln until Jun 30, 2020\"><img class=\"wechsel-symbol\" height=\"19px\" src=\"/images/icons/leihe_beta_kader.png\" width=\"19px\"/></a><table class=\"inline-table\" title=\"\"><tr><td class=\"\" rowspan=\"2\"><a href=\"#\"><img alt=\"Frederik Sörensen\" class=\"bilderrahmen-fixed\" src=\"https://tmssl.akamaized.net//images/portrait/small/91716-1531736286.jpg?lm=1531736343\" title=\"Frederik Sörensen\"/></a></td><td class=\"hauptlink\"><div class=\"di nowrap\"><span class=\"hide-for-small\"><a class=\"spielprofil_tooltip\" href=\"/frederik-sorensen/profil/spieler/91716\" id=\"91716\" title=\"Frederik Sörensen\">Frederik Sörensen</a></span></div><div class=\"di nowrap\"><span class=\"show-for-small\"><a class=\"spielprofil_tooltip\" href=\"/frederik-sorensen/profil/spieler/91716\" id=\"91716\" title=\"Frederik Sörensen\">F. Sörensen</a></span></div></td></tr><tr><td>Centre-Back</td></tr></table></td><td class=\"zentriert\">Apr 14, 1992 (27)</td><td class=\"zentriert\"><img alt=\"Denmark\" class=\"flaggenrahmen\" src=\"https://tmssl.akamaized.net//images/flagge/verysmall/39.png?lm=1520611569\" title=\"Denmark\"/></td><td class=\"zentriert\">30.06.2020</td><td class=\"rechts hauptlink\">1,50 mil. € <span class=\"icons_sprite grey-block-ten\" title=\"Previous market value: 1,50 mil. €\"> </span></td></tr>\n",
      "<tr class=\"odd\">\n",
      "<td class=\"zentriert rueckennummer bg_Abwehr\" title=\"Defender\"><div class=\"rn_nummer\">5</div></td><td class=\"posrela\" title=\"\"><span class=\"wechsel-kader-wappen hide-for-small\"><a href=\"/grasshopper-club-zurich/startseite/verein/504/saison_id/2019\" title=\"Joined from Grasshopper Club Zurich; date: Jul 1, 2019; fee: 750 K €\"><img alt=\"Grasshopper Club Zurich\" class=\"\" src=\"https://tmssl.akamaized.net//images/wappen/kaderquad/504.png?lm=1410776721\" title=\"Joined from Grasshopper Club Zurich; date: Jul 1, 2019; fee: 750 K €\"/></a></span><a class=\"hide-for-small\" href=\"/grasshopper-club-zurich/startseite/verein/504/saison_id/2019\" title=\"Joined from Grasshopper Club Zurich; date: Jul 1, 2019; fee: 750 K €\"><img class=\"wechsel-symbol\" height=\"19px\" src=\"/images/icons/zugang_beta_kader.png\" width=\"19px\"/></a><table class=\"inline-table\" title=\"\"><tr><td class=\"\" rowspan=\"2\"><a href=\"#\"><img alt=\"Cédric Zesiger\" class=\"bilderrahmen-fixed\" src=\"https://tmssl.akamaized.net//images/portrait/small/382478-1548261934.jpg?lm=1548262034\" title=\"Cédric Zesiger\"/></a></td><td class=\"hauptlink\"><div class=\"di nowrap\"><span class=\"hide-for-small\"><a class=\"spielprofil_tooltip\" href=\"/cedric-zesiger/profil/spieler/382478\" id=\"382478\" title=\"Cédric Zesiger\">Cédric Zesiger</a></span></div><div class=\"di nowrap\"><span class=\"show-for-small\"><a class=\"spielprofil_tooltip\" href=\"/cedric-zesiger/profil/spieler/382478\" id=\"382478\" title=\"Cédric Zesiger\">C. Zesiger</a></span></div></td></tr><tr><td>Centre-Back</td></tr></table></td><td class=\"zentriert\">Jun 24, 1998 (21)</td><td class=\"zentriert\"><img alt=\"Switzerland\" class=\"flaggenrahmen\" src=\"https://tmssl.akamaized.net//images/flagge/verysmall/148.png?lm=1520611569\" title=\"Switzerland\"/></td><td class=\"zentriert\">30.06.2023</td><td class=\"rechts hauptlink\">750 K € <span class=\"icons_sprite red-arrow-ten\" title=\"Previous market value: 1,00 mil. €\"> </span></td></tr>\n",
      "<tr class=\"even\">\n",
      "<td class=\"zentriert rueckennummer bg_Abwehr\" title=\"Defender\"><div class=\"rn_nummer\">14</div></td><td class=\"posrela\" title=\"\"><span class=\"wechsel-kader-wappen hide-for-small\"><a href=\"/fc-aarau/startseite/verein/116/saison_id/2018\" title=\"Returned after loan spell with FC Aarau; date: Jun 30, 2019; fee: End of loan\"><img alt=\"FC Aarau\" class=\"\" src=\"https://tmssl.akamaized.net//images/wappen/kaderquad/116.png?lm=1468412495\" title=\"Returned after loan spell with FC Aarau; date: Jun 30, 2019; fee: End of loan\"/></a></span><a class=\"hide-for-small\" href=\"/fc-aarau/startseite/verein/116/saison_id/2018\" title=\"Returned after loan spell with FC Aarau; date: Jun 30, 2019; fee: End of loan\"><img class=\"wechsel-symbol\" height=\"19px\" src=\"/images/icons/rueckkehr_beta_kader.png\" width=\"19px\"/></a><table class=\"inline-table\" title=\"\"><tr><td class=\"\" rowspan=\"2\"><a href=\"#\"><img alt=\"Nicolas Bürgy\" class=\"bilderrahmen-fixed\" src=\"https://tmssl.akamaized.net//images/portrait/small/203895-1550817713.jpg?lm=1550817743\" title=\"Nicolas Bürgy\"/></a></td><td class=\"hauptlink\"><div class=\"di nowrap\"><span class=\"hide-for-small\"><a class=\"spielprofil_tooltip\" href=\"/nicolas-burgy/profil/spieler/203895\" id=\"203895\" title=\"Nicolas Bürgy\">Nicolas Bürgy</a></span></div><div class=\"di nowrap\"><span class=\"show-for-small\"><a class=\"spielprofil_tooltip\" href=\"/nicolas-burgy/profil/spieler/203895\" id=\"203895\" title=\"Nicolas Bürgy\">N. Bürgy</a></span></div></td></tr><tr><td>Centre-Back</td></tr></table></td><td class=\"zentriert\">Aug 7, 1995 (24)</td><td class=\"zentriert\"><img alt=\"Switzerland\" class=\"flaggenrahmen\" src=\"https://tmssl.akamaized.net//images/flagge/verysmall/148.png?lm=1520611569\" title=\"Switzerland\"/></td><td class=\"zentriert\">30.06.2020</td><td class=\"rechts hauptlink\">500 K € <span class=\"icons_sprite red-arrow-ten\" title=\"Previous market value: 700 K €\"> </span></td></tr>\n",
      "<tr class=\"odd\">\n",
      "<td class=\"zentriert rueckennummer bg_Abwehr\" title=\"Defender\"><div class=\"rn_nummer\">21</div></td><td class=\"posrela\" title=\"\"><table class=\"inline-table\" title=\"\"><tr><td class=\"\" rowspan=\"2\"><a href=\"#\"><img alt=\"Ulisses Garcia\" class=\"bilderrahmen-fixed\" src=\"https://tmssl.akamaized.net//images/portrait/small/192616-1533135841.jpg?lm=1533135851\" title=\"Ulisses Garcia\"/></a></td><td class=\"hauptlink\"><div class=\"di nowrap\"><span class=\"hide-for-small\"><a class=\"spielprofil_tooltip\" href=\"/ulisses-garcia/profil/spieler/192616\" id=\"192616\" title=\"Ulisses Garcia\">Ulisses Garcia</a></span></div><div class=\"di nowrap\"><span class=\"show-for-small\"><a class=\"spielprofil_tooltip\" href=\"/ulisses-garcia/profil/spieler/192616\" id=\"192616\" title=\"Ulisses Garcia\">U. Garcia</a></span></div></td></tr><tr><td>Left-Back</td></tr></table></td><td class=\"zentriert\">Jan 11, 1996 (23)</td><td class=\"zentriert\"><img alt=\"Switzerland\" class=\"flaggenrahmen\" src=\"https://tmssl.akamaized.net//images/flagge/verysmall/148.png?lm=1520611569\" title=\"Switzerland\"/><br/><img alt=\"Cape Verde\" class=\"flaggenrahmen\" src=\"https://tmssl.akamaized.net//images/flagge/verysmall/32.png?lm=1520611569\" title=\"Cape Verde\"/></td><td class=\"zentriert\">30.06.2022</td><td class=\"rechts hauptlink\">1,75 mil. € <span class=\"icons_sprite grey-block-ten\" title=\"Previous market value: 1,75 mil. €\"> </span></td></tr>\n",
      "<tr class=\"even\">\n",
      "<td class=\"zentriert rueckennummer bg_Abwehr\" title=\"Defender\"><div class=\"rn_nummer\">29</div></td><td class=\"posrela\" title=\"\"><table class=\"inline-table\" title=\"\"><tr><td class=\"\" rowspan=\"2\"><a href=\"#\"><img alt=\"Jordan Lotomba\" class=\"bilderrahmen-fixed\" src=\"https://tmssl.akamaized.net//images/portrait/small/313094-1533135904.jpg?lm=1533135912\" title=\"Jordan Lotomba\"/></a></td><td class=\"hauptlink\"><div class=\"di nowrap\"><span class=\"hide-for-small\"><a class=\"spielprofil_tooltip\" href=\"/jordan-lotomba/profil/spieler/313094\" id=\"313094\" title=\"Jordan Lotomba\">Jordan Lotomba</a></span></div><div class=\"di nowrap\"><span class=\"show-for-small\"><a class=\"spielprofil_tooltip\" href=\"/jordan-lotomba/profil/spieler/313094\" id=\"313094\" title=\"Jordan Lotomba\">J. Lotomba</a></span></div></td></tr><tr><td>Right-Back</td></tr></table></td><td class=\"zentriert\">Sep 29, 1998 (21)</td><td class=\"zentriert\"><img alt=\"Switzerland\" class=\"flaggenrahmen\" src=\"https://tmssl.akamaized.net//images/flagge/verysmall/148.png?lm=1520611569\" title=\"Switzerland\"/><br/><img alt=\"DR Congo\" class=\"flaggenrahmen\" src=\"https://tmssl.akamaized.net//images/flagge/verysmall/193.png?lm=1520611569\" title=\"DR Congo\"/></td><td class=\"zentriert\">30.06.2021</td><td class=\"rechts hauptlink\">4,50 mil. € <span class=\"icons_sprite grey-block-ten\" title=\"Previous market value: 4,50 mil. €\"> </span></td></tr>\n",
      "<tr class=\"odd\">\n",
      "<td class=\"zentriert rueckennummer bg_Abwehr\" title=\"Defender\"><div class=\"rn_nummer\">23</div></td><td class=\"posrela\" title=\"\"><span class=\"wechsel-kader-wappen hide-for-small\"><a href=\"/fc-porto/kadernaechstesaison/verein/720/saison_id/2019\" title=\"On loan from FC Porto until Jun 30, 2020\"><img alt=\"FC Porto\" class=\"\" src=\"https://tmssl.akamaized.net//images/wappen/kaderquad/720.png?lm=1486310161\" title=\"On loan from FC Porto until Jun 30, 2020\"/></a></span><a class=\"hide-for-small\" href=\"/fc-porto/kadernaechstesaison/verein/720/saison_id/2019\" title=\"On loan from FC Porto until Jun 30, 2020\"><img class=\"wechsel-symbol\" height=\"19px\" src=\"/images/icons/leihe_beta_kader.png\" width=\"19px\"/></a><table class=\"inline-table\" title=\"\"><tr><td class=\"\" rowspan=\"2\"><a href=\"#\"><img alt=\"Saidy Janko\" class=\"bilderrahmen-fixed\" src=\"https://tmssl.akamaized.net//images/portrait/small/196435-1541149070.JPG?lm=1541149082\" title=\"Saidy Janko\"/></a></td><td class=\"hauptlink\"><div class=\"di nowrap\"><span class=\"hide-for-small\"><a class=\"spielprofil_tooltip\" href=\"/saidy-janko/profil/spieler/196435\" id=\"196435\" title=\"Saidy Janko\">Saidy Janko</a></span></div><div class=\"di nowrap\"><span class=\"show-for-small\"><a class=\"spielprofil_tooltip\" href=\"/saidy-janko/profil/spieler/196435\" id=\"196435\" title=\"Saidy Janko\">S. Janko</a></span></div></td></tr><tr><td>Right-Back</td></tr></table></td><td class=\"zentriert\">Oct 22, 1995 (24)</td><td class=\"zentriert\"><img alt=\"Switzerland\" class=\"flaggenrahmen\" src=\"https://tmssl.akamaized.net//images/flagge/verysmall/148.png?lm=1520611569\" title=\"Switzerland\"/><br/><img alt=\"The Gambia\" class=\"flaggenrahmen\" src=\"https://tmssl.akamaized.net//images/flagge/verysmall/52.png?lm=1520611569\" title=\"The Gambia\"/></td><td class=\"zentriert\">30.06.2020</td><td class=\"rechts hauptlink\">2,00 mil. € <span class=\"icons_sprite red-arrow-ten\" title=\"Previous market value: 3,00 mil. €\"> </span></td></tr>\n",
      "<tr class=\"even\">\n",
      "<td class=\"zentriert rueckennummer bg_Mittelfeld\" title=\"Midfielder\"><div class=\"rn_nummer\">35</div></td><td class=\"posrela\" title=\"\"><span class=\"wechsel-kader-wappen hide-for-small\"><a href=\"/olympique-lyon/startseite/verein/1041/saison_id/2019\" title=\"Joined from Olympique Lyon; date: Jul 1, 2019; fee: 2,00 mil. €\"><img alt=\"Olympique Lyon\" class=\"\" src=\"https://tmssl.akamaized.net//images/wappen/kaderquad/1041.png?lm=1489753683\" title=\"Joined from Olympique Lyon; date: Jul 1, 2019; fee: 2,00 mil. €\"/></a></span><a class=\"hide-for-small\" href=\"/olympique-lyon/startseite/verein/1041/saison_id/2019\" title=\"Joined from Olympique Lyon; date: Jul 1, 2019; fee: 2,00 mil. €\"><img class=\"wechsel-symbol\" height=\"19px\" src=\"/images/icons/zugang_beta_kader.png\" width=\"19px\"/></a><table class=\"inline-table\" title=\"\"><tr><td class=\"\" rowspan=\"2\"><a href=\"#\"><img alt=\"Christopher Martins Pereira\" class=\"bilderrahmen-fixed\" src=\"https://tmssl.akamaized.net//images/portrait/small/248054-1527445270.png?lm=1527445280\" title=\"Christopher Martins Pereira\"/></a></td><td class=\"hauptlink\"><div class=\"di nowrap\"><span class=\"hide-for-small\"><a class=\"spielprofil_tooltip\" href=\"/christopher-martins-pereira/profil/spieler/248054\" id=\"248054\" title=\"Christopher Martins Pereira\">Christopher Martins Pereira</a></span></div><div class=\"di nowrap\"><span class=\"show-for-small\"><a class=\"spielprofil_tooltip\" href=\"/christopher-martins-pereira/profil/spieler/248054\" id=\"248054\" title=\"Christopher Martins Pereira\">C. Martins Pereira</a></span></div><span class=\"verletzt-table icons_sprite\" title=\"Pubitis - Return unknown\"> </span></td></tr><tr><td>Defensive Midfield</td></tr></table></td><td class=\"zentriert\">Feb 19, 1997 (22)</td><td class=\"zentriert\"><img alt=\"Luxembourg\" class=\"flaggenrahmen\" src=\"https://tmssl.akamaized.net//images/flagge/verysmall/99.png?lm=1520611569\" title=\"Luxembourg\"/><br/><img alt=\"Cape Verde\" class=\"flaggenrahmen\" src=\"https://tmssl.akamaized.net//images/flagge/verysmall/32.png?lm=1520611569\" title=\"Cape Verde\"/></td><td class=\"zentriert\">30.06.2023</td><td class=\"rechts hauptlink\">2,00 mil. € <span class=\"icons_sprite green-arrow-ten\" title=\"Previous market value: 1,50 mil. €\"> </span></td></tr>\n",
      "<tr class=\"odd\">\n",
      "<td class=\"zentriert rueckennummer bg_Mittelfeld\" title=\"Midfielder\"><div class=\"rn_nummer\">20</div></td><td class=\"posrela\" title=\"\"><table class=\"inline-table\" title=\"\"><tr><td class=\"\" rowspan=\"2\"><a href=\"#\"><img alt=\"Michel Aebischer\" class=\"bilderrahmen-fixed\" src=\"https://tmssl.akamaized.net//images/portrait/small/237658-1533136045.jpg?lm=1533136054\" title=\"Michel Aebischer\"/></a></td><td class=\"hauptlink\"><div class=\"di nowrap\"><span class=\"hide-for-small\"><a class=\"spielprofil_tooltip\" href=\"/michel-aebischer/profil/spieler/237658\" id=\"237658\" title=\"Michel Aebischer\">Michel Aebischer</a></span></div><div class=\"di nowrap\"><span class=\"show-for-small\"><a class=\"spielprofil_tooltip\" href=\"/michel-aebischer/profil/spieler/237658\" id=\"237658\" title=\"Michel Aebischer\">M. Aebischer</a></span></div></td></tr><tr><td>Central Midfield</td></tr></table></td><td class=\"zentriert\">Jan 6, 1997 (22)</td><td class=\"zentriert\"><img alt=\"Switzerland\" class=\"flaggenrahmen\" src=\"https://tmssl.akamaized.net//images/flagge/verysmall/148.png?lm=1520611569\" title=\"Switzerland\"/></td><td class=\"zentriert\">30.06.2022</td><td class=\"rechts hauptlink\">4,50 mil. € <span class=\"icons_sprite grey-block-ten\" title=\"Previous market value: 4,50 mil. €\"> </span></td></tr>\n",
      "<tr class=\"even\">\n",
      "<td class=\"zentriert rueckennummer bg_Mittelfeld\" title=\"Midfielder\"><div class=\"rn_nummer\">8</div></td><td class=\"posrela\" title=\"\"><span class=\"wechsel-kader-wappen hide-for-small\"><a href=\"/sc-freiburg/startseite/verein/60/saison_id/2019\" title=\"Joined from SC Freiburg; date: Jul 1, 2019; fee: 1,50 mil. €\"><img alt=\"SC Freiburg\" class=\"\" src=\"https://tmssl.akamaized.net//images/wappen/kaderquad/60.png?lm=1517249279\" title=\"Joined from SC Freiburg; date: Jul 1, 2019; fee: 1,50 mil. €\"/></a></span><a class=\"hide-for-small\" href=\"/sc-freiburg/startseite/verein/60/saison_id/2019\" title=\"Joined from SC Freiburg; date: Jul 1, 2019; fee: 1,50 mil. €\"><img class=\"wechsel-symbol\" height=\"19px\" src=\"/images/icons/zugang_beta_kader.png\" width=\"19px\"/></a><table class=\"inline-table\" title=\"\"><tr><td class=\"\" rowspan=\"2\"><a href=\"#\"><img alt=\"Vincent Sierro\" class=\"bilderrahmen-fixed\" src=\"https://tmssl.akamaized.net//images/portrait/small/280387-1502270864.jpg?lm=1502270940\" title=\"Vincent Sierro\"/></a></td><td class=\"hauptlink\"><div class=\"di nowrap\"><span class=\"hide-for-small\"><a class=\"spielprofil_tooltip\" href=\"/vincent-sierro/profil/spieler/280387\" id=\"280387\" title=\"Vincent Sierro\">Vincent Sierro</a></span></div><div class=\"di nowrap\"><span class=\"show-for-small\"><a class=\"spielprofil_tooltip\" href=\"/vincent-sierro/profil/spieler/280387\" id=\"280387\" title=\"Vincent Sierro\">V. Sierro</a></span></div><span class=\"verletzt-table icons_sprite\" title=\"Medial Collateral Ligament Knee Injury - Return unknown\"> </span></td></tr><tr><td>Central Midfield</td></tr></table></td><td class=\"zentriert\">Oct 8, 1995 (24)</td><td class=\"zentriert\"><img alt=\"Switzerland\" class=\"flaggenrahmen\" src=\"https://tmssl.akamaized.net//images/flagge/verysmall/148.png?lm=1520611569\" title=\"Switzerland\"/></td><td class=\"zentriert\">30.06.2023</td><td class=\"rechts hauptlink\">3,00 mil. € <span class=\"icons_sprite green-arrow-ten\" title=\"Previous market value: 2,00 mil. €\"> </span></td></tr>\n",
      "<tr class=\"odd\">\n",
      "<td class=\"zentriert rueckennummer bg_Mittelfeld\" title=\"Midfielder\"><div class=\"rn_nummer\">30</div></td><td class=\"posrela\" title=\"\"><table class=\"inline-table\" title=\"\"><tr><td class=\"\" rowspan=\"2\"><a href=\"#\"><img alt=\"Sandro Lauper\" class=\"bilderrahmen-fixed\" src=\"https://tmssl.akamaized.net//images/portrait/small/254965-1533136141.jpg?lm=1533136151\" title=\"Sandro Lauper\"/></a></td><td class=\"hauptlink\"><div class=\"di nowrap\"><span class=\"hide-for-small\"><a class=\"spielprofil_tooltip\" href=\"/sandro-lauper/profil/spieler/254965\" id=\"254965\" title=\"Sandro Lauper\">Sandro Lauper</a></span></div><div class=\"di nowrap\"><span class=\"show-for-small\"><a class=\"spielprofil_tooltip\" href=\"/sandro-lauper/profil/spieler/254965\" id=\"254965\" title=\"Sandro Lauper\">S. Lauper</a></span></div><span class=\"verletzt-table icons_sprite\" title=\"Cruciate Ligament Rupture - Return unknown\"> </span></td></tr><tr><td>Central Midfield</td></tr></table></td><td class=\"zentriert\">Oct 25, 1996 (23)</td><td class=\"zentriert\"><img alt=\"Switzerland\" class=\"flaggenrahmen\" src=\"https://tmssl.akamaized.net//images/flagge/verysmall/148.png?lm=1520611569\" title=\"Switzerland\"/></td><td class=\"zentriert\">30.06.2022</td><td class=\"rechts hauptlink\">3,00 mil. € <span class=\"icons_sprite grey-block-ten\" title=\"Previous market value: 3,00 mil. €\"> </span></td></tr>\n",
      "<tr class=\"even\">\n",
      "<td class=\"zentriert rueckennummer bg_Mittelfeld\" title=\"Midfielder\"><div class=\"rn_nummer\">11</div></td><td class=\"posrela\" title=\"\"><table class=\"inline-table\" title=\"\"><tr><td class=\"\" rowspan=\"2\"><a href=\"#\"><img alt=\"Gianluca Gaudino\" class=\"bilderrahmen-fixed\" src=\"https://tmssl.akamaized.net//images/portrait/small/195051-1437472585.jpg?lm=1437472613\" title=\"Gianluca Gaudino\"/></a></td><td class=\"hauptlink\"><div class=\"di nowrap\"><span class=\"hide-for-small\"><a class=\"spielprofil_tooltip\" href=\"/gianluca-gaudino/profil/spieler/195051\" id=\"195051\" title=\"Gianluca Gaudino\">Gianluca Gaudino</a></span></div><div class=\"di nowrap\"><span class=\"show-for-small\"><a class=\"spielprofil_tooltip\" href=\"/gianluca-gaudino/profil/spieler/195051\" id=\"195051\" title=\"Gianluca Gaudino\">G. Gaudino</a></span></div><span class=\"verletzt-table icons_sprite\" title=\"Ruptured syndesmotic ligament - Return unknown\"> </span></td></tr><tr><td>Central Midfield</td></tr></table></td><td class=\"zentriert\">Nov 11, 1996 (23)</td><td class=\"zentriert\"><img alt=\"Germany\" class=\"flaggenrahmen\" src=\"https://tmssl.akamaized.net//images/flagge/verysmall/40.png?lm=1520612525\" title=\"Germany\"/></td><td class=\"zentriert\">30.06.2021</td><td class=\"rechts hauptlink\">500 K € <span class=\"icons_sprite grey-block-ten\" title=\"Previous market value: 500 K €\"> </span></td></tr>\n",
      "<tr class=\"odd\">\n",
      "<td class=\"zentriert rueckennummer bg_Mittelfeld\" title=\"Midfielder\"><div class=\"rn_nummer\">6</div></td><td class=\"posrela\" title=\"\"><span class=\"wechsel-kader-wappen hide-for-small\"><a href=\"/bsc-young-boys-u21/startseite/verein/5508/saison_id/2019\" title=\"Internal transfer: BSC Young Boys U21; date: Jul 1, 2019\"><img alt=\"BSC Young Boys U21\" class=\"\" src=\"https://tmssl.akamaized.net//images/wappen/kaderquad/5508.png?lm=1410776679\" title=\"Internal transfer: BSC Young Boys U21; date: Jul 1, 2019\"/></a></span><a class=\"hide-for-small\" href=\"/bsc-young-boys-u21/startseite/verein/5508/saison_id/2019\" title=\"Internal transfer: BSC Young Boys U21; date: Jul 1, 2019\"><img class=\"wechsel-symbol\" height=\"19px\" src=\"/images/icons/zugang_beta_kader.png\" width=\"19px\"/></a><table class=\"inline-table\" title=\"\"><tr><td class=\"\" rowspan=\"2\"><a href=\"#\"><img alt=\"Esteban Petignat\" class=\"bilderrahmen-fixed\" src=\"https://tmssl.akamaized.net//images/portrait/small/default.jpg?lm=1455618221\" title=\"Esteban Petignat\"/></a></td><td class=\"hauptlink\"><div class=\"di nowrap\"><span class=\"hide-for-small\"><a class=\"spielprofil_tooltip\" href=\"/esteban-petignat/profil/spieler/479480\" id=\"479480\" title=\"Esteban Petignat\">Esteban Petignat</a></span></div><div class=\"di nowrap\"><span class=\"show-for-small\"><a class=\"spielprofil_tooltip\" href=\"/esteban-petignat/profil/spieler/479480\" id=\"479480\" title=\"Esteban Petignat\">E. Petignat</a></span></div></td></tr><tr><td>Central Midfield</td></tr></table></td><td class=\"zentriert\">May 17, 2000 (19)</td><td class=\"zentriert\"><img alt=\"Switzerland\" class=\"flaggenrahmen\" src=\"https://tmssl.akamaized.net//images/flagge/verysmall/148.png?lm=1520611569\" title=\"Switzerland\"/></td><td class=\"zentriert\">30.06.2022</td><td class=\"rechts hauptlink\">50 K € <span class=\"icons_sprite green-arrow-ten\" title=\"Previous market value: -\"> </span></td></tr>\n",
      "<tr class=\"even\">\n",
      "<td class=\"zentriert rueckennummer bg_Mittelfeld\" title=\"Midfielder\"><div class=\"rn_nummer\">16</div></td><td class=\"posrela\" title=\"\"><table class=\"inline-table\" title=\"\"><tr><td class=\"\" rowspan=\"2\"><a href=\"#\"><img alt=\"Christian Fassnacht\" class=\"bilderrahmen-fixed\" src=\"https://tmssl.akamaized.net//images/portrait/small/250490-1533136289.jpg?lm=1533136297\" title=\"Christian Fassnacht\"/></a></td><td class=\"hauptlink\"><div class=\"di nowrap\"><span class=\"hide-for-small\"><a class=\"spielprofil_tooltip\" href=\"/christian-fassnacht/profil/spieler/250490\" id=\"250490\" title=\"Christian Fassnacht\">Christian Fassnacht</a></span></div><div class=\"di nowrap\"><span class=\"show-for-small\"><a class=\"spielprofil_tooltip\" href=\"/christian-fassnacht/profil/spieler/250490\" id=\"250490\" title=\"Christian Fassnacht\">C. Fassnacht</a></span></div></td></tr><tr><td>Right Midfield</td></tr></table></td><td class=\"zentriert\">Nov 11, 1993 (26)</td><td class=\"zentriert\"><img alt=\"Switzerland\" class=\"flaggenrahmen\" src=\"https://tmssl.akamaized.net//images/flagge/verysmall/148.png?lm=1520611569\" title=\"Switzerland\"/></td><td class=\"zentriert\">30.06.2021</td><td class=\"rechts hauptlink\">5,00 mil. € <span class=\"icons_sprite grey-block-ten\" title=\"Previous market value: 5,00 mil. €\"> </span></td></tr>\n",
      "<tr class=\"odd\">\n",
      "<td class=\"zentriert rueckennummer bg_Mittelfeld\" title=\"Midfielder\"><div class=\"rn_nummer\">7</div></td><td class=\"posrela\" title=\"\"><span class=\"wechsel-kader-wappen hide-for-small\"><a href=\"/fc-thun/startseite/verein/938/saison_id/2019\" title=\"Joined from FC Thun; date: Jul 1, 2019; fee: 2,00 mil. €\"><img alt=\"FC Thun\" class=\"\" src=\"https://tmssl.akamaized.net//images/wappen/kaderquad/938.png?lm=1564699606\" title=\"Joined from FC Thun; date: Jul 1, 2019; fee: 2,00 mil. €\"/></a></span><a class=\"hide-for-small\" href=\"/fc-thun/startseite/verein/938/saison_id/2019\" title=\"Joined from FC Thun; date: Jul 1, 2019; fee: 2,00 mil. €\"><img class=\"wechsel-symbol\" height=\"19px\" src=\"/images/icons/zugang_beta_kader.png\" width=\"19px\"/></a><table class=\"inline-table\" title=\"\"><tr><td class=\"\" rowspan=\"2\"><a href=\"#\"><img alt=\"Marvin Spielmann\" class=\"bilderrahmen-fixed\" src=\"https://tmssl.akamaized.net//images/portrait/small/192653-1554800076.jpg?lm=1554800092\" title=\"Marvin Spielmann\"/></a></td><td class=\"hauptlink\"><div class=\"di nowrap\"><span class=\"hide-for-small\"><a class=\"spielprofil_tooltip\" href=\"/marvin-spielmann/profil/spieler/192653\" id=\"192653\" title=\"Marvin Spielmann\">Marvin Spielmann</a></span></div><div class=\"di nowrap\"><span class=\"show-for-small\"><a class=\"spielprofil_tooltip\" href=\"/marvin-spielmann/profil/spieler/192653\" id=\"192653\" title=\"Marvin Spielmann\">M. Spielmann</a></span></div></td></tr><tr><td>Left Midfield</td></tr></table></td><td class=\"zentriert\">Feb 23, 1996 (23)</td><td class=\"zentriert\"><img alt=\"Switzerland\" class=\"flaggenrahmen\" src=\"https://tmssl.akamaized.net//images/flagge/verysmall/148.png?lm=1520611569\" title=\"Switzerland\"/><br/><img alt=\"DR Congo\" class=\"flaggenrahmen\" src=\"https://tmssl.akamaized.net//images/flagge/verysmall/193.png?lm=1520611569\" title=\"DR Congo\"/></td><td class=\"zentriert\">30.06.2023</td><td class=\"rechts hauptlink\">5,00 mil. € <span class=\"icons_sprite grey-block-ten\" title=\"Previous market value: 5,00 mil. €\"> </span></td></tr>\n",
      "<tr class=\"even\">\n",
      "<td class=\"zentriert rueckennummer bg_Sturm\" title=\"Forward\"><div class=\"rn_nummer\">10</div></td><td class=\"posrela\" title=\"\"><table class=\"inline-table\" title=\"\"><tr><td class=\"\" rowspan=\"2\"><a href=\"#\"><img alt=\"Miralem Sulejmani\" class=\"bilderrahmen-fixed\" src=\"https://tmssl.akamaized.net//images/portrait/small/36080-1533136216.jpg?lm=1533136237\" title=\"Miralem Sulejmani\"/></a></td><td class=\"hauptlink\"><div class=\"di nowrap\"><span class=\"hide-for-small\"><a class=\"spielprofil_tooltip\" href=\"/miralem-sulejmani/profil/spieler/36080\" id=\"36080\" title=\"Miralem Sulejmani\">Miralem Sulejmani</a></span></div><div class=\"di nowrap\"><span class=\"show-for-small\"><a class=\"spielprofil_tooltip\" href=\"/miralem-sulejmani/profil/spieler/36080\" id=\"36080\" title=\"Miralem Sulejmani\">M. Sulejmani</a></span></div><span class=\"verletzt-table icons_sprite\" title=\"Unknown Injury - Return unknown\"> </span></td></tr><tr><td>Left Winger</td></tr></table></td><td class=\"zentriert\">Dec 5, 1988 (30)</td><td class=\"zentriert\"><img alt=\"Serbia\" class=\"flaggenrahmen\" src=\"https://tmssl.akamaized.net//images/flagge/verysmall/215.png?lm=1520611569\" title=\"Serbia\"/></td><td class=\"zentriert\">30.06.2020</td><td class=\"rechts hauptlink\">4,50 mil. € <span class=\"icons_sprite grey-block-ten\" title=\"Previous market value: 4,50 mil. €\"> </span></td></tr>\n",
      "<tr class=\"odd\">\n",
      "<td class=\"zentriert rueckennummer bg_Sturm\" title=\"Forward\"><div class=\"rn_nummer\">19</div></td><td class=\"posrela\" title=\"\"><span class=\"wechsel-kader-wappen hide-for-small\"><a href=\"/bsc-young-boys-u21/startseite/verein/5508/saison_id/2019\" title=\"Internal transfer: BSC Young Boys U21; date: Jul 1, 2019\"><img alt=\"BSC Young Boys U21\" class=\"\" src=\"https://tmssl.akamaized.net//images/wappen/kaderquad/5508.png?lm=1410776679\" title=\"Internal transfer: BSC Young Boys U21; date: Jul 1, 2019\"/></a></span><a class=\"hide-for-small\" href=\"/bsc-young-boys-u21/startseite/verein/5508/saison_id/2019\" title=\"Internal transfer: BSC Young Boys U21; date: Jul 1, 2019\"><img class=\"wechsel-symbol\" height=\"19px\" src=\"/images/icons/zugang_beta_kader.png\" width=\"19px\"/></a><table class=\"inline-table\" title=\"\"><tr><td class=\"\" rowspan=\"2\"><a href=\"#\"><img alt=\"Felix Mambimbi\" class=\"bilderrahmen-fixed\" src=\"https://tmssl.akamaized.net//images/portrait/small/default.jpg?lm=1455618221\" title=\"Felix Mambimbi\"/></a></td><td class=\"hauptlink\"><div class=\"di nowrap\"><span class=\"hide-for-small\"><a class=\"spielprofil_tooltip\" href=\"/felix-mambimbi/profil/spieler/507496\" id=\"507496\" title=\"Felix Mambimbi\">Felix Mambimbi</a></span></div><div class=\"di nowrap\"><span class=\"show-for-small\"><a class=\"spielprofil_tooltip\" href=\"/felix-mambimbi/profil/spieler/507496\" id=\"507496\" title=\"Felix Mambimbi\">F. Mambimbi</a></span></div></td></tr><tr><td>Left Winger</td></tr></table></td><td class=\"zentriert\">Jan 18, 2001 (18)</td><td class=\"zentriert\"><img alt=\"Switzerland\" class=\"flaggenrahmen\" src=\"https://tmssl.akamaized.net//images/flagge/verysmall/148.png?lm=1520611569\" title=\"Switzerland\"/></td><td class=\"zentriert\">30.06.2022</td><td class=\"rechts hauptlink\">450 K € <span class=\"icons_sprite green-arrow-ten\" title=\"Previous market value: 225 K €\"> </span></td></tr>\n",
      "<tr class=\"even\">\n",
      "<td class=\"zentriert rueckennummer bg_Sturm\" title=\"Forward\"><div class=\"rn_nummer\">13</div></td><td class=\"posrela\" title=\"\"><table class=\"inline-table\" title=\"\"><tr><td class=\"\" rowspan=\"2\"><a href=\"#\"><img alt=\"Nicolas Moumi Ngamaleu\" class=\"bilderrahmen-fixed\" src=\"https://tmssl.akamaized.net//images/portrait/small/266768-1533136320.jpg?lm=1533136327\" title=\"Nicolas Moumi Ngamaleu\"/></a></td><td class=\"hauptlink\"><div class=\"di nowrap\"><span class=\"hide-for-small\"><a class=\"spielprofil_tooltip\" href=\"/nicolas-moumi-ngamaleu/profil/spieler/266768\" id=\"266768\" title=\"Nicolas Moumi Ngamaleu\">Nicolas Moumi Ngamaleu</a></span></div><div class=\"di nowrap\"><span class=\"show-for-small\"><a class=\"spielprofil_tooltip\" href=\"/nicolas-moumi-ngamaleu/profil/spieler/266768\" id=\"266768\" title=\"Nicolas Moumi Ngamaleu\">N. Moumi Ngamaleu</a></span></div></td></tr><tr><td>Right Winger</td></tr></table></td><td class=\"zentriert\">Jul 9, 1994 (25)</td><td class=\"zentriert\"><img alt=\"Cameroon\" class=\"flaggenrahmen\" src=\"https://tmssl.akamaized.net//images/flagge/verysmall/31.png?lm=1520611569\" title=\"Cameroon\"/></td><td class=\"zentriert\">30.06.2021</td><td class=\"rechts hauptlink\">6,00 mil. € <span class=\"icons_sprite green-arrow-ten\" title=\"Previous market value: 3,75 mil. €\"> </span></td></tr>\n",
      "<tr class=\"odd\">\n",
      "<td class=\"zentriert rueckennummer bg_Sturm\" title=\"Forward\"><div class=\"rn_nummer\">17</div></td><td class=\"posrela\" title=\"\"><table class=\"inline-table\" title=\"\"><tr><td class=\"\" rowspan=\"2\"><a href=\"#\"><img alt=\"Roger Assalé\" class=\"bilderrahmen-fixed\" src=\"https://tmssl.akamaized.net//images/portrait/small/263183-1533136348.jpg?lm=1533136361\" title=\"Roger Assalé\"/></a></td><td class=\"hauptlink\"><div class=\"di nowrap\"><span class=\"hide-for-small\"><a class=\"spielprofil_tooltip\" href=\"/roger-assale/profil/spieler/263183\" id=\"263183\" title=\"Roger Assalé\">Roger Assalé</a></span></div><div class=\"di nowrap\"><span class=\"show-for-small\"><a class=\"spielprofil_tooltip\" href=\"/roger-assale/profil/spieler/263183\" id=\"263183\" title=\"Roger Assalé\">R. Assalé</a></span></div></td></tr><tr><td>Centre-Forward</td></tr></table></td><td class=\"zentriert\">Nov 13, 1993 (26)</td><td class=\"zentriert\"><img alt=\"Cote d'Ivoire\" class=\"flaggenrahmen\" src=\"https://tmssl.akamaized.net//images/flagge/verysmall/38.png?lm=1520611569\" title=\"Cote d'Ivoire\"/></td><td class=\"zentriert\">30.06.2021</td><td class=\"rechts hauptlink\">7,50 mil. € <span class=\"icons_sprite green-arrow-ten\" title=\"Previous market value: 6,00 mil. €\"> </span></td></tr>\n",
      "<tr class=\"even\">\n",
      "<td class=\"zentriert rueckennummer bg_Sturm\" title=\"Forward\"><div class=\"rn_nummer\">18</div></td><td class=\"posrela\" title=\"\"><table class=\"inline-table\" title=\"\"><tr><td class=\"\" rowspan=\"2\"><a href=\"#\"><img alt=\"Jean-Pierre Nsame\" class=\"bilderrahmen-fixed\" src=\"https://tmssl.akamaized.net//images/portrait/small/225055-1533136378.jpg?lm=1533136386\" title=\"Jean-Pierre Nsame\"/></a></td><td class=\"hauptlink\"><div class=\"di nowrap\"><span class=\"hide-for-small\"><a class=\"spielprofil_tooltip\" href=\"/jean-pierre-nsame/profil/spieler/225055\" id=\"225055\" title=\"Jean-Pierre Nsame\">Jean-Pierre Nsame</a></span></div><div class=\"di nowrap\"><span class=\"show-for-small\"><a class=\"spielprofil_tooltip\" href=\"/jean-pierre-nsame/profil/spieler/225055\" id=\"225055\" title=\"Jean-Pierre Nsame\">J. Nsame</a></span></div></td></tr><tr><td>Centre-Forward</td></tr></table></td><td class=\"zentriert\">May 1, 1993 (26)</td><td class=\"zentriert\"><img alt=\"Cameroon\" class=\"flaggenrahmen\" src=\"https://tmssl.akamaized.net//images/flagge/verysmall/31.png?lm=1520611569\" title=\"Cameroon\"/><br/><img alt=\"France\" class=\"flaggenrahmen\" src=\"https://tmssl.akamaized.net//images/flagge/verysmall/50.png?lm=1520611569\" title=\"France\"/></td><td class=\"zentriert\">30.06.2023</td><td class=\"rechts hauptlink\">4,50 mil. € <span class=\"icons_sprite grey-block-ten\" title=\"Previous market value: 4,50 mil. €\"> </span></td></tr>\n",
      "<tr class=\"odd\">\n",
      "<td class=\"zentriert rueckennummer bg_Sturm\" title=\"Forward\"><div class=\"rn_nummer\">99</div></td><td class=\"posrela\" title=\"\"><table class=\"inline-table\" title=\"\"><tr><td class=\"\" rowspan=\"2\"><a href=\"#\"><img alt=\"Guillaume Hoarau\" class=\"bilderrahmen-fixed\" src=\"https://tmssl.akamaized.net//images/portrait/small/23934-1533136406.jpg?lm=1533136418\" title=\"Guillaume Hoarau\"/></a></td><td class=\"hauptlink\"><div class=\"di nowrap\"><span class=\"hide-for-small\"><a class=\"spielprofil_tooltip\" href=\"/guillaume-hoarau/profil/spieler/23934\" id=\"23934\" title=\"Guillaume Hoarau\">Guillaume Hoarau</a></span></div><div class=\"di nowrap\"><span class=\"show-for-small\"><a class=\"spielprofil_tooltip\" href=\"/guillaume-hoarau/profil/spieler/23934\" id=\"23934\" title=\"Guillaume Hoarau\">G. Hoarau</a></span></div></td></tr><tr><td>Centre-Forward</td></tr></table></td><td class=\"zentriert\">Mar 5, 1984 (35)</td><td class=\"zentriert\"><img alt=\"France\" class=\"flaggenrahmen\" src=\"https://tmssl.akamaized.net//images/flagge/verysmall/50.png?lm=1520611569\" title=\"France\"/><br/><img alt=\"Réunion\" class=\"flaggenrahmen\" src=\"https://tmssl.akamaized.net//images/flagge/verysmall/249.png?lm=1520611569\" title=\"Réunion\"/></td><td class=\"zentriert\">30.06.2020</td><td class=\"rechts hauptlink\">1,50 mil. € <span class=\"icons_sprite grey-block-ten\" title=\"Previous market value: 1,50 mil. €\"> </span></td></tr>\n",
      "</tbody>\n",
      "\n",
      "\n"
     ]
    }
   ],
   "source": [
    "for player in table[0]:\n",
    "    print(player)"
   ]
  },
  {
   "cell_type": "code",
   "execution_count": null,
   "metadata": {},
   "outputs": [],
   "source": []
  },
  {
   "cell_type": "code",
   "execution_count": null,
   "metadata": {},
   "outputs": [],
   "source": []
  },
  {
   "cell_type": "code",
   "execution_count": 70,
   "metadata": {},
   "outputs": [
    {
     "data": {
      "text/plain": [
       "1"
      ]
     },
     "execution_count": 70,
     "metadata": {},
     "output_type": "execute_result"
    }
   ],
   "source": [
    "len(tables)"
   ]
  },
  {
   "cell_type": "code",
   "execution_count": 54,
   "metadata": {},
   "outputs": [
    {
     "name": "stdout",
     "output_type": "stream",
     "text": [
      "<table class=\"items\">\n",
      "<thead>\n",
      "<tr>\n",
      "<th class=\"zentriert\" id=\"yw1_c0\"><a class=\"sort-link\" href=\"/bsc-young-boys/kader/verein/452/saison_id/2019/sort/rn\">#</a></th><th id=\"yw1_c1\"><a class=\"sort-link asc\" href=\"/bsc-young-boys/kader/verein/452/saison_id/2019/sort/spieler.desc\">Player</a></th><th class=\"zentriert\" id=\"yw1_c2\"><a class=\"sort-link\" href=\"/bsc-young-boys/kader/verein/452/saison_id/2019/sort/age\">Date of birth / Age</a></th><th class=\"zentriert\" id=\"yw1_c3\">Nat.</th><th class=\"zentriert\" id=\"yw1_c4\"><a class=\"sort-link\" href=\"/bsc-young-boys/kader/verein/452/saison_id/2019/sort/vertrag_bis\">Contract expires</a></th><th class=\"rechts\" id=\"yw1_c5\"><a class=\"sort-link\" href=\"/bsc-young-boys/kader/verein/452/saison_id/2019/sort/marktwert.desc\">Market value</a></th></tr>\n",
      "</thead>\n",
      "<tbody>\n",
      "<tr class=\"odd\">\n",
      "<td class=\"zentriert rueckennummer bg_Torwart\" title=\"Goalkeeper\"><div class=\"rn_nummer\">26</div></td><td class=\"posrela\" title=\"\"><table class=\"inline-table\" title=\"\"><tr><td class=\"\" rowspan=\"2\"><a href=\"#\"><img alt=\"David von Ballmoos\" class=\"bilderrahmen-fixed\" src=\"https://tmssl.akamaized.net//images/portrait/small/203124-1533134983.jpg?lm=1533134993\" title=\"David von Ballmoos\"/></a></td><td class=\"hauptlink\"><div class=\"di nowrap\"><span class=\"hide-for-small\"><a class=\"spielprofil_tooltip\" href=\"/david-von-ballmoos/profil/spieler/203124\" id=\"203124\" title=\"David von Ballmoos\">David von Ballmoos</a></span></div><div class=\"di nowrap\"><span class=\"show-for-small\"><a class=\"spielprofil_tooltip\" href=\"/david-von-ballmoos/profil/spieler/203124\" id=\"203124\" title=\"David von Ballmoos\">D. von Ballmoos</a></span></div></td></tr><tr><td>Goalkeeper</td></tr></table></td><td class=\"zentriert\">Dec 30, 1994 (24)</td><td class=\"zentriert\"><img alt=\"Switzerland\" class=\"flaggenrahmen\" src=\"https://tmssl.akamaized.net//images/flagge/verysmall/148.png?lm=1520611569\" title=\"Switzerland\"/></td><td class=\"zentriert\">30.06.2022</td><td class=\"rechts hauptlink\">3,50 mil. € <span class=\"icons_sprite green-arrow-ten\" title=\"Previous market value: 2,50 mil. €\"> </span></td></tr>\n",
      "<tr class=\"even\">\n",
      "<td class=\"zentriert rueckennummer bg_Torwart\" title=\"Goalkeeper\"><div class=\"rn_nummer\">1</div></td><td class=\"posrela\" title=\"\"><table class=\"inline-table\" title=\"\"><tr><td class=\"\" rowspan=\"2\"><a href=\"#\"><img alt=\"Marco Wölfli\" class=\"bilderrahmen-fixed\" src=\"https://tmssl.akamaized.net//images/portrait/small/4860-1533135588.jpg?lm=1533135598\" title=\"Marco Wölfli\"/></a></td><td class=\"hauptlink\"><div class=\"di nowrap\"><span class=\"hide-for-small\"><a class=\"spielprofil_tooltip\" href=\"/marco-wolfli/profil/spieler/4860\" id=\"4860\" title=\"Marco Wölfli\">Marco Wölfli</a></span></div><div class=\"di nowrap\"><span class=\"show-for-small\"><a class=\"spielprofil_tooltip\" href=\"/marco-wolfli/profil/spieler/4860\" id=\"4860\" title=\"Marco Wölfli\">M. Wölfli</a></span></div></td></tr><tr><td>Goalkeeper</td></tr></table></td><td class=\"zentriert\">Aug 22, 1982 (37)</td><td class=\"zentriert\"><img alt=\"Switzerland\" class=\"flaggenrahmen\" src=\"https://tmssl.akamaized.net//images/flagge/verysmall/148.png?lm=1520611569\" title=\"Switzerland\"/></td><td class=\"zentriert\">30.06.2020</td><td class=\"rechts hauptlink\">350 K € <span class=\"icons_sprite grey-block-ten\" title=\"Previous market value: 350 K €\"> </span></td></tr>\n",
      "<tr class=\"odd\">\n",
      "<td class=\"zentriert rueckennummer bg_Torwart\" title=\"Goalkeeper\"><div class=\"rn_nummer\">40</div></td><td class=\"posrela\" title=\"\"><table class=\"inline-table\" title=\"\"><tr><td class=\"\" rowspan=\"2\"><a href=\"#\"><img alt=\"Dario Marzino\" class=\"bilderrahmen-fixed\" src=\"https://tmssl.akamaized.net//images/portrait/small/254968-1533135547.jpg?lm=1533135559\" title=\"Dario Marzino\"/></a></td><td class=\"hauptlink\"><div class=\"di nowrap\"><span class=\"hide-for-small\"><a class=\"spielprofil_tooltip\" href=\"/dario-marzino/profil/spieler/254968\" id=\"254968\" title=\"Dario Marzino\">Dario Marzino</a></span></div><div class=\"di nowrap\"><span class=\"show-for-small\"><a class=\"spielprofil_tooltip\" href=\"/dario-marzino/profil/spieler/254968\" id=\"254968\" title=\"Dario Marzino\">D. Marzino</a></span></div></td></tr><tr><td>Goalkeeper</td></tr></table></td><td class=\"zentriert\">Sep 19, 1996 (23)</td><td class=\"zentriert\"><img alt=\"Switzerland\" class=\"flaggenrahmen\" src=\"https://tmssl.akamaized.net//images/flagge/verysmall/148.png?lm=1520611569\" title=\"Switzerland\"/></td><td class=\"zentriert\">30.06.2021</td><td class=\"rechts hauptlink\">150 K € <span class=\"icons_sprite grey-block-ten\" title=\"Previous market value: 150 K €\"> </span></td></tr>\n",
      "<tr class=\"even\">\n",
      "<td class=\"zentriert rueckennummer bg_Abwehr\" title=\"Defender\"><div class=\"rn_nummer\">4</div></td><td class=\"posrela\" title=\"\"><table class=\"inline-table\" title=\"\"><tr><td class=\"\" rowspan=\"2\"><a href=\"#\"><img alt=\"Mohamed Camara\" class=\"bilderrahmen-fixed\" src=\"https://tmssl.akamaized.net//images/portrait/small/426723-1533135666.jpg?lm=1533135680\" title=\"Mohamed Camara\"/></a></td><td class=\"hauptlink\"><div class=\"di nowrap\"><span class=\"hide-for-small\"><a class=\"spielprofil_tooltip\" href=\"/mohamed-camara/profil/spieler/426723\" id=\"426723\" title=\"Mohamed Camara\">Mohamed Camara</a></span></div><div class=\"di nowrap\"><span class=\"show-for-small\"><a class=\"spielprofil_tooltip\" href=\"/mohamed-camara/profil/spieler/426723\" id=\"426723\" title=\"Mohamed Camara\">M. Camara</a></span></div><span class=\"verletzt-table icons_sprite\" title=\"Bone inflammation - Return unknown\"> </span></td></tr><tr><td>Centre-Back</td></tr></table></td><td class=\"zentriert\">Aug 28, 1997 (22)</td><td class=\"zentriert\"><img alt=\"Guinea\" class=\"flaggenrahmen\" src=\"https://tmssl.akamaized.net//images/flagge/verysmall/59.png?lm=1520611569\" title=\"Guinea\"/></td><td class=\"zentriert\">30.06.2022</td><td class=\"rechts hauptlink\">3,00 mil. € <span class=\"icons_sprite green-arrow-ten\" title=\"Previous market value: 1,50 mil. €\"> </span></td></tr>\n",
      "<tr class=\"odd\">\n",
      "<td class=\"zentriert rueckennummer bg_Abwehr\" title=\"Defender\"><div class=\"rn_nummer\">28</div></td><td class=\"posrela\" title=\"\"><span class=\"wechsel-kader-wappen hide-for-small\"><a href=\"/hertha-bsc/startseite/verein/44/saison_id/2019\" title=\"Joined from Hertha BSC; date: Jul 1, 2019; fee: Free transfer\"><img alt=\"Hertha BSC\" class=\"\" src=\"https://tmssl.akamaized.net//images/wappen/kaderquad/44.png?lm=1534505742\" title=\"Joined from Hertha BSC; date: Jul 1, 2019; fee: Free transfer\"/></a></span><a class=\"hide-for-small\" href=\"/hertha-bsc/startseite/verein/44/saison_id/2019\" title=\"Joined from Hertha BSC; date: Jul 1, 2019; fee: Free transfer\"><img class=\"wechsel-symbol\" height=\"19px\" src=\"/images/icons/zugang_beta_kader.png\" width=\"19px\"/></a><table class=\"inline-table\" title=\"\"><tr><td class=\"\" rowspan=\"2\"><a href=\"#\"><img alt=\"Fabian Lustenberger\" class=\"bilderrahmen-fixed\" src=\"https://tmssl.akamaized.net//images/portrait/small/42203-1532355372.jpg?lm=1532355485\" title=\"Fabian Lustenberger\"/></a></td><td class=\"hauptlink\"><div class=\"di nowrap\"><span class=\"hide-for-small\"><a class=\"spielprofil_tooltip\" href=\"/fabian-lustenberger/profil/spieler/42203\" id=\"42203\" title=\"Fabian Lustenberger\">Fabian Lustenberger</a></span></div><div class=\"di nowrap\"><span class=\"show-for-small\"><a class=\"spielprofil_tooltip\" href=\"/fabian-lustenberger/profil/spieler/42203\" id=\"42203\" title=\"Fabian Lustenberger\">F. Lustenberger</a></span></div><span class=\"kapitaenicon-table icons_sprite\" title=\"Team captain\"> </span></td></tr><tr><td>Centre-Back</td></tr></table></td><td class=\"zentriert\">May 2, 1988 (31)</td><td class=\"zentriert\"><img alt=\"Switzerland\" class=\"flaggenrahmen\" src=\"https://tmssl.akamaized.net//images/flagge/verysmall/148.png?lm=1520611569\" title=\"Switzerland\"/></td><td class=\"zentriert\">30.06.2022</td><td class=\"rechts hauptlink\">2,50 mil. € <span class=\"icons_sprite grey-block-ten\" title=\"Previous market value: 2,50 mil. €\"> </span></td></tr>\n",
      "<tr class=\"even\">\n",
      "<td class=\"zentriert rueckennummer bg_Abwehr\" title=\"Defender\"><div class=\"rn_nummer\">3</div></td><td class=\"posrela\" title=\"\"><span class=\"wechsel-kader-wappen hide-for-small\"><a href=\"/1-fc-koln/kadernaechstesaison/verein/3/saison_id/2019\" title=\"On loan from 1. FC Köln until Jun 30, 2020\"><img alt=\"1. FC Köln\" class=\"\" src=\"https://tmssl.akamaized.net//images/wappen/kaderquad/3.png?lm=1396275280\" title=\"On loan from 1. FC Köln until Jun 30, 2020\"/></a></span><a class=\"hide-for-small\" href=\"/1-fc-koln/kadernaechstesaison/verein/3/saison_id/2019\" title=\"On loan from 1. FC Köln until Jun 30, 2020\"><img class=\"wechsel-symbol\" height=\"19px\" src=\"/images/icons/leihe_beta_kader.png\" width=\"19px\"/></a><table class=\"inline-table\" title=\"\"><tr><td class=\"\" rowspan=\"2\"><a href=\"#\"><img alt=\"Frederik Sörensen\" class=\"bilderrahmen-fixed\" src=\"https://tmssl.akamaized.net//images/portrait/small/91716-1531736286.jpg?lm=1531736343\" title=\"Frederik Sörensen\"/></a></td><td class=\"hauptlink\"><div class=\"di nowrap\"><span class=\"hide-for-small\"><a class=\"spielprofil_tooltip\" href=\"/frederik-sorensen/profil/spieler/91716\" id=\"91716\" title=\"Frederik Sörensen\">Frederik Sörensen</a></span></div><div class=\"di nowrap\"><span class=\"show-for-small\"><a class=\"spielprofil_tooltip\" href=\"/frederik-sorensen/profil/spieler/91716\" id=\"91716\" title=\"Frederik Sörensen\">F. Sörensen</a></span></div></td></tr><tr><td>Centre-Back</td></tr></table></td><td class=\"zentriert\">Apr 14, 1992 (27)</td><td class=\"zentriert\"><img alt=\"Denmark\" class=\"flaggenrahmen\" src=\"https://tmssl.akamaized.net//images/flagge/verysmall/39.png?lm=1520611569\" title=\"Denmark\"/></td><td class=\"zentriert\">30.06.2020</td><td class=\"rechts hauptlink\">1,50 mil. € <span class=\"icons_sprite grey-block-ten\" title=\"Previous market value: 1,50 mil. €\"> </span></td></tr>\n",
      "<tr class=\"odd\">\n",
      "<td class=\"zentriert rueckennummer bg_Abwehr\" title=\"Defender\"><div class=\"rn_nummer\">5</div></td><td class=\"posrela\" title=\"\"><span class=\"wechsel-kader-wappen hide-for-small\"><a href=\"/grasshopper-club-zurich/startseite/verein/504/saison_id/2019\" title=\"Joined from Grasshopper Club Zurich; date: Jul 1, 2019; fee: 750 K €\"><img alt=\"Grasshopper Club Zurich\" class=\"\" src=\"https://tmssl.akamaized.net//images/wappen/kaderquad/504.png?lm=1410776721\" title=\"Joined from Grasshopper Club Zurich; date: Jul 1, 2019; fee: 750 K €\"/></a></span><a class=\"hide-for-small\" href=\"/grasshopper-club-zurich/startseite/verein/504/saison_id/2019\" title=\"Joined from Grasshopper Club Zurich; date: Jul 1, 2019; fee: 750 K €\"><img class=\"wechsel-symbol\" height=\"19px\" src=\"/images/icons/zugang_beta_kader.png\" width=\"19px\"/></a><table class=\"inline-table\" title=\"\"><tr><td class=\"\" rowspan=\"2\"><a href=\"#\"><img alt=\"Cédric Zesiger\" class=\"bilderrahmen-fixed\" src=\"https://tmssl.akamaized.net//images/portrait/small/382478-1548261934.jpg?lm=1548262034\" title=\"Cédric Zesiger\"/></a></td><td class=\"hauptlink\"><div class=\"di nowrap\"><span class=\"hide-for-small\"><a class=\"spielprofil_tooltip\" href=\"/cedric-zesiger/profil/spieler/382478\" id=\"382478\" title=\"Cédric Zesiger\">Cédric Zesiger</a></span></div><div class=\"di nowrap\"><span class=\"show-for-small\"><a class=\"spielprofil_tooltip\" href=\"/cedric-zesiger/profil/spieler/382478\" id=\"382478\" title=\"Cédric Zesiger\">C. Zesiger</a></span></div></td></tr><tr><td>Centre-Back</td></tr></table></td><td class=\"zentriert\">Jun 24, 1998 (21)</td><td class=\"zentriert\"><img alt=\"Switzerland\" class=\"flaggenrahmen\" src=\"https://tmssl.akamaized.net//images/flagge/verysmall/148.png?lm=1520611569\" title=\"Switzerland\"/></td><td class=\"zentriert\">30.06.2023</td><td class=\"rechts hauptlink\">750 K € <span class=\"icons_sprite red-arrow-ten\" title=\"Previous market value: 1,00 mil. €\"> </span></td></tr>\n",
      "<tr class=\"even\">\n",
      "<td class=\"zentriert rueckennummer bg_Abwehr\" title=\"Defender\"><div class=\"rn_nummer\">14</div></td><td class=\"posrela\" title=\"\"><span class=\"wechsel-kader-wappen hide-for-small\"><a href=\"/fc-aarau/startseite/verein/116/saison_id/2018\" title=\"Returned after loan spell with FC Aarau; date: Jun 30, 2019; fee: End of loan\"><img alt=\"FC Aarau\" class=\"\" src=\"https://tmssl.akamaized.net//images/wappen/kaderquad/116.png?lm=1468412495\" title=\"Returned after loan spell with FC Aarau; date: Jun 30, 2019; fee: End of loan\"/></a></span><a class=\"hide-for-small\" href=\"/fc-aarau/startseite/verein/116/saison_id/2018\" title=\"Returned after loan spell with FC Aarau; date: Jun 30, 2019; fee: End of loan\"><img class=\"wechsel-symbol\" height=\"19px\" src=\"/images/icons/rueckkehr_beta_kader.png\" width=\"19px\"/></a><table class=\"inline-table\" title=\"\"><tr><td class=\"\" rowspan=\"2\"><a href=\"#\"><img alt=\"Nicolas Bürgy\" class=\"bilderrahmen-fixed\" src=\"https://tmssl.akamaized.net//images/portrait/small/203895-1550817713.jpg?lm=1550817743\" title=\"Nicolas Bürgy\"/></a></td><td class=\"hauptlink\"><div class=\"di nowrap\"><span class=\"hide-for-small\"><a class=\"spielprofil_tooltip\" href=\"/nicolas-burgy/profil/spieler/203895\" id=\"203895\" title=\"Nicolas Bürgy\">Nicolas Bürgy</a></span></div><div class=\"di nowrap\"><span class=\"show-for-small\"><a class=\"spielprofil_tooltip\" href=\"/nicolas-burgy/profil/spieler/203895\" id=\"203895\" title=\"Nicolas Bürgy\">N. Bürgy</a></span></div></td></tr><tr><td>Centre-Back</td></tr></table></td><td class=\"zentriert\">Aug 7, 1995 (24)</td><td class=\"zentriert\"><img alt=\"Switzerland\" class=\"flaggenrahmen\" src=\"https://tmssl.akamaized.net//images/flagge/verysmall/148.png?lm=1520611569\" title=\"Switzerland\"/></td><td class=\"zentriert\">30.06.2020</td><td class=\"rechts hauptlink\">500 K € <span class=\"icons_sprite red-arrow-ten\" title=\"Previous market value: 700 K €\"> </span></td></tr>\n",
      "<tr class=\"odd\">\n",
      "<td class=\"zentriert rueckennummer bg_Abwehr\" title=\"Defender\"><div class=\"rn_nummer\">21</div></td><td class=\"posrela\" title=\"\"><table class=\"inline-table\" title=\"\"><tr><td class=\"\" rowspan=\"2\"><a href=\"#\"><img alt=\"Ulisses Garcia\" class=\"bilderrahmen-fixed\" src=\"https://tmssl.akamaized.net//images/portrait/small/192616-1533135841.jpg?lm=1533135851\" title=\"Ulisses Garcia\"/></a></td><td class=\"hauptlink\"><div class=\"di nowrap\"><span class=\"hide-for-small\"><a class=\"spielprofil_tooltip\" href=\"/ulisses-garcia/profil/spieler/192616\" id=\"192616\" title=\"Ulisses Garcia\">Ulisses Garcia</a></span></div><div class=\"di nowrap\"><span class=\"show-for-small\"><a class=\"spielprofil_tooltip\" href=\"/ulisses-garcia/profil/spieler/192616\" id=\"192616\" title=\"Ulisses Garcia\">U. Garcia</a></span></div></td></tr><tr><td>Left-Back</td></tr></table></td><td class=\"zentriert\">Jan 11, 1996 (23)</td><td class=\"zentriert\"><img alt=\"Switzerland\" class=\"flaggenrahmen\" src=\"https://tmssl.akamaized.net//images/flagge/verysmall/148.png?lm=1520611569\" title=\"Switzerland\"/><br/><img alt=\"Cape Verde\" class=\"flaggenrahmen\" src=\"https://tmssl.akamaized.net//images/flagge/verysmall/32.png?lm=1520611569\" title=\"Cape Verde\"/></td><td class=\"zentriert\">30.06.2022</td><td class=\"rechts hauptlink\">1,75 mil. € <span class=\"icons_sprite grey-block-ten\" title=\"Previous market value: 1,75 mil. €\"> </span></td></tr>\n",
      "<tr class=\"even\">\n",
      "<td class=\"zentriert rueckennummer bg_Abwehr\" title=\"Defender\"><div class=\"rn_nummer\">29</div></td><td class=\"posrela\" title=\"\"><table class=\"inline-table\" title=\"\"><tr><td class=\"\" rowspan=\"2\"><a href=\"#\"><img alt=\"Jordan Lotomba\" class=\"bilderrahmen-fixed\" src=\"https://tmssl.akamaized.net//images/portrait/small/313094-1533135904.jpg?lm=1533135912\" title=\"Jordan Lotomba\"/></a></td><td class=\"hauptlink\"><div class=\"di nowrap\"><span class=\"hide-for-small\"><a class=\"spielprofil_tooltip\" href=\"/jordan-lotomba/profil/spieler/313094\" id=\"313094\" title=\"Jordan Lotomba\">Jordan Lotomba</a></span></div><div class=\"di nowrap\"><span class=\"show-for-small\"><a class=\"spielprofil_tooltip\" href=\"/jordan-lotomba/profil/spieler/313094\" id=\"313094\" title=\"Jordan Lotomba\">J. Lotomba</a></span></div></td></tr><tr><td>Right-Back</td></tr></table></td><td class=\"zentriert\">Sep 29, 1998 (21)</td><td class=\"zentriert\"><img alt=\"Switzerland\" class=\"flaggenrahmen\" src=\"https://tmssl.akamaized.net//images/flagge/verysmall/148.png?lm=1520611569\" title=\"Switzerland\"/><br/><img alt=\"DR Congo\" class=\"flaggenrahmen\" src=\"https://tmssl.akamaized.net//images/flagge/verysmall/193.png?lm=1520611569\" title=\"DR Congo\"/></td><td class=\"zentriert\">30.06.2021</td><td class=\"rechts hauptlink\">4,50 mil. € <span class=\"icons_sprite grey-block-ten\" title=\"Previous market value: 4,50 mil. €\"> </span></td></tr>\n",
      "<tr class=\"odd\">\n",
      "<td class=\"zentriert rueckennummer bg_Abwehr\" title=\"Defender\"><div class=\"rn_nummer\">23</div></td><td class=\"posrela\" title=\"\"><span class=\"wechsel-kader-wappen hide-for-small\"><a href=\"/fc-porto/kadernaechstesaison/verein/720/saison_id/2019\" title=\"On loan from FC Porto until Jun 30, 2020\"><img alt=\"FC Porto\" class=\"\" src=\"https://tmssl.akamaized.net//images/wappen/kaderquad/720.png?lm=1486310161\" title=\"On loan from FC Porto until Jun 30, 2020\"/></a></span><a class=\"hide-for-small\" href=\"/fc-porto/kadernaechstesaison/verein/720/saison_id/2019\" title=\"On loan from FC Porto until Jun 30, 2020\"><img class=\"wechsel-symbol\" height=\"19px\" src=\"/images/icons/leihe_beta_kader.png\" width=\"19px\"/></a><table class=\"inline-table\" title=\"\"><tr><td class=\"\" rowspan=\"2\"><a href=\"#\"><img alt=\"Saidy Janko\" class=\"bilderrahmen-fixed\" src=\"https://tmssl.akamaized.net//images/portrait/small/196435-1541149070.JPG?lm=1541149082\" title=\"Saidy Janko\"/></a></td><td class=\"hauptlink\"><div class=\"di nowrap\"><span class=\"hide-for-small\"><a class=\"spielprofil_tooltip\" href=\"/saidy-janko/profil/spieler/196435\" id=\"196435\" title=\"Saidy Janko\">Saidy Janko</a></span></div><div class=\"di nowrap\"><span class=\"show-for-small\"><a class=\"spielprofil_tooltip\" href=\"/saidy-janko/profil/spieler/196435\" id=\"196435\" title=\"Saidy Janko\">S. Janko</a></span></div></td></tr><tr><td>Right-Back</td></tr></table></td><td class=\"zentriert\">Oct 22, 1995 (24)</td><td class=\"zentriert\"><img alt=\"Switzerland\" class=\"flaggenrahmen\" src=\"https://tmssl.akamaized.net//images/flagge/verysmall/148.png?lm=1520611569\" title=\"Switzerland\"/><br/><img alt=\"The Gambia\" class=\"flaggenrahmen\" src=\"https://tmssl.akamaized.net//images/flagge/verysmall/52.png?lm=1520611569\" title=\"The Gambia\"/></td><td class=\"zentriert\">30.06.2020</td><td class=\"rechts hauptlink\">2,00 mil. € <span class=\"icons_sprite red-arrow-ten\" title=\"Previous market value: 3,00 mil. €\"> </span></td></tr>\n",
      "<tr class=\"even\">\n",
      "<td class=\"zentriert rueckennummer bg_Mittelfeld\" title=\"Midfielder\"><div class=\"rn_nummer\">35</div></td><td class=\"posrela\" title=\"\"><span class=\"wechsel-kader-wappen hide-for-small\"><a href=\"/olympique-lyon/startseite/verein/1041/saison_id/2019\" title=\"Joined from Olympique Lyon; date: Jul 1, 2019; fee: 2,00 mil. €\"><img alt=\"Olympique Lyon\" class=\"\" src=\"https://tmssl.akamaized.net//images/wappen/kaderquad/1041.png?lm=1489753683\" title=\"Joined from Olympique Lyon; date: Jul 1, 2019; fee: 2,00 mil. €\"/></a></span><a class=\"hide-for-small\" href=\"/olympique-lyon/startseite/verein/1041/saison_id/2019\" title=\"Joined from Olympique Lyon; date: Jul 1, 2019; fee: 2,00 mil. €\"><img class=\"wechsel-symbol\" height=\"19px\" src=\"/images/icons/zugang_beta_kader.png\" width=\"19px\"/></a><table class=\"inline-table\" title=\"\"><tr><td class=\"\" rowspan=\"2\"><a href=\"#\"><img alt=\"Christopher Martins Pereira\" class=\"bilderrahmen-fixed\" src=\"https://tmssl.akamaized.net//images/portrait/small/248054-1527445270.png?lm=1527445280\" title=\"Christopher Martins Pereira\"/></a></td><td class=\"hauptlink\"><div class=\"di nowrap\"><span class=\"hide-for-small\"><a class=\"spielprofil_tooltip\" href=\"/christopher-martins-pereira/profil/spieler/248054\" id=\"248054\" title=\"Christopher Martins Pereira\">Christopher Martins Pereira</a></span></div><div class=\"di nowrap\"><span class=\"show-for-small\"><a class=\"spielprofil_tooltip\" href=\"/christopher-martins-pereira/profil/spieler/248054\" id=\"248054\" title=\"Christopher Martins Pereira\">C. Martins Pereira</a></span></div><span class=\"verletzt-table icons_sprite\" title=\"Pubitis - Return unknown\"> </span></td></tr><tr><td>Defensive Midfield</td></tr></table></td><td class=\"zentriert\">Feb 19, 1997 (22)</td><td class=\"zentriert\"><img alt=\"Luxembourg\" class=\"flaggenrahmen\" src=\"https://tmssl.akamaized.net//images/flagge/verysmall/99.png?lm=1520611569\" title=\"Luxembourg\"/><br/><img alt=\"Cape Verde\" class=\"flaggenrahmen\" src=\"https://tmssl.akamaized.net//images/flagge/verysmall/32.png?lm=1520611569\" title=\"Cape Verde\"/></td><td class=\"zentriert\">30.06.2023</td><td class=\"rechts hauptlink\">2,00 mil. € <span class=\"icons_sprite green-arrow-ten\" title=\"Previous market value: 1,50 mil. €\"> </span></td></tr>\n",
      "<tr class=\"odd\">\n",
      "<td class=\"zentriert rueckennummer bg_Mittelfeld\" title=\"Midfielder\"><div class=\"rn_nummer\">20</div></td><td class=\"posrela\" title=\"\"><table class=\"inline-table\" title=\"\"><tr><td class=\"\" rowspan=\"2\"><a href=\"#\"><img alt=\"Michel Aebischer\" class=\"bilderrahmen-fixed\" src=\"https://tmssl.akamaized.net//images/portrait/small/237658-1533136045.jpg?lm=1533136054\" title=\"Michel Aebischer\"/></a></td><td class=\"hauptlink\"><div class=\"di nowrap\"><span class=\"hide-for-small\"><a class=\"spielprofil_tooltip\" href=\"/michel-aebischer/profil/spieler/237658\" id=\"237658\" title=\"Michel Aebischer\">Michel Aebischer</a></span></div><div class=\"di nowrap\"><span class=\"show-for-small\"><a class=\"spielprofil_tooltip\" href=\"/michel-aebischer/profil/spieler/237658\" id=\"237658\" title=\"Michel Aebischer\">M. Aebischer</a></span></div></td></tr><tr><td>Central Midfield</td></tr></table></td><td class=\"zentriert\">Jan 6, 1997 (22)</td><td class=\"zentriert\"><img alt=\"Switzerland\" class=\"flaggenrahmen\" src=\"https://tmssl.akamaized.net//images/flagge/verysmall/148.png?lm=1520611569\" title=\"Switzerland\"/></td><td class=\"zentriert\">30.06.2022</td><td class=\"rechts hauptlink\">4,50 mil. € <span class=\"icons_sprite grey-block-ten\" title=\"Previous market value: 4,50 mil. €\"> </span></td></tr>\n",
      "<tr class=\"even\">\n",
      "<td class=\"zentriert rueckennummer bg_Mittelfeld\" title=\"Midfielder\"><div class=\"rn_nummer\">8</div></td><td class=\"posrela\" title=\"\"><span class=\"wechsel-kader-wappen hide-for-small\"><a href=\"/sc-freiburg/startseite/verein/60/saison_id/2019\" title=\"Joined from SC Freiburg; date: Jul 1, 2019; fee: 1,50 mil. €\"><img alt=\"SC Freiburg\" class=\"\" src=\"https://tmssl.akamaized.net//images/wappen/kaderquad/60.png?lm=1517249279\" title=\"Joined from SC Freiburg; date: Jul 1, 2019; fee: 1,50 mil. €\"/></a></span><a class=\"hide-for-small\" href=\"/sc-freiburg/startseite/verein/60/saison_id/2019\" title=\"Joined from SC Freiburg; date: Jul 1, 2019; fee: 1,50 mil. €\"><img class=\"wechsel-symbol\" height=\"19px\" src=\"/images/icons/zugang_beta_kader.png\" width=\"19px\"/></a><table class=\"inline-table\" title=\"\"><tr><td class=\"\" rowspan=\"2\"><a href=\"#\"><img alt=\"Vincent Sierro\" class=\"bilderrahmen-fixed\" src=\"https://tmssl.akamaized.net//images/portrait/small/280387-1502270864.jpg?lm=1502270940\" title=\"Vincent Sierro\"/></a></td><td class=\"hauptlink\"><div class=\"di nowrap\"><span class=\"hide-for-small\"><a class=\"spielprofil_tooltip\" href=\"/vincent-sierro/profil/spieler/280387\" id=\"280387\" title=\"Vincent Sierro\">Vincent Sierro</a></span></div><div class=\"di nowrap\"><span class=\"show-for-small\"><a class=\"spielprofil_tooltip\" href=\"/vincent-sierro/profil/spieler/280387\" id=\"280387\" title=\"Vincent Sierro\">V. Sierro</a></span></div><span class=\"verletzt-table icons_sprite\" title=\"Medial Collateral Ligament Knee Injury - Return unknown\"> </span></td></tr><tr><td>Central Midfield</td></tr></table></td><td class=\"zentriert\">Oct 8, 1995 (24)</td><td class=\"zentriert\"><img alt=\"Switzerland\" class=\"flaggenrahmen\" src=\"https://tmssl.akamaized.net//images/flagge/verysmall/148.png?lm=1520611569\" title=\"Switzerland\"/></td><td class=\"zentriert\">30.06.2023</td><td class=\"rechts hauptlink\">3,00 mil. € <span class=\"icons_sprite green-arrow-ten\" title=\"Previous market value: 2,00 mil. €\"> </span></td></tr>\n",
      "<tr class=\"odd\">\n",
      "<td class=\"zentriert rueckennummer bg_Mittelfeld\" title=\"Midfielder\"><div class=\"rn_nummer\">30</div></td><td class=\"posrela\" title=\"\"><table class=\"inline-table\" title=\"\"><tr><td class=\"\" rowspan=\"2\"><a href=\"#\"><img alt=\"Sandro Lauper\" class=\"bilderrahmen-fixed\" src=\"https://tmssl.akamaized.net//images/portrait/small/254965-1533136141.jpg?lm=1533136151\" title=\"Sandro Lauper\"/></a></td><td class=\"hauptlink\"><div class=\"di nowrap\"><span class=\"hide-for-small\"><a class=\"spielprofil_tooltip\" href=\"/sandro-lauper/profil/spieler/254965\" id=\"254965\" title=\"Sandro Lauper\">Sandro Lauper</a></span></div><div class=\"di nowrap\"><span class=\"show-for-small\"><a class=\"spielprofil_tooltip\" href=\"/sandro-lauper/profil/spieler/254965\" id=\"254965\" title=\"Sandro Lauper\">S. Lauper</a></span></div><span class=\"verletzt-table icons_sprite\" title=\"Cruciate Ligament Rupture - Return unknown\"> </span></td></tr><tr><td>Central Midfield</td></tr></table></td><td class=\"zentriert\">Oct 25, 1996 (23)</td><td class=\"zentriert\"><img alt=\"Switzerland\" class=\"flaggenrahmen\" src=\"https://tmssl.akamaized.net//images/flagge/verysmall/148.png?lm=1520611569\" title=\"Switzerland\"/></td><td class=\"zentriert\">30.06.2022</td><td class=\"rechts hauptlink\">3,00 mil. € <span class=\"icons_sprite grey-block-ten\" title=\"Previous market value: 3,00 mil. €\"> </span></td></tr>\n",
      "<tr class=\"even\">\n",
      "<td class=\"zentriert rueckennummer bg_Mittelfeld\" title=\"Midfielder\"><div class=\"rn_nummer\">11</div></td><td class=\"posrela\" title=\"\"><table class=\"inline-table\" title=\"\"><tr><td class=\"\" rowspan=\"2\"><a href=\"#\"><img alt=\"Gianluca Gaudino\" class=\"bilderrahmen-fixed\" src=\"https://tmssl.akamaized.net//images/portrait/small/195051-1437472585.jpg?lm=1437472613\" title=\"Gianluca Gaudino\"/></a></td><td class=\"hauptlink\"><div class=\"di nowrap\"><span class=\"hide-for-small\"><a class=\"spielprofil_tooltip\" href=\"/gianluca-gaudino/profil/spieler/195051\" id=\"195051\" title=\"Gianluca Gaudino\">Gianluca Gaudino</a></span></div><div class=\"di nowrap\"><span class=\"show-for-small\"><a class=\"spielprofil_tooltip\" href=\"/gianluca-gaudino/profil/spieler/195051\" id=\"195051\" title=\"Gianluca Gaudino\">G. Gaudino</a></span></div><span class=\"verletzt-table icons_sprite\" title=\"Ruptured syndesmotic ligament - Return unknown\"> </span></td></tr><tr><td>Central Midfield</td></tr></table></td><td class=\"zentriert\">Nov 11, 1996 (23)</td><td class=\"zentriert\"><img alt=\"Germany\" class=\"flaggenrahmen\" src=\"https://tmssl.akamaized.net//images/flagge/verysmall/40.png?lm=1520612525\" title=\"Germany\"/></td><td class=\"zentriert\">30.06.2021</td><td class=\"rechts hauptlink\">500 K € <span class=\"icons_sprite grey-block-ten\" title=\"Previous market value: 500 K €\"> </span></td></tr>\n",
      "<tr class=\"odd\">\n",
      "<td class=\"zentriert rueckennummer bg_Mittelfeld\" title=\"Midfielder\"><div class=\"rn_nummer\">6</div></td><td class=\"posrela\" title=\"\"><span class=\"wechsel-kader-wappen hide-for-small\"><a href=\"/bsc-young-boys-u21/startseite/verein/5508/saison_id/2019\" title=\"Internal transfer: BSC Young Boys U21; date: Jul 1, 2019\"><img alt=\"BSC Young Boys U21\" class=\"\" src=\"https://tmssl.akamaized.net//images/wappen/kaderquad/5508.png?lm=1410776679\" title=\"Internal transfer: BSC Young Boys U21; date: Jul 1, 2019\"/></a></span><a class=\"hide-for-small\" href=\"/bsc-young-boys-u21/startseite/verein/5508/saison_id/2019\" title=\"Internal transfer: BSC Young Boys U21; date: Jul 1, 2019\"><img class=\"wechsel-symbol\" height=\"19px\" src=\"/images/icons/zugang_beta_kader.png\" width=\"19px\"/></a><table class=\"inline-table\" title=\"\"><tr><td class=\"\" rowspan=\"2\"><a href=\"#\"><img alt=\"Esteban Petignat\" class=\"bilderrahmen-fixed\" src=\"https://tmssl.akamaized.net//images/portrait/small/default.jpg?lm=1455618221\" title=\"Esteban Petignat\"/></a></td><td class=\"hauptlink\"><div class=\"di nowrap\"><span class=\"hide-for-small\"><a class=\"spielprofil_tooltip\" href=\"/esteban-petignat/profil/spieler/479480\" id=\"479480\" title=\"Esteban Petignat\">Esteban Petignat</a></span></div><div class=\"di nowrap\"><span class=\"show-for-small\"><a class=\"spielprofil_tooltip\" href=\"/esteban-petignat/profil/spieler/479480\" id=\"479480\" title=\"Esteban Petignat\">E. Petignat</a></span></div></td></tr><tr><td>Central Midfield</td></tr></table></td><td class=\"zentriert\">May 17, 2000 (19)</td><td class=\"zentriert\"><img alt=\"Switzerland\" class=\"flaggenrahmen\" src=\"https://tmssl.akamaized.net//images/flagge/verysmall/148.png?lm=1520611569\" title=\"Switzerland\"/></td><td class=\"zentriert\">30.06.2022</td><td class=\"rechts hauptlink\">50 K € <span class=\"icons_sprite green-arrow-ten\" title=\"Previous market value: -\"> </span></td></tr>\n",
      "<tr class=\"even\">\n",
      "<td class=\"zentriert rueckennummer bg_Mittelfeld\" title=\"Midfielder\"><div class=\"rn_nummer\">16</div></td><td class=\"posrela\" title=\"\"><table class=\"inline-table\" title=\"\"><tr><td class=\"\" rowspan=\"2\"><a href=\"#\"><img alt=\"Christian Fassnacht\" class=\"bilderrahmen-fixed\" src=\"https://tmssl.akamaized.net//images/portrait/small/250490-1533136289.jpg?lm=1533136297\" title=\"Christian Fassnacht\"/></a></td><td class=\"hauptlink\"><div class=\"di nowrap\"><span class=\"hide-for-small\"><a class=\"spielprofil_tooltip\" href=\"/christian-fassnacht/profil/spieler/250490\" id=\"250490\" title=\"Christian Fassnacht\">Christian Fassnacht</a></span></div><div class=\"di nowrap\"><span class=\"show-for-small\"><a class=\"spielprofil_tooltip\" href=\"/christian-fassnacht/profil/spieler/250490\" id=\"250490\" title=\"Christian Fassnacht\">C. Fassnacht</a></span></div></td></tr><tr><td>Right Midfield</td></tr></table></td><td class=\"zentriert\">Nov 11, 1993 (26)</td><td class=\"zentriert\"><img alt=\"Switzerland\" class=\"flaggenrahmen\" src=\"https://tmssl.akamaized.net//images/flagge/verysmall/148.png?lm=1520611569\" title=\"Switzerland\"/></td><td class=\"zentriert\">30.06.2021</td><td class=\"rechts hauptlink\">5,00 mil. € <span class=\"icons_sprite grey-block-ten\" title=\"Previous market value: 5,00 mil. €\"> </span></td></tr>\n",
      "<tr class=\"odd\">\n",
      "<td class=\"zentriert rueckennummer bg_Mittelfeld\" title=\"Midfielder\"><div class=\"rn_nummer\">7</div></td><td class=\"posrela\" title=\"\"><span class=\"wechsel-kader-wappen hide-for-small\"><a href=\"/fc-thun/startseite/verein/938/saison_id/2019\" title=\"Joined from FC Thun; date: Jul 1, 2019; fee: 2,00 mil. €\"><img alt=\"FC Thun\" class=\"\" src=\"https://tmssl.akamaized.net//images/wappen/kaderquad/938.png?lm=1564699606\" title=\"Joined from FC Thun; date: Jul 1, 2019; fee: 2,00 mil. €\"/></a></span><a class=\"hide-for-small\" href=\"/fc-thun/startseite/verein/938/saison_id/2019\" title=\"Joined from FC Thun; date: Jul 1, 2019; fee: 2,00 mil. €\"><img class=\"wechsel-symbol\" height=\"19px\" src=\"/images/icons/zugang_beta_kader.png\" width=\"19px\"/></a><table class=\"inline-table\" title=\"\"><tr><td class=\"\" rowspan=\"2\"><a href=\"#\"><img alt=\"Marvin Spielmann\" class=\"bilderrahmen-fixed\" src=\"https://tmssl.akamaized.net//images/portrait/small/192653-1554800076.jpg?lm=1554800092\" title=\"Marvin Spielmann\"/></a></td><td class=\"hauptlink\"><div class=\"di nowrap\"><span class=\"hide-for-small\"><a class=\"spielprofil_tooltip\" href=\"/marvin-spielmann/profil/spieler/192653\" id=\"192653\" title=\"Marvin Spielmann\">Marvin Spielmann</a></span></div><div class=\"di nowrap\"><span class=\"show-for-small\"><a class=\"spielprofil_tooltip\" href=\"/marvin-spielmann/profil/spieler/192653\" id=\"192653\" title=\"Marvin Spielmann\">M. Spielmann</a></span></div></td></tr><tr><td>Left Midfield</td></tr></table></td><td class=\"zentriert\">Feb 23, 1996 (23)</td><td class=\"zentriert\"><img alt=\"Switzerland\" class=\"flaggenrahmen\" src=\"https://tmssl.akamaized.net//images/flagge/verysmall/148.png?lm=1520611569\" title=\"Switzerland\"/><br/><img alt=\"DR Congo\" class=\"flaggenrahmen\" src=\"https://tmssl.akamaized.net//images/flagge/verysmall/193.png?lm=1520611569\" title=\"DR Congo\"/></td><td class=\"zentriert\">30.06.2023</td><td class=\"rechts hauptlink\">5,00 mil. € <span class=\"icons_sprite grey-block-ten\" title=\"Previous market value: 5,00 mil. €\"> </span></td></tr>\n",
      "<tr class=\"even\">\n",
      "<td class=\"zentriert rueckennummer bg_Sturm\" title=\"Forward\"><div class=\"rn_nummer\">10</div></td><td class=\"posrela\" title=\"\"><table class=\"inline-table\" title=\"\"><tr><td class=\"\" rowspan=\"2\"><a href=\"#\"><img alt=\"Miralem Sulejmani\" class=\"bilderrahmen-fixed\" src=\"https://tmssl.akamaized.net//images/portrait/small/36080-1533136216.jpg?lm=1533136237\" title=\"Miralem Sulejmani\"/></a></td><td class=\"hauptlink\"><div class=\"di nowrap\"><span class=\"hide-for-small\"><a class=\"spielprofil_tooltip\" href=\"/miralem-sulejmani/profil/spieler/36080\" id=\"36080\" title=\"Miralem Sulejmani\">Miralem Sulejmani</a></span></div><div class=\"di nowrap\"><span class=\"show-for-small\"><a class=\"spielprofil_tooltip\" href=\"/miralem-sulejmani/profil/spieler/36080\" id=\"36080\" title=\"Miralem Sulejmani\">M. Sulejmani</a></span></div><span class=\"verletzt-table icons_sprite\" title=\"Unknown Injury - Return unknown\"> </span></td></tr><tr><td>Left Winger</td></tr></table></td><td class=\"zentriert\">Dec 5, 1988 (30)</td><td class=\"zentriert\"><img alt=\"Serbia\" class=\"flaggenrahmen\" src=\"https://tmssl.akamaized.net//images/flagge/verysmall/215.png?lm=1520611569\" title=\"Serbia\"/></td><td class=\"zentriert\">30.06.2020</td><td class=\"rechts hauptlink\">4,50 mil. € <span class=\"icons_sprite grey-block-ten\" title=\"Previous market value: 4,50 mil. €\"> </span></td></tr>\n",
      "<tr class=\"odd\">\n",
      "<td class=\"zentriert rueckennummer bg_Sturm\" title=\"Forward\"><div class=\"rn_nummer\">19</div></td><td class=\"posrela\" title=\"\"><span class=\"wechsel-kader-wappen hide-for-small\"><a href=\"/bsc-young-boys-u21/startseite/verein/5508/saison_id/2019\" title=\"Internal transfer: BSC Young Boys U21; date: Jul 1, 2019\"><img alt=\"BSC Young Boys U21\" class=\"\" src=\"https://tmssl.akamaized.net//images/wappen/kaderquad/5508.png?lm=1410776679\" title=\"Internal transfer: BSC Young Boys U21; date: Jul 1, 2019\"/></a></span><a class=\"hide-for-small\" href=\"/bsc-young-boys-u21/startseite/verein/5508/saison_id/2019\" title=\"Internal transfer: BSC Young Boys U21; date: Jul 1, 2019\"><img class=\"wechsel-symbol\" height=\"19px\" src=\"/images/icons/zugang_beta_kader.png\" width=\"19px\"/></a><table class=\"inline-table\" title=\"\"><tr><td class=\"\" rowspan=\"2\"><a href=\"#\"><img alt=\"Felix Mambimbi\" class=\"bilderrahmen-fixed\" src=\"https://tmssl.akamaized.net//images/portrait/small/default.jpg?lm=1455618221\" title=\"Felix Mambimbi\"/></a></td><td class=\"hauptlink\"><div class=\"di nowrap\"><span class=\"hide-for-small\"><a class=\"spielprofil_tooltip\" href=\"/felix-mambimbi/profil/spieler/507496\" id=\"507496\" title=\"Felix Mambimbi\">Felix Mambimbi</a></span></div><div class=\"di nowrap\"><span class=\"show-for-small\"><a class=\"spielprofil_tooltip\" href=\"/felix-mambimbi/profil/spieler/507496\" id=\"507496\" title=\"Felix Mambimbi\">F. Mambimbi</a></span></div></td></tr><tr><td>Left Winger</td></tr></table></td><td class=\"zentriert\">Jan 18, 2001 (18)</td><td class=\"zentriert\"><img alt=\"Switzerland\" class=\"flaggenrahmen\" src=\"https://tmssl.akamaized.net//images/flagge/verysmall/148.png?lm=1520611569\" title=\"Switzerland\"/></td><td class=\"zentriert\">30.06.2022</td><td class=\"rechts hauptlink\">450 K € <span class=\"icons_sprite green-arrow-ten\" title=\"Previous market value: 225 K €\"> </span></td></tr>\n",
      "<tr class=\"even\">\n",
      "<td class=\"zentriert rueckennummer bg_Sturm\" title=\"Forward\"><div class=\"rn_nummer\">13</div></td><td class=\"posrela\" title=\"\"><table class=\"inline-table\" title=\"\"><tr><td class=\"\" rowspan=\"2\"><a href=\"#\"><img alt=\"Nicolas Moumi Ngamaleu\" class=\"bilderrahmen-fixed\" src=\"https://tmssl.akamaized.net//images/portrait/small/266768-1533136320.jpg?lm=1533136327\" title=\"Nicolas Moumi Ngamaleu\"/></a></td><td class=\"hauptlink\"><div class=\"di nowrap\"><span class=\"hide-for-small\"><a class=\"spielprofil_tooltip\" href=\"/nicolas-moumi-ngamaleu/profil/spieler/266768\" id=\"266768\" title=\"Nicolas Moumi Ngamaleu\">Nicolas Moumi Ngamaleu</a></span></div><div class=\"di nowrap\"><span class=\"show-for-small\"><a class=\"spielprofil_tooltip\" href=\"/nicolas-moumi-ngamaleu/profil/spieler/266768\" id=\"266768\" title=\"Nicolas Moumi Ngamaleu\">N. Moumi Ngamaleu</a></span></div></td></tr><tr><td>Right Winger</td></tr></table></td><td class=\"zentriert\">Jul 9, 1994 (25)</td><td class=\"zentriert\"><img alt=\"Cameroon\" class=\"flaggenrahmen\" src=\"https://tmssl.akamaized.net//images/flagge/verysmall/31.png?lm=1520611569\" title=\"Cameroon\"/></td><td class=\"zentriert\">30.06.2021</td><td class=\"rechts hauptlink\">6,00 mil. € <span class=\"icons_sprite green-arrow-ten\" title=\"Previous market value: 3,75 mil. €\"> </span></td></tr>\n",
      "<tr class=\"odd\">\n",
      "<td class=\"zentriert rueckennummer bg_Sturm\" title=\"Forward\"><div class=\"rn_nummer\">17</div></td><td class=\"posrela\" title=\"\"><table class=\"inline-table\" title=\"\"><tr><td class=\"\" rowspan=\"2\"><a href=\"#\"><img alt=\"Roger Assalé\" class=\"bilderrahmen-fixed\" src=\"https://tmssl.akamaized.net//images/portrait/small/263183-1533136348.jpg?lm=1533136361\" title=\"Roger Assalé\"/></a></td><td class=\"hauptlink\"><div class=\"di nowrap\"><span class=\"hide-for-small\"><a class=\"spielprofil_tooltip\" href=\"/roger-assale/profil/spieler/263183\" id=\"263183\" title=\"Roger Assalé\">Roger Assalé</a></span></div><div class=\"di nowrap\"><span class=\"show-for-small\"><a class=\"spielprofil_tooltip\" href=\"/roger-assale/profil/spieler/263183\" id=\"263183\" title=\"Roger Assalé\">R. Assalé</a></span></div></td></tr><tr><td>Centre-Forward</td></tr></table></td><td class=\"zentriert\">Nov 13, 1993 (26)</td><td class=\"zentriert\"><img alt=\"Cote d'Ivoire\" class=\"flaggenrahmen\" src=\"https://tmssl.akamaized.net//images/flagge/verysmall/38.png?lm=1520611569\" title=\"Cote d'Ivoire\"/></td><td class=\"zentriert\">30.06.2021</td><td class=\"rechts hauptlink\">7,50 mil. € <span class=\"icons_sprite green-arrow-ten\" title=\"Previous market value: 6,00 mil. €\"> </span></td></tr>\n",
      "<tr class=\"even\">\n",
      "<td class=\"zentriert rueckennummer bg_Sturm\" title=\"Forward\"><div class=\"rn_nummer\">18</div></td><td class=\"posrela\" title=\"\"><table class=\"inline-table\" title=\"\"><tr><td class=\"\" rowspan=\"2\"><a href=\"#\"><img alt=\"Jean-Pierre Nsame\" class=\"bilderrahmen-fixed\" src=\"https://tmssl.akamaized.net//images/portrait/small/225055-1533136378.jpg?lm=1533136386\" title=\"Jean-Pierre Nsame\"/></a></td><td class=\"hauptlink\"><div class=\"di nowrap\"><span class=\"hide-for-small\"><a class=\"spielprofil_tooltip\" href=\"/jean-pierre-nsame/profil/spieler/225055\" id=\"225055\" title=\"Jean-Pierre Nsame\">Jean-Pierre Nsame</a></span></div><div class=\"di nowrap\"><span class=\"show-for-small\"><a class=\"spielprofil_tooltip\" href=\"/jean-pierre-nsame/profil/spieler/225055\" id=\"225055\" title=\"Jean-Pierre Nsame\">J. Nsame</a></span></div></td></tr><tr><td>Centre-Forward</td></tr></table></td><td class=\"zentriert\">May 1, 1993 (26)</td><td class=\"zentriert\"><img alt=\"Cameroon\" class=\"flaggenrahmen\" src=\"https://tmssl.akamaized.net//images/flagge/verysmall/31.png?lm=1520611569\" title=\"Cameroon\"/><br/><img alt=\"France\" class=\"flaggenrahmen\" src=\"https://tmssl.akamaized.net//images/flagge/verysmall/50.png?lm=1520611569\" title=\"France\"/></td><td class=\"zentriert\">30.06.2023</td><td class=\"rechts hauptlink\">4,50 mil. € <span class=\"icons_sprite grey-block-ten\" title=\"Previous market value: 4,50 mil. €\"> </span></td></tr>\n",
      "<tr class=\"odd\">\n",
      "<td class=\"zentriert rueckennummer bg_Sturm\" title=\"Forward\"><div class=\"rn_nummer\">99</div></td><td class=\"posrela\" title=\"\"><table class=\"inline-table\" title=\"\"><tr><td class=\"\" rowspan=\"2\"><a href=\"#\"><img alt=\"Guillaume Hoarau\" class=\"bilderrahmen-fixed\" src=\"https://tmssl.akamaized.net//images/portrait/small/23934-1533136406.jpg?lm=1533136418\" title=\"Guillaume Hoarau\"/></a></td><td class=\"hauptlink\"><div class=\"di nowrap\"><span class=\"hide-for-small\"><a class=\"spielprofil_tooltip\" href=\"/guillaume-hoarau/profil/spieler/23934\" id=\"23934\" title=\"Guillaume Hoarau\">Guillaume Hoarau</a></span></div><div class=\"di nowrap\"><span class=\"show-for-small\"><a class=\"spielprofil_tooltip\" href=\"/guillaume-hoarau/profil/spieler/23934\" id=\"23934\" title=\"Guillaume Hoarau\">G. Hoarau</a></span></div></td></tr><tr><td>Centre-Forward</td></tr></table></td><td class=\"zentriert\">Mar 5, 1984 (35)</td><td class=\"zentriert\"><img alt=\"France\" class=\"flaggenrahmen\" src=\"https://tmssl.akamaized.net//images/flagge/verysmall/50.png?lm=1520611569\" title=\"France\"/><br/><img alt=\"Réunion\" class=\"flaggenrahmen\" src=\"https://tmssl.akamaized.net//images/flagge/verysmall/249.png?lm=1520611569\" title=\"Réunion\"/></td><td class=\"zentriert\">30.06.2020</td><td class=\"rechts hauptlink\">1,50 mil. € <span class=\"icons_sprite grey-block-ten\" title=\"Previous market value: 1,50 mil. €\"> </span></td></tr>\n",
      "</tbody>\n",
      "</table>\n"
     ]
    }
   ],
   "source": [
    "print(tables[1])"
   ]
  },
  {
   "cell_type": "code",
   "execution_count": 50,
   "metadata": {},
   "outputs": [
    {
     "name": "stdout",
     "output_type": "stream",
     "text": [
      "\n",
      "\n",
      "<tbody>\n",
      "<tr>\n",
      "<td>\n",
      "                                                    Filter by season                                                </td>\n",
      "<td>\n",
      "<div class=\"inline-select\">\n",
      "<select class=\"chzn-select\" data-placeholder=\"Filter by season\" name=\"saison_id\" tabindex=\"0\">\n",
      "<option selected=\"selected\" value=\"2019\">19/20</option>\n",
      "<option value=\"2018\">18/19</option>\n",
      "<option value=\"2017\">17/18</option>\n",
      "<option value=\"2016\">16/17</option>\n",
      "<option value=\"2015\">15/16</option>\n",
      "<option value=\"2014\">14/15</option>\n",
      "<option value=\"2013\">13/14</option>\n",
      "<option value=\"2012\">12/13</option>\n",
      "<option value=\"2011\">11/12</option>\n",
      "<option value=\"2010\">10/11</option>\n",
      "<option value=\"2009\">09/10</option>\n",
      "<option value=\"2008\">08/09</option>\n",
      "<option value=\"2007\">07/08</option>\n",
      "<option value=\"2006\">06/07</option>\n",
      "<option value=\"2005\">05/06</option>\n",
      "<option value=\"2004\">04/05</option>\n",
      "<option value=\"2003\">03/04</option>\n",
      "<option value=\"2002\">02/03</option>\n",
      "<option value=\"2001\">01/02</option>\n",
      "<option value=\"2000\">00/01</option>\n",
      "<option value=\"1998\">98/99</option>\n",
      "<option value=\"1997\">97/98</option>\n",
      "<option value=\"1996\">96/97</option>\n",
      "<option value=\"1995\">95/96</option>\n",
      "<option value=\"1994\">94/95</option>\n",
      "<option value=\"1993\">93/94</option>\n",
      "<option value=\"1992\">92/93</option>\n",
      "<option value=\"1991\">91/92</option>\n",
      "<option value=\"1990\">90/91</option>\n",
      "<option value=\"1989\">89/90</option>\n",
      "<option value=\"1988\">88/89</option>\n",
      "<option value=\"1987\">87/88</option>\n",
      "<option value=\"1986\">86/87</option>\n",
      "<option value=\"1985\">85/86</option>\n",
      "<option value=\"1984\">84/85</option>\n",
      "<option value=\"1983\">83/84</option>\n",
      "<option value=\"1982\">82/83</option>\n",
      "<option value=\"1981\">81/82</option>\n",
      "<option value=\"1980\">80/81</option>\n",
      "<option value=\"1979\">79/80</option>\n",
      "<option value=\"1978\">78/79</option>\n",
      "<option value=\"1977\">77/78</option>\n",
      "<option value=\"1976\">76/77</option>\n",
      "<option value=\"1975\">75/76</option>\n",
      "<option value=\"1974\">74/75</option>\n",
      "<option value=\"1973\">73/74</option>\n",
      "<option value=\"1967\">67/68</option>\n",
      "<option value=\"1964\">64/65</option>\n",
      "<option value=\"1962\">62/63</option>\n",
      "<option value=\"1960\">60/61</option>\n",
      "<option value=\"1959\">59/60</option>\n",
      "<option value=\"1958\">58/59</option>\n",
      "<option value=\"1957\">57/58</option>\n",
      "<option value=\"1956\">56/57</option>\n",
      "<option value=\"1953\">53/54</option>\n",
      "<option value=\"1950\">50/51</option>\n",
      "</select>\n",
      "</div>\n",
      "</td>\n",
      "<td>\n",
      "<input class=\"small button\" type=\"submit\" value=\"Show\"/>\n",
      "</td>\n",
      "</tr>\n",
      "</tbody>\n",
      "\n",
      "\n"
     ]
    }
   ],
   "source": [
    "for table in tables:\n",
    "    print(table)"
   ]
  },
  {
   "cell_type": "code",
   "execution_count": null,
   "metadata": {},
   "outputs": [],
   "source": [
    "#player_table = soup.find_all('responsive-table', class_='outer-text')"
   ]
  },
  {
   "cell_type": "code",
   "execution_count": 20,
   "metadata": {},
   "outputs": [],
   "source": [
    "table = soup.find('table', attrs={'class':'lineItemsTable'})\n",
    "#table_body = table.find('tbody')"
   ]
  },
  {
   "cell_type": "code",
   "execution_count": 29,
   "metadata": {},
   "outputs": [
    {
     "name": "stdout",
     "output_type": "stream",
     "text": [
      "[]\n"
     ]
    }
   ],
   "source": [
    "print(soup.find_all('table'))"
   ]
  },
  {
   "cell_type": "code",
   "execution_count": 33,
   "metadata": {},
   "outputs": [
    {
     "data": {
      "text/plain": [
       "<html>\n",
       "<head><title>404 Not Found</title></head>\n",
       "<body bgcolor=\"white\">\n",
       "<center><h1>404 Not Found</h1></center>\n",
       "<hr/><center>nginx</center>\n",
       "</body>\n",
       "</html>"
      ]
     },
     "execution_count": 33,
     "metadata": {},
     "output_type": "execute_result"
    }
   ],
   "source": [
    "soup"
   ]
  },
  {
   "cell_type": "code",
   "execution_count": 3,
   "metadata": {},
   "outputs": [],
   "source": [
    "import urllib.request  # we are going to need to generate a Request object\n",
    "from bs4 import BeautifulSoup as soup\n",
    "\n",
    "\n",
    "# here we define the headers for the request\n",
    "headers = {'User-Agent': 'Mozilla/5.0 (Macintosh; Intel Mac OS X 10.13; rv:63.0) Gecko/20100101 Firefox/63.0'}\n",
    "\n",
    "# this request object will integrate your URL and the headers defined above\n",
    "req = urllib.request.Request(url=my_url, headers=headers)\n",
    "\n",
    "# calling urlopen this way will automatically handle closing the request\n",
    "with urllib.request.urlopen(req) as response:\n",
    "    page_html = response.read()"
   ]
  },
  {
   "cell_type": "code",
   "execution_count": 5,
   "metadata": {},
   "outputs": [],
   "source": [
    "df = pd.read_html(page_html)"
   ]
  },
  {
   "cell_type": "code",
   "execution_count": 11,
   "metadata": {},
   "outputs": [
    {
     "data": {
      "text/html": [
       "<div>\n",
       "<style scoped>\n",
       "    .dataframe tbody tr th:only-of-type {\n",
       "        vertical-align: middle;\n",
       "    }\n",
       "\n",
       "    .dataframe tbody tr th {\n",
       "        vertical-align: top;\n",
       "    }\n",
       "\n",
       "    .dataframe thead th {\n",
       "        text-align: right;\n",
       "    }\n",
       "</style>\n",
       "<table border=\"1\" class=\"dataframe\">\n",
       "  <thead>\n",
       "    <tr style=\"text-align: right;\">\n",
       "      <th></th>\n",
       "      <th>0</th>\n",
       "      <th>1</th>\n",
       "    </tr>\n",
       "  </thead>\n",
       "  <tbody>\n",
       "    <tr>\n",
       "      <td>0</td>\n",
       "      <td>NaN</td>\n",
       "      <td>Marco WölfliM. Wölfli</td>\n",
       "    </tr>\n",
       "    <tr>\n",
       "      <td>1</td>\n",
       "      <td>NaN</td>\n",
       "      <td>Goalkeeper</td>\n",
       "    </tr>\n",
       "  </tbody>\n",
       "</table>\n",
       "</div>"
      ],
      "text/plain": [
       "    0                      1\n",
       "0 NaN  Marco WölfliM. Wölfli\n",
       "1 NaN             Goalkeeper"
      ]
     },
     "execution_count": 11,
     "metadata": {},
     "output_type": "execute_result"
    }
   ],
   "source": [
    "df[3]"
   ]
  },
  {
   "cell_type": "code",
   "execution_count": null,
   "metadata": {},
   "outputs": [],
   "source": []
  }
 ],
 "metadata": {
  "kernelspec": {
   "display_name": "Python 3",
   "language": "python",
   "name": "python3"
  },
  "language_info": {
   "codemirror_mode": {
    "name": "ipython",
    "version": 3
   },
   "file_extension": ".py",
   "mimetype": "text/x-python",
   "name": "python",
   "nbconvert_exporter": "python",
   "pygments_lexer": "ipython3",
   "version": "3.7.3"
  }
 },
 "nbformat": 4,
 "nbformat_minor": 4
}
