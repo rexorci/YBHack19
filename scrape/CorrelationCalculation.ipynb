{
 "cells": [
  {
   "cell_type": "code",
   "execution_count": 284,
   "metadata": {},
   "outputs": [],
   "source": [
    "#!pip install sklearn"
   ]
  },
  {
   "cell_type": "code",
   "execution_count": 110,
   "metadata": {},
   "outputs": [],
   "source": [
    "import pandas as pd\n",
    "import numpy as np"
   ]
  },
  {
   "cell_type": "code",
   "execution_count": 111,
   "metadata": {},
   "outputs": [],
   "source": [
    "df_performance = pd.read_csv('../data/df_dynamic_performance_merged.csv')\n",
    "df_fame = pd.read_csv('../data/df_dynamic_fame_merged.csv')"
   ]
  },
  {
   "cell_type": "code",
   "execution_count": 112,
   "metadata": {},
   "outputs": [],
   "source": [
    "df_performance = df_performance.drop_duplicates(subset=[\"name\", \"score\", \"market_value\", \"score_norm\", \"performance\"])\n",
    "df_fame = df_fame.drop_duplicates(subset=[\"name\", \"note\", \"likes\"])"
   ]
  },
  {
   "cell_type": "code",
   "execution_count": 113,
   "metadata": {},
   "outputs": [],
   "source": [
    "all_merge = pd.merge(df_fame, df_performance,  how='right', left_on=['name','date'], right_on = ['name','date'])"
   ]
  },
  {
   "cell_type": "code",
   "execution_count": null,
   "metadata": {},
   "outputs": [],
   "source": []
  },
  {
   "cell_type": "code",
   "execution_count": 117,
   "metadata": {},
   "outputs": [],
   "source": [
    "def calculate_correlation(df_sub):\n",
    "    cor = df_sub['performance'].corr(df_sub['fame'])\n",
    "    return cor"
   ]
  },
  {
   "cell_type": "code",
   "execution_count": 115,
   "metadata": {},
   "outputs": [],
   "source": [
    "df_correlations = pd.DataFrame(all_merge.groupby('name').apply(lambda x: calculate_correlation(x))).reset_index()\n",
    "\n",
    "df_correlations.columns = ['name', 'correlation']"
   ]
  },
  {
   "cell_type": "code",
   "execution_count": 116,
   "metadata": {},
   "outputs": [
    {
     "data": {
      "text/html": [
       "<div>\n",
       "<style scoped>\n",
       "    .dataframe tbody tr th:only-of-type {\n",
       "        vertical-align: middle;\n",
       "    }\n",
       "\n",
       "    .dataframe tbody tr th {\n",
       "        vertical-align: top;\n",
       "    }\n",
       "\n",
       "    .dataframe thead th {\n",
       "        text-align: right;\n",
       "    }\n",
       "</style>\n",
       "<table border=\"1\" class=\"dataframe\">\n",
       "  <thead>\n",
       "    <tr style=\"text-align: right;\">\n",
       "      <th></th>\n",
       "      <th>name</th>\n",
       "      <th>correlation</th>\n",
       "    </tr>\n",
       "  </thead>\n",
       "  <tbody>\n",
       "    <tr>\n",
       "      <td>0</td>\n",
       "      <td>Christian Fassnacht</td>\n",
       "      <td>0.486808</td>\n",
       "    </tr>\n",
       "    <tr>\n",
       "      <td>1</td>\n",
       "      <td>Christopher Martins Pereira</td>\n",
       "      <td>0.669760</td>\n",
       "    </tr>\n",
       "    <tr>\n",
       "      <td>2</td>\n",
       "      <td>Cédric Zesiger</td>\n",
       "      <td>0.500795</td>\n",
       "    </tr>\n",
       "    <tr>\n",
       "      <td>3</td>\n",
       "      <td>Dario Marzino</td>\n",
       "      <td>0.669760</td>\n",
       "    </tr>\n",
       "    <tr>\n",
       "      <td>4</td>\n",
       "      <td>David Von Ballmoos</td>\n",
       "      <td>0.500795</td>\n",
       "    </tr>\n",
       "    <tr>\n",
       "      <td>5</td>\n",
       "      <td>Esteban Petignat</td>\n",
       "      <td>0.669760</td>\n",
       "    </tr>\n",
       "    <tr>\n",
       "      <td>6</td>\n",
       "      <td>Fabian Lustenberger</td>\n",
       "      <td>0.500795</td>\n",
       "    </tr>\n",
       "    <tr>\n",
       "      <td>7</td>\n",
       "      <td>Felix Mambimbi</td>\n",
       "      <td>0.669760</td>\n",
       "    </tr>\n",
       "    <tr>\n",
       "      <td>8</td>\n",
       "      <td>Frederik Sörensen</td>\n",
       "      <td>0.500795</td>\n",
       "    </tr>\n",
       "    <tr>\n",
       "      <td>9</td>\n",
       "      <td>Gianluca Gaudino</td>\n",
       "      <td>0.500795</td>\n",
       "    </tr>\n",
       "    <tr>\n",
       "      <td>10</td>\n",
       "      <td>Guillaume Hoarau</td>\n",
       "      <td>0.500795</td>\n",
       "    </tr>\n",
       "    <tr>\n",
       "      <td>11</td>\n",
       "      <td>Jean-Pierre Nsame</td>\n",
       "      <td>0.500795</td>\n",
       "    </tr>\n",
       "    <tr>\n",
       "      <td>12</td>\n",
       "      <td>Jordan Lotomba</td>\n",
       "      <td>0.500795</td>\n",
       "    </tr>\n",
       "    <tr>\n",
       "      <td>13</td>\n",
       "      <td>Marco Wölfli</td>\n",
       "      <td>0.500795</td>\n",
       "    </tr>\n",
       "    <tr>\n",
       "      <td>14</td>\n",
       "      <td>Marvin Spielmann</td>\n",
       "      <td>0.500795</td>\n",
       "    </tr>\n",
       "    <tr>\n",
       "      <td>15</td>\n",
       "      <td>Michel Aebischer</td>\n",
       "      <td>0.500795</td>\n",
       "    </tr>\n",
       "    <tr>\n",
       "      <td>16</td>\n",
       "      <td>Miralem Sulejmani</td>\n",
       "      <td>0.611756</td>\n",
       "    </tr>\n",
       "    <tr>\n",
       "      <td>17</td>\n",
       "      <td>Mohamed Ali Camara</td>\n",
       "      <td>0.500795</td>\n",
       "    </tr>\n",
       "    <tr>\n",
       "      <td>18</td>\n",
       "      <td>Nicolas Bürgy</td>\n",
       "      <td>0.611756</td>\n",
       "    </tr>\n",
       "    <tr>\n",
       "      <td>19</td>\n",
       "      <td>Nicolas Moumi Ngamaleu</td>\n",
       "      <td>0.500795</td>\n",
       "    </tr>\n",
       "    <tr>\n",
       "      <td>20</td>\n",
       "      <td>Roger Assalé</td>\n",
       "      <td>0.611756</td>\n",
       "    </tr>\n",
       "    <tr>\n",
       "      <td>21</td>\n",
       "      <td>Saidy Janko</td>\n",
       "      <td>0.500795</td>\n",
       "    </tr>\n",
       "    <tr>\n",
       "      <td>22</td>\n",
       "      <td>Sandro Lauper</td>\n",
       "      <td>0.500795</td>\n",
       "    </tr>\n",
       "    <tr>\n",
       "      <td>23</td>\n",
       "      <td>Ulisses Garcia</td>\n",
       "      <td>0.500795</td>\n",
       "    </tr>\n",
       "    <tr>\n",
       "      <td>24</td>\n",
       "      <td>Vincent Sierro</td>\n",
       "      <td>0.500795</td>\n",
       "    </tr>\n",
       "  </tbody>\n",
       "</table>\n",
       "</div>"
      ],
      "text/plain": [
       "                           name  correlation\n",
       "0           Christian Fassnacht     0.486808\n",
       "1   Christopher Martins Pereira     0.669760\n",
       "2                Cédric Zesiger     0.500795\n",
       "3                 Dario Marzino     0.669760\n",
       "4            David Von Ballmoos     0.500795\n",
       "5              Esteban Petignat     0.669760\n",
       "6           Fabian Lustenberger     0.500795\n",
       "7                Felix Mambimbi     0.669760\n",
       "8             Frederik Sörensen     0.500795\n",
       "9              Gianluca Gaudino     0.500795\n",
       "10             Guillaume Hoarau     0.500795\n",
       "11            Jean-Pierre Nsame     0.500795\n",
       "12               Jordan Lotomba     0.500795\n",
       "13                 Marco Wölfli     0.500795\n",
       "14             Marvin Spielmann     0.500795\n",
       "15             Michel Aebischer     0.500795\n",
       "16            Miralem Sulejmani     0.611756\n",
       "17           Mohamed Ali Camara     0.500795\n",
       "18                Nicolas Bürgy     0.611756\n",
       "19       Nicolas Moumi Ngamaleu     0.500795\n",
       "20                 Roger Assalé     0.611756\n",
       "21                  Saidy Janko     0.500795\n",
       "22                Sandro Lauper     0.500795\n",
       "23               Ulisses Garcia     0.500795\n",
       "24               Vincent Sierro     0.500795"
      ]
     },
     "execution_count": 116,
     "metadata": {},
     "output_type": "execute_result"
    }
   ],
   "source": [
    "df_correlations"
   ]
  },
  {
   "cell_type": "markdown",
   "metadata": {},
   "source": [
    "## Save to CSV"
   ]
  },
  {
   "cell_type": "code",
   "execution_count": 27,
   "metadata": {},
   "outputs": [],
   "source": [
    "df_correlations.to_csv( '../data/df_correlations.csv', index=False)"
   ]
  },
  {
   "cell_type": "code",
   "execution_count": null,
   "metadata": {},
   "outputs": [],
   "source": []
  }
 ],
 "metadata": {
  "kernelspec": {
   "display_name": "Python 3",
   "language": "python",
   "name": "python3"
  },
  "language_info": {
   "codemirror_mode": {
    "name": "ipython",
    "version": 3
   },
   "file_extension": ".py",
   "mimetype": "text/x-python",
   "name": "python",
   "nbconvert_exporter": "python",
   "pygments_lexer": "ipython3",
   "version": "3.7.3"
  }
 },
 "nbformat": 4,
 "nbformat_minor": 4
}
