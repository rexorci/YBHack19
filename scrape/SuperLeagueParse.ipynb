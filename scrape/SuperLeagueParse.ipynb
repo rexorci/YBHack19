{
 "cells": [
  {
   "cell_type": "code",
   "execution_count": 1,
   "metadata": {},
   "outputs": [],
   "source": [
    "#!pip install beautifulsoup4"
   ]
  },
  {
   "cell_type": "code",
   "execution_count": 1,
   "metadata": {},
   "outputs": [],
   "source": [
    "import pandas as pd\n",
    "import numpy as np\n",
    "import requests\n",
    "import lxml\n",
    "from bs4 import BeautifulSoup\n",
    "import urllib.request \n",
    "import sys\n",
    "import time\n",
    "from datetime import datetime"
   ]
  },
  {
   "cell_type": "code",
   "execution_count": 2,
   "metadata": {},
   "outputs": [],
   "source": [
    "df_player_scores = pd.read_csv('../data/player_scores.csv')"
   ]
  },
  {
   "cell_type": "code",
   "execution_count": 3,
   "metadata": {},
   "outputs": [
    {
     "data": {
      "text/html": [
       "<div>\n",
       "<style scoped>\n",
       "    .dataframe tbody tr th:only-of-type {\n",
       "        vertical-align: middle;\n",
       "    }\n",
       "\n",
       "    .dataframe tbody tr th {\n",
       "        vertical-align: top;\n",
       "    }\n",
       "\n",
       "    .dataframe thead th {\n",
       "        text-align: right;\n",
       "    }\n",
       "</style>\n",
       "<table border=\"1\" class=\"dataframe\">\n",
       "  <thead>\n",
       "    <tr style=\"text-align: right;\">\n",
       "      <th></th>\n",
       "      <th>player_name</th>\n",
       "      <th>season</th>\n",
       "      <th>week</th>\n",
       "      <th>score</th>\n",
       "    </tr>\n",
       "  </thead>\n",
       "  <tbody>\n",
       "    <tr>\n",
       "      <th>0</th>\n",
       "      <td>Marco Wölfli</td>\n",
       "      <td>100</td>\n",
       "      <td>0</td>\n",
       "      <td>3</td>\n",
       "    </tr>\n",
       "    <tr>\n",
       "      <th>1</th>\n",
       "      <td>Marco Wölfli</td>\n",
       "      <td>100</td>\n",
       "      <td>1</td>\n",
       "      <td>1</td>\n",
       "    </tr>\n",
       "    <tr>\n",
       "      <th>2</th>\n",
       "      <td>Marco Wölfli</td>\n",
       "      <td>100</td>\n",
       "      <td>2</td>\n",
       "      <td>2</td>\n",
       "    </tr>\n",
       "    <tr>\n",
       "      <th>3</th>\n",
       "      <td>Marco Wölfli</td>\n",
       "      <td>100</td>\n",
       "      <td>3</td>\n",
       "      <td>2</td>\n",
       "    </tr>\n",
       "    <tr>\n",
       "      <th>4</th>\n",
       "      <td>Marco Wölfli</td>\n",
       "      <td>100</td>\n",
       "      <td>4</td>\n",
       "      <td>4</td>\n",
       "    </tr>\n",
       "    <tr>\n",
       "      <th>...</th>\n",
       "      <td>...</td>\n",
       "      <td>...</td>\n",
       "      <td>...</td>\n",
       "      <td>...</td>\n",
       "    </tr>\n",
       "    <tr>\n",
       "      <th>7454</th>\n",
       "      <td>Guillaume Hoarau</td>\n",
       "      <td>2100</td>\n",
       "      <td>9</td>\n",
       "      <td>0</td>\n",
       "    </tr>\n",
       "    <tr>\n",
       "      <th>7455</th>\n",
       "      <td>Guillaume Hoarau</td>\n",
       "      <td>2100</td>\n",
       "      <td>10</td>\n",
       "      <td>0</td>\n",
       "    </tr>\n",
       "    <tr>\n",
       "      <th>7456</th>\n",
       "      <td>Guillaume Hoarau</td>\n",
       "      <td>2100</td>\n",
       "      <td>11</td>\n",
       "      <td>0</td>\n",
       "    </tr>\n",
       "    <tr>\n",
       "      <th>7457</th>\n",
       "      <td>Guillaume Hoarau</td>\n",
       "      <td>2100</td>\n",
       "      <td>12</td>\n",
       "      <td>4</td>\n",
       "    </tr>\n",
       "    <tr>\n",
       "      <th>7458</th>\n",
       "      <td>Guillaume Hoarau</td>\n",
       "      <td>2100</td>\n",
       "      <td>13</td>\n",
       "      <td>2</td>\n",
       "    </tr>\n",
       "  </tbody>\n",
       "</table>\n",
       "<p>7459 rows × 4 columns</p>\n",
       "</div>"
      ],
      "text/plain": [
       "           player_name  season  week  score\n",
       "0         Marco Wölfli     100     0      3\n",
       "1         Marco Wölfli     100     1      1\n",
       "2         Marco Wölfli     100     2      2\n",
       "3         Marco Wölfli     100     3      2\n",
       "4         Marco Wölfli     100     4      4\n",
       "...                ...     ...   ...    ...\n",
       "7454  Guillaume Hoarau    2100     9      0\n",
       "7455  Guillaume Hoarau    2100    10      0\n",
       "7456  Guillaume Hoarau    2100    11      0\n",
       "7457  Guillaume Hoarau    2100    12      4\n",
       "7458  Guillaume Hoarau    2100    13      2\n",
       "\n",
       "[7459 rows x 4 columns]"
      ]
     },
     "execution_count": 3,
     "metadata": {},
     "output_type": "execute_result"
    }
   ],
   "source": [
    "df_player_scores"
   ]
  },
  {
   "cell_type": "code",
   "execution_count": 39,
   "metadata": {},
   "outputs": [],
   "source": [
    "def html_call(url):\n",
    "    # here we define the headers for the request\n",
    "    headers = {'User-Agent': 'Mozilla/5.0 (Macintosh; Intel Mac OS X 10.13; rv:63.0) Gecko/20100101 Firefox/63.0'}\n",
    "\n",
    "    # this request object will integrate your URL and the headers defined above\n",
    "    req = urllib.request.Request(url=url, headers=headers)\n",
    "    #req = urllib.request.Request(url=url, headers=headers)\n",
    "    # calling urlopen this way will automatically handle closing the request\n",
    "    \n",
    "    time.sleep(0.5)\n",
    "    with urllib.request.urlopen(req,timeout=20) as response:\n",
    "        page_html = response.read()\n",
    "    return page_html"
   ]
  },
  {
   "cell_type": "code",
   "execution_count": 9,
   "metadata": {},
   "outputs": [],
   "source": [
    "def parse_play_date(play_date, season):    \n",
    "    # skip EM (3, 13) and WM (8, 18)\n",
    "    season_to_year = {\n",
    "        0 : 2011,\n",
    "        1 : 2012,\n",
    "        3 : 2012,\n",
    "        4 : 2013,\n",
    "        5 : 2013,\n",
    "        6 : 2014,\n",
    "        8 : 2014,\n",
    "        9 : 2015,\n",
    "        10 : 2015,\n",
    "        11 : 2016,\n",
    "        13 : 2016,\n",
    "        14 : 2017,\n",
    "        15 : 2017,\n",
    "        16 : 2018,\n",
    "        18 : 2018,\n",
    "        19 : 2019,\n",
    "        20 : 2019}\n",
    "    datetime_object = datetime.strptime(f'{play_date[4:]} {season_to_year[season]}','%d.%m. %H:%M %Y')\n",
    "    return datetime_object  "
   ]
  },
  {
   "cell_type": "code",
   "execution_count": 61,
   "metadata": {},
   "outputs": [],
   "source": [
    "def super_league_parse():\n",
    "    scores_per_week = {}\n",
    "    season_list = []\n",
    "    week_list = []\n",
    "    date_times_list = []\n",
    "    #for season in range(21):\n",
    "    yb_matches_list = []\n",
    "    #for season in [2019]:\n",
    "    for season in range(2011,2020):\n",
    "        # skip EM (3, 13) and WM (8, 18)\n",
    "        #if season in(2,12,7,17):\n",
    "            #continue\n",
    "        try:\n",
    "            url = f'https://www.weltfussball.com/alle_spiele/sui-super-league-{season}-{season+1}/'\n",
    "            # url = f'https://www.mydreamteam.ch/spielplan_super_league.php?season={season_str}'\n",
    "            print(url)\n",
    "            html = html_call(url)\n",
    "            soup = BeautifulSoup(html,'html.parser')\n",
    "            matches = soup.find_all('table',{'class':'standard_tabelle'})\n",
    "            df_matches = pd.read_html(str(matches[0]),header=0)[0]\n",
    "            df_matches.columns = ['date','time','home','a','guest','b','c','d']\n",
    "            df_matches = df_matches.ffill()\n",
    "            df_matches_yb = df_matches[(df_matches['home'] == 'BSC Young Boys') | (df_matches['guest'] == 'BSC Young Boys')]\n",
    "            yb_matches_list.append(df_matches_yb)            \n",
    "        except:\n",
    "            print(sys.exc_info())\n",
    "            return 0\n",
    "        \n",
    "    return yb_matches_list"
   ]
  },
  {
   "cell_type": "code",
   "execution_count": 62,
   "metadata": {},
   "outputs": [
    {
     "name": "stdout",
     "output_type": "stream",
     "text": [
      "https://www.weltfussball.com/alle_spiele/sui-super-league-2011-2012/\n",
      "https://www.weltfussball.com/alle_spiele/sui-super-league-2012-2013/\n",
      "https://www.weltfussball.com/alle_spiele/sui-super-league-2013-2014/\n",
      "https://www.weltfussball.com/alle_spiele/sui-super-league-2014-2015/\n",
      "https://www.weltfussball.com/alle_spiele/sui-super-league-2015-2016/\n",
      "https://www.weltfussball.com/alle_spiele/sui-super-league-2016-2017/\n",
      "https://www.weltfussball.com/alle_spiele/sui-super-league-2017-2018/\n",
      "https://www.weltfussball.com/alle_spiele/sui-super-league-2018-2019/\n",
      "https://www.weltfussball.com/alle_spiele/sui-super-league-2019-2020/\n"
     ]
    }
   ],
   "source": [
    "yb_matches_list = super_league_parse()"
   ]
  },
  {
   "cell_type": "code",
   "execution_count": 86,
   "metadata": {},
   "outputs": [],
   "source": [
    "def date_to_dream_season(date):\n",
    "    dto = datetime.strptime(date,'%d.%m.%Y')\n",
    "\n",
    "    # skip EM (3, 13) and WM (8, 18)\n",
    "    if dto > datetime.strptime('01.07.2011','%d.%m.%Y') and dto < datetime.strptime('01.01.2012','%d.%m.%Y'):\n",
    "        season = 100\n",
    "    elif dto > datetime.strptime('01.01.2012','%d.%m.%Y') and dto < datetime.strptime('01.07.2012','%d.%m.%Y'):\n",
    "        season = 200\n",
    "    elif dto > datetime.strptime('01.07.2012','%d.%m.%Y') and dto < datetime.strptime('01.01.2013','%d.%m.%Y'):\n",
    "        season = 400\n",
    "    elif dto > datetime.strptime('01.01.2013','%d.%m.%Y') and dto < datetime.strptime('01.07.2013','%d.%m.%Y'):\n",
    "        season = 500\n",
    "    elif dto > datetime.strptime('01.07.2013','%d.%m.%Y') and dto < datetime.strptime('01.01.2014','%d.%m.%Y'):\n",
    "        season = 600\n",
    "    elif dto > datetime.strptime('01.01.2014','%d.%m.%Y') and dto < datetime.strptime('01.07.2014','%d.%m.%Y'):\n",
    "        season = 700\n",
    "    elif dto > datetime.strptime('01.07.2014','%d.%m.%Y') and dto < datetime.strptime('01.01.2015','%d.%m.%Y'):\n",
    "        season = 900\n",
    "    elif dto > datetime.strptime('01.01.2015','%d.%m.%Y') and dto < datetime.strptime('01.07.2015','%d.%m.%Y'):\n",
    "        season = 1000\n",
    "    elif dto > datetime.strptime('01.07.2015','%d.%m.%Y') and dto < datetime.strptime('01.01.2016','%d.%m.%Y'):\n",
    "        season = 1100\n",
    "    elif dto > datetime.strptime('01.01.2015','%d.%m.%Y') and dto < datetime.strptime('01.07.2016','%d.%m.%Y'):\n",
    "        season = 1200\n",
    "    elif dto > datetime.strptime('01.07.2016','%d.%m.%Y') and dto < datetime.strptime('01.01.2017','%d.%m.%Y'):\n",
    "        season = 1400\n",
    "    elif dto > datetime.strptime('01.01.2016','%d.%m.%Y') and dto < datetime.strptime('01.07.2017','%d.%m.%Y'):\n",
    "        season = 1500\n",
    "    elif dto > datetime.strptime('01.07.2017','%d.%m.%Y') and dto < datetime.strptime('01.01.2018','%d.%m.%Y'):\n",
    "        season = 1600\n",
    "    elif dto > datetime.strptime('01.01.2017','%d.%m.%Y') and dto < datetime.strptime('01.07.2018','%d.%m.%Y'):\n",
    "        season = 1700\n",
    "    elif dto > datetime.strptime('01.07.2018','%d.%m.%Y') and dto < datetime.strptime('01.01.2019','%d.%m.%Y'):\n",
    "        season = 1900\n",
    "    elif dto > datetime.strptime('01.01.2018','%d.%m.%Y') and dto < datetime.strptime('01.07.2019','%d.%m.%Y'):\n",
    "        season = 2000\n",
    "    elif dto > datetime.strptime('01.07.2019','%d.%m.%Y') and dto < datetime.strptime('01.01.2020','%d.%m.%Y'):\n",
    "        season = 2100\n",
    "    else:\n",
    "        season = 2200\n",
    "    return season"
   ]
  },
  {
   "cell_type": "code",
   "execution_count": 100,
   "metadata": {
    "scrolled": true
   },
   "outputs": [],
   "source": [
    "playday_list = list(range(0,18)) * 2\n",
    "for season_matches in yb_matches_list:\n",
    "    season_matches['play_day'] = playday_list\n",
    "    season_matches['season'] = season_matches['date'].apply(lambda x:date_to_dream_season(x) )"
   ]
  },
  {
   "cell_type": "code",
   "execution_count": 101,
   "metadata": {},
   "outputs": [],
   "source": [
    "df_yb_matches_enriched = pd.concat(yb_matches_list)"
   ]
  },
  {
   "cell_type": "code",
   "execution_count": 103,
   "metadata": {},
   "outputs": [],
   "source": [
    "df_player_scores_parsed = pd.merge(df_player_scores, df_yb_matches_enriched,  how='left', left_on=['season','week'], right_on = ['season','play_day'])"
   ]
  },
  {
   "cell_type": "code",
   "execution_count": 12,
   "metadata": {},
   "outputs": [],
   "source": [
    "df_player_scores_parsed.to_csv( '../data/player_scores_parsed.csv', index=False)"
   ]
  },
  {
   "cell_type": "code",
   "execution_count": 109,
   "metadata": {},
   "outputs": [],
   "source": [
    "df_player_scores_parsed[['player_name','score','date']].to_csv( '../data/player_scores_parsed.csv', index=False)"
   ]
  }
 ],
 "metadata": {
  "kernelspec": {
   "display_name": "Python 3",
   "language": "python",
   "name": "python3"
  },
  "language_info": {
   "codemirror_mode": {
    "name": "ipython",
    "version": 3
   },
   "file_extension": ".py",
   "mimetype": "text/x-python",
   "name": "python",
   "nbconvert_exporter": "python",
   "pygments_lexer": "ipython3",
   "version": "3.6.8"
  }
 },
 "nbformat": 4,
 "nbformat_minor": 2
}
