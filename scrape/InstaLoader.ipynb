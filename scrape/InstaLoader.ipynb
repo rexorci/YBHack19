{
 "cells": [
  {
   "cell_type": "code",
   "execution_count": 31,
   "metadata": {},
   "outputs": [
    {
     "name": "stdout",
     "output_type": "stream",
     "text": [
      "Collecting tqdm\n",
      "\u001b[?25l  Downloading https://files.pythonhosted.org/packages/b9/08/8505f192efc72bfafec79655e1d8351d219e2b80b0dec4ae71f50934c17a/tqdm-4.38.0-py2.py3-none-any.whl (53kB)\n",
      "\u001b[K     |████████████████████████████████| 61kB 307kB/s eta 0:00:01\n",
      "\u001b[?25hInstalling collected packages: tqdm\n",
      "Successfully installed tqdm-4.38.0\n"
     ]
    }
   ],
   "source": [
    "!pip install tqdm"
   ]
  },
  {
   "cell_type": "code",
   "execution_count": 32,
   "metadata": {},
   "outputs": [],
   "source": [
    "import pandas as pd\n",
    "import numpy as np\n",
    "import requests\n",
    "import lxml\n",
    "from instaloader import Instaloader, Profile\n",
    "from tqdm import tqdm "
   ]
  },
  {
   "cell_type": "code",
   "execution_count": 11,
   "metadata": {},
   "outputs": [],
   "source": [
    "df_social_media = pd.read_csv('sm_accounts.csv')"
   ]
  },
  {
   "cell_type": "code",
   "execution_count": 38,
   "metadata": {},
   "outputs": [],
   "source": [
    "def fetch_likes_of_posts(profile):\n",
    "    print(profile)\n",
    "    L = Instaloader()\n",
    "\n",
    "    # Obtain profile\n",
    "    profile = Profile.from_username(L.context, profile)\n",
    "\n",
    "    # Get all posts and sort them by their number of likes\n",
    "    posts = profile.get_posts()\n",
    "    likes = []\n",
    "    post_dates = []\n",
    "    for p in tqdm(posts):\n",
    "        likes.append(p.likes)\n",
    "        post_dates.append(p.date)\n",
    "    return likes, post_dates"
   ]
  },
  {
   "cell_type": "code",
   "execution_count": 36,
   "metadata": {},
   "outputs": [
    {
     "name": "stderr",
     "output_type": "stream",
     "text": [
      "\n",
      "0it [00:00, ?it/s]\u001b[A\n",
      "13it [00:02,  4.59it/s]\u001b[A\n",
      "63it [00:04,  6.15it/s]\u001b[A\n",
      "146it [00:07, 19.69it/s]\u001b[A\n"
     ]
    }
   ],
   "source": [
    "likes, post_dates = fetch_likes_of_posts('woelfli_1')"
   ]
  },
  {
   "cell_type": "code",
   "execution_count": 44,
   "metadata": {},
   "outputs": [
    {
     "name": "stdout",
     "output_type": "stream",
     "text": [
      "woelfli_1\n"
     ]
    },
    {
     "name": "stderr",
     "output_type": "stream",
     "text": [
      "\n",
      "0it [00:00, ?it/s]\u001b[A\n",
      "13it [00:02,  6.21it/s]\u001b[A\n",
      "63it [00:04,  7.95it/s]\u001b[A\n",
      "146it [00:05, 27.39it/s]\u001b[A\n"
     ]
    },
    {
     "name": "stdout",
     "output_type": "stream",
     "text": [
      "davidvonballmoos\n"
     ]
    },
    {
     "name": "stderr",
     "output_type": "stream",
     "text": [
      "\n",
      "0it [00:00, ?it/s]\u001b[A\n",
      "13it [00:01,  7.08it/s]\u001b[A\n",
      "95it [00:03, 27.41it/s]\u001b[A\n"
     ]
    },
    {
     "name": "stdout",
     "output_type": "stream",
     "text": [
      "dariomarzino\n"
     ]
    },
    {
     "name": "stderr",
     "output_type": "stream",
     "text": [
      "\n",
      "0it [00:00, ?it/s]\u001b[A\n",
      "42it [00:03, 11.23it/s]\u001b[A\n"
     ]
    },
    {
     "name": "stdout",
     "output_type": "stream",
     "text": [
      "frederiksorensen4\n"
     ]
    },
    {
     "name": "stderr",
     "output_type": "stream",
     "text": [
      "\n",
      "0it [00:00, ?it/s]\u001b[A\n",
      "13it [00:01,  7.77it/s]\u001b[A\n",
      "89it [00:02, 32.42it/s]\u001b[A\n"
     ]
    },
    {
     "name": "stdout",
     "output_type": "stream",
     "text": [
      "camara_mhdali4\n"
     ]
    },
    {
     "name": "stderr",
     "output_type": "stream",
     "text": [
      "\n",
      "0it [00:00, ?it/s]\u001b[A\n",
      "36it [00:01, 30.08it/s]\u001b[A\n"
     ]
    },
    {
     "name": "stdout",
     "output_type": "stream",
     "text": [
      "zesiger5\n"
     ]
    },
    {
     "name": "stderr",
     "output_type": "stream",
     "text": [
      "\n",
      "0it [00:00, ?it/s]\u001b[A\n",
      "13it [00:03,  3.69it/s]\u001b[A\n",
      "63it [00:06,  4.87it/s]\u001b[A\n",
      "140it [00:07, 18.44it/s]\u001b[A\n"
     ]
    },
    {
     "name": "stdout",
     "output_type": "stream",
     "text": [
      "nbuergy\n"
     ]
    },
    {
     "name": "stderr",
     "output_type": "stream",
     "text": [
      "\n",
      "0it [00:00, ?it/s]\u001b[A\n"
     ]
    },
    {
     "name": "stdout",
     "output_type": "stream",
     "text": [
      "ulissesgarcia20\n"
     ]
    },
    {
     "name": "stderr",
     "output_type": "stream",
     "text": [
      "\n",
      "0it [00:00, ?it/s]\u001b[A\n",
      "13it [00:04,  2.84it/s]\u001b[A\n",
      "63it [00:06,  3.84it/s]\u001b[A\n",
      "113it [00:12,  8.90it/s]\u001b[A\n"
     ]
    },
    {
     "name": "stdout",
     "output_type": "stream",
     "text": [
      "saidyjanko22\n"
     ]
    },
    {
     "name": "stderr",
     "output_type": "stream",
     "text": [
      "\n",
      "0it [00:00, ?it/s]\u001b[A\n",
      "13it [00:02,  4.86it/s]\u001b[A\n",
      "77it [00:03, 22.32it/s]\u001b[A\n"
     ]
    },
    {
     "name": "stdout",
     "output_type": "stream",
     "text": [
      "lusti28\n"
     ]
    },
    {
     "name": "stderr",
     "output_type": "stream",
     "text": [
      "\n",
      "0it [00:00, ?it/s]\u001b[A\n",
      "13it [00:05,  2.25it/s]\u001b[A\n",
      "63it [00:08,  3.03it/s]\u001b[A\n",
      "113it [00:10,  4.19it/s]\u001b[A\n",
      "163it [00:12,  5.55it/s]\u001b[A\n",
      "231it [00:15, 15.26it/s]\u001b[A\n"
     ]
    },
    {
     "name": "stdout",
     "output_type": "stream",
     "text": [
      "j_lotomba\n"
     ]
    },
    {
     "name": "stderr",
     "output_type": "stream",
     "text": [
      "\n",
      "0it [00:00, ?it/s]\u001b[A\n",
      "28it [00:00, 29.20it/s]\u001b[A\n"
     ]
    },
    {
     "name": "stdout",
     "output_type": "stream",
     "text": [
      "estebanpetignat6\n"
     ]
    },
    {
     "name": "stderr",
     "output_type": "stream",
     "text": [
      "\n",
      "5it [00:00, 29873.96it/s]\n"
     ]
    },
    {
     "name": "stdout",
     "output_type": "stream",
     "text": [
      "mspielmann33\n"
     ]
    },
    {
     "name": "stderr",
     "output_type": "stream",
     "text": [
      "\n",
      "0it [00:00, ?it/s]\u001b[A\n",
      "13it [00:01,  7.95it/s]\u001b[A\n",
      "92it [00:05, 16.52it/s]\u001b[A\n"
     ]
    },
    {
     "name": "stdout",
     "output_type": "stream",
     "text": [
      "vincent_sierro\n"
     ]
    },
    {
     "name": "stderr",
     "output_type": "stream",
     "text": [
      "\n",
      "0it [00:00, ?it/s]\u001b[A\n",
      "13it [00:02,  4.89it/s]\u001b[A\n",
      "91it [00:04, 21.64it/s]\u001b[A\n"
     ]
    },
    {
     "name": "stdout",
     "output_type": "stream",
     "text": [
      "gaudino.gianluca\n"
     ]
    },
    {
     "name": "stderr",
     "output_type": "stream",
     "text": [
      "\n",
      "0it [00:00, ?it/s]\u001b[A\n",
      "32it [00:01, 19.89it/s]\u001b[A\n"
     ]
    },
    {
     "name": "stdout",
     "output_type": "stream",
     "text": [
      "nm.ngamaleu13\n"
     ]
    },
    {
     "name": "stderr",
     "output_type": "stream",
     "text": [
      "\n",
      "0it [00:00, ?it/s]\u001b[A\n",
      "13it [00:04,  3.12it/s]\u001b[A\n",
      "96it [00:05, 17.64it/s]\u001b[A\n"
     ]
    },
    {
     "name": "stdout",
     "output_type": "stream",
     "text": [
      "fassnacht16\n"
     ]
    },
    {
     "name": "stderr",
     "output_type": "stream",
     "text": [
      "\n",
      "0it [00:00, ?it/s]\u001b[A\n",
      "13it [00:03,  4.27it/s]\u001b[A\n",
      "63it [00:04,  5.84it/s]\u001b[A\n",
      "147it [00:05, 27.79it/s]\u001b[A\n"
     ]
    },
    {
     "name": "stdout",
     "output_type": "stream",
     "text": [
      "michel.aebischer\n"
     ]
    },
    {
     "name": "stderr",
     "output_type": "stream",
     "text": [
      "\n",
      "0it [00:00, ?it/s]\u001b[A\n",
      "21it [00:03,  6.62it/s]\u001b[A\n"
     ]
    },
    {
     "name": "stdout",
     "output_type": "stream",
     "text": [
      "sml.30\n"
     ]
    },
    {
     "name": "stderr",
     "output_type": "stream",
     "text": [
      "\n",
      "3it [00:00, 7467.60it/s]\n"
     ]
    },
    {
     "name": "stdout",
     "output_type": "stream",
     "text": [
      "chrismartins___\n"
     ]
    },
    {
     "name": "stderr",
     "output_type": "stream",
     "text": [
      "\n",
      "0it [00:00, ?it/s]\u001b[A\n",
      "13it [00:02,  5.16it/s]\u001b[A\n",
      "63it [00:04,  6.83it/s]\u001b[A\n",
      "113it [00:07,  8.09it/s]\u001b[A\n",
      "163it [00:12,  8.91it/s]\u001b[A\n",
      "226it [00:13, 17.18it/s]\u001b[A\n"
     ]
    },
    {
     "name": "stdout",
     "output_type": "stream",
     "text": [
      "nsame18\n"
     ]
    },
    {
     "name": "stderr",
     "output_type": "stream",
     "text": [
      "\n",
      "0it [00:00, ?it/s]\u001b[A\n",
      "13it [00:01,  9.12it/s]\u001b[A\n",
      "63it [00:06,  9.39it/s]\u001b[A\n",
      "143it [00:09, 14.91it/s]\u001b[A\n"
     ]
    },
    {
     "name": "stdout",
     "output_type": "stream",
     "text": [
      "felixmambimbi\n"
     ]
    },
    {
     "name": "stderr",
     "output_type": "stream",
     "text": [
      "\n",
      "0it [00:00, ?it/s]\u001b[A\n",
      "18it [00:01, 13.45it/s]\u001b[A\n"
     ]
    },
    {
     "name": "stdout",
     "output_type": "stream",
     "text": [
      "hoarauguillaume\n"
     ]
    },
    {
     "name": "stderr",
     "output_type": "stream",
     "text": [
      "\n",
      "0it [00:00, ?it/s]\u001b[A\n",
      "13it [00:03,  4.11it/s]\u001b[A\n",
      "63it [00:09,  4.79it/s]\u001b[A\n",
      "113it [00:13,  5.90it/s]\u001b[A\n",
      "163it [00:15,  7.74it/s]\u001b[A\n",
      "213it [00:16, 10.04it/s]\u001b[A\n",
      "263it [00:18, 12.58it/s]\u001b[A\n",
      "313it [00:20, 14.23it/s]\u001b[A\n",
      "363it [00:22, 16.93it/s]\u001b[A\n",
      "456it [00:23, 19.02it/s]\u001b[A\n"
     ]
    }
   ],
   "source": [
    "likes_tot = []\n",
    "post_dates_tot = []\n",
    "player_tot = []\n",
    "for player, profile in zip(df_social_media.player.values, df_social_media.instagram.values):\n",
    "    if pd.notnull(profile):\n",
    "        likes, post_dates = fetch_likes_of_posts(profile)\n",
    "        likes_tot.extend(likes)\n",
    "        post_dates_tot.extend(post_dates)\n",
    "        player_tot.extend([player] * len(likes))\n",
    "\n",
    "df_insta_timeseries = pd.DataFrame({'player':player_tot,'post_date':post_dates_tot,'likes':likes_tot})"
   ]
  },
  {
   "cell_type": "code",
   "execution_count": 45,
   "metadata": {},
   "outputs": [
    {
     "data": {
      "text/html": [
       "<div>\n",
       "<style scoped>\n",
       "    .dataframe tbody tr th:only-of-type {\n",
       "        vertical-align: middle;\n",
       "    }\n",
       "\n",
       "    .dataframe tbody tr th {\n",
       "        vertical-align: top;\n",
       "    }\n",
       "\n",
       "    .dataframe thead th {\n",
       "        text-align: right;\n",
       "    }\n",
       "</style>\n",
       "<table border=\"1\" class=\"dataframe\">\n",
       "  <thead>\n",
       "    <tr style=\"text-align: right;\">\n",
       "      <th></th>\n",
       "      <th>player</th>\n",
       "      <th>post_date</th>\n",
       "      <th>likes</th>\n",
       "    </tr>\n",
       "  </thead>\n",
       "  <tbody>\n",
       "    <tr>\n",
       "      <th>0</th>\n",
       "      <td>Marco Wölfli</td>\n",
       "      <td>2019-11-10 23:18:08</td>\n",
       "      <td>2844</td>\n",
       "    </tr>\n",
       "    <tr>\n",
       "      <th>1</th>\n",
       "      <td>Marco Wölfli</td>\n",
       "      <td>2019-10-20 18:17:12</td>\n",
       "      <td>3964</td>\n",
       "    </tr>\n",
       "    <tr>\n",
       "      <th>2</th>\n",
       "      <td>Marco Wölfli</td>\n",
       "      <td>2019-10-09 14:10:27</td>\n",
       "      <td>2741</td>\n",
       "    </tr>\n",
       "    <tr>\n",
       "      <th>3</th>\n",
       "      <td>Marco Wölfli</td>\n",
       "      <td>2019-09-29 17:26:29</td>\n",
       "      <td>1846</td>\n",
       "    </tr>\n",
       "    <tr>\n",
       "      <th>4</th>\n",
       "      <td>Marco Wölfli</td>\n",
       "      <td>2019-09-21 18:53:06</td>\n",
       "      <td>1316</td>\n",
       "    </tr>\n",
       "    <tr>\n",
       "      <th>...</th>\n",
       "      <td>...</td>\n",
       "      <td>...</td>\n",
       "      <td>...</td>\n",
       "    </tr>\n",
       "    <tr>\n",
       "      <th>2322</th>\n",
       "      <td>Guillaume Hoarau</td>\n",
       "      <td>2013-01-01 21:16:49</td>\n",
       "      <td>169</td>\n",
       "    </tr>\n",
       "    <tr>\n",
       "      <th>2323</th>\n",
       "      <td>Guillaume Hoarau</td>\n",
       "      <td>2013-01-01 21:08:57</td>\n",
       "      <td>168</td>\n",
       "    </tr>\n",
       "    <tr>\n",
       "      <th>2324</th>\n",
       "      <td>Guillaume Hoarau</td>\n",
       "      <td>2013-01-01 18:02:31</td>\n",
       "      <td>403</td>\n",
       "    </tr>\n",
       "    <tr>\n",
       "      <th>2325</th>\n",
       "      <td>Guillaume Hoarau</td>\n",
       "      <td>2013-01-01 17:06:20</td>\n",
       "      <td>454</td>\n",
       "    </tr>\n",
       "    <tr>\n",
       "      <th>2326</th>\n",
       "      <td>Guillaume Hoarau</td>\n",
       "      <td>2013-01-01 14:55:06</td>\n",
       "      <td>401</td>\n",
       "    </tr>\n",
       "  </tbody>\n",
       "</table>\n",
       "<p>2327 rows × 3 columns</p>\n",
       "</div>"
      ],
      "text/plain": [
       "                player           post_date  likes\n",
       "0         Marco Wölfli 2019-11-10 23:18:08   2844\n",
       "1         Marco Wölfli 2019-10-20 18:17:12   3964\n",
       "2         Marco Wölfli 2019-10-09 14:10:27   2741\n",
       "3         Marco Wölfli 2019-09-29 17:26:29   1846\n",
       "4         Marco Wölfli 2019-09-21 18:53:06   1316\n",
       "...                ...                 ...    ...\n",
       "2322  Guillaume Hoarau 2013-01-01 21:16:49    169\n",
       "2323  Guillaume Hoarau 2013-01-01 21:08:57    168\n",
       "2324  Guillaume Hoarau 2013-01-01 18:02:31    403\n",
       "2325  Guillaume Hoarau 2013-01-01 17:06:20    454\n",
       "2326  Guillaume Hoarau 2013-01-01 14:55:06    401\n",
       "\n",
       "[2327 rows x 3 columns]"
      ]
     },
     "execution_count": 45,
     "metadata": {},
     "output_type": "execute_result"
    }
   ],
   "source": [
    "df_insta_timeseries"
   ]
  },
  {
   "cell_type": "markdown",
   "metadata": {},
   "source": [
    "## Save to CSV"
   ]
  },
  {
   "cell_type": "code",
   "execution_count": 30,
   "metadata": {},
   "outputs": [],
   "source": [
    "df_social_media.to_csv( '../data/social_media_followers.csv', index=False)"
   ]
  },
  {
   "cell_type": "code",
   "execution_count": null,
   "metadata": {},
   "outputs": [],
   "source": []
  }
 ],
 "metadata": {
  "kernelspec": {
   "display_name": "Python 3",
   "language": "python",
   "name": "python3"
  },
  "language_info": {
   "codemirror_mode": {
    "name": "ipython",
    "version": 3
   },
   "file_extension": ".py",
   "mimetype": "text/x-python",
   "name": "python",
   "nbconvert_exporter": "python",
   "pygments_lexer": "ipython3",
   "version": "3.6.8"
  }
 },
 "nbformat": 4,
 "nbformat_minor": 2
}
